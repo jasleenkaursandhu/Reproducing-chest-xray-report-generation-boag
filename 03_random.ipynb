{
 "nbformat": 4,
 "nbformat_minor": 0,
 "metadata": {
  "colab": {
   "provenance": [],
   "authorship_tag": "ABX9TyMNYugpQFcbG0XJIlWDlN2B",
   "include_colab_link": true
  },
  "kernelspec": {
   "name": "python3",
   "display_name": "Python 3 (ipykernel)",
   "language": "python"
  },
  "language_info": {
   "name": "python"
  }
 },
 "cells": [
  {
   "cell_type": "markdown",
   "metadata": {
    "id": "view-in-github",
    "colab_type": "text"
   },
   "source": [
    "<a href=\"https://colab.research.google.com/github/jasleenkaursandhu/Reproducing-chest-xray-report-generation-boag/blob/main/random.ipynb\" target=\"_parent\"><img src=\"https://colab.research.google.com/assets/colab-badge.svg\" alt=\"Open In Colab\"/></a>"
   ]
  },
  {
   "cell_type": "code",
   "metadata": {
    "id": "MCTKXpdNwTOJ",
    "ExecuteTime": {
     "end_time": "2025-04-20T00:36:31.803400Z",
     "start_time": "2025-04-20T00:36:31.800687Z"
    }
   },
   "source": [
    "# Random Baseline Model for Report Generation\n",
    "# This notebook implements a simple random baseline model for chest X-ray report generation.\n",
    "# The baseline randomly selects a report from the training set for each test image"
   ],
   "outputs": [],
   "execution_count": 7
  },
  {
   "cell_type": "code",
   "source": [
    "# Import necessary libraries\n",
    "import numpy as np\n",
    "import pandas as pd\n",
    "import os\n",
    "import matplotlib.pyplot as plt\n",
    "from PIL import Image\n",
    "import tqdm\n",
    "from collections import defaultdict\n",
    "import pickle\n",
    "import gzip\n",
    "import random\n",
    "import re\n",
    "import warnings\n",
    "# !pip install pydicom\n",
    "import pydicom\n",
    "from collections import Counter, defaultdict\n",
    "from time import gmtime, strftime"
   ],
   "metadata": {
    "colab": {
     "base_uri": "https://localhost:8080/"
    },
    "id": "iMOahgQTwhNG",
    "outputId": "0587a9a4-e48a-4a65-9e36-1248d7bac6a8",
    "ExecuteTime": {
     "end_time": "2025-04-20T00:36:31.811542Z",
     "start_time": "2025-04-20T00:36:31.807832Z"
    }
   },
   "outputs": [],
   "execution_count": 8
  },
  {
   "metadata": {
    "ExecuteTime": {
     "end_time": "2025-04-20T00:36:32.191039Z",
     "start_time": "2025-04-20T00:36:31.821186Z"
    }
   },
   "cell_type": "code",
   "source": [
    "# Mount Google Drive\n",
    "# from google.colab import drive\n",
    "# drive.mount('/content/drive')\n",
    "base_path = '/Users/simeon/Documents/DLH/content/mimic-cxr-project'\n",
    "!mkdir -p {base_path}/data\n",
    "!mkdir -p {base_path}/output\n",
    "!mkdir -p {base_path}/features"
   ],
   "outputs": [],
   "execution_count": 9
  },
  {
   "cell_type": "code",
   "source": [
    "# Import the report parser module\n",
    "import sys\n",
    "sys.path.append(f\"{base_path}/modules\")\n",
    "from report_parser import parse_report, MIMIC_RE\n",
    "print(\"Successfully imported report parser module\")"
   ],
   "metadata": {
    "colab": {
     "base_uri": "https://localhost:8080/"
    },
    "id": "54HbNZvfwpt2",
    "outputId": "371736ba-9e64-48cf-ea6e-251797240a3d",
    "ExecuteTime": {
     "end_time": "2025-04-20T00:36:32.201634Z",
     "start_time": "2025-04-20T00:36:32.199500Z"
    }
   },
   "outputs": [
    {
     "name": "stdout",
     "output_type": "stream",
     "text": [
      "Successfully imported report parser module\n"
     ]
    }
   ],
   "execution_count": 10
  },
  {
   "cell_type": "code",
   "source": [
    "# Load train and test data\n",
    "data_dir = os.path.join(base_path, 'data')\n",
    "files_path = os.path.join(base_path, 'files')\n",
    "output_dir = os.path.join(base_path, 'output')\n",
    "features_dir = os.path.join(base_path, 'features')\n",
    "\n",
    "train_df = pd.read_csv(os.path.join(data_dir, 'train.tsv'), sep='\\t')\n",
    "test_df = pd.read_csv(os.path.join(data_dir, 'test.tsv'), sep='\\t')\n",
    "\n",
    "print(f\"Train data shape: {train_df.shape}\")\n",
    "print(f\"Test data shape: {test_df.shape}\")\n",
    "train_df"
   ],
   "metadata": {
    "colab": {
     "base_uri": "https://localhost:8080/"
    },
    "id": "yLN-bGUjw0Jl",
    "outputId": "54887bf7-a6fb-426f-fa52-ae52534aba7a",
    "ExecuteTime": {
     "end_time": "2025-04-20T00:36:32.218668Z",
     "start_time": "2025-04-20T00:36:32.208446Z"
    }
   },
   "outputs": [
    {
     "name": "stdout",
     "output_type": "stream",
     "text": [
      "Train data shape: (4291, 3)\n",
      "Test data shape: (1757, 3)\n"
     ]
    },
    {
     "data": {
      "text/plain": [
       "      subject_id  study_id                                      dicom_id\n",
       "0       10294074  52201331  7e95cd84-a6e61229-709150ad-10e6ad91-b535ad52\n",
       "1       10164170  54545361  42401e7d-fae7b2ef-87642157-68beaada-014bfcc9\n",
       "2       13832352  56347818  1ef3083e-7ed9110c-e9df3d65-480e18a8-9181ebde\n",
       "3       17654843  58559853  5000f8fd-684ea279-a1e1308e-cfce9b0c-e1eeae50\n",
       "4       15803890  52888009  f349a7ef-ee518ad2-d5173f92-cbfa71b2-df530a25\n",
       "...          ...       ...                                           ...\n",
       "4286    10326273  52411457  cd4bf94c-529fc978-8937acbb-998c4d16-e86ac884\n",
       "4287    10326273  54913222  4b10ef76-4db02379-4f64fcb4-bb9d32bb-bf44e781\n",
       "4288    10326273  54913222  7dbf38f4-3abd85d3-b6627477-b711c72f-9b5d5f0e\n",
       "4289    17527219  56922368  d58c2048-57977f42-0e290b59-2ddaefba-8e7ad515\n",
       "4290    17575258  53775651  8e6632b3-b2b20106-b911a1a2-e19c6ded-818bace8\n",
       "\n",
       "[4291 rows x 3 columns]"
      ],
      "text/html": [
       "<div>\n",
       "<style scoped>\n",
       "    .dataframe tbody tr th:only-of-type {\n",
       "        vertical-align: middle;\n",
       "    }\n",
       "\n",
       "    .dataframe tbody tr th {\n",
       "        vertical-align: top;\n",
       "    }\n",
       "\n",
       "    .dataframe thead th {\n",
       "        text-align: right;\n",
       "    }\n",
       "</style>\n",
       "<table border=\"1\" class=\"dataframe\">\n",
       "  <thead>\n",
       "    <tr style=\"text-align: right;\">\n",
       "      <th></th>\n",
       "      <th>subject_id</th>\n",
       "      <th>study_id</th>\n",
       "      <th>dicom_id</th>\n",
       "    </tr>\n",
       "  </thead>\n",
       "  <tbody>\n",
       "    <tr>\n",
       "      <th>0</th>\n",
       "      <td>10294074</td>\n",
       "      <td>52201331</td>\n",
       "      <td>7e95cd84-a6e61229-709150ad-10e6ad91-b535ad52</td>\n",
       "    </tr>\n",
       "    <tr>\n",
       "      <th>1</th>\n",
       "      <td>10164170</td>\n",
       "      <td>54545361</td>\n",
       "      <td>42401e7d-fae7b2ef-87642157-68beaada-014bfcc9</td>\n",
       "    </tr>\n",
       "    <tr>\n",
       "      <th>2</th>\n",
       "      <td>13832352</td>\n",
       "      <td>56347818</td>\n",
       "      <td>1ef3083e-7ed9110c-e9df3d65-480e18a8-9181ebde</td>\n",
       "    </tr>\n",
       "    <tr>\n",
       "      <th>3</th>\n",
       "      <td>17654843</td>\n",
       "      <td>58559853</td>\n",
       "      <td>5000f8fd-684ea279-a1e1308e-cfce9b0c-e1eeae50</td>\n",
       "    </tr>\n",
       "    <tr>\n",
       "      <th>4</th>\n",
       "      <td>15803890</td>\n",
       "      <td>52888009</td>\n",
       "      <td>f349a7ef-ee518ad2-d5173f92-cbfa71b2-df530a25</td>\n",
       "    </tr>\n",
       "    <tr>\n",
       "      <th>...</th>\n",
       "      <td>...</td>\n",
       "      <td>...</td>\n",
       "      <td>...</td>\n",
       "    </tr>\n",
       "    <tr>\n",
       "      <th>4286</th>\n",
       "      <td>10326273</td>\n",
       "      <td>52411457</td>\n",
       "      <td>cd4bf94c-529fc978-8937acbb-998c4d16-e86ac884</td>\n",
       "    </tr>\n",
       "    <tr>\n",
       "      <th>4287</th>\n",
       "      <td>10326273</td>\n",
       "      <td>54913222</td>\n",
       "      <td>4b10ef76-4db02379-4f64fcb4-bb9d32bb-bf44e781</td>\n",
       "    </tr>\n",
       "    <tr>\n",
       "      <th>4288</th>\n",
       "      <td>10326273</td>\n",
       "      <td>54913222</td>\n",
       "      <td>7dbf38f4-3abd85d3-b6627477-b711c72f-9b5d5f0e</td>\n",
       "    </tr>\n",
       "    <tr>\n",
       "      <th>4289</th>\n",
       "      <td>17527219</td>\n",
       "      <td>56922368</td>\n",
       "      <td>d58c2048-57977f42-0e290b59-2ddaefba-8e7ad515</td>\n",
       "    </tr>\n",
       "    <tr>\n",
       "      <th>4290</th>\n",
       "      <td>17575258</td>\n",
       "      <td>53775651</td>\n",
       "      <td>8e6632b3-b2b20106-b911a1a2-e19c6ded-818bace8</td>\n",
       "    </tr>\n",
       "  </tbody>\n",
       "</table>\n",
       "<p>4291 rows × 3 columns</p>\n",
       "</div>"
      ]
     },
     "execution_count": 11,
     "metadata": {},
     "output_type": "execute_result"
    }
   ],
   "execution_count": 11
  },
  {
   "cell_type": "code",
   "source": [
    "print(\"Implementing Random Baseline Model\")\n",
    "\n",
    "# Define the path to the files directory\n",
    "files_path = os.path.join(base_path, 'new_files')\n",
    "\n",
    "# Map each dicom to its corresponding report identifier\n",
    "report_id_column = 'study_id'\n",
    "if report_id_column in train_df.columns:\n",
    "    report_lookup = dict(train_df[['dicom_id', report_id_column]].values)\n",
    "    print(f\"Created lookup using {report_id_column}\")\n",
    "else:\n",
    "    print(f\"Warning: {report_id_column} not found in columns: {train_df.columns.tolist()}\")\n",
    "    report_lookup = {}\n",
    "\n",
    "print(\"Sample of lookup dictionary:\")\n",
    "print(dict(list(report_lookup.items())[:5]))"
   ],
   "metadata": {
    "colab": {
     "base_uri": "https://localhost:8080/"
    },
    "id": "M1J0eOFnxC0E",
    "outputId": "7d436dbc-9a40-4568-b305-422edb543bf5",
    "ExecuteTime": {
     "end_time": "2025-04-20T00:36:32.245776Z",
     "start_time": "2025-04-20T00:36:32.241094Z"
    }
   },
   "outputs": [
    {
     "name": "stdout",
     "output_type": "stream",
     "text": [
      "Implementing Random Baseline Model\n",
      "Created lookup using study_id\n",
      "Sample of lookup dictionary:\n",
      "{'7e95cd84-a6e61229-709150ad-10e6ad91-b535ad52': 52201331, '42401e7d-fae7b2ef-87642157-68beaada-014bfcc9': 54545361, '1ef3083e-7ed9110c-e9df3d65-480e18a8-9181ebde': 56347818, '5000f8fd-684ea279-a1e1308e-cfce9b0c-e1eeae50': 58559853, 'f349a7ef-ee518ad2-d5173f92-cbfa71b2-df530a25': 52888009}\n"
     ]
    }
   ],
   "execution_count": 12
  },
  {
   "cell_type": "code",
   "source": [
    "# Generate random reports for each test image\n",
    "generated_reports = {}\n",
    "\n",
    "# Define reports directory\n",
    "reports_dir = os.path.join(base_path, 'reports')\n",
    "\n",
    "for pred_dicom in tqdm.tqdm(test_df.dicom_id.values):\n",
    "    found = False\n",
    "    attempts = 0\n",
    "    max_attempts = 100  # Limit attempts to avoid infinite loops\n",
    "\n",
    "    while not found and attempts < max_attempts:\n",
    "        attempts += 1\n",
    "\n",
    "        # Randomly select a training image\n",
    "        nearest_dicom = random.choice(train_df.dicom_id.values)\n",
    "\n",
    "        if nearest_dicom not in report_lookup:\n",
    "            continue\n",
    "\n",
    "        report_id = report_lookup[nearest_dicom]\n",
    "\n",
    "        # Get corresponding subject_id\n",
    "        subject_row = train_df[train_df.dicom_id == nearest_dicom]\n",
    "        if len(subject_row) == 0:\n",
    "            continue\n",
    "\n",
    "        subject_id = subject_row.iloc[0]['subject_id']\n",
    "\n",
    "        # Construct path to the report using the correct structure\n",
    "        subject_prefix = f\"p{str(subject_id)[:2]}\"\n",
    "        subject_dir = f\"p{subject_id}\"\n",
    "        study_dir = f\"s{report_id}\"\n",
    "\n",
    "        # The correct report path based on our findings\n",
    "        report_path = os.path.join(reports_dir, 'files', subject_prefix, subject_dir, f\"{study_dir}.txt\")\n",
    "\n",
    "        # Parse the report to extract sections\n",
    "        try:\n",
    "            if os.path.exists(report_path):\n",
    "                report = parse_report(report_path)\n",
    "\n",
    "                # If the report has a findings section, use it\n",
    "                if 'findings' in report:\n",
    "                    found = True\n",
    "                    generated_reports[pred_dicom] = report['findings']\n",
    "        except Exception as e:\n",
    "            # Skip this report and try another\n",
    "            continue\n",
    "\n",
    "    if not found:\n",
    "        print(f\"Warning: Could not find a valid report for {pred_dicom} after {max_attempts} attempts\")\n",
    "\n",
    "print(f\"Generated random reports for {len(generated_reports)}/{len(test_df)} test images\")"
   ],
   "metadata": {
    "colab": {
     "base_uri": "https://localhost:8080/"
    },
    "id": "jZbSxfWexV9v",
    "outputId": "948dd88c-5f73-47b9-8f0e-bea4e7ee0519",
    "ExecuteTime": {
     "end_time": "2025-04-20T00:36:32.946065Z",
     "start_time": "2025-04-20T00:36:32.274645Z"
    }
   },
   "outputs": [
    {
     "name": "stderr",
     "output_type": "stream",
     "text": [
      "100%|██████████| 1757/1757 [00:00<00:00, 2636.49it/s]"
     ]
    },
    {
     "name": "stdout",
     "output_type": "stream",
     "text": [
      "Generated random reports for 1757/1757 test images\n"
     ]
    },
    {
     "name": "stderr",
     "output_type": "stream",
     "text": [
      "\n"
     ]
    }
   ],
   "execution_count": 13
  },
  {
   "cell_type": "code",
   "source": [
    "# Save the generated reports to a TSV file\n",
    "pred_dir = os.path.join(base_path, 'output')\n",
    "os.makedirs(pred_dir, exist_ok=True)\n",
    "\n",
    "pred_file = os.path.join(pred_dir, 'random.tsv')\n",
    "print(f\"Saving predictions to {pred_file}\")\n",
    "\n",
    "with open(pred_file, 'w') as f:\n",
    "    print('dicom_id\\tgenerated', file=f)\n",
    "    for dicom_id, generated in sorted(generated_reports.items()):\n",
    "        # Escape any tab characters in the generated text\n",
    "        cleaned_text = generated.replace('\\t', ' ')\n",
    "        print(f'{dicom_id}\\t{cleaned_text}', file=f)\n",
    "\n",
    "print(f\"Saved random baseline predictions to {pred_file}\")\n",
    "print(f\"Current time: {strftime('%Y-%m-%d %H:%M:%S', gmtime())}\")"
   ],
   "metadata": {
    "colab": {
     "base_uri": "https://localhost:8080/"
    },
    "id": "T6qOl8uyxbem",
    "outputId": "80979da2-6a82-4cd5-e0f8-3617d39b73b9",
    "ExecuteTime": {
     "end_time": "2025-04-20T00:36:32.957846Z",
     "start_time": "2025-04-20T00:36:32.953772Z"
    }
   },
   "outputs": [
    {
     "name": "stdout",
     "output_type": "stream",
     "text": [
      "Saving predictions to /Users/simeon/Documents/DLH/content/mimic-cxr-project/output/random.tsv\n",
      "Saved random baseline predictions to /Users/simeon/Documents/DLH/content/mimic-cxr-project/output/random.tsv\n",
      "Current time: 2025-04-20 00:36:32\n"
     ]
    }
   ],
   "execution_count": 14
  },
  {
   "cell_type": "code",
   "source": [
    "# Display sample of generated reports\n",
    "sample_count = min(3, len(generated_reports))\n",
    "sample_dicoms = list(generated_reports.keys())[:sample_count]\n",
    "\n",
    "for dicom_id in sample_dicoms:\n",
    "    print(f\"\\nSample report for {dicom_id}:\")\n",
    "    report_text = generated_reports[dicom_id]\n",
    "\n",
    "    # Print preview of the report (first 200 characters)\n",
    "    if len(report_text) > 200:\n",
    "        print(report_text[:200] + \"...\")\n",
    "    else:\n",
    "        print(report_text)"
   ],
   "metadata": {
    "colab": {
     "base_uri": "https://localhost:8080/"
    },
    "id": "H4h7wo_ixeUU",
    "outputId": "ccbf7ade-7559-4873-816e-49ae824258d9",
    "ExecuteTime": {
     "end_time": "2025-04-20T00:36:32.965366Z",
     "start_time": "2025-04-20T00:36:32.963510Z"
    }
   },
   "outputs": [
    {
     "name": "stdout",
     "output_type": "stream",
     "text": [
      "\n",
      "Sample report for 20386a2d-1f7a8868-f12e22ac-0d625d27-4c38c8e2:\n",
      "hyperinflated lungs. biapical, right greater than left pleural thickening/ scarring. multiple old left-sided rib fractures, small left pleural effusion, sternal fracture and retrosternal hematoma bett...\n",
      "\n",
      "Sample report for 63100eab-9e8a8d90-392bc822-325de482-69a64e3b:\n",
      "et tube ends 4.1 cm above carina. the patient had a recent left lower lobe lobectomy with the chest tube that projects in upper hemithorax without any visible pneumothorax. left pleural effusion is sm...\n",
      "\n",
      "Sample report for 17269efa-b016a94d-1361e8df-ac428071-d1133672:\n",
      "there is an et tube present in good position. other support and monitoring devices remain stable. compared to study from yesterday, there is little overall change with remaining haziness at the bases ...\n"
     ]
    }
   ],
   "execution_count": 15
  }
 ]
}
