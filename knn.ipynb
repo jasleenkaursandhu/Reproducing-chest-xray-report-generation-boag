{
  "nbformat": 4,
  "nbformat_minor": 0,
  "metadata": {
    "colab": {
      "provenance": [],
      "authorship_tag": "ABX9TyNaHuluWw1ykN2U7PjBmnR7",
      "include_colab_link": true
    },
    "kernelspec": {
      "name": "python3",
      "display_name": "Python 3"
    },
    "language_info": {
      "name": "python"
    }
  },
  "cells": [
    {
      "cell_type": "markdown",
      "metadata": {
        "id": "view-in-github",
        "colab_type": "text"
      },
      "source": [
        "<a href=\"https://colab.research.google.com/github/jasleenkaursandhu/Reproducing-chest-xray-report-generation-boag/blob/main/knn.ipynb\" target=\"_parent\"><img src=\"https://colab.research.google.com/assets/colab-badge.svg\" alt=\"Open In Colab\"/></a>"
      ]
    },
    {
      "cell_type": "code",
      "execution_count": 1,
      "metadata": {
        "id": "vFXLZ7cK4SD5"
      },
      "outputs": [],
      "source": [
        "# KNN Model for Feature Extraction and Nearest Neighbor Analysis\n",
        "# This notebook implements a KNN-based approach for chest X-ray report generation.\n",
        "# It extracts DenseNet features from images and finds the most similar training images for each test image."
      ]
    },
    {
      "cell_type": "code",
      "source": [
        "# Import necessary libraries\n",
        "import numpy as np\n",
        "import pandas as pd\n",
        "import os\n",
        "import matplotlib.pyplot as plt\n",
        "import tqdm\n",
        "from collections import defaultdict\n",
        "import pickle\n",
        "!pip install pydicom\n",
        "import pydicom  # Note: Original used 'dicom' but we'll use 'pydicom' which is the current version\n",
        "from time import gmtime, strftime"
      ],
      "metadata": {
        "colab": {
          "base_uri": "https://localhost:8080/"
        },
        "id": "oYolnqZ58qcg",
        "outputId": "e2a81903-ec18-47c4-b316-1927bc4082a3"
      },
      "execution_count": 2,
      "outputs": [
        {
          "output_type": "stream",
          "name": "stdout",
          "text": [
            "Collecting pydicom\n",
            "  Downloading pydicom-3.0.1-py3-none-any.whl.metadata (9.4 kB)\n",
            "Downloading pydicom-3.0.1-py3-none-any.whl (2.4 MB)\n",
            "\u001b[?25l   \u001b[90m━━━━━━━━━━━━━━━━━━━━━━━━━━━━━━━━━━━━━━━━\u001b[0m \u001b[32m0.0/2.4 MB\u001b[0m \u001b[31m?\u001b[0m eta \u001b[36m-:--:--\u001b[0m\r\u001b[2K   \u001b[91m━━━━━━━━━━━━━━━━━━━━━━━━\u001b[0m\u001b[91m╸\u001b[0m\u001b[90m━━━━━━━━━━━━━━━\u001b[0m \u001b[32m1.5/2.4 MB\u001b[0m \u001b[31m44.3 MB/s\u001b[0m eta \u001b[36m0:00:01\u001b[0m\r\u001b[2K   \u001b[90m━━━━━━━━━━━━━━━━━━━━━━━━━━━━━━━━━━━━━━━━\u001b[0m \u001b[32m2.4/2.4 MB\u001b[0m \u001b[31m37.3 MB/s\u001b[0m eta \u001b[36m0:00:00\u001b[0m\n",
            "\u001b[?25hInstalling collected packages: pydicom\n",
            "Successfully installed pydicom-3.0.1\n"
          ]
        }
      ]
    },
    {
      "cell_type": "code",
      "source": [
        "# Mount Google Drive\n",
        "from google.colab import drive\n",
        "drive.mount('/content/drive')\n",
        "base_path = '/content/drive/MyDrive/mimic-cxr-project'\n",
        "!mkdir -p {base_path}/data\n",
        "!mkdir -p {base_path}/output"
      ],
      "metadata": {
        "colab": {
          "base_uri": "https://localhost:8080/"
        },
        "id": "Y8ofnadW8u_Q",
        "outputId": "2a42196a-895e-467f-b8a4-74c69f84a4d7"
      },
      "execution_count": 3,
      "outputs": [
        {
          "output_type": "stream",
          "name": "stdout",
          "text": [
            "Mounted at /content/drive\n"
          ]
        }
      ]
    },
    {
      "cell_type": "code",
      "source": [
        "# Import the report parser module\n",
        "import sys\n",
        "sys.path.append(f\"{base_path}/modules\")\n",
        "from report_parser import parse_report, MIMIC_RE\n",
        "print(\"Successfully imported report parser module\")"
      ],
      "metadata": {
        "colab": {
          "base_uri": "https://localhost:8080/"
        },
        "id": "2qiUV58y9FFT",
        "outputId": "e758d7c1-e8e9-4acb-f071-788eb283a4a5"
      },
      "execution_count": 4,
      "outputs": [
        {
          "output_type": "stream",
          "name": "stdout",
          "text": [
            "Successfully imported report parser module\n"
          ]
        }
      ]
    },
    {
      "cell_type": "code",
      "source": [
        "# Load train and test data\n",
        "data_dir = os.path.join(base_path, 'data')\n",
        "files_path = os.path.join(base_path, 'files')\n",
        "output_dir = os.path.join(base_path, 'output')\n",
        "features_dir = os.path.join(base_path, 'features')\n",
        "\n",
        "train_df = pd.read_csv(os.path.join(data_dir, 'train.tsv'), sep='\\t')\n",
        "test_df = pd.read_csv(os.path.join(data_dir, 'test.tsv'), sep='\\t')\n",
        "\n",
        "print(f\"Train data shape: {train_df.shape}\")\n",
        "print(f\"Test data shape: {test_df.shape}\")"
      ],
      "metadata": {
        "colab": {
          "base_uri": "https://localhost:8080/"
        },
        "id": "JkqbiTD39Ga-",
        "outputId": "bea646e8-875b-4d2d-b38f-20057161d8fa"
      },
      "execution_count": 5,
      "outputs": [
        {
          "output_type": "stream",
          "name": "stdout",
          "text": [
            "Train data shape: (2243, 3)\n",
            "Test data shape: (871, 3)\n"
          ]
        }
      ]
    },
    {
      "cell_type": "code",
      "source": [
        "# Map each dicom to its report identifier (study_id in our case)\n",
        "# Note: Original code used 'rad_id', we'll use 'study_id' based on our data structure\n",
        "report_id_column = 'study_id'\n",
        "if report_id_column in train_df.columns:\n",
        "    rad_lookup = dict(train_df[['dicom_id', report_id_column]].values)\n",
        "    print(f\"Created lookup using {report_id_column}\")\n",
        "else:\n",
        "    print(f\"Warning: {report_id_column} not found in columns: {train_df.columns.tolist()}\")\n",
        "    rad_lookup = {}\n",
        "\n",
        "print(\"Sample of lookup dictionary:\")\n",
        "print(dict(list(rad_lookup.items())[:5]))"
      ],
      "metadata": {
        "colab": {
          "base_uri": "https://localhost:8080/"
        },
        "id": "dwSXmy9s9KZN",
        "outputId": "b1f09a3a-1ac9-4d5a-c4c5-25884ec36279"
      },
      "execution_count": 6,
      "outputs": [
        {
          "output_type": "stream",
          "name": "stdout",
          "text": [
            "Created lookup using study_id\n",
            "Sample of lookup dictionary:\n",
            "{'f214e3d8-00d5e538-62592a72-37cf2660-0ec426a1': 58033516, 'c6f2ef94-1c46417f-1cdb50d7-bbae3a47-5dd45401': 57744330, 'f7a4e18f-004ac053-81024d1b-568dbb86-b20f308b': 50301279, '500bbbdf-966e91a0-474e045e-81e494ac-7c6124f7': 57457041, 'c0eb8f9c-b404b698-4b47abf9-cea216fd-27bea26f': 59435834}\n"
          ]
        }
      ]
    },
    {
      "cell_type": "code",
      "source": [
        "# Path to neighbors file\n",
        "neighbors_path = os.path.join(base_path, 'local_output/output', '1nn_neighbors.pkl')\n",
        "\n",
        "# Check if neighbors file exists\n",
        "if os.path.exists(neighbors_path):\n",
        "    print(f\"Loading neighbors from {neighbors_path}\")\n",
        "    with open(neighbors_path, 'rb') as f:\n",
        "        neighbors = pickle.load(f)\n",
        "    print(f\"Loaded neighbors for {len(neighbors)} test images\")\n",
        "else:\n",
        "    print(f\"Neighbors file not found at {neighbors_path}\")\n",
        "    print(\"Please run the feature extraction and nearest neighbor search first.\")"
      ],
      "metadata": {
        "colab": {
          "base_uri": "https://localhost:8080/"
        },
        "id": "MbWu8SOG9OeZ",
        "outputId": "88687bdd-69dc-45f9-e409-736acb3be8e9"
      },
      "execution_count": 8,
      "outputs": [
        {
          "output_type": "stream",
          "name": "stdout",
          "text": [
            "Loading neighbors from /content/drive/MyDrive/mimic-cxr-project/local_output/output/1nn_neighbors.pkl\n",
            "Loaded neighbors for 1757 test images\n"
          ]
        }
      ]
    },
    {
      "cell_type": "code",
      "source": [
        "# Define the path to the reports directory\n",
        "files_path = os.path.join(base_path, 'files')\n",
        "\n",
        "# Generate reports for each test image\n",
        "generated_reports = {}\n",
        "\n",
        "for pred_dicom in tqdm.tqdm(test_df.dicom_id):\n",
        "    # Skip if we don't have neighbors for this test image\n",
        "    if pred_dicom not in neighbors:\n",
        "        print(f\"Warning: No neighbors for {pred_dicom}\")\n",
        "        continue\n",
        "\n",
        "    nn = neighbors[pred_dicom]\n",
        "\n",
        "    found = False\n",
        "    i = 0  # Start with the closest neighbor\n",
        "\n",
        "    while not found and i < len(nn):\n",
        "        nearest_dicom = nn[i]\n",
        "\n",
        "        # Skip if we don't have a report ID for this training image\n",
        "        if nearest_dicom not in rad_lookup:\n",
        "            i += 1\n",
        "            continue\n",
        "\n",
        "        nearest_train_report_id = rad_lookup[nearest_dicom]\n",
        "\n",
        "        # Get corresponding subject_id for the training image\n",
        "        subject_row = train_df[train_df.dicom_id == nearest_dicom]\n",
        "        if len(subject_row) == 0:\n",
        "            i += 1\n",
        "            continue\n",
        "\n",
        "        subject_id = subject_row.iloc[0]['subject_id']\n",
        "\n",
        "        # Construct path to the report\n",
        "        subject_prefix = f\"p{str(subject_id)[:2]}\"\n",
        "        subject_dir = f\"p{subject_id}\"\n",
        "        study_dir = f\"s{nearest_train_report_id}\"\n",
        "        report_file = f\"{study_dir}.txt\"\n",
        "        report_path = os.path.join(files_path, subject_prefix, subject_dir, report_file)\n",
        "\n",
        "        # Parse the report\n",
        "        try:\n",
        "            if os.path.exists(report_path):\n",
        "                report = parse_report(report_path)\n",
        "\n",
        "                # If the report has a findings section, use it\n",
        "                if 'findings' in report:\n",
        "                    found = True\n",
        "                    generated_reports[pred_dicom] = report['findings']\n",
        "        except Exception as e:\n",
        "            pass\n",
        "\n",
        "        i += 1\n",
        "\n",
        "    if not found:\n",
        "        print(f\"Warning: Could not find a valid report for {pred_dicom}\")\n",
        "\n",
        "print(f\"Generated reports for {len(generated_reports)}/{len(test_df)} test images\")"
      ],
      "metadata": {
        "colab": {
          "base_uri": "https://localhost:8080/"
        },
        "id": "7O293KmB9TXa",
        "outputId": "a812f607-fec2-4be7-9ce2-64e743c4c4c3"
      },
      "execution_count": 9,
      "outputs": [
        {
          "output_type": "stream",
          "name": "stderr",
          "text": [
            "\r  0%|          | 0/871 [00:00<?, ?it/s]"
          ]
        },
        {
          "output_type": "stream",
          "name": "stdout",
          "text": [
            "Warning: No neighbors for 6b31c47c-641e9905-9713bf8c-5d916738-736686e1\n",
            "Warning: No neighbors for ea38e7bb-cba206f9-4189840d-16b60305-bf6c4b9a\n",
            "Warning: Could not find a valid report for 0ff89f65-95a04de8-2fe6671c-5fcd970e-32c68b41\n",
            "Warning: No neighbors for 5cc3c915-39ccd8ce-dac11e38-2897999b-fe0619e0\n",
            "Warning: No neighbors for 81caedfb-6e08e626-6b7786e2-a61d7977-09c1891b\n",
            "Warning: No neighbors for bb2f01bd-d253c67b-3022b8a2-b8f9de2e-ca890595\n",
            "Warning: No neighbors for 0943ec2e-959f7350-bef8c8f9-43b10231-73beae33\n",
            "Warning: No neighbors for 88d1dec1-69cf2dc7-47a8e42c-986c3cea-0670d34c\n",
            "Warning: No neighbors for 4cd22171-57f5a28a-d2bab097-8b1fd2c1-e6342a5c\n",
            "Warning: Could not find a valid report for d58b5ff5-0c26618c-d3938726-320c7162-d0799cac\n"
          ]
        },
        {
          "output_type": "stream",
          "name": "stderr",
          "text": [
            "  1%|▏         | 12/871 [00:54<1:16:30,  5.34s/it]"
          ]
        },
        {
          "output_type": "stream",
          "name": "stdout",
          "text": [
            "Warning: No neighbors for 0f7bacbd-39180483-090d6f2e-93cc380c-26e50cef\n",
            "Warning: No neighbors for be5e433f-dac94987-b9ea5176-f3dc3125-517fe63d\n",
            "Warning: Could not find a valid report for 155e0867-6925a927-7f73fa2f-6e5438bb-dc6ae8fc\n",
            "Warning: Could not find a valid report for c97cba0f-be9c81e1-e3b2f294-5af9f1ac-aa4dab80\n",
            "Warning: Could not find a valid report for a7747cf0-5a042d25-ae9af09d-d8f2956d-ecfb087d\n",
            "Warning: Could not find a valid report for 0f55eb03-9eb3edde-1c46e2fb-60625b8b-86fdba40\n"
          ]
        },
        {
          "output_type": "stream",
          "name": "stderr",
          "text": [
            "\r  2%|▏         | 19/871 [01:21<1:04:37,  4.55s/it]"
          ]
        },
        {
          "output_type": "stream",
          "name": "stdout",
          "text": [
            "Warning: Could not find a valid report for fe58949c-440ecca2-acbe699f-ccfa0603-90cc7117\n",
            "Warning: Could not find a valid report for ffd60688-5da7c1d3-4229e284-c84ba788-c00f4302\n",
            "Warning: No neighbors for 42a4b234-fcbd0a93-68da2546-c1b83c5b-3fb7791b\n",
            "Warning: No neighbors for 89f4b68a-3d4740da-34fe78e4-f2b20359-3dc7c3e4\n",
            "Warning: No neighbors for c26805a6-6d7c2f70-6f35f7a2-f43bfe7a-fbd3cdb2\n",
            "Warning: No neighbors for 8889b837-fa023d6a-6f49e0f5-dfe5b0bb-ce8e6a6a\n",
            "Warning: No neighbors for 1e12df7b-afad478d-462af663-06fa9a26-0b5a5817\n",
            "Warning: No neighbors for 92e359ef-a61f43c3-e59a09ed-1e695645-7868a286\n"
          ]
        },
        {
          "output_type": "stream",
          "name": "stderr",
          "text": [
            "  3%|▎         | 29/871 [01:46<54:54,  3.91s/it]"
          ]
        },
        {
          "output_type": "stream",
          "name": "stdout",
          "text": [
            "Warning: Could not find a valid report for ab169e00-9cd88e9c-9027ee67-29bb0acd-54e6cbac\n",
            "Warning: No neighbors for 21ac3bc4-89ef3121-471fa3ee-b5c1d68a-26082a85\n",
            "Warning: No neighbors for b5e64556-e8a7551a-2166168a-05fbafe3-d1d00703\n",
            "Warning: No neighbors for 038b09d9-4b678e25-120ac20c-19e03406-7884fd68\n",
            "Warning: No neighbors for f3cef063-e72d3ee5-c776638e-25a76e94-e816118d\n",
            "Warning: Could not find a valid report for 49e7bc82-276f72a8-c77a5f0f-23629d64-1c2479f5\n"
          ]
        },
        {
          "output_type": "stream",
          "name": "stderr",
          "text": [
            "  4%|▍         | 37/871 [02:10<47:26,  3.41s/it]"
          ]
        },
        {
          "output_type": "stream",
          "name": "stdout",
          "text": [
            "Warning: No neighbors for c1ac5e5c-eba12f53-e1277072-8b10f52d-532c0c18\n",
            "Warning: No neighbors for e3d21827-e2e8b325-b71232c3-757fd6f5-b601891c\n",
            "Warning: No neighbors for 9b354d27-ea845106-db4ae1c7-39e2780a-c29b84d5\n",
            "Warning: No neighbors for cbb3510c-f34436f1-a077a44f-0faf7536-e9a5e1f5\n",
            "Warning: Could not find a valid report for 48f2ad34-cd281892-45d4a75b-06401704-3f329ad4\n"
          ]
        },
        {
          "output_type": "stream",
          "name": "stderr",
          "text": [
            "  5%|▌         | 45/871 [02:58<1:07:52,  4.93s/it]"
          ]
        },
        {
          "output_type": "stream",
          "name": "stdout",
          "text": [
            "Warning: Could not find a valid report for 71b51d6b-962b4765-38f53e9a-01cbf76f-389e8dd2\n",
            "Warning: No neighbors for fae5682a-1cecd4a9-5bf2e7d9-3a87de9d-9d8c7d81\n",
            "Warning: No neighbors for 67580ac5-130300a1-26f374a0-7f06925f-bb58a726\n",
            "Warning: No neighbors for bb2d87bc-5b39da5c-c5595325-08814d71-4c200b5d\n",
            "Warning: No neighbors for 36386745-afcfa173-702baff8-cb77290a-e79a1c6e\n",
            "Warning: No neighbors for e1047ec4-1cd6a51a-d90bfa1e-eb491d76-e411e81e\n"
          ]
        },
        {
          "output_type": "stream",
          "name": "stderr",
          "text": [
            "\r  6%|▌         | 52/871 [03:23<57:26,  4.21s/it]  "
          ]
        },
        {
          "output_type": "stream",
          "name": "stdout",
          "text": [
            "Warning: No neighbors for 4418f1d0-867517b3-de72fc1e-39a2f070-6425f1ae\n",
            "Warning: No neighbors for f7d2639b-c88fe2ac-0a09e406-f88d2519-cc4fc822\n",
            "Warning: No neighbors for e3dc23c4-b4bd31aa-b1dc8214-b147cde7-a3b38385\n",
            "Warning: No neighbors for d1029f74-7e55aaf3-d9d5e0d6-ed1f3d12-efcd4535\n",
            "Warning: No neighbors for d50496f0-b7a7934f-cab7de3e-ffb7b587-cf609c12\n",
            "Warning: No neighbors for 1cbdcfe5-bc9c979c-56f66162-6ce8488c-52bd8810\n",
            "Warning: No neighbors for 121c3c54-5d8f4997-fd4684e2-827b5058-f4a371b2\n",
            "Warning: No neighbors for 2cc144c0-505dcba8-27be4094-84acd840-d4d4cbd8\n",
            "Warning: No neighbors for 89ba38b6-ce794236-106e384e-3aa3f914-5238546a\n",
            "Warning: No neighbors for 719baaf6-1d2e8cf8-dc28cbb2-2869658b-a865866b\n",
            "Warning: No neighbors for d71a4931-5c0832b8-ae60fd56-1e3658d3-a392959a\n",
            "Warning: No neighbors for 606ea60e-f3c5c58e-68fd84ca-db4e599b-127aa53e\n",
            "Warning: No neighbors for c24939ff-cf96a7e2-dcc4a608-a9f63b02-2b64eca1\n",
            "Warning: Could not find a valid report for 0387b3e8-c0380f4d-e5bca083-b5a42442-b39f203e\n",
            "Warning: No neighbors for fdba0667-faa73efd-da3746a5-2a72a1fa-f5b292b7\n"
          ]
        },
        {
          "output_type": "stream",
          "name": "stderr",
          "text": [
            "\r  8%|▊         | 68/871 [03:47<33:23,  2.50s/it]"
          ]
        },
        {
          "output_type": "stream",
          "name": "stdout",
          "text": [
            "Warning: No neighbors for d338a558-e04326cd-bf2fb2ed-a76794ae-021f7e60\n"
          ]
        },
        {
          "output_type": "stream",
          "name": "stderr",
          "text": [
            "\r  8%|▊         | 70/871 [03:48<30:32,  2.29s/it]"
          ]
        },
        {
          "output_type": "stream",
          "name": "stdout",
          "text": [
            "Warning: Could not find a valid report for 9638d0d9-2cda000d-57ef048b-8f0857fa-98017ad5\n",
            "Warning: Could not find a valid report for 679fc033-59a87601-fbcdf3ab-6fc0d43a-f42c22cc\n",
            "Warning: Could not find a valid report for 9750f8e8-c4662878-4d255ba0-6593bcb1-63ceac3c\n",
            "Warning: Could not find a valid report for 92bc299d-068c560d-8ef2c616-9e091d33-461612f3\n",
            "Warning: No neighbors for a09f537b-5912e540-ce286ee4-23ea3e75-728565de\n",
            "Warning: No neighbors for 48649917-d15d68f9-9000632d-23379d1a-1db8a8ae\n",
            "Warning: Could not find a valid report for 99934a27-c012e2d2-a6d9b708-cd476d4b-5bfe1ee5\n"
          ]
        },
        {
          "output_type": "stream",
          "name": "stderr",
          "text": [
            "  9%|▉         | 80/871 [03:49<18:16,  1.39s/it]"
          ]
        },
        {
          "output_type": "stream",
          "name": "stdout",
          "text": [
            "Warning: Could not find a valid report for acc960d1-27a02b44-a94e62a4-9cbf773f-3d996c05\n"
          ]
        },
        {
          "output_type": "stream",
          "name": "stderr",
          "text": [
            "\r  9%|▉         | 82/871 [03:50<16:28,  1.25s/it]"
          ]
        },
        {
          "output_type": "stream",
          "name": "stdout",
          "text": [
            "Warning: No neighbors for b9009b5b-3642dfb9-dfce3c67-ad19e733-7e9c09a0\n",
            "Warning: No neighbors for ee3f4ecd-233eb81d-a280081b-7440d865-06841af6\n",
            "Warning: No neighbors for 7b9346a3-08588000-e7a234bc-ccd4a39e-9fea30ef\n"
          ]
        },
        {
          "output_type": "stream",
          "name": "stderr",
          "text": [
            "\r 10%|▉         | 86/871 [03:51<12:20,  1.06it/s]"
          ]
        },
        {
          "output_type": "stream",
          "name": "stdout",
          "text": [
            "Warning: Could not find a valid report for 6d6e4de8-8c60c0d9-ddb98a39-2d272b6d-5287e6ed\n",
            "Warning: Could not find a valid report for 8f34e6a7-a9a93480-381afaf2-33925be7-c183ae6f\n",
            "Warning: No neighbors for 72fc7f52-b09eaa77-a97b97a9-0d81877d-211a897a\n",
            "Warning: No neighbors for 0c4b83f5-1e311469-f916ecff-6f6c8499-e2002c91\n",
            "Warning: Could not find a valid report for 17923800-55022f4b-c285ac91-7f66c52e-0ef34030\n",
            "Warning: Could not find a valid report for 2a92ee7d-b01138ad-c2f71a5d-bc931d27-1ef3cdaa\n",
            "Warning: Could not find a valid report for 5186aa93-f71677d3-44e575e5-5315d903-692bbdf2\n",
            "Warning: Could not find a valid report for d54e8816-50d05b1d-4b9525ae-3df2d410-d8cb882b\n",
            "Warning: No neighbors for 6278906e-3d958288-895b41bf-e639f8f3-6ded2ee2\n"
          ]
        },
        {
          "output_type": "stream",
          "name": "stderr",
          "text": [
            "\r 11%|█         | 96/871 [04:12<19:39,  1.52s/it]"
          ]
        },
        {
          "output_type": "stream",
          "name": "stdout",
          "text": [
            "Warning: No neighbors for 62a471bd-dd0c929e-b65f037c-8cf77fdd-242bd43b\n",
            "Warning: No neighbors for 68f8e81d-f7586bf5-7ca7fb64-4b7b57ec-3b1fd774\n",
            "Warning: No neighbors for bac90b95-a2a85da9-6ea11095-68296b1d-b1dbb293\n",
            "Warning: No neighbors for 70241e4e-c0b27790-edd87c61-bd735da7-9294a818\n",
            "Warning: Could not find a valid report for 3d56e803-4ae22930-337f540e-d2fa1bd8-558618bf\n",
            "Warning: No neighbors for 270969d1-35ef5b34-ef4d7364-dbaca4d2-5ca952ce\n",
            "Warning: No neighbors for 5c001b3a-30909e0b-6687f4f4-e9060b13-00e5ee24\n",
            "Warning: No neighbors for 3f787ff9-0175ddb8-fdf24399-ddd07d56-a0401a19\n",
            "Warning: No neighbors for da0c110f-57fefbe3-d27bbe24-4184a848-940eb060\n",
            "Warning: No neighbors for 1edb4811-40e5d85f-667e2d15-f9ef733d-abf89c67\n",
            "Warning: Could not find a valid report for 2cd5b0dd-527a6616-cb6ad62f-c8ee94df-0b7ffd5b\n",
            "Warning: No neighbors for 9c4a5ae3-8f8f5f36-81462cfb-36cf1c2e-2c7e2f9f\n",
            "Warning: No neighbors for 42663efb-e5d3b721-e22b3b5e-7db254b7-4a6fb52e\n",
            "Warning: No neighbors for dad80293-08679ada-d818d25a-8b424de8-d5c09469\n",
            "Warning: No neighbors for 3417202b-589db099-0cd785c9-a1f2e88f-04bd6a19\n"
          ]
        },
        {
          "output_type": "stream",
          "name": "stderr",
          "text": [
            "\r 13%|█▎        | 112/871 [04:13<09:13,  1.37it/s]"
          ]
        },
        {
          "output_type": "stream",
          "name": "stdout",
          "text": [
            "Warning: No neighbors for 356a24fd-bb08a851-b13472cb-53d0d47c-c45a51a6\n",
            "Warning: No neighbors for 2404c1ab-a3b40cde-0c825331-769edf1e-2d99b2cf\n",
            "Warning: No neighbors for bed800ae-bb10b1fa-2b60fc7e-96ca4740-f128c35f\n",
            "Warning: No neighbors for 21db6efe-d9c3cb1e-f11fe240-b655b20f-c596f71d\n",
            "Warning: No neighbors for 680753c2-1127b4da-5da26d6d-0e76ab32-29974f7b\n",
            "Warning: No neighbors for 3ad48350-c4305580-e92c2f6c-e2ac12d1-56758184\n",
            "Warning: No neighbors for 5163c025-0bf3d654-9e4cdd74-c7fb7e32-c28de080\n",
            "Warning: No neighbors for 5e20e778-9625974b-0de6c429-d7d61cd0-edac663f\n",
            "Warning: No neighbors for 2fa00f67-6cbb7ac3-7171f9cf-02c57ba5-165e5cb6\n",
            "Warning: Could not find a valid report for 459cfba0-0e5fabcb-a6cd2ff8-887d8f8c-59a166aa\n",
            "Warning: Could not find a valid report for 0c0c6328-356ed105-d08d85dc-d48519a5-37ce609c\n"
          ]
        },
        {
          "output_type": "stream",
          "name": "stderr",
          "text": [
            "\r 14%|█▍        | 124/871 [04:13<06:05,  2.04it/s]"
          ]
        },
        {
          "output_type": "stream",
          "name": "stdout",
          "text": [
            "Warning: Could not find a valid report for abbedaa3-6d3389fc-cae4a6f3-ee2a2492-2749dc29\n",
            "Warning: Could not find a valid report for 6b6a2e84-379b33cc-bf29067f-b4c66670-cf1b90f8\n",
            "Warning: No neighbors for 1526e036-7616a7bc-1c2718f4-c7c1e32b-bd12c7f6\n",
            "Warning: No neighbors for b2526071-03ac66a3-61fbfaad-ab5079f5-3437bdd3\n",
            "Warning: No neighbors for bdb8a211-9d53fc95-a073e3a7-125666d3-13f7864e\n",
            "Warning: No neighbors for 1dcabb6e-bc8d631e-4ff074b4-362a1bdf-9caa80c8\n",
            "Warning: No neighbors for 8a4082f8-c82c33e3-ff304476-b2003908-f602dc10\n",
            "Warning: No neighbors for 57dbb610-aad7676f-da4741ea-db34ef0e-773492f3\n",
            "Warning: No neighbors for e3ba2e98-759a170d-091b9c4d-c1ef7d38-7c511392\n",
            "Warning: No neighbors for e151ea92-dcc832f3-ed6b9068-8af3ca28-5c851b2b\n",
            "Warning: No neighbors for 579887a1-e63cdbec-e10bd781-49164f07-dcea2673\n",
            "Warning: No neighbors for 59fc4251-0e17da3e-8649e94c-4edb0193-7508665c\n",
            "Warning: No neighbors for ac179987-a317ee48-029ffb54-2046bbb9-2524ef39\n"
          ]
        },
        {
          "output_type": "stream",
          "name": "stderr",
          "text": [
            "\r 16%|█▌        | 138/871 [04:15<04:03,  3.01it/s]"
          ]
        },
        {
          "output_type": "stream",
          "name": "stdout",
          "text": [
            "Warning: No neighbors for 2d54029c-8a673300-02e480c0-f21cafcd-49f7096d\n",
            "Warning: Could not find a valid report for 7012b817-aa934df3-0b46bd55-cdbd8a6b-63ff453c\n"
          ]
        },
        {
          "output_type": "stream",
          "name": "stderr",
          "text": [
            "\r 16%|█▌        | 141/871 [04:15<04:01,  3.03it/s]"
          ]
        },
        {
          "output_type": "stream",
          "name": "stdout",
          "text": [
            "Warning: No neighbors for 038cc698-7c7a91ca-e3735793-adc063c7-99576cf8\n",
            "Warning: No neighbors for 4e5eebbe-0eddc029-b15d4941-d49ec4dd-f18951c0\n",
            "Warning: Could not find a valid report for d306467e-fca61a50-2b148f39-2c44fc2b-8b622473\n",
            "Warning: Could not find a valid report for c87e7972-80ed461b-fb71d702-2b784178-fcec346b\n",
            "Warning: No neighbors for 4fbf411e-7412f43b-b928088b-3394d521-d8a8759d\n",
            "Warning: No neighbors for c2924c3f-5ab4545f-1c278864-9d5f1633-90b861f2\n",
            "Warning: Could not find a valid report for 4736face-6f5f0e13-4b8bac9f-49661d81-a988229c\n",
            "Warning: Could not find a valid report for 683930ea-a24d96eb-f0ef3736-3906153d-0ac7d866\n",
            "Warning: Could not find a valid report for f6a37fec-15ac1f40-bf0526fc-39db0719-2b908d7a\n",
            "Warning: Could not find a valid report for aac02704-c647b84c-58d5df12-c9857852-e1536bba\n",
            "Warning: No neighbors for 1ec8845f-3a023f17-076598ae-4bab58c9-4f36d953\n",
            "Warning: No neighbors for 9ebc2add-94312c86-781307ca-2edd2c85-ea52d9e8\n",
            "Warning: No neighbors for d46da20b-cdb2a38b-a1830914-54ba942b-288fb8db\n",
            "Warning: No neighbors for 70ab0d87-678d2191-e46cc2a9-27fa122d-58611d95\n",
            "Warning: Could not find a valid report for 1097655b-9f690af5-6cc45124-c56f661a-27c1098b\n",
            "Warning: Could not find a valid report for ed97c7e6-dbfa78ad-56f408d4-380f08f8-a031ce23\n"
          ]
        },
        {
          "output_type": "stream",
          "name": "stderr",
          "text": [
            "\r 18%|█▊        | 158/871 [04:17<02:29,  4.77it/s]"
          ]
        },
        {
          "output_type": "stream",
          "name": "stdout",
          "text": [
            "Warning: Could not find a valid report for 7a2159a0-3da9500f-14139d0e-1f3a28e4-b3e02c9d\n",
            "Warning: No neighbors for acfd9272-9df3cecc-303aa062-d5307b23-25fac008\n",
            "Warning: No neighbors for 6e4b77b2-58c13415-518b3808-14255b75-c94829b6\n",
            "Warning: No neighbors for 5468784d-ebafdd81-317bc3b4-e3b04d22-21e52460\n",
            "Warning: No neighbors for 93133bf0-609e43f5-49c9ee72-ec5855b9-eb5b0e4f\n",
            "Warning: Could not find a valid report for e69bc775-b6c95605-3fec47ae-cada49ac-098057ee\n"
          ]
        },
        {
          "output_type": "stream",
          "name": "stderr",
          "text": [
            "\r 19%|█▉        | 165/871 [04:18<02:18,  5.12it/s]"
          ]
        },
        {
          "output_type": "stream",
          "name": "stdout",
          "text": [
            "Warning: No neighbors for eff686d5-2c938474-fb4740bf-7da3b62c-1f889436\n",
            "Warning: No neighbors for e453002c-d5d251dc-735b61d6-9497f3f4-b31f0aaa\n",
            "Warning: No neighbors for ddddb416-a3720943-e7c6fbd0-7a6a3c77-a665735b\n",
            "Warning: No neighbors for 6c24b2ec-50941337-5e94a8f3-a1734b3f-ded9a163\n",
            "Warning: No neighbors for befd1de9-0a82426e-66372167-1c71ba4f-5fa93cdd\n",
            "Warning: No neighbors for 4d7abed3-dde770d8-a0f3f21b-7989cfca-4a4fdb1c\n"
          ]
        },
        {
          "output_type": "stream",
          "name": "stderr",
          "text": [
            "\r 20%|█▉        | 172/871 [04:18<02:05,  5.57it/s]"
          ]
        },
        {
          "output_type": "stream",
          "name": "stdout",
          "text": [
            "Warning: No neighbors for adccc791-c6f66f4f-f4058cd4-80126a9c-b2d89b07\n",
            "Warning: No neighbors for 1319f6a5-eb4f5cf7-f6caab50-99422f0c-69082073\n",
            "Warning: Could not find a valid report for 6b3ea140-3ff8a7d0-7d136239-5da77da9-01dd9ba2\n",
            "Warning: No neighbors for 3c567302-1ad50dd2-bbd38046-6cc7bcd5-b7ca1ee1\n",
            "Warning: No neighbors for 57db9a2d-895ebd1d-684d760d-0880f624-b01a38ee\n",
            "Warning: No neighbors for 61335ec1-9aa93524-f2d71771-c52be6cf-3641b00c\n",
            "Warning: Could not find a valid report for 97a4546c-64f9704a-683f60cc-ecd44858-a19db806\n",
            "Warning: No neighbors for 37ac6ed5-6201b933-1d05d2bd-b5ce75b9-a881e56d\n"
          ]
        },
        {
          "output_type": "stream",
          "name": "stderr",
          "text": [
            "\r 21%|██        | 181/871 [04:19<01:46,  6.46it/s]"
          ]
        },
        {
          "output_type": "stream",
          "name": "stdout",
          "text": [
            "Warning: No neighbors for 3019dda2-33689c4d-98214813-1f3c0f27-c784cccb\n",
            "Warning: No neighbors for d2b88e19-9839b321-8a300776-5345afaf-83b7009a\n",
            "Warning: Could not find a valid report for c576aa8a-ff673e7a-fc3bf660-2a918632-3c39bab6\n",
            "Warning: Could not find a valid report for 11daf3da-7a6d46ba-00ba42c2-4229d81f-a9afe16f\n"
          ]
        },
        {
          "output_type": "stream",
          "name": "stderr",
          "text": [
            "\r 21%|██▏       | 186/871 [04:20<01:48,  6.31it/s]"
          ]
        },
        {
          "output_type": "stream",
          "name": "stdout",
          "text": [
            "Warning: Could not find a valid report for 2da1f24a-e7d527df-4070ed74-84d2b518-aba24885\n",
            "Warning: Could not find a valid report for 5af9b95d-5d5d1727-35c2473d-422c8504-3a8df900\n",
            "Warning: No neighbors for f918eb46-1948d540-4048d7c4-20816288-0195b1cd\n",
            "Warning: No neighbors for b397cec2-3bf22fa8-fe6bdab1-713cfa40-9fc6c901\n",
            "Warning: No neighbors for f2967868-246005b4-1e808fa2-5f64b688-9ccabe03\n",
            "Warning: No neighbors for 82cc8792-1e242d60-a2221e84-2fdd73ea-050a29bc\n",
            "Warning: No neighbors for a4204528-f59407e5-345ad9b2-0649c075-1ae5585c\n"
          ]
        },
        {
          "output_type": "stream",
          "name": "stderr",
          "text": [
            "\r 22%|██▏       | 194/871 [04:21<01:36,  6.99it/s]"
          ]
        },
        {
          "output_type": "stream",
          "name": "stdout",
          "text": [
            "Warning: No neighbors for 2141c237-bc851279-3b5061e8-4e1be827-368cbaa0\n",
            "Warning: No neighbors for 36799350-28f81c51-524d0de3-e504bd1d-5bee37a0\n",
            "Warning: No neighbors for 2f475806-b53ff19c-baee727b-27721a86-40462313\n",
            "Warning: No neighbors for ead2cff7-c2bb4436-885a58b8-2ab4ede4-5917e428\n",
            "Warning: Could not find a valid report for 5e3a0c53-0cd62849-3626a5b6-617a5e4d-735eeec0\n"
          ]
        },
        {
          "output_type": "stream",
          "name": "stderr",
          "text": [
            "\r 23%|██▎       | 200/871 [04:22<01:34,  7.11it/s]"
          ]
        },
        {
          "output_type": "stream",
          "name": "stdout",
          "text": [
            "Warning: No neighbors for 7a1fb414-33b2f493-196154c8-61d6380e-07c88975\n",
            "Warning: Could not find a valid report for b96b11e9-522d93e8-75de705b-02fccb32-738e26d1\n",
            "Warning: Could not find a valid report for c400d7a2-c2cfcfdd-fcba142d-373e5506-02d9e82c\n",
            "Warning: No neighbors for 76c0677a-409ac2b3-58943ff8-65808284-2d8d532b\n",
            "Warning: No neighbors for 1ece308c-6a7ebbd6-106dca1f-6decb316-050ecc04\n",
            "Warning: Could not find a valid report for 06db5e16-c175470b-8e2b4549-5d8a087f-ea47f7b0\n"
          ]
        },
        {
          "output_type": "stream",
          "name": "stderr",
          "text": [
            "\r 24%|██▍       | 207/871 [04:23<01:32,  7.18it/s]"
          ]
        },
        {
          "output_type": "stream",
          "name": "stdout",
          "text": [
            "Warning: No neighbors for eedf55e3-582abefc-1da7ceae-51c7da73-e3826cc5\n",
            "Warning: No neighbors for 056a3bf4-15eaccbb-e723820a-9a05cffd-9a17a4d6\n",
            "Warning: No neighbors for e16c356a-e1adedc9-4ef6b14c-58dd4a95-88735c62\n",
            "Warning: No neighbors for a303a651-3e5a057e-226b606d-0f9bbe27-1d63bf1e\n",
            "Warning: No neighbors for 71ec5f05-12c9ca03-2dc5fc1e-d5e5366c-2a8dbf6f\n",
            "Warning: No neighbors for 87392c3f-2a8a2755-dafa8fd4-73c9224d-bda48591\n",
            "Warning: No neighbors for c38ab5f1-422a8e08-aeb78574-159c9dd8-9337cb06\n",
            "Warning: No neighbors for 626416c0-6073cd99-d03127af-eb4bb74f-cbf4fdd0\n",
            "Warning: Could not find a valid report for beb85f47-6068aecd-fa7b9e71-0e4d359f-8b39381d\n"
          ]
        },
        {
          "output_type": "stream",
          "name": "stderr",
          "text": [
            "\r 25%|██▍       | 217/871 [04:24<01:19,  8.26it/s]"
          ]
        },
        {
          "output_type": "stream",
          "name": "stdout",
          "text": [
            "Warning: No neighbors for 4642211b-b3cec9a0-84833d67-14ba3bd8-9e153ce3\n",
            "Warning: No neighbors for eb5010b1-3f708e8c-07675d8f-7e32dc4c-e3a8d83f\n"
          ]
        },
        {
          "output_type": "stream",
          "name": "stderr",
          "text": [
            "\r 25%|██▌       | 220/871 [04:24<01:22,  7.87it/s]"
          ]
        },
        {
          "output_type": "stream",
          "name": "stdout",
          "text": [
            "Warning: Could not find a valid report for 14d954c2-ec8359c4-82c1a7f9-e52baddf-c0c2debc\n",
            "Warning: Could not find a valid report for cbc1042f-38f03809-13eae4db-41e70b7f-995bebf0\n",
            "Warning: Could not find a valid report for 983e4044-1df93a05-d6b02476-fb356e40-aba20c38\n",
            "Warning: Could not find a valid report for b10b26a3-8d2f5ac0-44d2379a-6405cad2-12ef5312\n"
          ]
        },
        {
          "output_type": "stream",
          "name": "stderr",
          "text": [
            "\r 26%|██▌       | 225/871 [04:25<01:28,  7.29it/s]"
          ]
        },
        {
          "output_type": "stream",
          "name": "stdout",
          "text": [
            "Warning: Could not find a valid report for 066fb40b-b40dec3e-1f66629a-e26f6044-88c35e41\n"
          ]
        },
        {
          "output_type": "stream",
          "name": "stderr",
          "text": [
            "\r 26%|██▌       | 227/871 [04:26<01:54,  5.61it/s]"
          ]
        },
        {
          "output_type": "stream",
          "name": "stdout",
          "text": [
            "Warning: Could not find a valid report for a0672537-4cee6e2a-330813d8-bfd3f092-ee34b779\n"
          ]
        },
        {
          "output_type": "stream",
          "name": "stderr",
          "text": [
            "\r 26%|██▋       | 229/871 [04:27<02:21,  4.53it/s]"
          ]
        },
        {
          "output_type": "stream",
          "name": "stdout",
          "text": [
            "Warning: Could not find a valid report for 27012cba-af707d0a-9177aa0d-3adb98e1-b2320155\n",
            "Warning: Could not find a valid report for d7679c3f-e057cbde-70240015-fbb02168-2d439b66\n",
            "Warning: No neighbors for 673c488d-815721ce-98199559-131e4730-fd0e8f00\n"
          ]
        },
        {
          "output_type": "stream",
          "name": "stderr",
          "text": [
            " 27%|██▋       | 234/871 [04:28<02:40,  3.96it/s]"
          ]
        },
        {
          "output_type": "stream",
          "name": "stdout",
          "text": [
            "Warning: No neighbors for 99c6d5b1-73b443bb-d1812288-4ef8c896-c568605c\n",
            "Warning: No neighbors for c69312e2-2e838f66-727f34d6-642a8cf5-f8a8fb51\n",
            "Warning: No neighbors for 84377048-2e6fbd9c-943817d3-692d6905-5f8e0b32\n",
            "Warning: No neighbors for 61550efa-b0b65dcb-6ac7cd23-c4a8f0ae-64b12f77\n",
            "Warning: No neighbors for f11bb5bf-c496c3aa-ea46b195-31245281-aedf1b4d\n",
            "Warning: No neighbors for c1704e7e-e10009bf-9e352365-b0bf6ec5-d861a798\n",
            "Warning: Could not find a valid report for 09cf9d33-20385de6-40b3fc27-46b93754-0f92fbda\n",
            "Warning: No neighbors for 977f66f8-cbd6d702-262055ea-4de15898-8fafe347\n",
            "Warning: No neighbors for b6615151-cccbbb7b-c85cf7b2-098d16a2-05f965ce\n",
            "Warning: Could not find a valid report for 8edf430d-d74cde09-705af2bd-70a037d5-c2966211\n",
            "Warning: Could not find a valid report for 214d18cf-6a971596-00dd8cd1-d0bf54e3-710415a2\n",
            "Warning: Could not find a valid report for 8b13b3d4-da5bad40-0c287ff9-f73a1172-2881e28d\n",
            "Warning: Could not find a valid report for cb23de02-598ef511-673ac1e8-ab7abbbc-d7affa05\n",
            "Warning: Could not find a valid report for 5ab046e2-7e144172-9dcfe4f5-23d10dbb-798b555b\n",
            "Warning: No neighbors for 45a110a1-0a8701a3-6b68d5d7-1a186136-7e39a04c\n",
            "Warning: No neighbors for b3933165-c8b63ba1-52c67ebc-accc9463-97e3d28d\n",
            "Warning: No neighbors for 8a4b9e9d-4b2eb1e8-fad2b60c-da752e2b-199e8730\n"
          ]
        },
        {
          "output_type": "stream",
          "name": "stderr",
          "text": [
            "\r 29%|██▉       | 252/871 [04:29<01:04,  9.61it/s]"
          ]
        },
        {
          "output_type": "stream",
          "name": "stdout",
          "text": [
            "Warning: No neighbors for 7c991985-2120adf3-7d9ebfc3-7b410281-d415e357\n",
            "Warning: No neighbors for 6d426207-4d71d51d-1d71e2cc-1414d4f3-8309ce2e\n",
            "Warning: Could not find a valid report for 2819ff27-9fbfce01-2806ae60-9430bc2e-4d5815da\n",
            "Warning: No neighbors for 19fa90ce-7e3aff1c-081cdb25-2435bb31-99134a27\n",
            "Warning: No neighbors for 45f45733-b606983a-11c9623b-100f9efc-3d6a2d5a\n",
            "Warning: No neighbors for 933d6e26-701f87f2-ddf57c3e-4448d9b8-dad5084b\n",
            "Warning: No neighbors for 9fe5e966-79661b42-39377fa8-003b87cc-b669eca5\n",
            "Warning: No neighbors for e5cc212b-be5160c7-a10d9636-d6dc92eb-c7d3d185\n",
            "Warning: No neighbors for a6100333-f64b2817-b47bd30e-3ae5e104-24833cc3\n",
            "Warning: No neighbors for 151383d5-9072e7b4-a5c02ccf-1045bd26-f910ef7a\n",
            "Warning: Could not find a valid report for 6d613dfd-77372cfc-3f84c293-abc2abc9-eb660e92\n",
            "Warning: No neighbors for d0990544-75e63e89-1088e244-ca8dd59f-ea36be2e\n",
            "Warning: Could not find a valid report for 13b04ab8-9ffc1631-a53713fc-d39445e1-5d7483c8\n",
            "Warning: No neighbors for 73c41d4f-3d37dadd-90729029-8999920d-77f956eb\n",
            "Warning: No neighbors for 1d1b1649-61056b25-922ea810-d353c844-6a089756\n",
            "Warning: No neighbors for dcdd32f6-e80f7f1f-0c2448f5-0816540b-3b890ebf\n",
            "Warning: No neighbors for cccfa82d-f56ed730-031b5dac-53bafa2b-f20378ad\n",
            "Warning: No neighbors for a958d317-f863a553-18fae1c8-b43ac782-73632a5b\n",
            "Warning: No neighbors for e7cd9eab-fd7716ff-d451574f-5f858b53-f28c02b8\n",
            "Warning: Could not find a valid report for 6a4983bc-53968d55-a4233588-19ee3811-ae2810ff\n",
            "Warning: No neighbors for e690df0e-b833dd58-a9557180-c5a1566f-8138147e\n",
            "Warning: No neighbors for 26c37dd7-df9925bb-5dcb732b-21b011d0-cebf108f\n",
            "Warning: No neighbors for 7f17ab0f-15cc31e4-6a8db499-8e84699f-8f016614\n",
            "Warning: No neighbors for f62bad73-847d7a1f-b58e93cd-7f677a5f-2502428f\n",
            "Warning: No neighbors for d6c3d810-09b1f73c-8192f859-d9e421ed-121fcf7b\n",
            "Warning: Could not find a valid report for 622e49cc-a03d43d2-b923dceb-620f4099-63524773\n",
            "Warning: No neighbors for 901ff9da-8c7918cf-2c1642f7-2db14f83-c386dfe5\n",
            "Warning: No neighbors for f54d71e9-cb078a0e-41326b2e-d8a5e132-77b9f33a\n",
            "Warning: No neighbors for c4e2cc87-364dcc3d-faf13134-a724a435-0dd92727\n",
            "Warning: Could not find a valid report for 63100eab-9e8a8d90-392bc822-325de482-69a64e3b\n"
          ]
        },
        {
          "output_type": "stream",
          "name": "stderr",
          "text": [
            "\r 32%|███▏      | 283/871 [04:30<00:33, 17.70it/s]"
          ]
        },
        {
          "output_type": "stream",
          "name": "stdout",
          "text": [
            "Warning: Could not find a valid report for 247d5e7b-66c77989-ca5fec41-608aaa71-eab4c699\n",
            "Warning: Could not find a valid report for f0924084-7fde1c46-0709acb5-8273482e-b9d7de1b\n",
            "Warning: No neighbors for 3700e900-cbeaaf77-7570be92-2c18461f-a6404866\n",
            "Warning: Could not find a valid report for c7e9f92c-6a16a0ac-79ddb9a0-5b99fb77-9bb617de\n",
            "Warning: No neighbors for bdba3b30-c51532c1-3ccfd3e7-498923d1-938599ad\n",
            "Warning: No neighbors for 76eb4470-6e55a432-c0d34ea5-56f49e33-8c66220b\n",
            "Warning: No neighbors for 0bbbbeec-d9af2a03-5c00fafa-ba80c087-d2632ab1\n"
          ]
        },
        {
          "output_type": "stream",
          "name": "stderr",
          "text": [
            "\r 33%|███▎      | 291/871 [04:31<00:37, 15.38it/s]"
          ]
        },
        {
          "output_type": "stream",
          "name": "stdout",
          "text": [
            "Warning: No neighbors for 4182aefa-d085f444-117544da-143791d6-1fee5c53\n",
            "Warning: No neighbors for f506cb09-65989b1c-6143af95-4295ba74-8d26c8d2\n",
            "Warning: No neighbors for 898010f4-49593bbe-c7a58d4a-85d4545f-6b209cb3\n",
            "Warning: No neighbors for 19a55aba-4f77860d-c8d0b997-9dc72e4c-9f9fc5a9\n",
            "Warning: No neighbors for a2662898-fc83c84d-164a71f9-8d690ff6-0b2824da\n",
            "Warning: No neighbors for 0e030ea3-c7923fbc-7c46efe5-1aaeeae0-7302529f\n",
            "Warning: No neighbors for 260270d9-1d280307-e3a9be8a-0f6eb19d-2b0a13e6\n",
            "Warning: No neighbors for 862401ce-c0f8a9af-fd67b0a8-e8cdd773-a4053e56\n",
            "Warning: Could not find a valid report for aca6d033-f37959c3-e2f21cdc-ba0ccf94-19b29a2c\n",
            "Warning: Could not find a valid report for a2b5949d-25339816-e550eaab-7cf1c80d-89901a77\n",
            "Warning: No neighbors for be8247ea-ef052256-a096ac6a-f7d79d41-9473180b\n"
          ]
        },
        {
          "output_type": "stream",
          "name": "stderr",
          "text": [
            " 35%|███▌      | 305/871 [04:33<00:54, 10.36it/s]"
          ]
        },
        {
          "output_type": "stream",
          "name": "stdout",
          "text": [
            "Warning: Could not find a valid report for db4f7ca5-fdeef5b7-5a1d48c3-34d63190-3a195f3c\n",
            "Warning: Could not find a valid report for f67d4b98-7d105950-87bc7cca-e2330ba6-206a966b\n",
            "Warning: No neighbors for 50653a94-06a40422-9d0e9574-dbe3a79d-beb0d085\n",
            "Warning: No neighbors for 31bdfe4d-6121f05d-da1a572f-0c1a5d57-4b33fcaf\n",
            "Warning: No neighbors for c9705d65-a56f446d-75ad552b-e44fcba6-3bbaa0b5\n",
            "Warning: No neighbors for 1c0e8f47-0f74ba18-428ad40c-93d88373-c7c7509b\n",
            "Warning: No neighbors for ac65d227-c1daba40-0bc17684-02ef2f83-de3d9fce\n",
            "Warning: Could not find a valid report for c3536559-02e41ed2-bab0b3ef-9db75148-c6ca67f7\n",
            "Warning: Could not find a valid report for 097b23d1-80c1433e-72156058-d40e3101-d41cb853\n",
            "Warning: No neighbors for 75f97f1f-6682cdec-71636e87-a8eb1b78-6a9e1ca0\n",
            "Warning: Could not find a valid report for def0bc7c-e974d4db-4a74211c-019f07df-a521ffed\n",
            "Warning: No neighbors for d49747d0-a8da8ec2-cfa55777-4619de7f-cb2263f3\n",
            "Warning: No neighbors for cdac6f52-88ca446d-19d58e47-e9397446-e0a91984\n",
            "Warning: No neighbors for e4463f28-a601c963-c6f86d75-ce35c78c-41763000\n",
            "Warning: No neighbors for bda16c3d-2f16ccde-5c04a92e-88f0cff9-b61bd54a\n",
            "Warning: No neighbors for a8336caa-04cdadca-c35f9e4b-cd3eb906-9ed933ab\n",
            "Warning: Could not find a valid report for cd88a4c4-9f9559c0-92ed0740-9320012a-5304ba66\n",
            "Warning: No neighbors for c572b1af-44d9cd19-3fb3f595-59c740f8-fa5c7257\n"
          ]
        },
        {
          "output_type": "stream",
          "name": "stderr",
          "text": [
            " 37%|███▋      | 325/871 [04:35<00:52, 10.41it/s]"
          ]
        },
        {
          "output_type": "stream",
          "name": "stdout",
          "text": [
            "Warning: Could not find a valid report for 753cf189-f11d5b72-c9349f7c-ca6aa8b5-e78d0a26\n",
            "Warning: No neighbors for d04031be-f525785d-bf4d9ddc-24438425-8ba4eee2\n"
          ]
        },
        {
          "output_type": "stream",
          "name": "stderr",
          "text": [
            "\r 38%|███▊      | 328/871 [04:35<01:06,  8.13it/s]"
          ]
        },
        {
          "output_type": "stream",
          "name": "stdout",
          "text": [
            "Warning: Could not find a valid report for 940b0268-3f85bdd3-04154bd3-3fd0cf53-3c0d4763\n",
            "Warning: Could not find a valid report for 86f7d22c-cc564042-4f25b574-d5a37729-6ed0ac19\n",
            "Warning: Could not find a valid report for 2966bb5c-984f864a-d4982ecf-cce81477-7dc0e981\n",
            "Warning: Could not find a valid report for 34b1ea91-443b5a50-e90f3716-ea269f59-4e8136ec\n",
            "Warning: Could not find a valid report for 05027c46-6405a26a-346180d4-0ae48945-90524df9\n"
          ]
        },
        {
          "output_type": "stream",
          "name": "stderr",
          "text": [
            " 38%|███▊      | 335/871 [04:37<01:37,  5.47it/s]"
          ]
        },
        {
          "output_type": "stream",
          "name": "stdout",
          "text": [
            "Warning: Could not find a valid report for 13675ad4-1d7f1370-a4fa4fbe-56334043-e9dd98c6\n",
            "Warning: No neighbors for 04d87c53-44747585-18e9fdf0-93e1f0bb-72f884c2\n",
            "Warning: No neighbors for a85ea2de-9032dfbd-52094406-da0779cb-0ed2d0f6\n",
            "Warning: No neighbors for 21ea9318-af0c5440-d7f78683-fa4a92f7-75a70676\n",
            "Warning: No neighbors for 18b49b63-945e2a35-ab4ca771-ddc81649-965fdfd6\n",
            "Warning: No neighbors for a9d19f47-21a59a7f-73fbf286-4b144402-8fa68b88\n",
            "Warning: No neighbors for 80e473da-b34021fc-131541b7-72cecaf6-93f155b5\n",
            "Warning: No neighbors for d89b00d3-a472d45d-2687e710-986ef9a9-f70b59e4\n",
            "Warning: No neighbors for f06eca5a-3d5a0275-35602e3d-be21b035-947a3b09\n",
            "Warning: No neighbors for 94608777-c326155d-a9a80abf-ebc43217-84df5397\n",
            "Warning: No neighbors for 2e02fc30-1054ed02-0979fa51-b037bf09-91687b95\n",
            "Warning: No neighbors for ed1ec995-3f13f84f-3c59cf8d-c0a40437-46988627\n",
            "Warning: No neighbors for 2c83410b-4c67cbf4-ea1a9120-ed423851-36b9496c\n",
            "Warning: Could not find a valid report for 7db6c68b-e906d472-26f996cd-57149322-08b0aeca\n"
          ]
        },
        {
          "output_type": "stream",
          "name": "stderr",
          "text": [
            " 40%|████      | 351/871 [04:39<01:18,  6.62it/s]"
          ]
        },
        {
          "output_type": "stream",
          "name": "stdout",
          "text": [
            "Warning: No neighbors for 820f4dc1-29182d31-4bc4c76d-d32f4304-37a96d56\n",
            "Warning: No neighbors for 9ad59bdb-3e597590-c5231702-669118e9-db11dab1\n"
          ]
        },
        {
          "output_type": "stream",
          "name": "stderr",
          "text": [
            "\r 41%|████      | 354/871 [04:40<01:28,  5.85it/s]"
          ]
        },
        {
          "output_type": "stream",
          "name": "stdout",
          "text": [
            "Warning: Could not find a valid report for dad7417e-26593c0c-d2ab9ae0-61b1c40e-7c85cbda\n",
            "Warning: No neighbors for 31a461b9-043e514e-8bbc698d-6d55b8f9-b6eca516\n",
            "Warning: Could not find a valid report for bab0ce22-c71273ea-0e773940-b25b1813-f27b95a5\n",
            "Warning: No neighbors for 9ddf770e-e356e54d-ecf6805d-4a7c8a4e-ecfbdc18\n",
            "Warning: No neighbors for 485ee2ee-99ca9288-fc60942b-490d790a-9e7adc24\n",
            "Warning: No neighbors for 152d360e-240d3966-a5ba8790-66b08e2b-9e577098\n",
            "Warning: No neighbors for 64e8d36e-dd3b2e0d-47d9eceb-3b859c15-b1ef5f7e\n",
            "Warning: No neighbors for a58e9d16-36709ab7-ab4718fa-08a7a174-e7efe1a6\n",
            "Warning: No neighbors for 4385f540-e11dc30c-8ae1b518-53816deb-3a592481\n",
            "Warning: Could not find a valid report for a8e9eef1-30566b08-b53b6565-65e2044c-1e5526b9\n"
          ]
        },
        {
          "output_type": "stream",
          "name": "stderr",
          "text": [
            "\r 42%|████▏     | 365/871 [04:41<01:01,  8.21it/s]"
          ]
        },
        {
          "output_type": "stream",
          "name": "stdout",
          "text": [
            "Warning: No neighbors for f38c282d-2e46e061-1412990b-f86129d0-e973d1c8\n"
          ]
        },
        {
          "output_type": "stream",
          "name": "stderr",
          "text": [
            "\r 42%|████▏     | 367/871 [04:42<01:19,  6.33it/s]"
          ]
        },
        {
          "output_type": "stream",
          "name": "stdout",
          "text": [
            "Warning: No neighbors for d111f01e-d2370abd-d6548e31-228c295a-c3ed9620\n",
            "Warning: No neighbors for b8fac7be-d4e7093d-e2825438-bd876d11-e64225f8\n",
            "Warning: No neighbors for 4b4019cc-d36843ac-999c4fd1-3a7d938b-7fdc5918\n",
            "Warning: No neighbors for f5b0933a-46109f6a-0d9bb520-9453691a-516a95cc\n",
            "Warning: No neighbors for a93cc032-4d2be16c-6a8b3b42-c7908a45-e58e52ae\n",
            "Warning: No neighbors for 03dd3749-c871f554-d29857ef-44e02894-a8452b5f\n",
            "Warning: Could not find a valid report for 39126602-90118ab5-55878b06-1448b78a-e65c13d5\n",
            "Warning: No neighbors for 3977fc89-65cf5969-e5ea4a48-ee462c75-296ce6e0\n",
            "Warning: No neighbors for c42180cb-536f286e-ff97476b-b4d2b309-c86f45a5\n",
            "Warning: No neighbors for ab65af9a-1174cd0a-161af734-fe1c65d1-fde7c99a\n",
            "Warning: No neighbors for df191f5b-e67eb4b7-16170993-b1f92087-52647676\n",
            "Warning: No neighbors for e143df2f-f34c669e-11c66b5a-84cf7c99-9dd3f06b\n",
            "Warning: No neighbors for 1bf5b8b3-89badd2a-ba2edb41-ae826a68-3edcd483\n",
            "Warning: No neighbors for 28c7a474-f13d44ce-26825cb0-51e9c209-6c06267f\n",
            "Warning: Could not find a valid report for 8ea1bfde-5d6681f8-6c922370-8c450ad6-06b5c9d6\n",
            "Warning: No neighbors for 868d364e-a72fbf51-7778697c-bdc07fe4-6376b804\n"
          ]
        },
        {
          "output_type": "stream",
          "name": "stderr",
          "text": [
            "\r 44%|████▍     | 384/871 [04:43<00:48, 10.05it/s]"
          ]
        },
        {
          "output_type": "stream",
          "name": "stdout",
          "text": [
            "Warning: No neighbors for 0da7a987-2a1639d6-01639eb6-e21eb9a2-ec70261b\n",
            "Warning: No neighbors for 838341a9-1ce18444-d168b329-1fd93c6a-f80da020\n",
            "Warning: No neighbors for 769b5b72-3b105723-5828f1d6-fd776998-894d0c9d\n",
            "Warning: No neighbors for dc9738da-e79399f7-992fa9d6-8c37c599-2219ec25\n",
            "Warning: No neighbors for 0f2aee73-393e8069-ecebe023-0ec7ffdd-a8a08783\n",
            "Warning: No neighbors for 32ba8b7c-86811573-88349576-ee54739d-124b764e\n",
            "Warning: Could not find a valid report for a1b4d9be-bb3445aa-7ce820c0-17104c8a-459e2b1f\n",
            "Warning: No neighbors for 02b872a9-2d7e3e84-b692f459-cc00b6dc-f6f77996\n",
            "Warning: No neighbors for 38c85131-290d2b9f-869934e5-f8bbe688-e0ba8489\n"
          ]
        },
        {
          "output_type": "stream",
          "name": "stderr",
          "text": [
            "\r 45%|████▌     | 394/871 [04:43<00:46, 10.36it/s]"
          ]
        },
        {
          "output_type": "stream",
          "name": "stdout",
          "text": [
            "Warning: Could not find a valid report for b7668f88-91ceacd7-1d152d6a-8c2246c5-c9ed3a8c\n",
            "Warning: No neighbors for c708c946-58d02687-f0b0941f-9102477f-2c081998\n",
            "Warning: Could not find a valid report for 5868658a-56bca766-38bdbabb-82a610bc-fa2a6754\n",
            "Warning: No neighbors for 5d069427-6d704145-66c4c129-3b716cea-a8dd79b2\n",
            "Warning: No neighbors for ba0f17b7-fccab89a-eb827c78-5f2e3bd4-0f19571c\n",
            "Warning: No neighbors for 3b00edcb-2f30927b-58fef9ab-5a64d6c1-3f4178a5\n",
            "Warning: No neighbors for 45177f5d-685287e9-0fff3573-ff277c5c-48fd9c3a\n",
            "Warning: No neighbors for 4d701d55-850c22f1-a4a50dd3-b0e0e123-c784bee6\n",
            "Warning: No neighbors for 2ecce204-173899af-452e23d1-0513acac-e10eefc4\n",
            "Warning: No neighbors for 6a30614e-b2a53982-cb811246-21329b5e-bbe0ea68\n",
            "Warning: No neighbors for 3426404e-bf172c7b-f8dbd637-115737fc-a0f52b8b\n",
            "Warning: No neighbors for 59729e82-81e2317d-90af945d-a00cd2a4-7eebd1db\n",
            "Warning: No neighbors for 81488f3d-3d1fc66d-c4e5639d-00018c82-258072c7\n",
            "Warning: No neighbors for 605a6c9a-d4e42a8f-4faa698f-86d7427a-9244e96d\n",
            "Warning: No neighbors for 75a121f6-588ede7a-d9eaab08-b185da2a-6d0b08ce\n",
            "Warning: No neighbors for ebd9070a-92da3da0-79a68fda-cd96029c-e20784ac\n",
            "Warning: No neighbors for ce7a6c3f-faac6546-0be3a201-be5e9767-cdeb7e43\n",
            "Warning: No neighbors for 869f3df1-ae186ef0-4b25765a-b200bd9c-9363f8a2\n"
          ]
        },
        {
          "output_type": "stream",
          "name": "stderr",
          "text": [
            "\r 48%|████▊     | 414/871 [04:44<00:32, 13.95it/s]"
          ]
        },
        {
          "output_type": "stream",
          "name": "stdout",
          "text": [
            "Warning: Could not find a valid report for 409e5a18-601eb207-025e97f2-855b3f85-2bd579f7\n",
            "Warning: Could not find a valid report for 730d97d5-898cb4eb-5875876e-02b6a5b8-c314132f\n",
            "Warning: No neighbors for c2e38793-d1f9e92e-bc1c7581-222a4aaa-daf09fcd\n",
            "Warning: No neighbors for 6bb885cf-e450c019-8ab5a0ba-07babfd6-165bac0f\n",
            "Warning: No neighbors for 4638264b-2b306a2d-e718b986-4268a809-17109802\n",
            "Warning: No neighbors for 9f7fcbaa-bfbf2c3e-122568ac-8cebd727-0667397c\n",
            "Warning: No neighbors for 81efac28-4ff97e26-e3b232ed-39495687-8988bf7e\n",
            "Warning: No neighbors for 8395068e-bbe87e6d-150d7b45-86c12e85-6097fc74\n",
            "Warning: No neighbors for f28f6bdd-a1c17972-4daab31f-39eb6999-150b3972\n",
            "Warning: No neighbors for dc04032b-bd3a42b1-f85d8762-808efcd9-e47c6592\n",
            "Warning: No neighbors for 1a389f08-a0dcbacd-5f41f14a-db2d2bf3-cf0557df\n",
            "Warning: Could not find a valid report for 7aa92d00-13fc3cab-8cd954ef-17da5106-f59ceda5\n"
          ]
        },
        {
          "output_type": "stream",
          "name": "stderr",
          "text": [
            "\r 49%|████▉     | 427/871 [04:45<00:34, 13.05it/s]"
          ]
        },
        {
          "output_type": "stream",
          "name": "stdout",
          "text": [
            "Warning: Could not find a valid report for 15f235f1-7b61ddc7-8be2128c-9be3a961-5045d546\n"
          ]
        },
        {
          "output_type": "stream",
          "name": "stderr",
          "text": [
            "\r 49%|████▉     | 429/871 [04:46<00:43, 10.06it/s]"
          ]
        },
        {
          "output_type": "stream",
          "name": "stdout",
          "text": [
            "Warning: Could not find a valid report for 7129b169-61fa6900-6e5d8e4b-88ddd356-1701af12\n"
          ]
        },
        {
          "output_type": "stream",
          "name": "stderr",
          "text": [
            "\r 49%|████▉     | 431/871 [04:47<00:58,  7.49it/s]"
          ]
        },
        {
          "output_type": "stream",
          "name": "stdout",
          "text": [
            "Warning: Could not find a valid report for 86cd3a3e-c3d26491-455b9e19-973ef7f7-7bd63ea6\n"
          ]
        },
        {
          "output_type": "stream",
          "name": "stderr",
          "text": [
            "\r 50%|████▉     | 433/871 [04:48<01:11,  6.15it/s]"
          ]
        },
        {
          "output_type": "stream",
          "name": "stdout",
          "text": [
            "Warning: Could not find a valid report for 331e29b5-19a6b6be-e39f63f6-fa7c39b6-719d8508\n",
            "Warning: No neighbors for 0c47627e-4471263e-b3e5a470-3ad58a3f-62fde95d\n",
            "Warning: No neighbors for 23f81875-2bd6dc04-14b3f37e-5ce0601f-c3fb329a\n",
            "Warning: No neighbors for 50ec02a4-7ec965d7-8d17ca42-8081725e-6cc6caed\n",
            "Warning: No neighbors for 395f6676-949b5fe2-55dfe822-4fdd7383-a3fb5a56\n",
            "Warning: No neighbors for b1bb2850-739172eb-10161b69-c5dab96f-dfdc9c17\n",
            "Warning: Could not find a valid report for be3902ee-9b5972e5-c8618e4d-552c1a89-15385ff3\n",
            "Warning: No neighbors for 756dfe88-62a0c1fe-a870730a-6fdd89b1-6a736464\n",
            "Warning: No neighbors for 828dd9de-ee245eb4-e8513715-9218b1f9-081a1742\n",
            "Warning: Could not find a valid report for dcdc4bd9-4301b111-2a65a814-ee8e7bc5-7f0b9a5a\n",
            "Warning: No neighbors for 11b6ac54-65f50afa-38228a29-8a18a28e-c51e103a\n",
            "Warning: No neighbors for 4bbc1300-deee25d3-afbcdab8-65490c48-399c35fd\n",
            "Warning: No neighbors for e429ba50-55eadb27-ce2c723a-452b0796-8a2d57a2\n",
            "Warning: Could not find a valid report for 350acbc7-85b7cb9f-030eeac1-1e4ff930-a29191a1\n",
            "Warning: No neighbors for afea1d4e-5402c28c-2aeb480f-c9d93494-7e04879d\n",
            "Warning: No neighbors for b08b18a9-635a6e56-979cf9d6-314a48d8-0f833747\n",
            "Warning: No neighbors for 114ef768-d50cb60b-21fee5b3-c0a0fb68-b95fa738\n",
            "Warning: No neighbors for aa9a36fc-ea375b02-6283efee-6b04b5e3-eb4074dd\n",
            "Warning: No neighbors for 9234b389-6451e413-d153fc6d-87004f87-bbfa50c1\n",
            "Warning: Could not find a valid report for 1a86bd32-36aefb0c-88e70559-28783aa2-51a017ec\n",
            "Warning: No neighbors for 0b3b436b-cb2b60eb-16292634-bb4b964f-d78ea941\n",
            "Warning: No neighbors for 865de926-e7f08f48-d8482aaa-22da3f60-02330ec1\n"
          ]
        },
        {
          "output_type": "stream",
          "name": "stderr",
          "text": [
            "\r 52%|█████▏    | 456/871 [04:49<00:30, 13.52it/s]"
          ]
        },
        {
          "output_type": "stream",
          "name": "stdout",
          "text": [
            "Warning: No neighbors for 0c846455-ca977e1a-43b92c36-3d302077-8f6aed5d\n",
            "Warning: No neighbors for 3c549217-4ac1140a-512f7d0a-db55a32e-bba5ff18\n",
            "Warning: No neighbors for 47b1f6de-b18f4d7a-90a2419b-27c323e2-df0288ed\n",
            "Warning: No neighbors for 7e530d0e-05f64408-24c921b8-1929b8f8-29ec99fd\n",
            "Warning: No neighbors for dab6671c-5b3169bf-e9df5432-dcff5cdc-db9d3be0\n",
            "Warning: No neighbors for 5e040d62-cef4012a-c1b7e9f2-9f914c6c-d7623c58\n",
            "Warning: No neighbors for 373eccc7-9e3b4aa4-7774f805-200c9036-de298845\n",
            "Warning: No neighbors for 574aa697-131b5250-6aabd902-aa4d7bf3-039630e5\n",
            "Warning: No neighbors for a33b8a67-dcd5e4fc-3b2bb777-0110ae2f-e56715a0\n",
            "Warning: Could not find a valid report for a4c59052-fb33120b-9d457d0d-de57c089-3aff2efd\n",
            "Warning: No neighbors for 5f0eee35-d2119d24-a8d58d56-06b97a90-88315720\n",
            "Warning: No neighbors for d2446f91-fb9867fb-073240c8-348530bf-2fa2e657\n",
            "Warning: No neighbors for 2cf44331-dcaeffe9-ca268dac-282330a3-df26d436\n",
            "Warning: No neighbors for b7c3493a-7f2227b0-bfd77b1e-3e5d9ad7-fbcc9f41\n",
            "Warning: No neighbors for 3cfb054d-1708838e-f21f7170-22f84296-970dc21f\n",
            "Warning: No neighbors for 9d1d6f78-0580d896-37d39e73-518b3649-0c8c681d\n",
            "Warning: No neighbors for 5ebad237-fcaa18a9-a038e49a-0d0f7c26-2c2804ec\n",
            "Warning: No neighbors for 67ba65c8-4d824284-b1182add-f7f9d5a3-5e68e700\n",
            "Warning: No neighbors for 25611050-20b58f15-31dd9a27-cf7a8da6-9a2c41b6\n",
            "Warning: No neighbors for 23136bc6-d010f31b-eb53f2f3-2346e7d0-d6cff1e8\n",
            "Warning: No neighbors for ae9c18ac-468fb62f-40aeca88-808ea20e-eb44d9e2\n",
            "Warning: Could not find a valid report for 0aa27a0c-405ea406-147404df-4c90753f-b9fcacba\n"
          ]
        },
        {
          "output_type": "stream",
          "name": "stderr",
          "text": [
            "\r 55%|█████▍    | 479/871 [04:50<00:22, 17.76it/s]"
          ]
        },
        {
          "output_type": "stream",
          "name": "stdout",
          "text": [
            "Warning: No neighbors for 572f4865-157a8089-73cec2a0-0acfc7d2-871857b8\n",
            "Warning: No neighbors for 960c8737-90e21e43-ff54a8c3-4d7dfcdb-0a69e777\n",
            "Warning: No neighbors for a215e01e-3a99595e-18662742-bb98d8b9-f535cf6c\n",
            "Warning: No neighbors for fbc12e9e-e6f34eb2-b9e0e7e3-86b1d21c-e7353d2b\n",
            "Warning: No neighbors for f58768ea-a8382c73-77a4e0ec-6dba34c7-4fc4c515\n",
            "Warning: No neighbors for 5a16cfd6-b0ba3477-7da63f39-e1ac75c4-1eb12537\n",
            "Warning: Could not find a valid report for 93c4583f-8a98a27c-621e474e-464e7f9c-620e5534\n",
            "Warning: Could not find a valid report for def1baad-b71c322b-97dcdd2d-6fbbf563-a4de311b\n",
            "Warning: Could not find a valid report for 617df9b1-aabbd5ba-1a1c42e7-9f4a3630-002be10f\n",
            "Warning: No neighbors for 24e38c5b-50e26899-cf84dd5c-6aeeced6-5bef9ea3\n"
          ]
        },
        {
          "output_type": "stream",
          "name": "stderr",
          "text": [
            "\r 56%|█████▋    | 490/871 [04:50<00:22, 16.64it/s]"
          ]
        },
        {
          "output_type": "stream",
          "name": "stdout",
          "text": [
            "Warning: Could not find a valid report for 2ed21471-b5d88cff-2db8c243-b2728bc2-11072a27\n",
            "Warning: No neighbors for 458aaa62-baa722be-4fe8da85-33e03e25-19482674\n",
            "Warning: No neighbors for a3879ffa-bb42939d-7b44815b-ec476527-5a1c9597\n",
            "Warning: No neighbors for 4ab6fc3e-cbf344c1-366ea552-1ec4f9c4-cdd5e29e\n",
            "Warning: No neighbors for 7e76b30f-f749ad3f-bb9ad227-51552c42-65df1cee\n",
            "Warning: No neighbors for 5116868b-7727a3d1-1c24fec5-5bf2319d-4489226f\n",
            "Warning: No neighbors for b7c66924-8c689b5f-6df5c754-14d62f9b-feb7cba9\n",
            "Warning: No neighbors for 7e7936c2-dc8d1936-3b47c32d-f87e45b2-2925e1b6\n",
            "Warning: No neighbors for 4a78e0f1-f8303974-1946a7a4-6ed986ea-07ffb1f6\n",
            "Warning: No neighbors for d810d8ee-9801878d-5b214c28-5a592a9f-91236fe7\n",
            "Warning: No neighbors for e2ebd76a-67d5c36c-218ac1b4-3d51cc8f-a46dfc39\n"
          ]
        },
        {
          "output_type": "stream",
          "name": "stderr",
          "text": [
            " 58%|█████▊    | 504/871 [04:52<00:32, 11.35it/s]"
          ]
        },
        {
          "output_type": "stream",
          "name": "stdout",
          "text": [
            "Warning: Could not find a valid report for dddbe8bd-7cc9bf14-5a82b416-f801c3fc-9239e405\n"
          ]
        },
        {
          "output_type": "stream",
          "name": "stderr",
          "text": [
            "\r 58%|█████▊    | 506/871 [04:53<00:37,  9.82it/s]"
          ]
        },
        {
          "output_type": "stream",
          "name": "stdout",
          "text": [
            "Warning: Could not find a valid report for 753f4a98-785257f5-1fb47baa-73e43672-a078d140\n"
          ]
        },
        {
          "output_type": "stream",
          "name": "stderr",
          "text": [
            "\r 58%|█████▊    | 508/871 [04:53<00:49,  7.35it/s]"
          ]
        },
        {
          "output_type": "stream",
          "name": "stdout",
          "text": [
            "Warning: Could not find a valid report for ed6b582a-ed8f4a59-72c93fb2-e9957928-ea1b6198\n",
            "Warning: No neighbors for 16a08001-e22ed579-c6a571b8-fd9c71a1-e93d7bf2\n",
            "Warning: No neighbors for 350c270f-70f4a764-33a53729-ec529c84-cd886aa9\n",
            "Warning: No neighbors for 3478fd3c-a34b3e6d-0a9a1cf3-726cb9cd-ec1381aa\n",
            "Warning: No neighbors for 1c73ce22-bfb48b29-d50a7f8d-eab1ada8-1c7c1681\n",
            "Warning: No neighbors for 32b30309-855d907e-701c1141-67545dbd-17080251\n",
            "Warning: No neighbors for 6b0b3b40-33328865-79fdea97-7c82599a-c4fd3582\n",
            "Warning: No neighbors for 712ad0c6-5179947f-676b4955-c074df9e-3d025552\n",
            "Warning: No neighbors for 6366d1e0-a2ae3bcb-a40ce8f5-78ea8d12-ba269cfe\n",
            "Warning: No neighbors for a338f629-66262364-f25ebd7c-a082e614-07d106b7\n"
          ]
        },
        {
          "output_type": "stream",
          "name": "stderr",
          "text": [
            "\r 59%|█████▉    | 518/871 [04:54<00:35, 10.03it/s]"
          ]
        },
        {
          "output_type": "stream",
          "name": "stdout",
          "text": [
            "Warning: No neighbors for 54e636fb-a09b2427-be94fe74-d6a42a2e-f99ed30b\n",
            "Warning: No neighbors for bf1b183d-3ec40d9c-d85e36ef-7060e9f3-7645e93d\n",
            "Warning: No neighbors for cc8034eb-1ec3df4e-4dc3e1f1-12e0d280-a3b3811e\n",
            "Warning: No neighbors for c0e3e758-e4e5adf2-809511be-aa9ee310-8f4c3805\n",
            "Warning: No neighbors for be4e93d0-afdb5be8-171bcc1a-4a831ec0-d15809f9\n",
            "Warning: No neighbors for a1db13c3-a014bb09-b97eca5c-35eb6500-427e491e\n",
            "Warning: No neighbors for a7da7c66-70e7dd3e-202ab9e8-d2afb506-6877dfc9\n",
            "Warning: No neighbors for 82e26bd7-55d4f41b-6b229f63-45ef5771-05885887\n",
            "Warning: No neighbors for 64827cd2-dc83cd9d-369e9ca8-cb7cf12a-8b33516e\n",
            "Warning: Could not find a valid report for 2288311b-95257901-048abcb9-128804f8-0f574280\n",
            "Warning: No neighbors for 5ed9882d-4ee78328-c1ab4b0a-27ff224a-5b73e73c\n",
            "Warning: No neighbors for 07f67795-d749300f-b7770ff9-a9bbee99-6a0704ae\n",
            "Warning: No neighbors for ed076af6-224b1c44-f9084d58-4cac6ec7-582f59ec\n",
            "Warning: No neighbors for 58643d12-e5a1adc2-2cb1a178-9f036ee3-429af37c\n",
            "Warning: No neighbors for bf4b526b-618fe097-0d96d3d1-aeecc965-4b9550c3\n",
            "Warning: No neighbors for 412398fc-ce9c9e4f-c6fe535d-e6540eb6-66fd5da6\n",
            "Warning: No neighbors for 1ce46ad9-23af6d9a-cbca1827-a159075a-6449211f\n",
            "Warning: No neighbors for 07287ed7-529ef588-fcff09c8-9c396786-85a513e1\n",
            "Warning: No neighbors for f65a22c3-3ddb23b5-30257470-23cf558e-b9a8c1ed\n",
            "Warning: No neighbors for 485caf0a-957aabf8-a1c08677-47a9ad9d-4d11c11e\n",
            "Warning: No neighbors for afdea5f3-2213705c-57e3fc24-f2fd987b-e0106b83\n",
            "Warning: No neighbors for b728f6f6-d715110a-b97a0452-05b50840-a77efbf9\n",
            "Warning: No neighbors for 0018b669-28338193-bf26ec2b-47f8dc61-4dfc78a6\n",
            "Warning: No neighbors for fe20ca75-d116b815-ad5155aa-39a075bc-eb69201d\n",
            "Warning: No neighbors for 77556d37-07374a2b-99be4735-9bba6816-e2e685f7\n",
            "Warning: No neighbors for ca8e7cca-bd3fd96d-7d43ac4c-93f0c79c-52faa311\n"
          ]
        },
        {
          "output_type": "stream",
          "name": "stderr",
          "text": [
            "\r 63%|██████▎   | 546/871 [04:55<00:18, 17.77it/s]"
          ]
        },
        {
          "output_type": "stream",
          "name": "stdout",
          "text": [
            "Warning: No neighbors for 1e866e78-4721705c-4a49452b-cbe4f0ed-a4270695\n"
          ]
        },
        {
          "output_type": "stream",
          "name": "stderr",
          "text": [
            "\r 63%|██████▎   | 548/871 [04:56<00:25, 12.63it/s]"
          ]
        },
        {
          "output_type": "stream",
          "name": "stdout",
          "text": [
            "Warning: Could not find a valid report for 05ee817b-dd412a00-0ec114d3-9b4dfbbb-dac5455b\n"
          ]
        },
        {
          "output_type": "stream",
          "name": "stderr",
          "text": [
            "\r 63%|██████▎   | 550/871 [04:57<00:34,  9.26it/s]"
          ]
        },
        {
          "output_type": "stream",
          "name": "stdout",
          "text": [
            "Warning: Could not find a valid report for 6e6b0f32-2bd38360-30cd4f1e-c667a7a5-0122a92f\n",
            "Warning: Could not find a valid report for aa311416-60ce7223-e85a24cb-49bfaed7-54f5514c\n",
            "Warning: No neighbors for b2ea7e21-246254a7-43f2e59f-afcddca8-640e0627\n",
            "Warning: No neighbors for 98631a53-34aa168d-5d61824d-7a9740e9-d32b139f\n",
            "Warning: Could not find a valid report for 9aea66d6-04362db9-1e91d656-63584add-2aaf4b5b\n",
            "Warning: No neighbors for 5f3500c9-954ecb2f-8e9cd750-ccf173b0-226f6e3f\n",
            "Warning: No neighbors for 161cb2fb-b9911435-4accf191-e769afb1-dae4d3db\n",
            "Warning: No neighbors for 1d435200-a2cb603d-4cb5364a-dcebe936-3e2a2a84\n",
            "Warning: Could not find a valid report for 187916e3-d188558b-72755df7-f30b782d-c66c7147\n",
            "Warning: Could not find a valid report for 1e83d197-8aa168af-ab84a5b9-e2896a17-93b9757e\n"
          ]
        },
        {
          "output_type": "stream",
          "name": "stderr",
          "text": [
            "\r 64%|██████▍   | 561/871 [04:57<00:26, 11.76it/s]"
          ]
        },
        {
          "output_type": "stream",
          "name": "stdout",
          "text": [
            "Warning: Could not find a valid report for 9973bc78-c6cfb1a8-aca22524-13e4dd08-2d88dc9c\n",
            "Warning: No neighbors for 385dc071-412bdd2c-848064dd-fe672293-c5e10442\n",
            "Warning: No neighbors for 25902746-8b2c994d-07eb38f4-f065ea88-063670e2\n",
            "Warning: No neighbors for 514c7b13-43c38562-313f3f08-e99c8b48-a752d84c\n",
            "Warning: Could not find a valid report for d7356517-ff0be7ea-3c1da8c7-bef37e6f-03e1f78f\n",
            "Warning: No neighbors for cc1c67be-9ddffcaf-d0b0268c-e5f17c8a-cc2c7e8d\n",
            "Warning: No neighbors for c4f6cf75-74b1206f-1257100d-def687d2-361ef0d7\n",
            "Warning: No neighbors for 86d872e8-00b86ec3-29cc71d6-aaca7905-1999e9e3\n",
            "Warning: No neighbors for dce422d8-5cc8cc43-2964aa30-9a9ef1ea-7532acd7\n",
            "Warning: No neighbors for f46f5ef6-686b437c-fd7f9426-4579d576-38efddd6\n",
            "Warning: No neighbors for 66373323-51ac235f-9e37cc44-aa749d26-9a52df9f\n",
            "Warning: No neighbors for efc2ef06-b1a37dda-19e3c3f0-15c70c43-df50a48e\n",
            "Warning: No neighbors for 31f1a75c-5099eee9-a702376c-9d46b0e6-9cf5d571\n",
            "Warning: No neighbors for d404eea6-b9c5b9c8-6a3e7e2a-a74755f8-94627a43\n",
            "Warning: No neighbors for c8e26506-0d9e29fe-6b833676-06b99b80-59c9b95f\n",
            "Warning: No neighbors for b6cfefeb-74cf5f49-ab2da412-b7179e3d-57e140d3\n",
            "Warning: No neighbors for 6d2e7bf6-17bb08b6-29960ff2-2e9f24d0-e8391822\n",
            "Warning: No neighbors for fc8a5e46-b92e0678-723653f7-a2ba310f-5a755a91\n",
            "Warning: No neighbors for 8e41c052-52011091-e30f1205-80c678f8-c15fccc2\n",
            "Warning: No neighbors for c562cebe-c6f62d10-f54b7e1a-4e903a65-9f9ab3e8\n",
            "Warning: No neighbors for 7554fec0-171eee07-d5aa9bd7-d39c4c4e-bba9e655\n",
            "Warning: No neighbors for a7a9d2fb-f96e2e18-4f5f75a4-1a039eae-53360c31\n",
            "Warning: No neighbors for cc10e3cb-30a060d2-d5e7138d-730e99de-21b4f138\n",
            "Warning: No neighbors for 22f00422-5578bca7-0d7c6a44-2cbba464-f0f361f3\n",
            "Warning: No neighbors for 6ca8fdb5-bc829a54-8915737b-bd638981-8df950ce\n",
            "Warning: No neighbors for 31b911ab-1088f4a4-189e808e-479cff06-4d6a10b5\n",
            "Warning: No neighbors for b4068ee0-11d118e8-64d35c9d-1376ae8f-b50d38be\n",
            "Warning: No neighbors for 22f7bfdd-134e5189-9cc921ee-16ef6d4c-560516da\n",
            "Warning: Could not find a valid report for dfd9a06c-2994892e-f4a6bc1c-f6ec4803-283e5005\n",
            "Warning: Could not find a valid report for 2295a1f1-f18de4aa-87c17dd1-c2ef3f47-824565ef\n",
            "Warning: Could not find a valid report for 99632456-b48b6fbd-48d8a9b7-699c89b1-f1a3b9d8\n",
            "Warning: No neighbors for 5dec947f-a4d7c754-98e11608-531de399-3433dd88\n",
            "Warning: No neighbors for db127ff5-c1fa1da2-fa06da1a-2f81ff1d-705df2cb\n",
            "Warning: No neighbors for 218cd4c0-a372cae7-3eaf19e9-cb2b9e12-1a6b940f\n",
            "Warning: No neighbors for a601d32b-137434d7-011eed3d-c9b84cf5-ca878668\n",
            "Warning: No neighbors for fa506906-4c16fa96-0a1fa096-3bb6172a-d1bf8f9c\n"
          ]
        },
        {
          "output_type": "stream",
          "name": "stderr",
          "text": [
            "\r 69%|██████▊   | 598/871 [04:58<00:10, 25.87it/s]"
          ]
        },
        {
          "output_type": "stream",
          "name": "stdout",
          "text": [
            "Warning: No neighbors for 0ecd25c0-47def068-30042faa-49cda314-6d6138d5\n"
          ]
        },
        {
          "output_type": "stream",
          "name": "stderr",
          "text": [
            " 69%|██████▉   | 605/871 [05:00<00:25, 10.32it/s]"
          ]
        },
        {
          "output_type": "stream",
          "name": "stdout",
          "text": [
            "Warning: No neighbors for d7eed379-e931e1de-55665061-845a660c-e07f703c\n",
            "Warning: Could not find a valid report for 3433480a-efa34c2a-c9d355e6-274f3e5e-4576bdb4\n",
            "Warning: No neighbors for b4fb36a7-fa3b8981-f6fcab8f-55b7b6e2-7814ed02\n",
            "Warning: No neighbors for be1fe685-f462f2cc-a1229d65-14ae91f1-4176b7f1\n",
            "Warning: No neighbors for f7bbf32b-f0294a1d-2eda0e06-fcd2d42c-d950749a\n",
            "Warning: Could not find a valid report for 6a8e79bf-59e3b503-3ce98c42-55c23286-84f6ad88\n"
          ]
        },
        {
          "output_type": "stream",
          "name": "stderr",
          "text": [
            "\r 70%|███████   | 610/871 [05:01<00:30,  8.63it/s]"
          ]
        },
        {
          "output_type": "stream",
          "name": "stdout",
          "text": [
            "Warning: Could not find a valid report for 3479774a-a1f0786e-6bdff723-59ed154c-ded00ad9\n",
            "Warning: No neighbors for 66930aa4-af562999-a55fd9da-01229c7f-610e4e71\n",
            "Warning: No neighbors for f4bbbbc0-b7593891-3a80de02-de095739-f5e3dd5b\n"
          ]
        },
        {
          "output_type": "stream",
          "name": "stderr",
          "text": [
            " 71%|███████   | 616/871 [05:03<00:44,  5.78it/s]"
          ]
        },
        {
          "output_type": "stream",
          "name": "stdout",
          "text": [
            "Warning: No neighbors for 8bc6263b-3c5bd055-e608b72a-7f562e4b-1c1989d7\n",
            "Warning: No neighbors for 9b0d3691-da09cdec-2b7192d2-b657f81a-fe720577\n",
            "Warning: No neighbors for 877088a6-f0f0e11b-5fa1065e-d76964cb-80aa18c0\n",
            "Warning: No neighbors for 670e4c7a-76094dfa-bdd9e13f-9b7bac09-75b6859c\n",
            "Warning: No neighbors for 2fe359f0-7845e831-aa5465c7-02bc0cd3-92bb8c1d\n",
            "Warning: No neighbors for a12e4e54-4a8cf9a9-ac9c7087-d189199d-e2685edf\n",
            "Warning: No neighbors for a2068681-20dcec3d-5068aead-4c772f20-d50ead77\n",
            "Warning: No neighbors for f4de3c8a-2e659d97-4dc4ee51-ff25c648-2e89bcc0\n",
            "Warning: No neighbors for 96053596-184af826-12f117c0-238c6d08-7c78726f\n",
            "Warning: No neighbors for 091de0ec-cea1c054-c4b00082-554b0741-98c26076\n",
            "Warning: No neighbors for 7344f4ee-99407d15-43932538-46e0d3b4-d3fa5b39\n",
            "Warning: No neighbors for 9a460de0-3a43bd72-80668156-e2d20187-020c77cb\n",
            "Warning: No neighbors for dcca82a4-6038fd11-5fda536a-141b21b1-0ec2d13b\n",
            "Warning: No neighbors for c50427ba-c2bdee36-cbf5f057-c78cce55-f8cb4738\n",
            "Warning: No neighbors for 7fa871f8-811fc312-2197d5cd-a600ac42-b053dbdf\n",
            "Warning: No neighbors for af146289-36d30c9d-5db5919f-2f94863f-1081fd82\n",
            "Warning: No neighbors for ac8eb4f6-1b95953d-16671c9d-3fbedcd4-e278c622\n",
            "Warning: No neighbors for 32b78de1-63cfae52-b2a78888-c22ce9c1-c34bb068\n",
            "Warning: No neighbors for d30c681a-77217254-3403f54c-fd6b7522-88ae93e1\n"
          ]
        },
        {
          "output_type": "stream",
          "name": "stderr",
          "text": [
            "\r 73%|███████▎  | 635/871 [05:04<00:22, 10.51it/s]"
          ]
        },
        {
          "output_type": "stream",
          "name": "stdout",
          "text": [
            "Warning: No neighbors for adcb75d5-bd8dfa8a-aba2cf1e-b44b893d-fd2d9fbe\n",
            "Warning: Could not find a valid report for 13e7bc7d-47ffe292-65b0bbff-536b59da-9c1239ff\n",
            "Warning: No neighbors for 1ad50f52-5647d52e-6a08b685-ab8f7dc8-630c29b3\n"
          ]
        },
        {
          "output_type": "stream",
          "name": "stderr",
          "text": [
            "\r 73%|███████▎  | 639/871 [05:05<00:25,  8.95it/s]"
          ]
        },
        {
          "output_type": "stream",
          "name": "stdout",
          "text": [
            "Warning: No neighbors for 406bc3d2-4ac07107-e2732dea-cb22d764-04204216\n",
            "Warning: No neighbors for 038f7a04-c346d457-98547f7d-219d7afe-f606a03d\n",
            "Warning: No neighbors for c27a1062-28dd3d19-4ae26205-b69741bb-b479f705\n",
            "Warning: No neighbors for 30ede364-b3730436-c8526f57-3f71ec4d-c0e7b31e\n",
            "Warning: No neighbors for 73a014fe-3b02fda6-2c0d2754-bdf661f0-40e25d29\n",
            "Warning: No neighbors for 08085ba1-998697f4-b98cfa5b-dd1341d5-c8050ef0\n",
            "Warning: No neighbors for 4c0fbf50-bfe6d157-eb3e772b-32cd8a09-fbc59eb9\n",
            "Warning: No neighbors for 045ac60e-ae54d01e-2bbf2339-18230134-6a89dc0f\n",
            "Warning: No neighbors for fc99b9e0-d712168c-f252f692-937ba2e1-1be7b892\n",
            "Warning: No neighbors for 9985c8d5-a70c2fa5-0769dd29-cfef460b-4efdae7d\n",
            "Warning: No neighbors for c21107d1-d9b3eb6e-1b62b0c0-b52bac79-e5752505\n",
            "Warning: No neighbors for 1b3fcc15-8bab154e-37c81b26-16d509b4-9e6a5964\n",
            "Warning: No neighbors for a76c864c-aa903ca4-915fb4aa-1073fcb7-5666f99f\n",
            "Warning: Could not find a valid report for 201f453a-87d6c3b4-74bad0d8-d9b48a3c-78479e06\n"
          ]
        },
        {
          "output_type": "stream",
          "name": "stderr",
          "text": [
            "\r 75%|███████▌  | 654/871 [05:06<00:19, 11.38it/s]"
          ]
        },
        {
          "output_type": "stream",
          "name": "stdout",
          "text": [
            "Warning: No neighbors for e00b2acd-d1c8b7a9-398ae65b-394dd01e-20206cf4\n",
            "Warning: No neighbors for 35f26445-9d83ee46-fa95d2fb-9e31aedf-cf46e5d8\n",
            "Warning: No neighbors for 7152c16c-cf6832b2-f6d1f7b4-bc1fccfe-21285d70\n",
            "Warning: No neighbors for 47191ad0-d109320e-d0d21605-249a126f-973bd5b8\n",
            "Warning: No neighbors for 6d277251-17c3cadf-3385140e-54efea13-dc40d2ea\n",
            "Warning: No neighbors for c1db1cd1-88c3dddb-c305beb0-747f9a64-281d2759\n",
            "Warning: No neighbors for 5cc96a5b-97553b06-b767ea05-5f27e739-783eef4b\n",
            "Warning: No neighbors for e3b88a9e-59fed135-c71fb8b7-755310ef-9cf5dc20\n",
            "Warning: No neighbors for 739980dd-3d9c4220-dcd4509f-148c8277-4a71b51d\n",
            "Warning: No neighbors for 615d8264-0644b536-d6c5e32b-0af4e360-7e83dbca\n",
            "Warning: No neighbors for 19ce83a9-8346e40b-f3e5c296-6d99cadb-3cf22eb6\n",
            "Warning: No neighbors for ba144370-9526d571-d9b3a688-4b948885-0c2ba92d\n",
            "Warning: No neighbors for 5f274c40-5916c57e-9f3b4df5-e34a2ab4-b12e517d\n",
            "Warning: Could not find a valid report for 9fa80bbb-479fee8b-c6d5ffe6-cb1db9c1-c04fb27d\n",
            "Warning: No neighbors for 88eaf4b2-6df1bcb2-3cf42fb0-7a544747-5f12a17a\n",
            "Warning: No neighbors for 79acfce9-26546272-8654ecc1-556f5fd3-ccf0d993\n",
            "Warning: No neighbors for c8369f3f-7058c284-a76bbb6b-2249a9f2-01554cf9\n",
            "Warning: No neighbors for 550575f8-fd6efd66-3799773f-b94f5574-8d487181\n"
          ]
        },
        {
          "output_type": "stream",
          "name": "stderr",
          "text": [
            "\r 77%|███████▋  | 673/871 [05:07<00:13, 14.98it/s]"
          ]
        },
        {
          "output_type": "stream",
          "name": "stdout",
          "text": [
            "Warning: No neighbors for 8ebb028b-acdeecd9-570b413c-f4af98df-acbd4fe1\n",
            "Warning: No neighbors for f66eab12-0ca77989-4fe1c342-cd4aeb86-0c7326d8\n",
            "Warning: No neighbors for fea61b9b-acbefbbd-530494af-d8c1a23d-fe80a5b2\n"
          ]
        },
        {
          "output_type": "stream",
          "name": "stderr",
          "text": [
            "\r 78%|███████▊  | 677/871 [05:07<00:15, 12.24it/s]"
          ]
        },
        {
          "output_type": "stream",
          "name": "stdout",
          "text": [
            "Warning: No neighbors for 954d8ef4-ebec4e1f-993be3b8-ff59c727-527bafb0\n",
            "Warning: No neighbors for 05dc78a3-40d8dbb7-8aa87159-68ae3b9d-023b0793\n",
            "Warning: No neighbors for fbae5604-a1013966-9879d4a3-7298599f-956824e1\n",
            "Warning: No neighbors for 9f64c9e9-7c5cc35c-3228cd08-cedd0826-7bb24ecc\n",
            "Warning: No neighbors for 097a3913-5ed6b8a1-603e3271-8a1de2d8-54497091\n",
            "Warning: Could not find a valid report for 8b577939-665ddf46-b0d7d30a-932b7786-52f86ac4\n",
            "Warning: No neighbors for 9c8ac568-1844d60d-2fc4be7f-4b94d283-9602cd75\n",
            "Warning: No neighbors for 8615dc1e-8ebf0c3c-d95c4c39-2fa587e6-adb84127\n",
            "Warning: No neighbors for adbae579-3dc94f20-7d59c6d9-88a87007-5495cf9b\n",
            "Warning: No neighbors for 6a9346bb-066a59ce-8b29bac2-a1badaad-f73bcf4e\n",
            "Warning: No neighbors for 33a6b549-c4df706a-b896dcb7-90de21bb-bbb9cc21\n",
            "Warning: No neighbors for f1191c97-712765c8-b50f986f-b0515fc9-edec729e\n",
            "Warning: No neighbors for c4b921e4-f834b735-9db0bc64-288baaa4-bc45ac83\n",
            "Warning: No neighbors for d228788d-e1582677-4d375edb-5c1c7d51-d1504aa0\n",
            "Warning: Could not find a valid report for 14740c13-6222ffd9-c9bf5b0a-b3ccd8ac-051ca7dc\n",
            "Warning: Could not find a valid report for 405de008-ed61a060-044a4303-08139db4-8020e003\n"
          ]
        },
        {
          "output_type": "stream",
          "name": "stderr",
          "text": [
            "\r 80%|███████▉  | 694/871 [05:08<00:10, 17.15it/s]"
          ]
        },
        {
          "output_type": "stream",
          "name": "stdout",
          "text": [
            "Warning: No neighbors for 3a811859-97ccdbae-6fe9c590-2ee4dab2-024b3868\n",
            "Warning: No neighbors for 118786e3-67b4aa2a-215bd56d-f612bf1b-7e9f504a\n",
            "Warning: No neighbors for ec1cc382-a2a6019d-eba0cd47-a871b3d9-c88f4901\n",
            "Warning: No neighbors for 880e60c5-50b19153-646ae64a-6426ee61-d6e0b58f\n",
            "Warning: No neighbors for 173e98f9-ba9631ba-96947180-fb51e3c0-6ab47f51\n",
            "Warning: No neighbors for 76f81720-6cf81398-7a75fb61-22728d6a-e44d2a0b\n",
            "Warning: No neighbors for a0071d62-4e80747c-e155f85a-ed606c97-19aeb24b\n",
            "Warning: No neighbors for 8f8e7ddc-1457235f-c5c11122-88ffb0a6-30d3b894\n",
            "Warning: No neighbors for 39302eed-fb149f19-f50d08bb-8fe4726f-852126e1\n",
            "Warning: No neighbors for caac241f-bc08844b-6f478ee0-a486fb65-1c2f71e3\n",
            "Warning: No neighbors for 33125f0b-b2a6d1a2-1408ce03-33729f30-68e6fd64\n",
            "Warning: No neighbors for e585b9fc-e1f0dab2-207add89-8a5009ea-a22ef582\n",
            "Warning: No neighbors for b4b42143-8ab00d8a-f771691d-caf90976-f8366b46\n",
            "Warning: Could not find a valid report for 2fba0adb-138f818e-6c65d0b4-b223d3d1-bf9dd943\n",
            "Warning: No neighbors for dedd68a9-c2db515a-5167adee-e39556ae-bf8796c0\n",
            "Warning: Could not find a valid report for 307a8f64-94a3dbab-7f530647-0411d18f-b192d56b\n",
            "Warning: No neighbors for 8524ee15-2d4c0dc2-f420f18b-f51a95e6-53a8440e\n",
            "Warning: No neighbors for cfc71c91-172f73f9-56e46ae7-72238183-1870ca4b\n",
            "Warning: No neighbors for 963e5261-3278a235-a7a113d6-dca6aad5-2f3cd245\n",
            "Warning: No neighbors for 31a6f06e-56396bd7-8af948ea-92490816-91e604e2\n",
            "Warning: No neighbors for cf89657d-db8da31a-e0d776ff-8fbbaa50-b6e675ab\n",
            "Warning: No neighbors for 68b5c4b1-227d0485-9cc38c3f-7b84ab51-4b472714\n",
            "Warning: No neighbors for fffabebf-74fd3a1f-673b6b41-96ec0ac9-2ab69818\n",
            "Warning: No neighbors for bdda38fb-b3502f0c-bd89113c-766580b8-8066c8e8\n",
            "Warning: No neighbors for 6b7952e1-59904af6-199d3470-34874172-1db25a90\n",
            "Warning: No neighbors for 3b1d0288-df0c9913-7684a543-577832cd-3f278de3\n",
            "Warning: No neighbors for 5187f6f5-ce7e9cf4-99dffd52-55fc6363-f09d1683\n",
            "Warning: No neighbors for 1ad7251f-fd38da44-08d9673f-b7c07323-fe7e04cc\n",
            "Warning: No neighbors for 2a6ef31c-92f14fc0-437d97f7-9aeaabea-68fb92b4\n",
            "Warning: No neighbors for 697faadd-5f5d1062-d6d0d674-5494b3a1-d9db86b5\n",
            "Warning: No neighbors for ce65eb22-8133518c-92efa74d-9f94d483-bb4c89b9\n",
            "Warning: Could not find a valid report for 7880e403-6e941843-08be7183-269e537c-857e8122\n",
            "Warning: No neighbors for 7f585a7d-fe72a775-cf6e981a-d0917fce-53d5243e\n",
            "Warning: No neighbors for 70c64e52-5875f2bb-ccb534d2-fef9b9a0-1cfbcdd8\n"
          ]
        },
        {
          "output_type": "stream",
          "name": "stderr",
          "text": [
            "\r 84%|████████▎ | 729/871 [05:09<00:05, 24.86it/s]"
          ]
        },
        {
          "output_type": "stream",
          "name": "stdout",
          "text": [
            "Warning: Could not find a valid report for ab529a2c-733323a5-62453ac5-941e572e-4c327ef5\n"
          ]
        },
        {
          "output_type": "stream",
          "name": "stderr",
          "text": [
            "\r 84%|████████▍ | 732/871 [05:10<00:10, 13.38it/s]"
          ]
        },
        {
          "output_type": "stream",
          "name": "stdout",
          "text": [
            "Warning: Could not find a valid report for a3c97f7b-08dcca84-2478651d-b1adec10-71cd4262\n",
            "Warning: Could not find a valid report for 099fcf4d-912f2ca9-151e12ba-96d59a50-7d81b601\n",
            "Warning: No neighbors for f349a7ef-ee518ad2-d5173f92-cbfa71b2-df530a25\n",
            "Warning: No neighbors for 52885ea1-b5801791-356c8f76-17836345-80cf70fa\n",
            "Warning: No neighbors for ff1678e1-fd99c5a8-6382cdca-f8c6517f-99e45fdc\n",
            "Warning: No neighbors for f97431c0-74062d66-80e18269-0639baaf-fa6980e5\n",
            "Warning: No neighbors for c58ca868-baef025b-f3ecf7b4-447e9bae-0deb20d0\n",
            "Warning: No neighbors for e946c074-721fb0ee-feb0a87a-44c65894-d39e590d\n",
            "Warning: No neighbors for 989619d4-840b984d-3188207f-1599e894-f3fdc15c\n",
            "Warning: No neighbors for fc86c965-0d4e9ab9-71dfb242-bb1b0a09-07673358\n",
            "Warning: No neighbors for d98be0d5-a648e485-4473a3ef-7762b3ef-2d70507e\n",
            "Warning: No neighbors for d189b5e1-d7cc0eea-c6f7df97-7ddf4613-f1202c33\n",
            "Warning: No neighbors for 899fdac2-8637cbd0-79bf3769-5515878d-d02cf6b9\n",
            "Warning: No neighbors for dd1b46c9-3ad51015-adcc5dda-906f2c93-1f60713c\n",
            "Warning: No neighbors for 28af8a94-e59332ec-3aa96d1d-5159a0ae-23bdc0ea\n",
            "Warning: No neighbors for 8127f364-c65d567c-e904c1e4-bf705112-cf67d0aa\n",
            "Warning: No neighbors for fa8ee32f-8c19a654-418f87df-914136f4-e66d3559\n"
          ]
        },
        {
          "output_type": "stream",
          "name": "stderr",
          "text": [
            "\r 86%|████████▌ | 750/871 [05:11<00:07, 15.54it/s]"
          ]
        },
        {
          "output_type": "stream",
          "name": "stdout",
          "text": [
            "Warning: No neighbors for e71a4f8c-20517fbe-ff400531-172ea660-7536061f\n",
            "Warning: No neighbors for 28f4ed6c-fd3928d5-9f23f433-6d627e3d-5746fa6f\n",
            "Warning: No neighbors for 2799ad7b-2ce98473-5885e93a-dcc23c62-fe0719ec\n",
            "Warning: No neighbors for d2b362ba-fccb5ffa-7d27b069-d120b5d4-646b245d\n",
            "Warning: No neighbors for ac678b13-49ac89b2-ef7ae258-c95735ff-8709cd61\n",
            "Warning: No neighbors for aa8d038b-9d7fdc30-46f758f9-aad9b7f1-972bdd77\n",
            "Warning: No neighbors for cbd5fde4-4e076388-90c11101-d10d0fbf-e3e4c33b\n",
            "Warning: No neighbors for 2590c107-eb83bb11-dcceec06-45fe3fe6-53ec86cc\n",
            "Warning: No neighbors for afbddd46-4cc5aae4-81e58eb0-81554d76-f482e16b\n",
            "Warning: No neighbors for 31cb3734-177ca5b7-5cbd117e-7bdcaa3d-4886f83f\n",
            "Warning: No neighbors for 6a45ac57-b9bdf785-7ed09e8a-401407e0-05adea7b\n",
            "Warning: No neighbors for bcae5a92-8076d76e-2fb51b07-6c2016f8-7a8fee56\n",
            "Warning: No neighbors for 9bfcef40-4a3787dc-f3ca7ef2-453380bf-0426619f\n",
            "Warning: Could not find a valid report for 2e0721a1-d472da4f-df3b2da4-45546a8a-b8b97363\n",
            "Warning: Could not find a valid report for 5a155c1b-ea9b2e4e-cec63cd8-eb1e908d-dcb00185\n",
            "Warning: Could not find a valid report for b46cd097-ac0055f7-3f634ec6-53a67a93-6637b982\n"
          ]
        },
        {
          "output_type": "stream",
          "name": "stderr",
          "text": [
            "\r 88%|████████▊ | 767/871 [05:12<00:05, 18.54it/s]"
          ]
        },
        {
          "output_type": "stream",
          "name": "stdout",
          "text": [
            "Warning: Could not find a valid report for bb1bedef-99bb5f45-f7b56ea4-90c858c3-d9b84fc8\n"
          ]
        },
        {
          "output_type": "stream",
          "name": "stderr",
          "text": [
            "\r 88%|████████▊ | 770/871 [05:12<00:06, 16.43it/s]"
          ]
        },
        {
          "output_type": "stream",
          "name": "stdout",
          "text": [
            "Warning: Could not find a valid report for bac17e16-2cf16937-491ae6c2-ddfcf5eb-034ca74f\n",
            "Warning: Could not find a valid report for e3440b25-addc4e27-52d95c40-1401a4df-5c49577a\n"
          ]
        },
        {
          "output_type": "stream",
          "name": "stderr",
          "text": [
            "\r 89%|████████▊ | 772/871 [05:13<00:08, 11.12it/s]"
          ]
        },
        {
          "output_type": "stream",
          "name": "stdout",
          "text": [
            "Warning: Could not find a valid report for 017546be-84adb332-7da7d18c-635631a1-6b7dec90\n",
            "Warning: Could not find a valid report for ffe814f6-1c8ab82b-ec64e9cc-b1603b4a-ed7869fe\n",
            "Warning: Could not find a valid report for 2c3ab1b6-b9c74b7f-d05aeeb6-13bcba65-2c7fe8b0\n"
          ]
        },
        {
          "output_type": "stream",
          "name": "stderr",
          "text": [
            " 89%|████████▉ | 778/871 [05:15<00:12,  7.31it/s]"
          ]
        },
        {
          "output_type": "stream",
          "name": "stdout",
          "text": [
            "Warning: Could not find a valid report for e312b699-2ee36b6b-83dff421-6bc3c71b-0ce576e9\n",
            "Warning: No neighbors for 21575f7f-55fd01dc-69bcca66-e0ad4e8c-254a19b6\n",
            "Warning: No neighbors for 5557d91b-88cc1ba3-3d74480c-07e45ed8-83b0fbdb\n",
            "Warning: No neighbors for f76c4ab6-b3913a5c-47523f34-dd469cc1-dccc2905\n",
            "Warning: No neighbors for 22c12f99-88178b8e-5729f069-9c7db8c9-98f3336e\n",
            "Warning: No neighbors for a307f148-a57daf2e-da88d4c6-80348382-d795400e\n",
            "Warning: No neighbors for 2ba4cfcb-e149321a-4e6c384f-da2483f5-654c364c\n",
            "Warning: No neighbors for 35bd59b4-a0ed8d74-b7b24cca-7029c25f-1bcf3a1b\n",
            "Warning: Could not find a valid report for 561cafa2-47ebe703-ae83dfae-bcb299d6-58018e56\n"
          ]
        },
        {
          "output_type": "stream",
          "name": "stderr",
          "text": [
            "\r 90%|█████████ | 788/871 [05:15<00:08, 10.00it/s]"
          ]
        },
        {
          "output_type": "stream",
          "name": "stdout",
          "text": [
            "Warning: No neighbors for 94119fb3-6c35b1cb-38461a46-34b7ab0e-f7aa69e3\n",
            "Warning: No neighbors for a0fbc510-dfefa5fe-56165d54-0452c67f-7f1a7b51\n",
            "Warning: No neighbors for 02999532-f6bee156-9a89335b-fcd6894c-31be6da1\n",
            "Warning: No neighbors for da4b95ee-2b735a07-9a3d5f43-c8c7a7e6-92831438\n",
            "Warning: No neighbors for cff22ca0-e111f744-d0dd0442-e479847f-1470900c\n",
            "Warning: No neighbors for f8ba4c19-d33067c2-d1adeb1b-ec297abb-7233d5ec\n",
            "Warning: Could not find a valid report for 14dd9bc4-9b065049-d9aa2533-876fa9a7-697b22b9\n",
            "Warning: Could not find a valid report for aaf32d4b-7de5ccba-81e57100-0e65fca3-f50c4333\n",
            "Warning: Could not find a valid report for 03162bc4-58f25239-df872b3b-953e8272-13c77ed5\n",
            "Warning: Could not find a valid report for c4bee802-c4a745ab-66fbe36a-8ce31154-1742b1b7\n"
          ]
        },
        {
          "output_type": "stream",
          "name": "stderr",
          "text": [
            "\r 92%|█████████▏| 799/871 [05:16<00:06, 11.48it/s]"
          ]
        },
        {
          "output_type": "stream",
          "name": "stdout",
          "text": [
            "Warning: No neighbors for caab7dc6-404baeed-8e087f65-c4fdce1b-3df86305\n",
            "Warning: No neighbors for 03cc1307-0f4b7d64-7b1de155-f4428925-80169a00\n",
            "Warning: No neighbors for 5f4d8dbd-5b3fabc2-57368426-c8a47b2a-25c294da\n",
            "Warning: Could not find a valid report for 7bb7a07b-56b1623a-e7ef1f5b-22b67ecf-b20568ba\n",
            "Warning: No neighbors for b867956d-25de683b-83c13fe9-0e33e3d5-b6788f07\n",
            "Warning: No neighbors for cf8b932f-ba46ac36-2832ff4b-1b13d0bf-4a60e9d6\n",
            "Warning: No neighbors for 65122cf8-e8154169-108ecf82-ddf8584a-c6e2a177\n",
            "Warning: No neighbors for d66166a1-6f9722f5-02f46925-7ad08590-3a209447\n",
            "Warning: No neighbors for ec7dfa02-7c7e4c5f-a8d1ab9e-0a005718-a905c972\n",
            "Warning: Could not find a valid report for 3158c5a9-7558ea80-61456487-9ab48771-961ba93d\n",
            "Warning: Could not find a valid report for af2214f9-19941a5a-611a6645-4eee1f07-4902b49a\n",
            "Warning: Could not find a valid report for 4f1e36c3-f611f067-6d931e01-e193965c-e9e054f3\n",
            "Warning: Could not find a valid report for a21a0e5f-9a06546f-31ab0733-fffdbd0c-55f0d561\n",
            "Warning: No neighbors for 4c5b2978-11d87541-69de083c-e5d18744-c98dd745\n",
            "Warning: No neighbors for 6e06fe92-5aea3ec6-e4df02ce-98c116e9-cf8038fe\n",
            "Warning: No neighbors for 4e39974e-234934a1-851089ff-cc8153b9-6a363502\n",
            "Warning: No neighbors for c74b6d99-4acd8eee-3e15ee39-97ae962f-43685890\n",
            "Warning: No neighbors for d8e0b944-26edb637-be96f27c-003d052e-59d5bf92\n",
            "Warning: No neighbors for 02f3d20f-5aa37ec1-a856cedb-5b462b64-8035b1df\n",
            "Warning: Could not find a valid report for 43991c4d-029ed86e-4e701a17-44b93555-d9a135b3\n",
            "Warning: Could not find a valid report for 41049792-96478b1a-e64d443c-178deb8b-de559df4\n",
            "Warning: Could not find a valid report for 2aadcb74-a5de27f8-80d89a5a-a4efad37-7e09a949\n",
            "Warning: No neighbors for 11837b0f-b9a06649-9255e43c-519481b1-050cd625\n",
            "Warning: No neighbors for 26e95a36-a691ce12-a771678f-bc4c5ad4-7f3299a9\n",
            "Warning: No neighbors for 50fcfff1-2b2b38e2-b67c16be-cd3b77c5-a39a052c\n",
            "Warning: No neighbors for eb7ba8a4-b7269a79-d9e5e4f9-0be23a3d-57972fb1\n",
            "Warning: Could not find a valid report for f8738e81-db39752d-605c1ac3-cc28419e-8d56045b\n",
            "Warning: No neighbors for febdc9b0-d4c9da5d-bcb18082-e293d4d2-17b9c8c7\n",
            "Warning: Could not find a valid report for c8e6d7ef-3ca0c621-8d43d5c4-a308364d-a8310aad\n"
          ]
        },
        {
          "output_type": "stream",
          "name": "stderr",
          "text": [
            "\r 95%|█████████▌| 829/871 [05:17<00:02, 18.48it/s]"
          ]
        },
        {
          "output_type": "stream",
          "name": "stdout",
          "text": [
            "Warning: Could not find a valid report for f94af1f8-82c121c5-8659da85-e330d32c-798b38f1\n",
            "Warning: No neighbors for 1b35e179-04b57408-f86196ad-af22e9f5-ff49f8d8\n",
            "Warning: No neighbors for 646a3cdc-b9a8b1eb-ed5edf63-bc43d249-a38dc074\n",
            "Warning: No neighbors for 1bb9cad3-1bea32b5-16ad754a-e9289aa5-d30010e3\n",
            "Warning: No neighbors for c7ed15d8-e479cf98-ef7002e6-61fb615c-64954767\n"
          ]
        },
        {
          "output_type": "stream",
          "name": "stderr",
          "text": [
            "\r 96%|█████████▌| 835/871 [05:18<00:02, 14.43it/s]"
          ]
        },
        {
          "output_type": "stream",
          "name": "stdout",
          "text": [
            "Warning: No neighbors for 8411a4a5-64e51933-6f26fe47-503607cc-a53b10cf\n",
            "Warning: Could not find a valid report for ecac92a5-dfe38d06-130812de-97d4ab2e-ae4614e4\n",
            "Warning: Could not find a valid report for 10825f4f-af4fc4e7-5789ea8d-edee461a-557f99db\n",
            "Warning: No neighbors for d48c729c-c579c1b4-0f8f5ceb-0631fe25-0b99a9ba\n",
            "Warning: No neighbors for 775594ee-bf56272d-f0f025e6-dc13b6c2-7c9d0684\n",
            "Warning: No neighbors for bc1d9b3a-7166ce18-f70fd96f-ccce0923-97391f77\n"
          ]
        },
        {
          "output_type": "stream",
          "name": "stderr",
          "text": [
            "\r 97%|█████████▋| 842/871 [05:19<00:02, 12.64it/s]"
          ]
        },
        {
          "output_type": "stream",
          "name": "stdout",
          "text": [
            "Warning: No neighbors for b6a9165a-9b554304-68bce27b-73923ab7-f207cdee\n",
            "Warning: No neighbors for 14d18e30-e2784e42-2f03bd41-31a5b720-7abc9c0b\n",
            "Warning: No neighbors for bdfb9d6d-4fa0e298-a7c8bfcc-427d5572-e254267b\n",
            "Warning: No neighbors for dc630d53-d4613e70-45d214b9-8caffb20-caed89cc\n",
            "Warning: No neighbors for bec1a2ab-ac802458-218aa263-0d78d3f0-4e8f11a2\n",
            "Warning: No neighbors for 60c94edc-4a380f7f-9b66f366-371fed4d-baf22ec2\n",
            "Warning: No neighbors for 4abbc457-06fc5da5-aa307a5c-a411804a-cd22b528\n",
            "Warning: No neighbors for 7bd4137f-3c2a4b40-68056b5e-6b3c887f-8fbd2650\n",
            "Warning: No neighbors for c321c01d-26ab46eb-56b75153-4c5e4fcc-f34d6fb0\n",
            "Warning: No neighbors for 69d9c6ba-f08ebb87-cdcc1d38-5234fa28-dfc869c5\n",
            "Warning: No neighbors for d44b84f2-9e548e5b-b01f5e68-501e1bb9-f038d1c2\n"
          ]
        },
        {
          "output_type": "stream",
          "name": "stderr",
          "text": [
            "\r 98%|█████████▊| 854/871 [05:20<00:01, 13.18it/s]"
          ]
        },
        {
          "output_type": "stream",
          "name": "stdout",
          "text": [
            "Warning: No neighbors for 2798f04a-144a11c0-e09c4f2c-95f2ba25-c0be085a\n",
            "Warning: No neighbors for d791d179-91d659dd-cb20a7d5-b9228fb2-9f739d78\n",
            "Warning: Could not find a valid report for 2448f842-802b5df6-4382d251-41d3d87b-513c531c\n",
            "Warning: No neighbors for 0c010f6f-b5875c59-b0873ce6-d9896d58-4295e0bf\n",
            "Warning: No neighbors for dc09347a-d5e6e06b-9da7cbf7-052dcb0e-17892639\n",
            "Warning: No neighbors for 15875d27-100a95b9-1045d32e-d3c027bd-b68e8849\n",
            "Warning: No neighbors for a8351fcf-fc58c148-2e3aa962-60b48414-bad359b9\n",
            "Warning: No neighbors for 5ee82c6b-49e3215b-0ccc6ae2-20410481-f3f7b9e6\n",
            "Warning: No neighbors for 7a8ace59-1faf0e4d-84a5b2a5-d6dd9587-2ee9282a\n",
            "Warning: No neighbors for 8328e79d-ded529bc-30ae2f9a-63f85172-84fc340b\n"
          ]
        },
        {
          "output_type": "stream",
          "name": "stderr",
          "text": [
            "100%|██████████| 871/871 [05:21<00:00,  2.71it/s]"
          ]
        },
        {
          "output_type": "stream",
          "name": "stdout",
          "text": [
            "Warning: Could not find a valid report for d7249034-5986a3d3-6b195ee3-7c6b9e49-288a5b8a\n",
            "Warning: Could not find a valid report for 58d254ba-9e63e133-3f81c9ed-7183048b-3c91de80\n",
            "Warning: Could not find a valid report for b4927e02-97eb8567-78c018f5-763abbb8-a33d988c\n",
            "Warning: Could not find a valid report for 6b5b01d3-d986978c-94b0daf7-826e93f1-0543d584\n",
            "Warning: No neighbors for cb3adb02-77232066-e459ff13-d0095967-639e0c20\n",
            "Generated reports for 107/871 test images\n"
          ]
        },
        {
          "output_type": "stream",
          "name": "stderr",
          "text": [
            "\n"
          ]
        }
      ]
    },
    {
      "cell_type": "code",
      "source": [
        "# Save the generated reports to a TSV file\n",
        "print(strftime(\"%Y-%m-%d %H:%M:%S\", gmtime()))\n",
        "\n",
        "pred_dir = os.path.join(base_path, 'local_output/output')\n",
        "os.makedirs(pred_dir, exist_ok=True)\n",
        "\n",
        "pred_file = os.path.join(pred_dir, 'knn.tsv')\n",
        "print(f\"Saving predictions to {pred_file}\")\n",
        "\n",
        "with open(pred_file, 'w') as f:\n",
        "    print('dicom_id\\tgenerated', file=f)\n",
        "    for dicom_id, generated in sorted(generated_reports.items()):\n",
        "        # Clean up the text (remove any tabs)\n",
        "        cleaned_text = generated.replace('\\t', ' ')\n",
        "        print(f'{dicom_id}\\t{cleaned_text}', file=f)\n",
        "\n",
        "print(strftime(\"%Y-%m-%d %H:%M:%S\", gmtime()))"
      ],
      "metadata": {
        "colab": {
          "base_uri": "https://localhost:8080/"
        },
        "id": "RDfppTw_A_vg",
        "outputId": "cbef429a-d335-4961-af39-3acef2d42d4e"
      },
      "execution_count": 10,
      "outputs": [
        {
          "output_type": "stream",
          "name": "stdout",
          "text": [
            "2025-04-21 01:11:57\n",
            "Saving predictions to /content/drive/MyDrive/mimic-cxr-project/local_output/output/knn.tsv\n",
            "2025-04-21 01:11:57\n"
          ]
        }
      ]
    },
    {
      "cell_type": "code",
      "source": [
        "# Display sample of generated reports\n",
        "sample_count = min(3, len(generated_reports))\n",
        "sample_dicoms = list(generated_reports.keys())[:sample_count]\n",
        "\n",
        "for dicom_id in sample_dicoms:\n",
        "    print(f\"\\nSample report for {dicom_id}:\")\n",
        "    report_text = generated_reports[dicom_id]\n",
        "\n",
        "    # Print preview of the report (first 200 characters)\n",
        "    if len(report_text) > 200:\n",
        "        print(report_text[:200] + \"...\")\n",
        "    else:\n",
        "        print(report_text)"
      ],
      "metadata": {
        "colab": {
          "base_uri": "https://localhost:8080/"
        },
        "id": "jG2tO0g-BGFp",
        "outputId": "1526bb29-12b7-4667-ccd8-25320257b53b"
      },
      "execution_count": 11,
      "outputs": [
        {
          "output_type": "stream",
          "name": "stdout",
          "text": [
            "\n",
            "Sample report for 6497aa38-6297f53a-fa4befd4-ba1a4958-64aedec6:\n",
            "tracheostomy tube again noted. ng tube again noted, extending beneath the diaphragm to overlie the stomach. right subclavian picc line tip lies near the svc/ ra junction, similar to prior. cardiomedia...\n",
            "\n",
            "Sample report for 814416f0-c76e5d61-9a01f44f-4d5ebd41-87097577:\n",
            "the et tube is no longer visualized. spinal fixation device and ng tube are present. there is complete opacification of the right lower lobe compatible with a combination of infiltrate and volume loss...\n",
            "\n",
            "Sample report for 001bb54b-a4e0bb99-48a28f4c-9df85f1b-e1606587:\n",
            "left picc tip terminates in the lower svc, unchanged. right-sided dual-lumen central venous catheter terminates in the right atrium, unchanged. tracheostomy tube tip remains in stable position. the pa...\n"
          ]
        }
      ]
    }
  ]
}