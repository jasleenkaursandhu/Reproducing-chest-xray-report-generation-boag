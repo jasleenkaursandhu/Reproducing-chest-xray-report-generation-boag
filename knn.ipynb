{
  "nbformat": 4,
  "nbformat_minor": 0,
  "metadata": {
    "colab": {
      "provenance": [],
      "authorship_tag": "ABX9TyMSS64dGflIKdwUMYKAAiOa",
      "include_colab_link": true
    },
    "kernelspec": {
      "name": "python3",
      "display_name": "Python 3"
    },
    "language_info": {
      "name": "python"
    }
  },
  "cells": [
    {
      "cell_type": "markdown",
      "metadata": {
        "id": "view-in-github",
        "colab_type": "text"
      },
      "source": [
        "<a href=\"https://colab.research.google.com/github/jasleenkaursandhu/Reproducing-chest-xray-report-generation-boag/blob/main/knn.ipynb\" target=\"_parent\"><img src=\"https://colab.research.google.com/assets/colab-badge.svg\" alt=\"Open In Colab\"/></a>"
      ]
    },
    {
      "cell_type": "code",
      "execution_count": 6,
      "metadata": {
        "id": "vFXLZ7cK4SD5"
      },
      "outputs": [],
      "source": [
        "# KNN Model for Feature Extraction and Nearest Neighbor Analysis\n",
        "# This notebook implements a KNN-based approach for chest X-ray report generation.\n",
        "# It extracts DenseNet features from images and finds the most similar training images for each test image."
      ]
    },
    {
      "cell_type": "code",
      "source": [
        "# Import necessary libraries\n",
        "import numpy as np\n",
        "import pandas as pd\n",
        "import os\n",
        "import matplotlib.pyplot as plt\n",
        "import tqdm\n",
        "from collections import defaultdict\n",
        "import pickle\n",
        "!pip install pydicom\n",
        "import pydicom  # Note: Original used 'dicom' but we'll use 'pydicom' which is the current version\n",
        "from time import gmtime, strftime"
      ],
      "metadata": {
        "colab": {
          "base_uri": "https://localhost:8080/"
        },
        "id": "oYolnqZ58qcg",
        "outputId": "83480acd-4497-481f-ce73-b63e849c72ba"
      },
      "execution_count": 15,
      "outputs": [
        {
          "output_type": "stream",
          "name": "stdout",
          "text": [
            "Collecting pydicom\n",
            "  Downloading pydicom-3.0.1-py3-none-any.whl.metadata (9.4 kB)\n",
            "Downloading pydicom-3.0.1-py3-none-any.whl (2.4 MB)\n",
            "\u001b[2K   \u001b[90m━━━━━━━━━━━━━━━━━━━━━━━━━━━━━━━━━━━━━━━━\u001b[0m \u001b[32m2.4/2.4 MB\u001b[0m \u001b[31m20.9 MB/s\u001b[0m eta \u001b[36m0:00:00\u001b[0m\n",
            "\u001b[?25hInstalling collected packages: pydicom\n",
            "Successfully installed pydicom-3.0.1\n"
          ]
        }
      ]
    },
    {
      "cell_type": "code",
      "source": [
        "# Mount Google Drive\n",
        "from google.colab import drive\n",
        "drive.mount('/content/drive')\n",
        "base_path = '/content/drive/MyDrive/mimic-cxr-project'\n",
        "!mkdir -p {base_path}/data\n",
        "!mkdir -p {base_path}/output"
      ],
      "metadata": {
        "colab": {
          "base_uri": "https://localhost:8080/"
        },
        "id": "Y8ofnadW8u_Q",
        "outputId": "1d418412-bcc5-4874-baff-feb4e2d9a647"
      },
      "execution_count": 16,
      "outputs": [
        {
          "output_type": "stream",
          "name": "stdout",
          "text": [
            "Drive already mounted at /content/drive; to attempt to forcibly remount, call drive.mount(\"/content/drive\", force_remount=True).\n"
          ]
        }
      ]
    },
    {
      "cell_type": "code",
      "source": [
        "# Import the report parser module\n",
        "import sys\n",
        "sys.path.append(f\"{base_path}/modules\")\n",
        "from report_parser import parse_report, MIMIC_RE\n",
        "print(\"Successfully imported report parser module\")"
      ],
      "metadata": {
        "colab": {
          "base_uri": "https://localhost:8080/"
        },
        "id": "2qiUV58y9FFT",
        "outputId": "e0b21dc1-085c-4b21-a808-4c831c5318e1"
      },
      "execution_count": 17,
      "outputs": [
        {
          "output_type": "stream",
          "name": "stdout",
          "text": [
            "Successfully imported report parser module\n"
          ]
        }
      ]
    },
    {
      "cell_type": "code",
      "source": [
        "# Load train and test data\n",
        "data_dir = os.path.join(base_path, 'data')\n",
        "files_path = os.path.join(base_path, 'files')\n",
        "output_dir = os.path.join(base_path, 'output')\n",
        "features_dir = os.path.join(base_path, 'features')\n",
        "\n",
        "train_df = pd.read_csv(os.path.join(data_dir, 'train.tsv'), sep='\\t')\n",
        "test_df = pd.read_csv(os.path.join(data_dir, 'test.tsv'), sep='\\t')\n",
        "\n",
        "print(f\"Train data shape: {train_df.shape}\")\n",
        "print(f\"Test data shape: {test_df.shape}\")"
      ],
      "metadata": {
        "colab": {
          "base_uri": "https://localhost:8080/"
        },
        "id": "JkqbiTD39Ga-",
        "outputId": "ae7672f1-0a13-480f-f9fa-cf048cc5bfbf"
      },
      "execution_count": 18,
      "outputs": [
        {
          "output_type": "stream",
          "name": "stdout",
          "text": [
            "Train data shape: (824, 3)\n",
            "Test data shape: (382, 3)\n"
          ]
        }
      ]
    },
    {
      "cell_type": "code",
      "source": [
        "# Map each dicom to its report identifier (study_id in our case)\n",
        "# Note: Original code used 'rad_id', we'll use 'study_id' based on our data structure\n",
        "report_id_column = 'study_id'\n",
        "if report_id_column in train_df.columns:\n",
        "    rad_lookup = dict(train_df[['dicom_id', report_id_column]].values)\n",
        "    print(f\"Created lookup using {report_id_column}\")\n",
        "else:\n",
        "    print(f\"Warning: {report_id_column} not found in columns: {train_df.columns.tolist()}\")\n",
        "    rad_lookup = {}\n",
        "\n",
        "print(\"Sample of lookup dictionary:\")\n",
        "print(dict(list(rad_lookup.items())[:5]))"
      ],
      "metadata": {
        "colab": {
          "base_uri": "https://localhost:8080/"
        },
        "id": "dwSXmy9s9KZN",
        "outputId": "d2c9d65d-beae-4087-e583-e34f8b952e1d"
      },
      "execution_count": 19,
      "outputs": [
        {
          "output_type": "stream",
          "name": "stdout",
          "text": [
            "Created lookup using study_id\n",
            "Sample of lookup dictionary:\n",
            "{'dfd9a06c-2994892e-f4a6bc1c-f6ec4803-283e5005': 55606773, 'ab50de59-ebf1d4df-20709b76-e8df1c5b-02561a38': 55244750, 'fafaee95-e11d24c5-ad39cfcd-302ac853-4a6f16ac': 58401243, 'fd53f5b0-0070f205-6c47cbe6-eaf7140d-12b09066': 57100718, '78e28f8c-fc928714-2cdc13f2-e6e45d40-89cb7eca': 53346921}\n"
          ]
        }
      ]
    },
    {
      "cell_type": "code",
      "source": [
        "# Path to neighbors file\n",
        "neighbors_path = os.path.join(base_path, 'output', 'top100_neighbors.pkl')\n",
        "\n",
        "# Check if neighbors file exists\n",
        "if os.path.exists(neighbors_path):\n",
        "    print(f\"Loading neighbors from {neighbors_path}\")\n",
        "    with open(neighbors_path, 'rb') as f:\n",
        "        neighbors = pickle.load(f)\n",
        "    print(f\"Loaded neighbors for {len(neighbors)} test images\")\n",
        "else:\n",
        "    print(f\"Neighbors file not found at {neighbors_path}\")\n",
        "    print(\"Please run the feature extraction and nearest neighbor search first.\")"
      ],
      "metadata": {
        "colab": {
          "base_uri": "https://localhost:8080/"
        },
        "id": "MbWu8SOG9OeZ",
        "outputId": "e3f4e644-de03-4900-98ce-3b5d2856e506"
      },
      "execution_count": 20,
      "outputs": [
        {
          "output_type": "stream",
          "name": "stdout",
          "text": [
            "Loading neighbors from /content/drive/MyDrive/mimic-cxr-project/output/top100_neighbors.pkl\n",
            "Loaded neighbors for 380 test images\n"
          ]
        }
      ]
    },
    {
      "cell_type": "code",
      "source": [
        "# Define the path to the reports directory\n",
        "files_path = os.path.join(base_path, 'files')\n",
        "\n",
        "# Generate reports for each test image\n",
        "generated_reports = {}\n",
        "\n",
        "for pred_dicom in tqdm.tqdm(test_df.dicom_id):\n",
        "    # Skip if we don't have neighbors for this test image\n",
        "    if pred_dicom not in neighbors:\n",
        "        print(f\"Warning: No neighbors for {pred_dicom}\")\n",
        "        continue\n",
        "\n",
        "    nn = neighbors[pred_dicom]\n",
        "\n",
        "    found = False\n",
        "    i = 0  # Start with the closest neighbor\n",
        "\n",
        "    while not found and i < len(nn):\n",
        "        nearest_dicom = nn[i]\n",
        "\n",
        "        # Skip if we don't have a report ID for this training image\n",
        "        if nearest_dicom not in rad_lookup:\n",
        "            i += 1\n",
        "            continue\n",
        "\n",
        "        nearest_train_report_id = rad_lookup[nearest_dicom]\n",
        "\n",
        "        # Get corresponding subject_id for the training image\n",
        "        subject_row = train_df[train_df.dicom_id == nearest_dicom]\n",
        "        if len(subject_row) == 0:\n",
        "            i += 1\n",
        "            continue\n",
        "\n",
        "        subject_id = subject_row.iloc[0]['subject_id']\n",
        "\n",
        "        # Construct path to the report\n",
        "        subject_prefix = f\"p{str(subject_id)[:2]}\"\n",
        "        subject_dir = f\"p{subject_id}\"\n",
        "        study_dir = f\"s{nearest_train_report_id}\"\n",
        "        report_file = f\"{study_dir}.txt\"\n",
        "        report_path = os.path.join(files_path, subject_prefix, subject_dir, report_file)\n",
        "\n",
        "        # Parse the report\n",
        "        try:\n",
        "            if os.path.exists(report_path):\n",
        "                report = parse_report(report_path)\n",
        "\n",
        "                # If the report has a findings section, use it\n",
        "                if 'findings' in report:\n",
        "                    found = True\n",
        "                    generated_reports[pred_dicom] = report['findings']\n",
        "        except Exception as e:\n",
        "            pass\n",
        "\n",
        "        i += 1\n",
        "\n",
        "    if not found:\n",
        "        print(f\"Warning: Could not find a valid report for {pred_dicom}\")\n",
        "\n",
        "print(f\"Generated reports for {len(generated_reports)}/{len(test_df)} test images\")"
      ],
      "metadata": {
        "colab": {
          "base_uri": "https://localhost:8080/"
        },
        "id": "7O293KmB9TXa",
        "outputId": "2138f392-706f-4a93-b631-6c9133eb54e7"
      },
      "execution_count": 21,
      "outputs": [
        {
          "output_type": "stream",
          "name": "stderr",
          "text": [
            " 11%|█▏        | 43/382 [00:12<01:42,  3.30it/s]"
          ]
        },
        {
          "output_type": "stream",
          "name": "stdout",
          "text": [
            "Warning: No neighbors for 7f7346e9-c1f9639f-8e83f5bc-f166c421-69f3b162\n"
          ]
        },
        {
          "output_type": "stream",
          "name": "stderr",
          "text": [
            " 89%|████████▉ | 341/382 [01:02<00:04,  9.90it/s]"
          ]
        },
        {
          "output_type": "stream",
          "name": "stdout",
          "text": [
            "Warning: No neighbors for fdba0667-faa73efd-da3746a5-2a72a1fa-f5b292b7\n"
          ]
        },
        {
          "output_type": "stream",
          "name": "stderr",
          "text": [
            "100%|██████████| 382/382 [01:06<00:00,  5.73it/s]"
          ]
        },
        {
          "output_type": "stream",
          "name": "stdout",
          "text": [
            "Generated reports for 380/382 test images\n"
          ]
        },
        {
          "output_type": "stream",
          "name": "stderr",
          "text": [
            "\n"
          ]
        }
      ]
    },
    {
      "cell_type": "code",
      "source": [
        "# Save the generated reports to a TSV file\n",
        "print(strftime(\"%Y-%m-%d %H:%M:%S\", gmtime()))\n",
        "\n",
        "pred_dir = os.path.join(base_path, 'output')\n",
        "os.makedirs(pred_dir, exist_ok=True)\n",
        "\n",
        "pred_file = os.path.join(pred_dir, 'knn.tsv')\n",
        "print(f\"Saving predictions to {pred_file}\")\n",
        "\n",
        "with open(pred_file, 'w') as f:\n",
        "    print('dicom_id\\tgenerated', file=f)\n",
        "    for dicom_id, generated in sorted(generated_reports.items()):\n",
        "        # Clean up the text (remove any tabs)\n",
        "        cleaned_text = generated.replace('\\t', ' ')\n",
        "        print(f'{dicom_id}\\t{cleaned_text}', file=f)\n",
        "\n",
        "print(strftime(\"%Y-%m-%d %H:%M:%S\", gmtime()))"
      ],
      "metadata": {
        "colab": {
          "base_uri": "https://localhost:8080/"
        },
        "id": "RDfppTw_A_vg",
        "outputId": "dd8eec43-7d1e-4951-ffe7-67a25a0ef087"
      },
      "execution_count": 22,
      "outputs": [
        {
          "output_type": "stream",
          "name": "stdout",
          "text": [
            "2025-04-13 21:18:36\n",
            "Saving predictions to /content/drive/MyDrive/mimic-cxr-project/output/knn.tsv\n",
            "2025-04-13 21:18:37\n"
          ]
        }
      ]
    },
    {
      "cell_type": "code",
      "source": [
        "# Display sample of generated reports\n",
        "sample_count = min(3, len(generated_reports))\n",
        "sample_dicoms = list(generated_reports.keys())[:sample_count]\n",
        "\n",
        "for dicom_id in sample_dicoms:\n",
        "    print(f\"\\nSample report for {dicom_id}:\")\n",
        "    report_text = generated_reports[dicom_id]\n",
        "\n",
        "    # Print preview of the report (first 200 characters)\n",
        "    if len(report_text) > 200:\n",
        "        print(report_text[:200] + \"...\")\n",
        "    else:\n",
        "        print(report_text)"
      ],
      "metadata": {
        "colab": {
          "base_uri": "https://localhost:8080/"
        },
        "id": "jG2tO0g-BGFp",
        "outputId": "6b4b9af2-4b8e-41e8-c0a6-143a5b719fe3"
      },
      "execution_count": 23,
      "outputs": [
        {
          "output_type": "stream",
          "name": "stdout",
          "text": [
            "\n",
            "Sample report for fea90b5d-a059ecc8-b5e68f8d-b7f33ed9-1d32d429:\n",
            "heart size upper limits are normal. normal pulmonary vascularity. lungs are clear. no pleural effusions. no pneumothorax.\n",
            "\n",
            "Sample report for 06ba097a-bf8b917c-851d0e95-886936a1-90964781:\n",
            "no definite focal consolidation is seen. there is no large pleural effusion or pneumothorax. the cardiac mediastinal silhouettes are grossly stable.\n",
            "\n",
            "Sample report for 648449fa-5e173b2a-87663d57-4a0fbfc0-138e42c7:\n",
            "there is no definite focal consolidation, pleural effusion, or pneumothorax. compared to the prior study, there is mild prominence of vascular markings likely reflecting mild pulmonary edema. opacitie...\n"
          ]
        }
      ]
    }
  ]
}