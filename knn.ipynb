{
  "nbformat": 4,
  "nbformat_minor": 0,
  "metadata": {
    "colab": {
      "provenance": [],
      "authorship_tag": "ABX9TyONnwKAUkNe8aYbeD1sT8Ti",
      "include_colab_link": true
    },
    "kernelspec": {
      "name": "python3",
      "display_name": "Python 3"
    },
    "language_info": {
      "name": "python"
    }
  },
  "cells": [
    {
      "cell_type": "markdown",
      "metadata": {
        "id": "view-in-github",
        "colab_type": "text"
      },
      "source": [
        "<a href=\"https://colab.research.google.com/github/jasleenkaursandhu/Reproducing-chest-xray-report-generation-boag/blob/main/knn.ipynb\" target=\"_parent\"><img src=\"https://colab.research.google.com/assets/colab-badge.svg\" alt=\"Open In Colab\"/></a>"
      ]
    },
    {
      "cell_type": "code",
      "execution_count": 12,
      "metadata": {
        "id": "vFXLZ7cK4SD5"
      },
      "outputs": [],
      "source": [
        "# KNN Model for Feature Extraction and Nearest Neighbor Analysis\n",
        "# This notebook implements a KNN-based approach for chest X-ray report generation.\n",
        "# It extracts DenseNet features from images and finds the most similar training images for each test image."
      ]
    },
    {
      "cell_type": "code",
      "source": [
        "# Import necessary libraries\n",
        "import numpy as np\n",
        "import pandas as pd\n",
        "import os\n",
        "import matplotlib.pyplot as plt\n",
        "import tqdm\n",
        "from collections import defaultdict\n",
        "import pickle\n",
        "!pip install pydicom\n",
        "import pydicom  # Note: Original used 'dicom' but we'll use 'pydicom' which is the current version\n",
        "from time import gmtime, strftime"
      ],
      "metadata": {
        "colab": {
          "base_uri": "https://localhost:8080/"
        },
        "id": "oYolnqZ58qcg",
        "outputId": "8d50c2aa-bff5-4d2c-83b6-e85389f6c2e1"
      },
      "execution_count": 13,
      "outputs": [
        {
          "output_type": "stream",
          "name": "stdout",
          "text": [
            "Requirement already satisfied: pydicom in /usr/local/lib/python3.11/dist-packages (3.0.1)\n"
          ]
        }
      ]
    },
    {
      "cell_type": "code",
      "source": [
        "# Mount Google Drive\n",
        "from google.colab import drive\n",
        "drive.mount('/content/drive')\n",
        "base_path = '/content/drive/MyDrive/mimic-cxr-project'\n",
        "!mkdir -p {base_path}/data\n",
        "!mkdir -p {base_path}/output"
      ],
      "metadata": {
        "colab": {
          "base_uri": "https://localhost:8080/"
        },
        "id": "Y8ofnadW8u_Q",
        "outputId": "17a96dd7-01b7-49a6-83aa-56374f2b4539"
      },
      "execution_count": 14,
      "outputs": [
        {
          "output_type": "stream",
          "name": "stdout",
          "text": [
            "Drive already mounted at /content/drive; to attempt to forcibly remount, call drive.mount(\"/content/drive\", force_remount=True).\n"
          ]
        }
      ]
    },
    {
      "cell_type": "code",
      "source": [
        "# Import the report parser module\n",
        "import sys\n",
        "sys.path.append(f\"{base_path}/modules\")\n",
        "from report_parser import parse_report, MIMIC_RE\n",
        "print(\"Successfully imported report parser module\")"
      ],
      "metadata": {
        "colab": {
          "base_uri": "https://localhost:8080/"
        },
        "id": "2qiUV58y9FFT",
        "outputId": "84df9e46-f8f9-4b7e-bcb1-e5ccdd5868f3"
      },
      "execution_count": 15,
      "outputs": [
        {
          "output_type": "stream",
          "name": "stdout",
          "text": [
            "Successfully imported report parser module\n"
          ]
        }
      ]
    },
    {
      "cell_type": "code",
      "source": [
        "# Load train and test data\n",
        "data_dir = os.path.join(base_path, 'data')\n",
        "files_path = os.path.join(base_path, 'files')\n",
        "output_dir = os.path.join(base_path, 'output')\n",
        "features_dir = os.path.join(base_path, 'features')\n",
        "\n",
        "train_df = pd.read_csv(os.path.join(base_path, 'local_output/data/train.tsv'), sep='\\t')\n",
        "test_df = pd.read_csv(os.path.join(base_path, 'local_output/data/test.tsv'), sep='\\t')\n",
        "\n",
        "print(f\"Train data shape: {train_df.shape}\")\n",
        "print(f\"Test data shape: {test_df.shape}\")"
      ],
      "metadata": {
        "colab": {
          "base_uri": "https://localhost:8080/"
        },
        "id": "JkqbiTD39Ga-",
        "outputId": "e4e6cf25-a359-4126-8c05-dcbb02d42d69"
      },
      "execution_count": 18,
      "outputs": [
        {
          "output_type": "stream",
          "name": "stdout",
          "text": [
            "Train data shape: (4291, 3)\n",
            "Test data shape: (1757, 3)\n"
          ]
        }
      ]
    },
    {
      "cell_type": "code",
      "source": [
        "# Map each dicom to its report identifier (study_id in our case)\n",
        "# Note: Original code used 'rad_id', we'll use 'study_id' based on our data structure\n",
        "report_id_column = 'study_id'\n",
        "if report_id_column in train_df.columns:\n",
        "    rad_lookup = dict(train_df[['dicom_id', report_id_column]].values)\n",
        "    print(f\"Created lookup using {report_id_column}\")\n",
        "else:\n",
        "    print(f\"Warning: {report_id_column} not found in columns: {train_df.columns.tolist()}\")\n",
        "    rad_lookup = {}\n",
        "\n",
        "print(\"Sample of lookup dictionary:\")\n",
        "print(dict(list(rad_lookup.items())[:5]))"
      ],
      "metadata": {
        "colab": {
          "base_uri": "https://localhost:8080/"
        },
        "id": "dwSXmy9s9KZN",
        "outputId": "4019c1d1-38ff-446e-9d9f-b5195884f2b7"
      },
      "execution_count": 19,
      "outputs": [
        {
          "output_type": "stream",
          "name": "stdout",
          "text": [
            "Created lookup using study_id\n",
            "Sample of lookup dictionary:\n",
            "{'7e95cd84-a6e61229-709150ad-10e6ad91-b535ad52': 52201331, '42401e7d-fae7b2ef-87642157-68beaada-014bfcc9': 54545361, '1ef3083e-7ed9110c-e9df3d65-480e18a8-9181ebde': 56347818, '5000f8fd-684ea279-a1e1308e-cfce9b0c-e1eeae50': 58559853, 'f349a7ef-ee518ad2-d5173f92-cbfa71b2-df530a25': 52888009}\n"
          ]
        }
      ]
    },
    {
      "cell_type": "code",
      "source": [
        "# Path to neighbors file\n",
        "neighbors_path = os.path.join(base_path, 'local_output/output', '1nn_neighbors.pkl')\n",
        "\n",
        "# Check if neighbors file exists\n",
        "if os.path.exists(neighbors_path):\n",
        "    print(f\"Loading neighbors from {neighbors_path}\")\n",
        "    with open(neighbors_path, 'rb') as f:\n",
        "        neighbors = pickle.load(f)\n",
        "    print(f\"Loaded neighbors for {len(neighbors)} test images\")\n",
        "else:\n",
        "    print(f\"Neighbors file not found at {neighbors_path}\")\n",
        "    print(\"Please run the feature extraction and nearest neighbor search first.\")"
      ],
      "metadata": {
        "colab": {
          "base_uri": "https://localhost:8080/"
        },
        "id": "MbWu8SOG9OeZ",
        "outputId": "9d979752-edf2-4594-ca55-5fa8f8655424"
      },
      "execution_count": 20,
      "outputs": [
        {
          "output_type": "stream",
          "name": "stdout",
          "text": [
            "Loading neighbors from /content/drive/MyDrive/mimic-cxr-project/local_output/output/1nn_neighbors.pkl\n",
            "Loaded neighbors for 1757 test images\n"
          ]
        }
      ]
    },
    {
      "cell_type": "code",
      "source": [
        "# Define the path to the reports directory\n",
        "files_path = os.path.join(base_path, 'files')\n",
        "\n",
        "# Generate reports for each test image\n",
        "generated_reports = {}\n",
        "\n",
        "for pred_dicom in tqdm.tqdm(test_df.dicom_id):\n",
        "    # Skip if we don't have neighbors for this test image\n",
        "    if pred_dicom not in neighbors:\n",
        "        print(f\"Warning: No neighbors for {pred_dicom}\")\n",
        "        continue\n",
        "\n",
        "    nn = neighbors[pred_dicom]\n",
        "\n",
        "    found = False\n",
        "    i = 0  # Start with the closest neighbor\n",
        "\n",
        "    while not found and i < len(nn):\n",
        "        nearest_dicom = nn[i]\n",
        "\n",
        "        # Skip if we don't have a report ID for this training image\n",
        "        if nearest_dicom not in rad_lookup:\n",
        "            i += 1\n",
        "            continue\n",
        "\n",
        "        nearest_train_report_id = rad_lookup[nearest_dicom]\n",
        "\n",
        "        # Get corresponding subject_id for the training image\n",
        "        subject_row = train_df[train_df.dicom_id == nearest_dicom]\n",
        "        if len(subject_row) == 0:\n",
        "            i += 1\n",
        "            continue\n",
        "\n",
        "        subject_id = subject_row.iloc[0]['subject_id']\n",
        "\n",
        "        # Construct path to the report\n",
        "        subject_prefix = f\"p{str(subject_id)[:2]}\"\n",
        "        subject_dir = f\"p{subject_id}\"\n",
        "        study_dir = f\"s{nearest_train_report_id}\"\n",
        "        report_file = f\"{study_dir}.txt\"\n",
        "        report_path = os.path.join(files_path, subject_prefix, subject_dir, report_file)\n",
        "\n",
        "        # Parse the report\n",
        "        try:\n",
        "            if os.path.exists(report_path):\n",
        "                report = parse_report(report_path)\n",
        "\n",
        "                # If the report has a findings section, use it\n",
        "                if 'findings' in report:\n",
        "                    found = True\n",
        "                    generated_reports[pred_dicom] = report['findings']\n",
        "        except Exception as e:\n",
        "            pass\n",
        "\n",
        "        i += 1\n",
        "\n",
        "    if not found:\n",
        "        print(f\"Warning: Could not find a valid report for {pred_dicom}\")\n",
        "\n",
        "print(f\"Generated reports for {len(generated_reports)}/{len(test_df)} test images\")"
      ],
      "metadata": {
        "colab": {
          "base_uri": "https://localhost:8080/"
        },
        "id": "7O293KmB9TXa",
        "outputId": "778139f7-4629-4d25-cc79-8284bfc752a5"
      },
      "execution_count": 21,
      "outputs": [
        {
          "output_type": "stream",
          "name": "stderr",
          "text": [
            "100%|██████████| 1757/1757 [09:11<00:00,  3.19it/s]"
          ]
        },
        {
          "output_type": "stream",
          "name": "stdout",
          "text": [
            "Generated reports for 1757/1757 test images\n"
          ]
        },
        {
          "output_type": "stream",
          "name": "stderr",
          "text": [
            "\n"
          ]
        }
      ]
    },
    {
      "cell_type": "code",
      "source": [
        "# Save the generated reports to a TSV file\n",
        "print(strftime(\"%Y-%m-%d %H:%M:%S\", gmtime()))\n",
        "\n",
        "pred_dir = os.path.join(base_path, 'local_output/output')\n",
        "os.makedirs(pred_dir, exist_ok=True)\n",
        "\n",
        "pred_file = os.path.join(pred_dir, 'knn.tsv')\n",
        "print(f\"Saving predictions to {pred_file}\")\n",
        "\n",
        "with open(pred_file, 'w') as f:\n",
        "    print('dicom_id\\tgenerated', file=f)\n",
        "    for dicom_id, generated in sorted(generated_reports.items()):\n",
        "        # Clean up the text (remove any tabs)\n",
        "        cleaned_text = generated.replace('\\t', ' ')\n",
        "        print(f'{dicom_id}\\t{cleaned_text}', file=f)\n",
        "\n",
        "print(strftime(\"%Y-%m-%d %H:%M:%S\", gmtime()))"
      ],
      "metadata": {
        "colab": {
          "base_uri": "https://localhost:8080/"
        },
        "id": "RDfppTw_A_vg",
        "outputId": "54e6e613-0540-4840-a31b-df03abe08a23"
      },
      "execution_count": 22,
      "outputs": [
        {
          "output_type": "stream",
          "name": "stdout",
          "text": [
            "2025-04-21 03:23:48\n",
            "Saving predictions to /content/drive/MyDrive/mimic-cxr-project/local_output/output/knn.tsv\n",
            "2025-04-21 03:23:48\n"
          ]
        }
      ]
    },
    {
      "cell_type": "code",
      "source": [
        "# Display sample of generated reports\n",
        "sample_count = min(3, len(generated_reports))\n",
        "sample_dicoms = list(generated_reports.keys())[:sample_count]\n",
        "\n",
        "for dicom_id in sample_dicoms:\n",
        "    print(f\"\\nSample report for {dicom_id}:\")\n",
        "    report_text = generated_reports[dicom_id]\n",
        "\n",
        "    # Print preview of the report (first 200 characters)\n",
        "    if len(report_text) > 200:\n",
        "        print(report_text[:200] + \"...\")\n",
        "    else:\n",
        "        print(report_text)"
      ],
      "metadata": {
        "colab": {
          "base_uri": "https://localhost:8080/"
        },
        "id": "jG2tO0g-BGFp",
        "outputId": "dd49e5df-ff88-4f72-c787-94042416d191"
      },
      "execution_count": 23,
      "outputs": [
        {
          "output_type": "stream",
          "name": "stdout",
          "text": [
            "\n",
            "Sample report for 20386a2d-1f7a8868-f12e22ac-0d625d27-4c38c8e2:\n",
            "cardiac size is normal. peribronchial opacities in the left perihilar region have minimally increased. there is no pneumothorax or pleural effusion.\n",
            "\n",
            "Sample report for 63100eab-9e8a8d90-392bc822-325de482-69a64e3b:\n",
            "the patient is intubated. the endotracheal tube terminates about 6 cm above the carina. an orogastric tube terminates in the stomach although the sidehole indicator projects over the distal esophagus....\n",
            "\n",
            "Sample report for 17269efa-b016a94d-1361e8df-ac428071-d1133672:\n",
            "cardiac size is normal. the lungs are clear. there is no pneumothorax or pleural effusion.\n"
          ]
        }
      ]
    }
  ]
}