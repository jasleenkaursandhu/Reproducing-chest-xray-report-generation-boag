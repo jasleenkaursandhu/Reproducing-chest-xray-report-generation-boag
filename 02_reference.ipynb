{
 "nbformat": 4,
 "nbformat_minor": 0,
 "metadata": {
  "colab": {
   "provenance": [],
   "authorship_tag": "ABX9TyMAhHHCnI6uY5E1Tnd+Y5qr",
   "include_colab_link": true
  },
  "kernelspec": {
   "name": "python3",
   "display_name": "Python 3 (ipykernel)",
   "language": "python"
  },
  "language_info": {
   "name": "python"
  }
 },
 "cells": [
  {
   "cell_type": "markdown",
   "metadata": {
    "id": "view-in-github",
    "colab_type": "text"
   },
   "source": [
    "<a href=\"https://colab.research.google.com/github/jasleenkaursandhu/Reproducing-chest-xray-report-generation-boag/blob/referencing-report-findings-with-dicom-files/create_reference.ipynb\" target=\"_parent\"><img src=\"https://colab.research.google.com/assets/colab-badge.svg\" alt=\"Open In Colab\"/></a>"
   ]
  },
  {
   "cell_type": "code",
   "metadata": {
    "colab": {
     "base_uri": "https://localhost:8080/",
     "height": 438
    },
    "id": "6RbzAI0n5Via",
    "outputId": "4a6ee2df-4bd2-4dd6-a750-1df1181352b6",
    "ExecuteTime": {
     "end_time": "2025-04-20T00:31:41.496680Z",
     "start_time": "2025-04-20T00:31:40.621710Z"
    }
   },
   "source": [
    "# Import necessary libraries\n",
    "# !pip install pydicom\n",
    "from time import gmtime, strftime\n",
    "import numpy as np\n",
    "import pandas as pd\n",
    "import os\n",
    "import pydicom\n",
    "import tqdm\n",
    "import re\n",
    "\n",
    "# Import the parser from the existing module\n",
    "import sys\n",
    "base_path = \"/Users/simeon/Documents/DLH/content/mimic-cxr-project\"\n",
    "sys.path.append(base_path)  # Add base path to Python path\n",
    "from report_parser import parse_report, MIMIC_RE  # Import existing implementation\n",
    "\n",
    "# Define report parser class\n",
    "\n",
    "\n",
    "data_dir = os.path.join(base_path, 'data')\n",
    "files_path = os.path.join(base_path, 'new_files')\n",
    "output_dir = os.path.join(base_path, 'output')\n",
    "os.makedirs(output_dir, exist_ok=True)\n",
    "\n",
    "# Get test data\n",
    "test_df = pd.read_csv(os.path.join(data_dir, 'test.tsv'), sep='\\t')\n",
    "print(f\"Test data shape: {test_df.shape}\")\n",
    "display(test_df.head())\n",
    "\n",
    "# Create reference reports\n",
    "ref_reports = {}\n",
    "\n",
    "# Process each test case\n",
    "for i, row in tqdm.tqdm(test_df.iterrows(), total=len(test_df)):\n",
    "    dicom_id = row['dicom_id']\n",
    "    subject_id = row['subject_id']\n",
    "    study_id = row['study_id']\n",
    "\n",
    "    # Construct path to the report\n",
    "    subject_prefix = f\"p{str(subject_id)[:2]}\"\n",
    "    subject_dir = f\"p{subject_id}\"\n",
    "    study_dir = f\"s{study_id}\"\n",
    "    report_file = f\"{study_dir}.txt\"\n",
    "    report_path = os.path.join(base_path, 'reports', 'files', subject_prefix, subject_dir, report_file)  # Fixed path\n",
    "\n",
    "    try:\n",
    "        if os.path.exists(report_path):\n",
    "            report = parse_report(report_path)\n",
    "            if 'findings' in report:\n",
    "                ref_reports[dicom_id] = report['findings']\n",
    "    except Exception as e:\n",
    "        print(f\"Error processing {dicom_id}: {e}\")  # Added error logging\n",
    "\n",
    "print(f\"Created references for {len(ref_reports)} test images\")\n",
    "\n",
    "# Save reference reports\n",
    "timestamp = strftime(\"%Y-%m-%d %H:%M:%S\", gmtime())\n",
    "print(timestamp)\n",
    "\n",
    "pred_file = os.path.join(output_dir, 'reference.tsv')\n",
    "print(f\"Saving references to {pred_file}\")\n",
    "\n",
    "with open(pred_file, 'w') as f:\n",
    "    print('dicom_id\\ttext', file=f)\n",
    "    for dicom_id, text in sorted(ref_reports.items()):\n",
    "        # Escape any tab characters in the text\n",
    "        cleaned_text = text.replace('\\t', ' ')\n",
    "        print(f'{dicom_id}\\t{cleaned_text}', file=f)\n",
    "\n",
    "print(strftime(\"%Y-%m-%d %H:%M:%S\", gmtime()))\n"
   ],
   "outputs": [
    {
     "name": "stdout",
     "output_type": "stream",
     "text": [
      "Test data shape: (1757, 3)\n"
     ]
    },
    {
     "data": {
      "text/plain": [
       "   subject_id  study_id                                      dicom_id\n",
       "0    11697435  51704799  20386a2d-1f7a8868-f12e22ac-0d625d27-4c38c8e2\n",
       "1    17555214  53755869  63100eab-9e8a8d90-392bc822-325de482-69a64e3b\n",
       "2    17555214  57596800  17269efa-b016a94d-1361e8df-ac428071-d1133672\n",
       "3    17555214  57596800  247d5e7b-66c77989-ca5fec41-608aaa71-eab4c699\n",
       "4    17555214  58623720  f0924084-7fde1c46-0709acb5-8273482e-b9d7de1b"
      ],
      "text/html": [
       "<div>\n",
       "<style scoped>\n",
       "    .dataframe tbody tr th:only-of-type {\n",
       "        vertical-align: middle;\n",
       "    }\n",
       "\n",
       "    .dataframe tbody tr th {\n",
       "        vertical-align: top;\n",
       "    }\n",
       "\n",
       "    .dataframe thead th {\n",
       "        text-align: right;\n",
       "    }\n",
       "</style>\n",
       "<table border=\"1\" class=\"dataframe\">\n",
       "  <thead>\n",
       "    <tr style=\"text-align: right;\">\n",
       "      <th></th>\n",
       "      <th>subject_id</th>\n",
       "      <th>study_id</th>\n",
       "      <th>dicom_id</th>\n",
       "    </tr>\n",
       "  </thead>\n",
       "  <tbody>\n",
       "    <tr>\n",
       "      <th>0</th>\n",
       "      <td>11697435</td>\n",
       "      <td>51704799</td>\n",
       "      <td>20386a2d-1f7a8868-f12e22ac-0d625d27-4c38c8e2</td>\n",
       "    </tr>\n",
       "    <tr>\n",
       "      <th>1</th>\n",
       "      <td>17555214</td>\n",
       "      <td>53755869</td>\n",
       "      <td>63100eab-9e8a8d90-392bc822-325de482-69a64e3b</td>\n",
       "    </tr>\n",
       "    <tr>\n",
       "      <th>2</th>\n",
       "      <td>17555214</td>\n",
       "      <td>57596800</td>\n",
       "      <td>17269efa-b016a94d-1361e8df-ac428071-d1133672</td>\n",
       "    </tr>\n",
       "    <tr>\n",
       "      <th>3</th>\n",
       "      <td>17555214</td>\n",
       "      <td>57596800</td>\n",
       "      <td>247d5e7b-66c77989-ca5fec41-608aaa71-eab4c699</td>\n",
       "    </tr>\n",
       "    <tr>\n",
       "      <th>4</th>\n",
       "      <td>17555214</td>\n",
       "      <td>58623720</td>\n",
       "      <td>f0924084-7fde1c46-0709acb5-8273482e-b9d7de1b</td>\n",
       "    </tr>\n",
       "  </tbody>\n",
       "</table>\n",
       "</div>"
      ]
     },
     "metadata": {},
     "output_type": "display_data"
    },
    {
     "name": "stderr",
     "output_type": "stream",
     "text": [
      "100%|██████████| 1757/1757 [00:00<00:00, 4066.23it/s]"
     ]
    },
    {
     "name": "stdout",
     "output_type": "stream",
     "text": [
      "Created references for 1757 test images\n",
      "2025-04-20 00:31:41\n",
      "Saving references to /Users/simeon/Documents/DLH/content/mimic-cxr-project/output/reference.tsv\n",
      "2025-04-20 00:31:41\n"
     ]
    },
    {
     "name": "stderr",
     "output_type": "stream",
     "text": [
      "\n"
     ]
    }
   ],
   "execution_count": 1
  }
 ]
}
