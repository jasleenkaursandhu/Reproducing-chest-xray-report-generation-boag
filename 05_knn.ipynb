{
 "nbformat": 4,
 "nbformat_minor": 0,
 "metadata": {
  "colab": {
   "provenance": [],
   "authorship_tag": "ABX9TyONnwKAUkNe8aYbeD1sT8Ti",
   "include_colab_link": true
  },
  "kernelspec": {
   "name": "python3",
   "display_name": "Python 3 (ipykernel)",
   "language": "python"
  },
  "language_info": {
   "name": "python"
  }
 },
 "cells": [
  {
   "cell_type": "markdown",
   "metadata": {
    "id": "view-in-github",
    "colab_type": "text"
   },
   "source": [
    "<a href=\"https://colab.research.google.com/github/jasleenkaursandhu/Reproducing-chest-xray-report-generation-boag/blob/main/knn.ipynb\" target=\"_parent\"><img src=\"https://colab.research.google.com/assets/colab-badge.svg\" alt=\"Open In Colab\"/></a>"
   ]
  },
  {
   "metadata": {
    "ExecuteTime": {
     "end_time": "2025-04-25T17:12:55.245594Z",
     "start_time": "2025-04-25T17:12:55.238682Z"
    }
   },
   "cell_type": "code",
   "source": [
    "# 1-NN Model for Chest X-ray Report Generation\n",
    "# This notebook uses the single nearest neighbor (1-NN) approach to generate reports for chest X-rays\n",
    "\n",
    "import numpy as np\n",
    "import pandas as pd\n",
    "import os\n",
    "import tqdm\n",
    "import pickle\n",
    "from time import gmtime, strftime\n",
    "from sklearn.metrics.pairwise import cosine_similarity"
   ],
   "outputs": [],
   "execution_count": 68
  },
  {
   "metadata": {
    "ExecuteTime": {
     "end_time": "2025-04-25T17:13:09.926847Z",
     "start_time": "2025-04-25T17:13:09.923020Z"
    }
   },
   "cell_type": "code",
   "source": [
    "# Set up paths\n",
    "base_path = '/Users/simeon/Documents/DLH/content/mimic-cxr-project'\n",
    "data_dir = os.path.join(base_path, 'data')\n",
    "files_path = os.path.join(base_path, 'new_files')\n",
    "output_dir = os.path.join(base_path, 'output')\n",
    "features_dir = os.path.join(base_path, 'features')\n",
    "reports_dir = os.path.join(base_path, 'reports')\n",
    "\n",
    "os.makedirs(output_dir, exist_ok=True)\n",
    "\n",
    "# Import the report parser module\n",
    "import sys\n",
    "# sys.path.append(f\"{base_path}/modules\")\n",
    "from report_parser import parse_report\n",
    "print(\"Successfully imported report parser module\")"
   ],
   "outputs": [
    {
     "name": "stdout",
     "output_type": "stream",
     "text": [
      "Successfully imported report parser module\n"
     ]
    }
   ],
   "execution_count": 69
  },
  {
   "metadata": {
    "ExecuteTime": {
     "end_time": "2025-04-25T17:13:19.888108Z",
     "start_time": "2025-04-25T17:13:19.869005Z"
    }
   },
   "cell_type": "code",
   "source": [
    "# Load train and test data\n",
    "train_df = pd.read_csv(os.path.join(data_dir, 'train.tsv'), sep='\\t')\n",
    "test_df = pd.read_csv(os.path.join(data_dir, 'test.tsv'), sep='\\t')\n",
    "\n",
    "print(f\"Train data shape: {train_df.shape}\")\n",
    "print(f\"Test data shape: {test_df.shape}\")\n",
    "\n",
    "# Map each dicom to its report identifier (study_id in our case)\n",
    "report_id_column = 'study_id'\n",
    "if report_id_column in train_df.columns:\n",
    "    rad_lookup = dict(train_df[['dicom_id', report_id_column]].values)\n",
    "    print(f\"Created lookup using {report_id_column}\")\n",
    "else:\n",
    "    print(f\"Warning: {report_id_column} not found in columns: {train_df.columns.tolist()}\")\n",
    "    rad_lookup = {}\n",
    "\n",
    "print(\"Sample of lookup dictionary:\")\n",
    "print(dict(list(rad_lookup.items())[:5]))"
   ],
   "outputs": [
    {
     "name": "stdout",
     "output_type": "stream",
     "text": [
      "Train data shape: (4291, 3)\n",
      "Test data shape: (1757, 3)\n",
      "Created lookup using study_id\n",
      "Sample of lookup dictionary:\n",
      "{'7e95cd84-a6e61229-709150ad-10e6ad91-b535ad52': 52201331, '42401e7d-fae7b2ef-87642157-68beaada-014bfcc9': 54545361, '1ef3083e-7ed9110c-e9df3d65-480e18a8-9181ebde': 56347818, '5000f8fd-684ea279-a1e1308e-cfce9b0c-e1eeae50': 58559853, 'f349a7ef-ee518ad2-d5173f92-cbfa71b2-df530a25': 52888009}\n"
     ]
    }
   ],
   "execution_count": 70
  },
  {
   "metadata": {
    "ExecuteTime": {
     "end_time": "2025-04-25T17:13:30.000815Z",
     "start_time": "2025-04-25T17:13:29.901352Z"
    }
   },
   "cell_type": "code",
   "source": [
    "# Path to 1-NN neighbors file\n",
    "neighbors_path = os.path.join(output_dir, '1nn_neighbors.pkl')\n",
    "\n",
    "# Check if 1-NN neighbors file exists\n",
    "if os.path.exists(neighbors_path):\n",
    "    print(f\"Loading 1-NN neighbors from {neighbors_path}\")\n",
    "    with open(neighbors_path, 'rb') as f:\n",
    "        neighbors = pickle.load(f)\n",
    "    print(f\"Loaded 1-NN neighbors for {len(neighbors)} test images\")\n",
    "else:\n",
    "    print(f\"1-NN neighbors file not found at {neighbors_path}\")\n",
    "    print(\"We need to compute the 1-NN neighbors from the extracted features\")\n",
    "\n",
    "    # Load the feature vectors\n",
    "    train_features_path = os.path.join(features_dir, 'densenet121_train.pkl')\n",
    "    test_features_path = os.path.join(features_dir, 'densenet121_test.pkl')\n",
    "\n",
    "    if os.path.exists(train_features_path) and os.path.exists(test_features_path):\n",
    "        print(\"Loading DenseNet features\")\n",
    "        with open(train_features_path, 'rb') as f:\n",
    "            train_features_dict = pickle.load(f)\n",
    "        with open(test_features_path, 'rb') as f:\n",
    "            test_features_dict = pickle.load(f)\n",
    "\n",
    "        # Compute 1-NN\n",
    "        print(\"Computing 1-NN for each test image\")\n",
    "        neighbors = {}\n",
    "\n",
    "        # Convert to arrays for faster processing\n",
    "        train_dicom_ids = list(train_features_dict.keys())\n",
    "        train_features_array = np.array([train_features_dict[dicom_id] for dicom_id in train_dicom_ids])\n",
    "\n",
    "        for test_dicom, test_feature in tqdm.tqdm(test_features_dict.items()):\n",
    "            # Calculate cosine similarity with all training images\n",
    "            similarities = cosine_similarity([test_feature], train_features_array)[0]\n",
    "\n",
    "            # Get the most similar image (1-NN)\n",
    "            most_similar_idx = np.argmax(similarities)\n",
    "            most_similar_dicom = train_dicom_ids[most_similar_idx]\n",
    "\n",
    "            # Store as a list with a single element to maintain compatibility\n",
    "            neighbors[test_dicom] = [most_similar_dicom]\n",
    "\n",
    "        # Save the 1-NN neighbors\n",
    "        with open(neighbors_path, 'wb') as f:\n",
    "            pickle.dump(neighbors, f)\n",
    "        print(f\"Computed and saved 1-NN neighbors for {len(neighbors)} test images\")\n",
    "    else:\n",
    "        print(\"Feature files not found. Please run the feature extraction notebook first.\")\n",
    "        neighbors = {}\n",
    "\n",
    "# Generate reports for each test image using 1-NN approach\n",
    "generated_reports = {}"
   ],
   "outputs": [
    {
     "name": "stdout",
     "output_type": "stream",
     "text": [
      "Loading 1-NN neighbors from /Users/simeon/Documents/DLH/content/mimic-cxr-project/output/1nn_neighbors.pkl\n",
      "Loaded 1-NN neighbors for 1757 test images\n"
     ]
    }
   ],
   "execution_count": 71
  },
  {
   "metadata": {
    "ExecuteTime": {
     "end_time": "2025-04-25T17:13:40.257018Z",
     "start_time": "2025-04-25T17:13:39.609968Z"
    }
   },
   "cell_type": "code",
   "source": [
    "for pred_dicom in tqdm.tqdm(test_df.dicom_id, desc=\"Generating reports using 1-NN\"):\n",
    "    # Skip if we don't have neighbors for this test image\n",
    "    if pred_dicom not in neighbors:\n",
    "        print(f\"Warning: No neighbors for {pred_dicom}\")\n",
    "        continue\n",
    "\n",
    "    # Get the single nearest neighbor (1-NN approach)\n",
    "    # As per the paper: \"For this baseline, we 'generate' our text by returning the caption of\n",
    "    # the training image with the largest cosine similarity to the test query image.\"\n",
    "    nearest_dicom = neighbors[pred_dicom][0]\n",
    "\n",
    "    # Skip if we don't have a report ID for this training image\n",
    "    if nearest_dicom not in rad_lookup:\n",
    "        print(f\"Warning: No report ID for nearest neighbor {nearest_dicom}\")\n",
    "        continue\n",
    "\n",
    "    nearest_train_report_id = rad_lookup[nearest_dicom]\n",
    "\n",
    "    # Get corresponding subject_id for the training image\n",
    "    subject_row = train_df[train_df.dicom_id == nearest_dicom]\n",
    "    if len(subject_row) == 0:\n",
    "        print(f\"Warning: Cannot find subject_id for {nearest_dicom}\")\n",
    "        continue\n",
    "\n",
    "    subject_id = subject_row.iloc[0]['subject_id']\n",
    "\n",
    "    # Construct path to the report using the correct structure\n",
    "    subject_prefix = f\"p{str(subject_id)[:2]}\"\n",
    "    subject_dir = f\"p{subject_id}\"\n",
    "    study_dir = f\"s{nearest_train_report_id}\"\n",
    "\n",
    "    # Use the correct path to the report in the reports directory\n",
    "    report_path = os.path.join(reports_dir, 'files', subject_prefix, subject_dir, f\"{study_dir}.txt\")\n",
    "\n",
    "    # Parse the report\n",
    "    try:\n",
    "        if os.path.exists(report_path):\n",
    "            report = parse_report(report_path)\n",
    "\n",
    "            # If the report has a findings section, use it\n",
    "            if 'findings' in report:\n",
    "                generated_reports[pred_dicom] = report['findings']\n",
    "            else:\n",
    "                print(f\"Warning: No findings section in report for {nearest_dicom}\")\n",
    "        else:\n",
    "            print(f\"Warning: Report file not found at {report_path}\")\n",
    "    except Exception as e:\n",
    "        print(f\"Error parsing report for {nearest_dicom}: {e}\")\n",
    "\n",
    "print(f\"Generated reports for {len(generated_reports)}/{len(test_df)} test images\")\n",
    "\n",
    "# Save the generated reports to a TSV file\n",
    "print(strftime(\"%Y-%m-%d %H:%M:%S\", gmtime()))\n",
    "\n",
    "pred_file = os.path.join(output_dir, '1nn_reports.tsv')\n",
    "print(f\"Saving 1-NN generated reports to {pred_file}\")\n",
    "\n",
    "with open(pred_file, 'w') as f:\n",
    "    print('dicom_id\\tgenerated', file=f)\n",
    "    for dicom_id, generated in sorted(generated_reports.items()):\n",
    "        # Clean up the text (remove any tabs)\n",
    "        cleaned_text = generated.replace('\\t', ' ')\n",
    "        print(f'{dicom_id}\\t{cleaned_text}', file=f)\n",
    "\n",
    "print(strftime(\"%Y-%m-%d %H:%M:%S\", gmtime()))\n",
    "\n",
    "# Display sample of generated reports\n",
    "sample_count = min(3, len(generated_reports))\n",
    "sample_dicoms = list(generated_reports.keys())[:sample_count]\n",
    "\n",
    "for dicom_id in sample_dicoms:\n",
    "    print(f\"\\nSample report for {dicom_id}:\")\n",
    "    report_text = generated_reports[dicom_id]\n",
    "\n",
    "    # Print preview of the report (first 200 characters)\n",
    "    if len(report_text) > 200:\n",
    "        print(report_text[:200] + \"...\")\n",
    "    else:\n",
    "        print(report_text)"
   ],
   "outputs": [
    {
     "name": "stderr",
     "output_type": "stream",
     "text": [
      "Generating reports using 1-NN: 100%|██████████| 1757/1757 [00:00<00:00, 2762.53it/s]"
     ]
    },
    {
     "name": "stdout",
     "output_type": "stream",
     "text": [
      "Generated reports for 1757/1757 test images\n",
      "2025-04-25 17:13:40\n",
      "Saving 1-NN generated reports to /Users/simeon/Documents/DLH/content/mimic-cxr-project/output/1nn_reports.tsv\n",
      "2025-04-25 17:13:40\n",
      "\n",
      "Sample report for 20386a2d-1f7a8868-f12e22ac-0d625d27-4c38c8e2:\n",
      "cardiac size is normal. peribronchial opacities in the left perihilar region have minimally increased. there is no pneumothorax or pleural effusion.\n",
      "\n",
      "Sample report for 63100eab-9e8a8d90-392bc822-325de482-69a64e3b:\n",
      "the patient is intubated. the endotracheal tube terminates about 6 cm above the carina. an orogastric tube terminates in the stomach although the sidehole indicator projects over the distal esophagus....\n",
      "\n",
      "Sample report for 17269efa-b016a94d-1361e8df-ac428071-d1133672:\n",
      "cardiac size is normal. the lungs are clear. there is no pneumothorax or pleural effusion.\n"
     ]
    },
    {
     "name": "stderr",
     "output_type": "stream",
     "text": [
      "\n"
     ]
    }
   ],
   "execution_count": 72
  },
  {
   "metadata": {},
   "cell_type": "code",
   "outputs": [],
   "execution_count": null,
   "source": ""
  },
  {
   "metadata": {},
   "cell_type": "code",
   "outputs": [],
   "execution_count": null,
   "source": ""
  }
 ]
}
