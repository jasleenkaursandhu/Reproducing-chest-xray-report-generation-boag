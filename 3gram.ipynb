{
  "nbformat": 4,
  "nbformat_minor": 0,
  "metadata": {
    "colab": {
      "provenance": [],
      "machine_shape": "hm",
      "gpuType": "V5E1",
      "authorship_tag": "ABX9TyOKrt449OwJSLU7WE1mNu7R",
      "include_colab_link": true
    },
    "kernelspec": {
      "name": "python3",
      "display_name": "Python 3"
    },
    "language_info": {
      "name": "python"
    },
    "accelerator": "TPU"
  },
  "cells": [
    {
      "cell_type": "markdown",
      "metadata": {
        "id": "view-in-github",
        "colab_type": "text"
      },
      "source": [
        "<a href=\"https://colab.research.google.com/github/jasleenkaursandhu/Reproducing-chest-xray-report-generation-boag/blob/main/3gram.ipynb\" target=\"_parent\"><img src=\"https://colab.research.google.com/assets/colab-badge.svg\" alt=\"Open In Colab\"/></a>"
      ]
    },
    {
      "cell_type": "code",
      "execution_count": 1,
      "metadata": {
        "id": "sP0BluOO0DY1"
      },
      "outputs": [],
      "source": [
        "# N-gram Model for Report Generation\n",
        "# This notebook implements an n-gram language model for chest X-ray report generation.\n",
        "# The model selects the most similar training images for each test image and builds a language model from their reports.\n"
      ]
    },
    {
      "cell_type": "code",
      "source": [
        "# docker image code to made files labelled for chexpert\n",
        "# For 1-gram\n",
        "##docker run --platform linux/amd64 -v /Users/jasleensandhu/Desktop/CS598DLH:/data uwizeye2/chexpert-labeler:amd64 python label.py --reports_path /data/1gram_headerless.csv --output_path /data/output/labeled_1gram.csv --verbose\n",
        "\n",
        "# For 2-gram\n",
        "##docker run --platform linux/amd64 -v /Users/jasleensandhu/Desktop/CS598DLH:/data uwizeye2/chexpert-labeler:amd64 python label.py --reports_path /data/2gram_headerless.csv --output_path /data/output/labeled_2gram.csv --verbose\n",
        "\n",
        "# For 3-gram\n",
        "##docker run --platform linux/amd64 -v /Users/jasleensandhu/Desktop/CS598DLH:/data uwizeye2/chexpert-labeler:amd64 python label.py --reports_path /data/3gram_headerless.csv --output_path /data/output/labeled_3gram.csv --verbose"
      ],
      "metadata": {
        "id": "YQLrbvAkNmNi"
      },
      "execution_count": 2,
      "outputs": []
    },
    {
      "cell_type": "code",
      "source": [
        "# Import necessary libraries\n",
        "import numpy as np\n",
        "import pandas as pd\n",
        "import os\n",
        "import matplotlib.pyplot as plt\n",
        "from PIL import Image\n",
        "import tqdm\n",
        "from collections import defaultdict, Counter\n",
        "import pickle\n",
        "import gzip\n",
        "import random\n",
        "import re\n",
        "import warnings\n",
        "!pip install pydicom\n",
        "import pydicom\n",
        "from time import gmtime, strftime"
      ],
      "metadata": {
        "colab": {
          "base_uri": "https://localhost:8080/"
        },
        "id": "mOX8yrJv0LFn",
        "outputId": "9d2cf34e-c635-4d75-f144-ec505c0d8454"
      },
      "execution_count": 3,
      "outputs": [
        {
          "output_type": "stream",
          "name": "stdout",
          "text": [
            "Collecting pydicom\n",
            "  Downloading pydicom-3.0.1-py3-none-any.whl.metadata (9.4 kB)\n",
            "Downloading pydicom-3.0.1-py3-none-any.whl (2.4 MB)\n",
            "\u001b[?25l   \u001b[90m━━━━━━━━━━━━━━━━━━━━━━━━━━━━━━━━━━━━━━━━\u001b[0m \u001b[32m0.0/2.4 MB\u001b[0m \u001b[31m?\u001b[0m eta \u001b[36m-:--:--\u001b[0m\r\u001b[2K   \u001b[91m━━━\u001b[0m\u001b[91m╸\u001b[0m\u001b[90m━━━━━━━━━━━━━━━━━━━━━━━━━━━━━━━━━━━━\u001b[0m \u001b[32m0.2/2.4 MB\u001b[0m \u001b[31m6.2 MB/s\u001b[0m eta \u001b[36m0:00:01\u001b[0m\r\u001b[2K   \u001b[91m━━━━━━━━━━━━━━━━━━━━━━━━━━━━━━━━━━\u001b[0m\u001b[91m╸\u001b[0m\u001b[90m━━━━━\u001b[0m \u001b[32m2.1/2.4 MB\u001b[0m \u001b[31m30.4 MB/s\u001b[0m eta \u001b[36m0:00:01\u001b[0m\r\u001b[2K   \u001b[90m━━━━━━━━━━━━━━━━━━━━━━━━━━━━━━━━━━━━━━━━\u001b[0m \u001b[32m2.4/2.4 MB\u001b[0m \u001b[31m26.6 MB/s\u001b[0m eta \u001b[36m0:00:00\u001b[0m\n",
            "\u001b[?25hInstalling collected packages: pydicom\n",
            "Successfully installed pydicom-3.0.1\n"
          ]
        }
      ]
    },
    {
      "cell_type": "code",
      "source": [
        "# Mount Google Drive\n",
        "from google.colab import drive\n",
        "drive.mount('/content/drive')\n",
        "base_path = '/content/drive/MyDrive/mimic-cxr-project'\n",
        "!mkdir -p {base_path}/data\n",
        "!mkdir -p {base_path}/output"
      ],
      "metadata": {
        "colab": {
          "base_uri": "https://localhost:8080/"
        },
        "id": "WANs5gfU0Rki",
        "outputId": "3bec42bd-fa19-4572-e172-6d57fad5c536"
      },
      "execution_count": 4,
      "outputs": [
        {
          "output_type": "stream",
          "name": "stdout",
          "text": [
            "Mounted at /content/drive\n"
          ]
        }
      ]
    },
    {
      "cell_type": "code",
      "source": [
        "# Import the report parser module\n",
        "import sys\n",
        "sys.path.append(f\"{base_path}/modules\")\n",
        "from report_parser import parse_report, MIMIC_RE\n",
        "print(\"Successfully imported report parser module\")"
      ],
      "metadata": {
        "colab": {
          "base_uri": "https://localhost:8080/"
        },
        "id": "75Mq-yU00XtS",
        "outputId": "a2b2c45e-bf75-49a3-a518-6da91fa618d4"
      },
      "execution_count": 5,
      "outputs": [
        {
          "output_type": "stream",
          "name": "stdout",
          "text": [
            "Successfully imported report parser module\n"
          ]
        }
      ]
    },
    {
      "cell_type": "code",
      "source": [
        "# Load train and test data\n",
        "data_dir = os.path.join(base_path, 'data')\n",
        "files_path = os.path.join(base_path, 'files')\n",
        "output_dir = os.path.join(base_path, 'output')\n",
        "features_dir = os.path.join(base_path, 'features')\n",
        "\n",
        "train_df = pd.read_csv(os.path.join(base_path, 'local_output/data/train.tsv'), sep='\\t')\n",
        "test_df = pd.read_csv(os.path.join(base_path, 'local_output/data/test.tsv'), sep='\\t')\n",
        "\n",
        "print(f\"Train data shape: {train_df.shape}\")\n",
        "print(f\"Test data shape: {test_df.shape}\")"
      ],
      "metadata": {
        "colab": {
          "base_uri": "https://localhost:8080/"
        },
        "id": "JZKWVShS0bVI",
        "outputId": "27afdfc5-6eb8-4b20-f578-3a08480185fa"
      },
      "execution_count": 6,
      "outputs": [
        {
          "output_type": "stream",
          "name": "stdout",
          "text": [
            "Train data shape: (4291, 3)\n",
            "Test data shape: (1757, 3)\n"
          ]
        }
      ]
    },
    {
      "cell_type": "code",
      "source": [
        "# Load the top 100 neighbors for each test image\n",
        "neighbors_path = os.path.join(output_dir, 'top100_neighbors.pkl')\n",
        "\n",
        "if os.path.exists(neighbors_path):\n",
        "    with open(neighbors_path, 'rb') as f:\n",
        "        neighbors = pickle.load(f)\n",
        "\n",
        "    print(f\"Loaded neighbors for {len(neighbors)} test images\")\n",
        "    print(f\"Sample neighbors for first test image: {list(neighbors.items())[0][1][:5]}...\")\n",
        "else:\n",
        "    print(f\"Warning: Neighbors file not found at {neighbors_path}\")\n",
        "    print(\"Please run the KNN model first to generate the neighbors file.\")\n",
        "    neighbors = {}\n",
        "    for dicom_id in test_df.dicom_id.values:\n",
        "        neighbors[dicom_id] = random.sample(train_df.dicom_id.tolist(), min(100, len(train_df)))"
      ],
      "metadata": {
        "colab": {
          "base_uri": "https://localhost:8080/"
        },
        "id": "wplhnyXG0fja",
        "outputId": "cd6abca0-743b-4313-e3de-c3eb1f339c84"
      },
      "execution_count": 7,
      "outputs": [
        {
          "output_type": "stream",
          "name": "stdout",
          "text": [
            "Loaded neighbors for 868 test images\n",
            "Sample neighbors for first test image: ['9368d351-90051a0c-c8dc80c0-96a2254d-2a884177', '6cad5cfd-bf8d1805-f3a3906a-588e0bfe-fe5c153d', 'd6c4c0d6-f12c2415-a5b3d2df-bcc4a202-442d3523', 'd18b8527-4c5a26fd-ac1041dd-8f9fd75f-4327f46f', '6083cad9-c1727fa2-b948d959-763ca27c-6391e63b']...\n"
          ]
        }
      ]
    },
    {
      "cell_type": "code",
      "source": [
        "# Map each dicom to its study_id\n",
        "report_id_column = 'study_id'\n",
        "report_lookup = dict(train_df[['dicom_id', report_id_column]].values)\n",
        "print(f\"Created lookup dictionary for {len(report_lookup)} training images\")"
      ],
      "metadata": {
        "colab": {
          "base_uri": "https://localhost:8080/"
        },
        "id": "82hk_03j0poo",
        "outputId": "858c80c6-afaa-43ad-95ba-ac6a20d4467e"
      },
      "execution_count": 8,
      "outputs": [
        {
          "output_type": "stream",
          "name": "stdout",
          "text": [
            "Created lookup dictionary for 4291 training images\n"
          ]
        }
      ]
    },
    {
      "cell_type": "code",
      "source": [
        "# Define tokens for sequence boundaries\n",
        "START = '<START>'\n",
        "END = '<END>'\n",
        "\n",
        "# Build n-gram language model from neighbors\n",
        "def fit(dicom_ids, n=3):\n",
        "    \"\"\"Build language model from the reports of the given dicom_ids\"\"\"\n",
        "    # Language model maps context (n-1 previous words) to possible next words\n",
        "    LM = defaultdict(Counter)\n",
        "\n",
        "    for dicom_id in dicom_ids:\n",
        "        if dicom_id not in report_lookup:\n",
        "            continue\n",
        "\n",
        "        report_id = report_lookup[dicom_id]\n",
        "\n",
        "        # Get corresponding subject_id\n",
        "        subject_row = train_df[train_df.dicom_id == dicom_id]\n",
        "        if len(subject_row) == 0:\n",
        "            continue\n",
        "\n",
        "        subject_id = subject_row.iloc[0]['subject_id']\n",
        "\n",
        "        # Construct path to the report\n",
        "        subject_prefix = f\"p{str(subject_id)[:2]}\"\n",
        "        subject_dir = f\"p{subject_id}\"\n",
        "        study_dir = f\"s{report_id}\"\n",
        "        report_file = f\"{study_dir}.txt\"\n",
        "        report_path = os.path.join(files_path, subject_prefix, subject_dir, report_file)\n",
        "\n",
        "        # Parse the report\n",
        "        try:\n",
        "            if os.path.exists(report_path):\n",
        "                parsed_report = parse_report(report_path)\n",
        "\n",
        "                if 'findings' in parsed_report:\n",
        "                    # Tokenize the findings text\n",
        "                    toks = parsed_report['findings'].replace('.', ' . ').split()\n",
        "\n",
        "                    # Add padding tokens at the beginning and END token at the end\n",
        "                    padded_toks = [START for _ in range(n-1)] + toks + [END]\n",
        "\n",
        "                    # Build n-gram model by counting follow words for each context\n",
        "                    for i in range(len(padded_toks) - n + 1):\n",
        "                        context = tuple(padded_toks[i:i+n-1])\n",
        "                        target = padded_toks[i+n-1]\n",
        "                        sim = 1\n",
        "                        LM[context][target] += sim\n",
        "        except Exception as e:\n",
        "            continue\n",
        "\n",
        "    return LM"
      ],
      "metadata": {
        "id": "z9qIMiLI0wq_"
      },
      "execution_count": 9,
      "outputs": []
    },
    {
      "cell_type": "code",
      "source": [
        "# Sample from the n-gram model\n",
        "def sample(LM, seq_so_far, n):\n",
        "    \"\"\"Sample the next word based on the n-gram language model\"\"\"\n",
        "    last = tuple(seq_so_far[-(n-1):])\n",
        "\n",
        "    if last not in LM or not LM[last]:\n",
        "        # If context not found in model, return END token\n",
        "        return END\n",
        "\n",
        "    words, counts = zip(*LM[last].items())\n",
        "    total = sum(counts)\n",
        "    P = np.array(counts) / total\n",
        "\n",
        "    # Sample next word based on probabilities\n",
        "    choice = np.random.choice(words, p=P)\n",
        "    return choice"
      ],
      "metadata": {
        "id": "f_f30cQv01P3"
      },
      "execution_count": 10,
      "outputs": []
    },
    {
      "cell_type": "code",
      "source": [
        "# Set n-gram size\n",
        "n = 3\n",
        "\n",
        "# Generate reports for test images\n",
        "generated_reports = {}\n",
        "\n",
        "print(f\"Generating reports with {n}-gram model...\")\n",
        "for pred_dicom in tqdm.tqdm(test_df.dicom_id.values):\n",
        "    # Skip if we don't have neighbors for this test image\n",
        "    if pred_dicom not in neighbors:\n",
        "        print(f\"Warning: No neighbors for {pred_dicom}\")\n",
        "        continue\n",
        "\n",
        "    # Build n-gram model from the neighbors' reports\n",
        "    nn = neighbors[pred_dicom]\n",
        "    LM = fit(nn, n=n)\n",
        "\n",
        "    # Skip if model is empty\n",
        "    if not LM:\n",
        "        print(f\"Warning: Empty language model for {pred_dicom}\")\n",
        "        continue\n",
        "\n",
        "    # Handle initialization differently for different n values\n",
        "    if n == 1:\n",
        "        # For 1-gram, we don't need context\n",
        "        generated_toks = []\n",
        "        current = START  # Start token won't actually be used for context\n",
        "    else:\n",
        "        # For n > 1, initialize with n-1 START tokens\n",
        "        generated_toks = [START for _ in range(n-1)]\n",
        "        current = generated_toks[-1]\n",
        "\n",
        "    # Generate until END token or max length\n",
        "    while current != END and len(generated_toks) < 100:\n",
        "        next_word = sample(LM, generated_toks, n)\n",
        "        generated_toks.append(next_word)\n",
        "        current = next_word\n",
        "\n",
        "    # Remove START tokens (if any) and potentially END token\n",
        "    if n > 1:\n",
        "        generated_toks = generated_toks[n-1:]\n",
        "    if generated_toks and generated_toks[-1] == END:\n",
        "        generated_toks = generated_toks[:-1]\n",
        "\n",
        "    # Join tokens into text\n",
        "    generated_text = ' '.join(generated_toks)\n",
        "    generated_reports[pred_dicom] = generated_text\n",
        "\n",
        "print(f\"Generated reports for {len(generated_reports)} test images\")"
      ],
      "metadata": {
        "colab": {
          "base_uri": "https://localhost:8080/"
        },
        "id": "mXx2HKrD055T",
        "outputId": "13f8aab2-9e40-485f-a205-299d1921c754"
      },
      "execution_count": 11,
      "outputs": [
        {
          "output_type": "stream",
          "name": "stdout",
          "text": [
            "Generating reports with 3-gram model...\n"
          ]
        },
        {
          "output_type": "stream",
          "name": "stderr",
          "text": [
            "\r  0%|          | 0/1757 [00:00<?, ?it/s]"
          ]
        },
        {
          "output_type": "stream",
          "name": "stdout",
          "text": [
            "Warning: No neighbors for 20386a2d-1f7a8868-f12e22ac-0d625d27-4c38c8e2\n"
          ]
        },
        {
          "output_type": "stream",
          "name": "stderr",
          "text": [
            "  0%|          | 5/1757 [06:00<23:43:04, 48.74s/it]"
          ]
        },
        {
          "output_type": "stream",
          "name": "stdout",
          "text": [
            "Warning: No neighbors for 268c87e2-c9cf22b6-4e871e86-9a081d17-d5402bc4\n",
            "Warning: No neighbors for 366aa7ca-0c7b3076-eb964579-ab0ccf0f-6b46ef45\n",
            "Warning: No neighbors for 22ff0680-946dd519-e4cb566b-fbddf539-e54dcde0\n",
            "Warning: No neighbors for fe0a5cbc-3fec6bf2-463a9d6f-779f9f6d-41e98b22\n",
            "Warning: No neighbors for 0f7ad538-cb1d2b07-924cdfeb-4c534e1c-0313c020\n",
            "Warning: No neighbors for 610f6787-54f8a941-186bf064-4362ccb3-06533b3d\n",
            "Warning: No neighbors for d0d053c9-6a404ade-bad671b6-4683e56a-5c322529\n",
            "Warning: No neighbors for e0ca71fb-00c8fc10-5a9e67c0-18fd3112-4b75acee\n"
          ]
        },
        {
          "output_type": "stream",
          "name": "stderr",
          "text": [
            "\r  1%|          | 14/1757 [06:22<5:17:35, 10.93s/it]"
          ]
        },
        {
          "output_type": "stream",
          "name": "stdout",
          "text": [
            "Warning: No neighbors for 8fade1d4-9b006ebc-b04327f9-6caa954a-f00bb536\n",
            "Warning: No neighbors for 01aac77d-a1129f0f-8c3dbfc1-52c5bc3a-d8b70377\n"
          ]
        },
        {
          "output_type": "stream",
          "name": "stderr",
          "text": [
            "  1%|          | 18/1757 [06:49<4:37:45,  9.58s/it]"
          ]
        },
        {
          "output_type": "stream",
          "name": "stdout",
          "text": [
            "Warning: No neighbors for 6effe6c0-b879743a-10841ac1-800561e1-ebbb3fa1\n",
            "Warning: No neighbors for 86485c46-20d13185-5fb375b3-737b598c-4d7484ea\n",
            "Warning: No neighbors for d21c5ba5-5efd8956-3399f0ca-78acbf6e-debeadea\n",
            "Warning: No neighbors for fa31aff9-67d5930d-5e4cb9e4-840362a2-e24e812c\n",
            "Warning: No neighbors for 043020b8-7b8738d8-8be8f73d-4cb29993-d84a223b\n",
            "Warning: No neighbors for a3eb9225-6d694bbe-1ff2fad5-3be10f3d-d5633889\n",
            "Warning: No neighbors for dbd80257-a7aeaab4-94515142-a9a9c81e-b97f7b1d\n",
            "Warning: No neighbors for 366d72fb-f4dfbea7-6f7e162d-bfb7d4f8-231f5b94\n",
            "Warning: No neighbors for 40be6281-0fde476f-0ff8ce77-5159c8fd-2b94c12b\n",
            "Warning: No neighbors for d961e6d1-672bb1a9-2e6e18be-20cf4fc7-638c0f22\n",
            "Warning: No neighbors for eae0adf3-70e28286-c1c05dec-e11dd1a2-de739298\n",
            "Warning: No neighbors for dde2e1fe-adeab95d-c45273f0-0326b355-b2c7013f\n"
          ]
        },
        {
          "output_type": "stream",
          "name": "stderr",
          "text": [
            "  2%|▏         | 38/1757 [08:17<3:20:48,  7.01s/it]"
          ]
        },
        {
          "output_type": "stream",
          "name": "stdout",
          "text": [
            "Warning: No neighbors for 59176ef8-bb57fa9f-438f8f06-4fa20cbd-e0c578eb\n",
            "Warning: No neighbors for c0ad243e-17f0eb99-50afe0a8-9254f123-3b728ebf\n",
            "Warning: No neighbors for 507fb7ec-242cdea9-3181d65f-1b564835-bfe89456\n",
            "Warning: No neighbors for 98402132-328a7c29-fbb94a86-d42657d6-fd86838e\n"
          ]
        },
        {
          "output_type": "stream",
          "name": "stderr",
          "text": [
            "  3%|▎         | 44/1757 [08:37<2:13:10,  4.66s/it]"
          ]
        },
        {
          "output_type": "stream",
          "name": "stdout",
          "text": [
            "Warning: No neighbors for ea24ef0f-932cc375-bd70082b-32f8980d-13d9aee9\n",
            "Warning: No neighbors for 3a899cd7-92802db2-06ccab15-017c4c7d-106b1603\n",
            "Warning: No neighbors for b9622100-9ecc74c8-7d951737-1f85b5f2-21a597b2\n",
            "Warning: No neighbors for 00ee8ded-6f5ef747-30e88406-cc8f744c-faa28acd\n"
          ]
        },
        {
          "output_type": "stream",
          "name": "stderr",
          "text": [
            "\r  3%|▎         | 49/1757 [08:42<1:20:42,  2.84s/it]"
          ]
        },
        {
          "output_type": "stream",
          "name": "stdout",
          "text": [
            "Warning: No neighbors for efdf94cd-f34e2ff4-c8116b5f-944c9402-06e928e9\n",
            "Warning: No neighbors for 6e14d2cb-fae1c5e2-9c11d226-cac2612e-e59e487d\n",
            "Warning: No neighbors for 2feb3833-7773f9b8-c461ba9f-99a6af25-9e53c0a7\n",
            "Warning: No neighbors for 01a386b9-88f4b926-c297481a-a7adf255-f6fa85dc\n",
            "Warning: No neighbors for f4112064-509903aa-b925472f-9ea3975e-e9e2a1fd\n",
            "Warning: No neighbors for c2741ea9-2c96b83e-e33faf54-9f376299-fa00c10c\n",
            "Warning: No neighbors for 4007a9b2-c79ae43b-345f2f5f-b8474a01-c891b6d5\n",
            "Warning: No neighbors for a6b2a43d-8fc069f1-1f7a5385-98793f07-606a4462\n",
            "Warning: No neighbors for 5eb6e418-4dde49b0-b6cefb33-8fdedc68-fc21b5c0\n",
            "Warning: No neighbors for 28dfe215-a9946a3c-c2f4f658-c518fc36-45459f1a\n",
            "Warning: No neighbors for c7195edb-f7b6bd00-31bb6581-cd54930c-e301260b\n",
            "Warning: No neighbors for 46266e31-b76bb2a9-d4bfafe4-45542376-b9d9cdc9\n",
            "Warning: No neighbors for fcfff3ad-71579dbf-b145e850-00c71ca4-3cf42320\n",
            "Warning: No neighbors for 4f0b0587-8a5841f0-4812d59c-8f4c2201-e0b3f6a0\n",
            "Warning: No neighbors for 5039f9a6-9c114946-98bbe2b8-01165649-e2a98744\n",
            "Warning: No neighbors for 7d276139-567574bd-4a5a4cb0-776d8b56-853e038b\n",
            "Warning: No neighbors for e1e64816-361f49d9-de8bfa80-6b20d948-e868d041\n",
            "Warning: No neighbors for 68792493-db0b4099-259e5cc1-2d7dbbd9-3b0c49fd\n",
            "Warning: No neighbors for 84fcd8a6-3bc7ecaa-57dedb65-b407ea5e-f039f0cc\n",
            "Warning: No neighbors for 4f33ab0c-6cc0cc71-f20d0814-1b77a28a-cd27d9ce\n",
            "Warning: No neighbors for d833a02a-09994bb1-59dfaa2f-a34787c0-8de4112a\n"
          ]
        },
        {
          "output_type": "stream",
          "name": "stderr",
          "text": [
            "  4%|▍         | 72/1757 [09:11<47:33,  1.69s/it]"
          ]
        },
        {
          "output_type": "stream",
          "name": "stdout",
          "text": [
            "Warning: No neighbors for 4ce76217-10334a67-075bf1a1-e908ea52-bc14da4e\n",
            "Warning: No neighbors for cf7eebc8-ca923c0a-8962830d-f3714f67-254909f5\n",
            "Warning: No neighbors for 61b4f4ae-cd6ef8b3-050daa18-253bda7e-b1c10246\n",
            "Warning: No neighbors for 4ec8c3fa-5a1cad79-b3923ba7-87269afa-5cf7f670\n",
            "Warning: No neighbors for 8c295118-0d590369-21de2213-312374d8-50c8a349\n",
            "Warning: No neighbors for fc75e61c-ee134385-a5d0e01b-695f8125-2ed13ad2\n",
            "Warning: No neighbors for 65092dc6-e28f8832-f5759cfd-da7ed52b-1216368a\n",
            "Warning: No neighbors for c798a0a1-313e654c-803ae7a0-7af5c482-4af044c8\n",
            "Warning: No neighbors for 0930126f-8e19d0e4-0f09ffaa-40814262-4a2ae9dd\n",
            "Warning: No neighbors for aa937c39-a5e9dad0-97e354df-2c31e1ec-bb06cce5\n",
            "Warning: No neighbors for 46d18434-da45a0ce-00e984dd-efe80a0c-70232ce0\n",
            "Warning: No neighbors for 8cf80967-a751a50f-0fd9f7f0-fc47c3a4-168e7eea\n",
            "Warning: No neighbors for 6dba15e1-4ce611e8-4cd69927-e215740d-c36ef404\n",
            "Warning: No neighbors for 33f329b1-e9c6b3a1-799008a3-fbb19847-c3f77a18\n",
            "Warning: No neighbors for 10ece452-db4d628a-b4c66c56-8dd73d27-4216bd5d\n",
            "Warning: No neighbors for 8dd754fc-9ee6546f-9770d072-ecc92a1f-401f1f1c\n",
            "Warning: No neighbors for 1ffee2ab-104647a5-fec62c69-44fbfed1-514baa10\n",
            "Warning: No neighbors for b2fa3ac0-089623a3-86036ce5-7080cca7-b9e7de18\n",
            "Warning: No neighbors for 3b6bd38d-c79336b7-fd1b4e6e-ce3596fd-6df90cd9\n",
            "Warning: No neighbors for b269431c-437db369-12b0f479-5dd764e8-9b2141f7\n",
            "Warning: No neighbors for 9c1bd11e-79b95a1f-bbfa92bd-b924199d-69b4a516\n",
            "Warning: No neighbors for 3d431c36-32cbe508-61e1ff79-c524d1fb-7dde9b74\n",
            "Warning: No neighbors for c44b4c3e-bcde0370-04d2d275-9e87d597-cb6748bd\n",
            "Warning: No neighbors for 3133a47a-a4e2342a-0266549a-d5bd8fdc-80d7ba54\n",
            "Warning: No neighbors for 7cef6cfe-5625127a-7e619ec4-94a451bd-2d55b987\n",
            "Warning: No neighbors for f6223152-1d37201a-216d3501-b150b97a-dcdc36e9\n",
            "Warning: No neighbors for aa5c4078-e0ba50ea-a8038092-436f8fc6-6fc38d52\n",
            "Warning: No neighbors for cdd1bd42-770fcd05-16836b10-98a10e4a-f7b45ac2\n",
            "Warning: No neighbors for 7cd0f5cb-060c9001-29445166-6eb947e7-2c100c5a\n",
            "Warning: No neighbors for 93f4b15d-655d739b-d607ece7-480d62e6-1d328147\n",
            "Warning: No neighbors for 5edd2ba2-cd460177-1903c368-28d0798b-a6248e9e\n",
            "Warning: No neighbors for 41d0a4df-c4f54e51-5342633c-d771d273-c4571a47\n",
            "Warning: No neighbors for 603eca96-1f85f1ad-a54b4342-591627aa-9ee28aa9\n",
            "Warning: No neighbors for fc000f4a-980d8554-bf5b3164-8b13383b-fc24d6ba\n",
            "Warning: No neighbors for 509c769b-d7e1fc7e-d5cba610-a5640cb6-c0b4dbf2\n",
            "Warning: No neighbors for 7b976648-41984bd2-ca5c093e-c9a4e4fe-ac139ddf\n",
            "Warning: No neighbors for 822e0911-2737cb1a-10f4f452-5a88c22d-a3d52f2d\n",
            "Warning: No neighbors for 3ba8755e-8f5ff01f-63b61694-38a82a6e-96477973\n",
            "Warning: No neighbors for 2d044695-44510faf-d4190164-32f7d246-2739fc6b\n",
            "Warning: No neighbors for f06fa584-5acd4abf-ce4a64eb-6211e40f-b89a78fd\n",
            "Warning: No neighbors for ccf608a8-995224af-4eeb9698-d83b7754-994e0e94\n",
            "Warning: No neighbors for 0acdb06c-1ae587d4-a6562e19-ea4e7327-f143007a\n",
            "Warning: No neighbors for a18161f9-a945f468-af924ccc-4aaacf63-b7b4bce3\n",
            "Warning: No neighbors for 0904c2a7-9dc6f55c-2ecf4de7-3cf78011-df69a3a8\n",
            "Warning: No neighbors for 42a62130-5572058c-ab715bda-4ebef795-f6f50faa\n",
            "Warning: No neighbors for 180ed417-c96d755d-09569c8a-483bbe86-07c05701\n",
            "Warning: No neighbors for 5c23d7da-d28caf60-8dc3f9a8-436f823e-9f106394\n",
            "Warning: No neighbors for 0d34fc54-a7a4480e-df308246-f021737a-33658542\n",
            "Warning: No neighbors for d3914782-be2b7581-a3b98a90-e9941e72-d9542439\n"
          ]
        },
        {
          "output_type": "stream",
          "name": "stderr",
          "text": [
            "  7%|▋         | 125/1757 [09:46<37:52,  1.39s/it]"
          ]
        },
        {
          "output_type": "stream",
          "name": "stdout",
          "text": [
            "Warning: No neighbors for 1fecebd8-a23e1415-1e1a2301-954eeff6-7d334257\n",
            "Warning: No neighbors for 6eca4145-a9b36d3f-569307a0-0fbefa44-53167b54\n",
            "Warning: No neighbors for 62d46a92-e868b17e-d97156c6-8e2e4306-a9643d61\n",
            "Warning: No neighbors for 89b50ef6-f37da321-e31beb31-7dd079d2-4761e736\n",
            "Warning: No neighbors for 0f4dfca5-c29b3f3b-09057d09-41968486-a5aad3b0\n",
            "Warning: No neighbors for 4fc00b8a-a49d1765-f99c511a-0fe7e0c1-38c12c89\n",
            "Warning: No neighbors for 87dd13c0-24dd5ee7-cc0a216d-f72fedd3-26114a19\n",
            "Warning: No neighbors for 1fc84e40-0ca6f205-283981a6-c3ac6206-3ec50775\n"
          ]
        },
        {
          "output_type": "stream",
          "name": "stderr",
          "text": [
            "\r  8%|▊         | 134/1757 [10:10<49:53,  1.84s/it]"
          ]
        },
        {
          "output_type": "stream",
          "name": "stdout",
          "text": [
            "Warning: No neighbors for 3055687b-ee871e3f-d364e764-49a25cbe-f4fbeddf\n",
            "Warning: No neighbors for 73ee1b95-dd93033e-63152b1f-b104b1fe-f6f44e37\n",
            "Warning: No neighbors for 067c7d67-a156f51a-ebd320ae-59381cc9-dbc7db57\n",
            "Warning: No neighbors for e1efd90a-1d639004-9f5da8be-054358a3-7ece95f3\n",
            "Warning: No neighbors for 4204fb32-f80bd7ab-2c5069ca-1e7ef937-0b745d12\n",
            "Warning: No neighbors for 71230067-ada5fdd2-ed36a2a2-3d55d321-d60a3d29\n",
            "Warning: No neighbors for b653e81d-6625c1ef-c60932fe-77bb03e5-8253e22b\n",
            "Warning: No neighbors for e3a5e545-1df5a156-a44dbc7a-aab8008a-321d21c9\n",
            "Warning: No neighbors for 48fcb2be-7e69b0cc-85f054c7-41893c4e-82a4ea9a\n",
            "Warning: No neighbors for 6d85317a-74f82364-60be4ce6-2c0cb65d-3420bf1e\n",
            "Warning: No neighbors for 7f7346e9-c1f9639f-8e83f5bc-f166c421-69f3b162\n",
            "Warning: No neighbors for 38d17836-6555250d-9a2d1b48-8b01dd94-beb28d5d\n",
            "Warning: No neighbors for 673b0948-b307ba0e-24bad12d-e5545246-0c519935\n",
            "Warning: No neighbors for 53449fda-2f7ffa54-ffb74439-0a3bc814-8e398fa6\n",
            "Warning: No neighbors for 40bf323c-cd1c7868-f86a0256-a9a79a9a-b840abee\n"
          ]
        },
        {
          "output_type": "stream",
          "name": "stderr",
          "text": [
            "\r  9%|▊         | 150/1757 [10:14<28:43,  1.07s/it]"
          ]
        },
        {
          "output_type": "stream",
          "name": "stdout",
          "text": [
            "Warning: No neighbors for 62a1d5b7-b68305eb-0c07a4df-8b232378-58275268\n",
            "Warning: No neighbors for 9d801ec7-c24f1cfb-6ee86229-7932d77c-777ac363\n",
            "Warning: No neighbors for 73cd6ad6-26caa5d1-2d4fe7a8-8a02f5ec-47d1bda3\n",
            "Warning: No neighbors for cf541112-b416255c-42168e39-58dd5a05-4cd0956f\n",
            "Warning: No neighbors for 8ac4375f-e2c24ee9-f72bbc9d-f28728d6-67f9faff\n",
            "Warning: No neighbors for 7eaa3e38-df4f4e4b-9913d969-7d263629-eecd350b\n",
            "Warning: No neighbors for 5742500a-feaa5655-d35388fe-fbc5256f-877e0e85\n",
            "Warning: No neighbors for 8147c381-535854a0-e4fb19d5-e4f8b0d0-fbc567a6\n",
            "Warning: No neighbors for 02614eb5-e143a78b-19cac71a-cd3998f7-ab05533b\n",
            "Warning: No neighbors for 5100a5a0-e1c53d5e-fd2d6763-1dc17f0d-51e71911\n",
            "Warning: No neighbors for 67878389-30ef146d-2921944b-53f35e77-712d6d91\n",
            "Warning: No neighbors for 26eb0505-94f89ade-0bbe9bf9-96223d31-0b477c04\n",
            "Warning: No neighbors for fdbf0522-d9ce3aed-e90951a1-da0dc912-b5109cb4\n",
            "Warning: No neighbors for 7196684a-6e69b74f-dfccd301-db045cfb-e029bef4\n",
            "Warning: No neighbors for 22294cd4-9d4571d6-edb2582c-5d3c88c5-7c796ce8\n",
            "Warning: No neighbors for f1e7588a-50678405-4455a8a6-d64eb785-9fe72690\n"
          ]
        },
        {
          "output_type": "stream",
          "name": "stderr",
          "text": [
            "\r 10%|▉         | 167/1757 [10:21<21:30,  1.23it/s]"
          ]
        },
        {
          "output_type": "stream",
          "name": "stdout",
          "text": [
            "Warning: No neighbors for 887c9b66-2130c317-43a2384a-4c8ad29b-8a987d0d\n",
            "Warning: No neighbors for 5033688f-776a216e-0f94e4e4-99c8c072-f0424da3\n"
          ]
        },
        {
          "output_type": "stream",
          "name": "stderr",
          "text": [
            "\r 10%|▉         | 170/1757 [10:26<23:47,  1.11it/s]"
          ]
        },
        {
          "output_type": "stream",
          "name": "stdout",
          "text": [
            "Warning: No neighbors for c06b5147-a3d8b9de-99a4de19-c713f8f0-de59bc99\n",
            "Warning: No neighbors for e0473257-2d42b895-7e1bd2be-a823b6a4-a5f100a3\n",
            "Warning: No neighbors for cbe6e39a-75063923-89ae31df-d701024f-c1980f17\n",
            "Warning: No neighbors for e10c9da3-11747fe0-6edd842a-20eb384c-217167ea\n",
            "Warning: No neighbors for 256db2be-379dc3c8-fe395e9c-58c51a9c-efef12f7\n",
            "Warning: No neighbors for e5cd1967-e1482e23-d14fdf25-253ff8f3-b13b4bef\n",
            "Warning: No neighbors for 7b8c6837-ea341e79-e76983a3-7db14dfc-ac990ebb\n",
            "Warning: No neighbors for 933648ee-ec6e325c-8e87a467-e32b70fd-b558e5ad\n",
            "Warning: No neighbors for 78e28f8c-fc928714-2cdc13f2-e6e45d40-89cb7eca\n",
            "Warning: No neighbors for 8e91d93a-8b0a9ff7-38b65aa2-d103711f-3a2c32ee\n",
            "Warning: No neighbors for 3314ae8d-d964c435-7ef3e7d5-1d84da84-2ce78d18\n"
          ]
        },
        {
          "output_type": "stream",
          "name": "stderr",
          "text": [
            " 11%|█         | 192/1757 [10:50<1:09:06,  2.65s/it]"
          ]
        },
        {
          "output_type": "stream",
          "name": "stdout",
          "text": [
            "Warning: No neighbors for 7b13c91c-76035543-a9b303dd-d8e8e341-a31f0322\n",
            "Warning: No neighbors for 765b37cd-08acf1e9-fc6d8a0d-68e8c455-a63804f2\n",
            "Warning: No neighbors for 4c7e0bc5-e5a73f8c-bfa937b1-360c5f25-3d5577f2\n",
            "Warning: No neighbors for b7d0737e-88b8962c-7e7b031a-134b334f-a07b6767\n",
            "Warning: No neighbors for 53a875b2-e607444b-9f38ef96-fd8c9212-ef675054\n",
            "Warning: No neighbors for 90c29ba7-aa39a11a-848e9a60-ea9e4d0e-97b1fbf7\n",
            "Warning: No neighbors for f06546d2-cda57a4c-17e7cefd-f4b40310-56387024\n",
            "Warning: No neighbors for 631c9780-9914c56b-0ca41877-cf9e2c42-d6a0e17d\n",
            "Warning: No neighbors for 8f668c53-fc32b006-1f6691af-b4233057-51d1f69f\n",
            "Warning: No neighbors for 46fa4840-9dd9f87d-15a8fc36-dfc9b23a-36ff531a\n",
            "Warning: No neighbors for ab3e6560-aefbfcec-f8835a02-194b4e0b-f5283e3d\n",
            "Warning: No neighbors for 45cef00b-62e86057-f0a1ddaa-3e2ab5a4-ab2cd9d3\n",
            "Warning: No neighbors for 426b2c0d-9057b8cb-825d9e67-ca6c8b9b-629cde81\n",
            "Warning: No neighbors for 14c03708-7ffde649-23a6f75c-4bdefe71-4a965c6d\n",
            "Warning: No neighbors for 7706c9a2-3ed1835e-8c795f8c-fd0de9b9-558c57bf\n",
            "Warning: No neighbors for c3e96ef6-3be43b56-9ba7642d-5782cc99-c297900e\n",
            "Warning: No neighbors for fa908c33-40f01f51-eb87fb8f-e99b9b30-1c923851\n",
            "Warning: No neighbors for d4a814ef-2902925c-1e66d6c4-2e737317-17025bc0\n"
          ]
        },
        {
          "output_type": "stream",
          "name": "stderr",
          "text": [
            " 12%|█▏        | 212/1757 [11:11<33:07,  1.29s/it]"
          ]
        },
        {
          "output_type": "stream",
          "name": "stdout",
          "text": [
            "Warning: No neighbors for 9d34571d-3da21a18-a746f2da-34e74f57-aa34a922\n",
            "Warning: No neighbors for 4ada3682-1938280b-fd6388fd-6280d7bf-356fceff\n",
            "Warning: No neighbors for b2898b53-41330663-c8c1e820-62ad9f0c-cb31b205\n",
            "Warning: No neighbors for 0b36458b-55508984-e7cedfd9-17402231-77d34d6e\n",
            "Warning: No neighbors for 9591d15e-700523ec-5b7f23fe-67a41205-d362ac7f\n",
            "Warning: No neighbors for 3312a832-f910ba5e-b54cd6f5-856e4d03-8af309c0\n",
            "Warning: No neighbors for ede6a58c-27e63584-f424d9c4-56f3dc7d-68464d93\n",
            "Warning: No neighbors for 5a9bebd3-b0204105-8ecdf6dc-5da2996b-eaa0231d\n"
          ]
        },
        {
          "output_type": "stream",
          "name": "stderr",
          "text": [
            " 13%|█▎        | 222/1757 [11:14<21:48,  1.17it/s]"
          ]
        },
        {
          "output_type": "stream",
          "name": "stdout",
          "text": [
            "Warning: No neighbors for 62765588-de6cc907-17df46be-f0c2c2e2-3e302f10\n",
            "Warning: No neighbors for ea245c05-69862ece-01e5f163-4739d4bd-115adb08\n",
            "Warning: No neighbors for c7b600a7-20e055cb-a4c2d7ff-5c66bf8a-e87e18be\n",
            "Warning: No neighbors for 9687d862-31b6e2f2-127d3454-72323d37-18d57a5c\n",
            "Warning: No neighbors for 4c3c22f7-37f56d4f-2f354d41-27b83fa8-4eccf995\n",
            "Warning: No neighbors for c38aabb4-f8000527-466fb57d-22e44944-83ddea83\n",
            "Warning: No neighbors for 1a9c3128-7a47bdd2-4cf78097-a7529d89-52f3e39d\n",
            "Warning: No neighbors for db20e7f5-acbfa547-9d90cbb7-d941c886-84619e85\n",
            "Warning: No neighbors for 2378bac7-50f462ee-262fdc0d-6baca17b-e7833966\n",
            "Warning: No neighbors for 938f4b30-41b0d4a3-7228d548-323e0f3f-f0f661cb\n",
            "Warning: No neighbors for 95421c25-938c576c-41d992bf-43261eb5-223b7082\n",
            "Warning: No neighbors for 59ae55e5-0bc0df76-b02e82a5-af797057-4967ff35\n",
            "Warning: No neighbors for e86ea67d-81f03a4f-6592e633-46370ca8-91454687\n",
            "Warning: No neighbors for c117dbd4-d24326f9-01630048-0a83821e-df9866ac\n",
            "Warning: No neighbors for 17a836cc-3c9b4662-3f422376-117b585f-9c0ea28a\n",
            "Warning: No neighbors for 25b67f59-9987d32d-96227062-9029ec8c-61e624bb\n",
            "Warning: No neighbors for 640d038d-cf6c0559-0ec76cb3-a752a3f2-4db8c5d6\n",
            "Warning: No neighbors for 73cf5ae1-a06e37b9-fb133485-e4065e31-e351a2bb\n",
            "Warning: No neighbors for c8bcb751-137d8085-173fc5da-65247062-99cb3ff8\n",
            "Warning: No neighbors for faa385a7-2aabaa4d-56ed5519-58cacd3d-b39010bc\n",
            "Warning: No neighbors for a374afce-c935765b-5c694123-c0494368-772c38b3\n",
            "Warning: No neighbors for 82f986bc-24d7a9f0-b3ca1a2e-0189b576-07dcb01b\n",
            "Warning: No neighbors for fa925921-6c282b2e-73ccb8a0-03c111fb-c8cddc4d\n",
            "Warning: No neighbors for d9fd9898-c06fce31-f68c1a84-b42afa11-1f55e294\n",
            "Warning: No neighbors for 9d2a7efc-3501ba26-0a6c8785-4b39e4ae-184d60db\n",
            "Warning: No neighbors for 26a61897-1f88db38-54fbdb9d-fbcf2c46-6d721224\n",
            "Warning: No neighbors for 25db4164-ffbb7162-8072adf2-2cead367-a2e95580\n",
            "Warning: No neighbors for 4bdde0a0-e17335b1-8ba03022-dd93b310-1ccca1f5\n",
            "Warning: No neighbors for d9fc1c51-10464a84-1e991d07-1ea5a45a-1eb2f128\n"
          ]
        },
        {
          "output_type": "stream",
          "name": "stderr",
          "text": [
            "\r 14%|█▍        | 252/1757 [11:18<07:45,  3.23it/s]"
          ]
        },
        {
          "output_type": "stream",
          "name": "stdout",
          "text": [
            "Warning: No neighbors for 500bbbdf-966e91a0-474e045e-81e494ac-7c6124f7\n",
            "Warning: No neighbors for 484ca0d6-e0510e6a-02e24b02-133b02fb-2d0dac7b\n",
            "Warning: No neighbors for 5e99ed26-6d351f54-ac4784fd-951b973e-766a2739\n",
            "Warning: No neighbors for c8f7dbb6-8f6eb2a6-4a87b7fd-19bfae43-d50a7d2e\n",
            "Warning: No neighbors for e70a21a0-f9e8691b-2f8a8e85-90690ae4-6e8ec28d\n",
            "Warning: No neighbors for 8ac34172-cda9f036-ae00c951-33ac2ed2-5c168384\n",
            "Warning: No neighbors for 9669c0cb-6bce22a2-77d6d253-f469ac58-4942e314\n",
            "Warning: No neighbors for e0e87068-35d63f34-471f768b-75dad3cc-4389caa5\n",
            "Warning: No neighbors for bbbfeb01-35e82593-eb784a01-25cc587c-03e0a1cc\n",
            "Warning: No neighbors for 8d2e26f4-bdc48aeb-98ba54d3-c669d21f-b62c76ff\n",
            "Warning: No neighbors for 3050b3b9-ddb22acd-c1a266f0-94e0dcb0-2e353e32\n",
            "Warning: No neighbors for d34674c5-aeaa86de-50dfa1bf-92b00322-dc0852c6\n"
          ]
        },
        {
          "output_type": "stream",
          "name": "stderr",
          "text": [
            "\r 15%|█▌        | 265/1757 [11:30<12:50,  1.94it/s]"
          ]
        },
        {
          "output_type": "stream",
          "name": "stdout",
          "text": [
            "Warning: No neighbors for 9b77c647-055da5a9-75e69121-aafbb865-84d71d1d\n",
            "Warning: No neighbors for ce336897-f4474e35-804d89f8-c068acfd-d455ed8a\n",
            "Warning: No neighbors for 6f9f39b1-8995904e-4d073f29-fe6e534a-bb54bbde\n",
            "Warning: No neighbors for d9c0cb4a-09a3d5d9-d579e948-e02c5da9-3711e54f\n",
            "Warning: No neighbors for 10a0ee77-0bf82d23-cb329822-659ebbd8-0fa78ce0\n",
            "Warning: No neighbors for 97001531-ff0bb745-df6b078e-1318a47a-5e560fea\n",
            "Warning: No neighbors for 9aec41cc-3d4a4cb0-9b5b077e-91e0d326-aa671cf0\n",
            "Warning: No neighbors for 2cc12c9c-22c642d3-eedec8cf-dbc723cd-8008d2a4\n",
            "Warning: No neighbors for fb3dcdf0-c69fd693-e2cf7bc6-d5b94afb-aa864654\n",
            "Warning: No neighbors for f4507be5-92217e8c-0dcd7505-3f0fbde9-02f77aa8\n",
            "Warning: No neighbors for 6be566a8-8bd39c77-d5514ee9-5239db96-3f2a653d\n"
          ]
        },
        {
          "output_type": "stream",
          "name": "stderr",
          "text": [
            "\r 16%|█▌        | 277/1757 [11:31<09:22,  2.63it/s]"
          ]
        },
        {
          "output_type": "stream",
          "name": "stdout",
          "text": [
            "Warning: No neighbors for 38a5a0b8-db00956a-bfaf801b-89fac79f-310c4508\n"
          ]
        },
        {
          "output_type": "stream",
          "name": "stderr",
          "text": [
            "\r 16%|█▌        | 279/1757 [11:35<11:58,  2.06it/s]"
          ]
        },
        {
          "output_type": "stream",
          "name": "stdout",
          "text": [
            "Warning: No neighbors for 88522319-964533d6-68a96ab4-e13a1e5f-83947360\n",
            "Warning: No neighbors for 47521855-167c3aab-24597077-715c9f55-63e6d9e1\n",
            "Warning: No neighbors for 6f31965c-1d519ef0-a669f5f1-5d5235bf-5d809780\n",
            "Warning: No neighbors for a1e6ecef-6996af99-22e8bf13-d2194dcc-8bcf635f\n",
            "Warning: No neighbors for 0ab142b1-413c29a8-b722cad6-7121aaab-05611977\n",
            "Warning: No neighbors for 49fe5cb5-d5b53174-ccfd3835-c9b94a8f-8cf6d13e\n",
            "Warning: No neighbors for f2a61aef-6a9fcd95-1a59251c-057711ea-9ee39632\n",
            "Warning: No neighbors for 92439259-bda4cad2-70c1d7a2-07426240-4f29593a\n",
            "Warning: No neighbors for 6cb4b1d9-14669823-7e11e723-f7a8abcd-9e192d11\n",
            "Warning: No neighbors for aaba720f-9e641f92-56160c83-0ddc0f16-6d2d15c2\n",
            "Warning: No neighbors for 0727ce98-7259c049-64771d03-04ef4a1b-cea5dbb0\n",
            "Warning: No neighbors for 9b9a2557-973d0689-18d695e0-bdce3947-a266cb2e\n"
          ]
        },
        {
          "output_type": "stream",
          "name": "stderr",
          "text": [
            " 17%|█▋        | 294/1757 [11:44<15:04,  1.62it/s]"
          ]
        },
        {
          "output_type": "stream",
          "name": "stdout",
          "text": [
            "Warning: No neighbors for 9ce6bbe7-8490d461-b4124d38-6e028bc0-f29a3c7d\n",
            "Warning: No neighbors for 499b931e-615fefea-f284fd62-89974427-dee6f613\n",
            "Warning: No neighbors for 2e0eed2b-998e75f8-49a6308e-575b82f5-ef833166\n",
            "Warning: No neighbors for 6ecf832c-d5807970-26a4eb09-771549d5-5d9c441c\n",
            "Warning: No neighbors for 99e590fc-2b6fca0e-769a690a-7d949526-72669636\n",
            "Warning: No neighbors for b6bb15e5-9252369d-1933b699-6c3a1db8-e5234edb\n",
            "Warning: No neighbors for 9f518eed-792e05e2-4ef530a3-d585a241-d602faf7\n",
            "Warning: No neighbors for 619e017c-1305b348-78b36316-6115e751-f4fe6e17\n",
            "Warning: No neighbors for c9bc099b-bce72742-b1f85236-e8d446be-a0b9eedf\n",
            "Warning: No neighbors for 70cfee33-a1d5cbb5-c4311284-cf81202c-aa521e12\n",
            "Warning: No neighbors for fc5e76b6-7416ff8a-983e06a6-66c100a0-ad7cd118\n",
            "Warning: No neighbors for ba0bb35d-1c5b4051-9ce1aa85-5d4e892e-b063ed14\n"
          ]
        },
        {
          "output_type": "stream",
          "name": "stderr",
          "text": [
            " 18%|█▊        | 313/1757 [12:18<38:04,  1.58s/it]"
          ]
        },
        {
          "output_type": "stream",
          "name": "stdout",
          "text": [
            "Warning: No neighbors for ae8a86b1-ebbb5bf5-29854169-0ca1dcf6-fe6c0472\n",
            "Warning: No neighbors for 9aedeeb2-d3479997-ef35eede-cc1cd0c6-e97f2d11\n",
            "Warning: No neighbors for 29f61a65-72f72160-ec2e4297-9d6be2e3-5be202c1\n",
            "Warning: No neighbors for 54f64e9c-474183f6-f0c2686f-9e240e69-49c46b47\n",
            "Warning: No neighbors for 567655c4-5c2f129b-12da8879-12d729a9-1ce45e56\n",
            "Warning: No neighbors for 233f4e0c-d2ef8351-24cf6b0c-ef228534-3797e147\n",
            "Warning: No neighbors for e637452f-2d4254e4-2d3aaba3-cde0d79d-cbee2863\n",
            "Warning: No neighbors for bbda914a-8a8f227e-055181d6-98097f94-3a171aec\n",
            "Warning: No neighbors for 6e9761eb-1e591cc5-9e4eddc2-a94aa601-c76e638a\n",
            "Warning: No neighbors for b4cdc9bf-bb4e0489-b0e01ce3-d116dcea-ce97d361\n",
            "Warning: No neighbors for 3fa0b553-5aab4049-e3120cd1-1e0a500c-f6834a13\n",
            "Warning: No neighbors for bfe82a1f-bbd2a5c3-cfe8c89f-d188bcc2-889b1794\n"
          ]
        },
        {
          "output_type": "stream",
          "name": "stderr",
          "text": [
            "\r 19%|█▊        | 326/1757 [12:20<11:59,  1.99it/s]"
          ]
        },
        {
          "output_type": "stream",
          "name": "stdout",
          "text": [
            "Warning: No neighbors for a1cc8fb9-f92d1217-eaa05aab-832c6ca2-fad521f6\n",
            "Warning: No neighbors for 108dec97-3655071e-dd5e5644-667a4923-f5e2002c\n",
            "Warning: No neighbors for 25f0a0fd-81637c0b-b78dc16f-99296861-32495e1a\n",
            "Warning: No neighbors for b4df31ae-378d1273-3540e0c5-c2502bf7-4e0cb151\n",
            "Warning: No neighbors for e995aa15-2a40ba31-b5c6bab3-fe04f749-e145c48b\n",
            "Warning: No neighbors for 26083ca3-e99a8380-142e5760-e0506bd0-62b08b9d\n",
            "Warning: No neighbors for 4ff4252e-6fd7c65a-7a47016a-c1815428-7b093b10\n",
            "Warning: No neighbors for 531155ee-5b8190c6-2d7e2fa9-f948ca05-82e10906\n",
            "Warning: No neighbors for 7cd2facf-991130c0-7aaed54f-d910b9cf-c563442e\n",
            "Warning: No neighbors for d6d5b532-26a673ff-ed9c6adc-f13c80a1-6d150e53\n",
            "Warning: No neighbors for 4b55dc6f-a8f1b418-464a67bb-61e5dcbe-61f64393\n",
            "Warning: No neighbors for 6499995d-be1d2f10-f56e2c50-de61ed85-ee2823a2\n",
            "Warning: No neighbors for 02925652-8f8d774e-a7b75a3a-5a81278b-c30731b8\n",
            "Warning: No neighbors for 3bca3696-2fd69879-5f7ee5b0-ad9b721c-862356ae\n",
            "Warning: No neighbors for 13c3970f-4b773678-cb28df1f-8e000656-496456c0\n"
          ]
        },
        {
          "output_type": "stream",
          "name": "stderr",
          "text": [
            " 20%|█▉        | 343/1757 [12:23<08:09,  2.89it/s]"
          ]
        },
        {
          "output_type": "stream",
          "name": "stdout",
          "text": [
            "Warning: No neighbors for b5f45e01-c20cd2d4-9ce5461b-01646d8e-b290d12e\n",
            "Warning: No neighbors for 259eeaec-8cba286b-279ce617-f54a1fe9-dbecd5dc\n",
            "Warning: No neighbors for a036b8e3-969cb6f0-4155601c-437aa06c-57c62890\n",
            "Warning: No neighbors for aa53c02b-61e595a9-6a509d4e-89b367d0-7a98be7d\n",
            "Warning: No neighbors for e6257fa4-3ecefab1-a435ddb8-8588517c-4f9b799b\n",
            "Warning: No neighbors for 67dd80bb-83e038d5-354db6d4-519c4b0f-2f8c2466\n",
            "Warning: No neighbors for 3a12ce4a-ea6bab1a-2f557947-212de18d-42551212\n",
            "Warning: No neighbors for 051bd6be-97eb771a-3a3fb6e8-ab4149c7-3c930d23\n",
            "Warning: No neighbors for bbdde900-27889a24-1853e6ad-0dcbb074-a6605b49\n",
            "Warning: No neighbors for 7ce70181-ba94380c-5db5f37a-c9823826-423e595d\n",
            "Warning: No neighbors for bd90c0bb-6887996a-dcca3d3d-188c5132-aab0130e\n",
            "Warning: No neighbors for e68c04b7-0478fa44-1229f1a6-962ed31d-185e8a2c\n",
            "Warning: No neighbors for 860c7ccf-48a733d6-0a07dc67-efd97ec5-5b42f9dc\n",
            "Warning: No neighbors for 529152bc-8619ddc6-c5ce80da-7c8bb377-09024aae\n",
            "Warning: No neighbors for 1aa335b4-9d6a361d-96219b9a-6eb7fd8d-c3183ddd\n",
            "Warning: No neighbors for 82676455-2af4bc45-609a9fd0-70e00d7e-c5a348ac\n",
            "Warning: No neighbors for 6b97ccf8-c42534dc-e79d6166-961d3ff2-0b4859e8\n",
            "Warning: No neighbors for a6f83f6e-10e2195b-b63ca967-914bb4aa-7987a14a\n",
            "Warning: No neighbors for 15cdb5b9-a4aacce7-2d6da2b6-56653e28-5f272a90\n",
            "Warning: No neighbors for 3047a338-566e5051-3eb649a9-288e96e3-7ab81251\n",
            "Warning: No neighbors for 9ee459f9-b0d0df8a-cb6dcc16-2a217b5e-54b9c31f\n",
            "Warning: No neighbors for ea829690-372f4000-873a04a4-4b082dff-22fc6ad9\n",
            "Warning: No neighbors for cd918122-febd9056-5e536757-19836aa7-ed49b830\n"
          ]
        },
        {
          "output_type": "stream",
          "name": "stderr",
          "text": [
            "\r 21%|██        | 367/1757 [12:24<03:33,  6.52it/s]"
          ]
        },
        {
          "output_type": "stream",
          "name": "stdout",
          "text": [
            "Warning: No neighbors for a26d72b8-e3cc6446-8fe5a3af-01e65678-119f585d\n",
            "Warning: No neighbors for 10131d95-842575e0-a1dd6eec-603ef2e2-15d4cf5e\n",
            "Warning: No neighbors for d81f9f59-9563c58f-7e5d0630-86357368-879cf225\n",
            "Warning: No neighbors for 29befdab-5218fca3-3e432d78-e4ee2224-90867f13\n"
          ]
        },
        {
          "output_type": "stream",
          "name": "stderr",
          "text": [
            "\r 21%|██        | 372/1757 [12:25<03:49,  6.04it/s]"
          ]
        },
        {
          "output_type": "stream",
          "name": "stdout",
          "text": [
            "Warning: No neighbors for d499daf3-f9162fb1-19a37f7c-6f27402c-0d0d5e58\n",
            "Warning: No neighbors for 979b7afb-faceef94-4c718902-26031845-a552cd30\n",
            "Warning: No neighbors for 0eab46f6-6c242b4c-e70d5a91-fcebd124-4f5d80d5\n",
            "Warning: No neighbors for eb158bdd-fca735a8-8cbb6279-f6f64d9d-69f9cf1d\n",
            "Warning: No neighbors for 4082af24-fc025fb7-8141547e-699781aa-8c405a74\n",
            "Warning: No neighbors for db518566-e900bc9b-c45d8dbd-635c9d33-5b2e15a4\n"
          ]
        },
        {
          "output_type": "stream",
          "name": "stderr",
          "text": [
            " 22%|██▏       | 383/1757 [12:30<09:28,  2.42it/s]"
          ]
        },
        {
          "output_type": "stream",
          "name": "stdout",
          "text": [
            "Warning: No neighbors for 554ae24d-4c218a09-219e3b9f-6b355ab0-295bc8f1\n",
            "Warning: No neighbors for e8343175-a71fa605-5930923e-35ee490d-3359414c\n",
            "Warning: No neighbors for 8556763c-b1bc6f79-edf4b821-e6261f21-f1f60684\n",
            "Warning: No neighbors for c32b2981-f885628a-4c25d6b6-8893520c-cd2a8009\n",
            "Warning: No neighbors for 545266ef-623e2b11-51028fa2-acfefa2a-142e442b\n",
            "Warning: No neighbors for bd47e181-bfccdd05-8fd39077-8eea228c-8551abd4\n",
            "Warning: No neighbors for 0a761e73-5750e065-0d38a7c7-bf5cdcbd-03581d25\n",
            "Warning: No neighbors for 131b9c72-90c2db36-635fc49a-0eedac0a-ba32d4d4\n",
            "Warning: No neighbors for a557f9f1-bf62e3a8-3f2776da-9236df24-1c1480b2\n"
          ]
        },
        {
          "output_type": "stream",
          "name": "stderr",
          "text": [
            " 22%|██▏       | 395/1757 [12:34<10:11,  2.23it/s]"
          ]
        },
        {
          "output_type": "stream",
          "name": "stdout",
          "text": [
            "Warning: No neighbors for 4ce6ea66-30ad8860-ad4e7461-aa9f5b13-29ad1d2a\n",
            "Warning: No neighbors for f0a32173-fed8d0a1-347e9569-5f867aed-a9db3c34\n",
            "Warning: No neighbors for e74f9e2b-981cb54f-c1efbfb4-894cfbd4-d0554e97\n"
          ]
        },
        {
          "output_type": "stream",
          "name": "stderr",
          "text": [
            "\r 23%|██▎       | 399/1757 [12:34<07:17,  3.11it/s]"
          ]
        },
        {
          "output_type": "stream",
          "name": "stdout",
          "text": [
            "Warning: No neighbors for fb249508-4779f449-0bb36708-18a8b142-e224cc1e\n",
            "Warning: No neighbors for 4c840e9d-9268e391-2aa5291a-1e0d606c-48b23aff\n",
            "Warning: No neighbors for e9228322-98e3a743-4ec6172f-69084c47-a7c988ab\n",
            "Warning: No neighbors for 215ee3c4-109da6ec-76c8517a-8bda34bc-dd9442c0\n",
            "Warning: No neighbors for a4fb3e3b-7bc07f51-5718aa16-f5236b30-59e04042\n",
            "Warning: No neighbors for 577178c6-7c496dc1-ea14d11d-7ba8c08f-aec89331\n",
            "Warning: No neighbors for 0ec892a7-eb7feaeb-a4e875c8-6bcea87d-5dee7ac4\n",
            "Warning: No neighbors for b78f08be-2f9ad5e0-fe2d9c26-2ac39626-94659059\n",
            "Warning: No neighbors for 884edd22-9f9f5296-e9337de5-cf5e588e-a353884c\n",
            "Warning: No neighbors for eb27a812-b131d55b-e1c2fb5e-3b27c34d-6fc49de0\n",
            "Warning: No neighbors for 400c1217-78ee0b98-e110974b-db4b2993-3fec258c\n",
            "Warning: No neighbors for 2e33cdb2-d2dfea93-81adc813-2a0a6e63-04cace46\n",
            "Warning: No neighbors for d3ee3b26-42645736-442ac842-155572ef-62f18e9d\n",
            "Warning: No neighbors for d93dec61-bacfad7e-78039446-5f911f06-868380b6\n"
          ]
        },
        {
          "output_type": "stream",
          "name": "stderr",
          "text": [
            " 24%|██▎       | 416/1757 [12:36<04:27,  5.01it/s]"
          ]
        },
        {
          "output_type": "stream",
          "name": "stdout",
          "text": [
            "Warning: No neighbors for 66986156-722b1e4e-32eab230-c686544b-2ae1d14a\n",
            "Warning: No neighbors for a10146f7-ac95b614-c9e9b600-6385e6a2-07e65995\n",
            "Warning: No neighbors for 28e0df01-d876cea4-be3fbb93-de24edc4-090301fa\n"
          ]
        },
        {
          "output_type": "stream",
          "name": "stderr",
          "text": [
            " 24%|██▍       | 421/1757 [12:42<13:35,  1.64it/s]"
          ]
        },
        {
          "output_type": "stream",
          "name": "stdout",
          "text": [
            "Warning: No neighbors for fbe1a640-d2d660ca-c0122e44-c758edcd-2ad11488\n",
            "Warning: No neighbors for 866c3112-c938c8f3-f2a721d3-e55f8130-5c8897d7\n",
            "Warning: No neighbors for 6bc7142b-48d2307b-3185975d-b7f4b25f-23fc8266\n"
          ]
        },
        {
          "output_type": "stream",
          "name": "stderr",
          "text": [
            " 24%|██▍       | 429/1757 [12:44<10:22,  2.13it/s]"
          ]
        },
        {
          "output_type": "stream",
          "name": "stdout",
          "text": [
            "Warning: No neighbors for 7498f008-9f731b82-7f8babe4-3a478885-83178358\n"
          ]
        },
        {
          "output_type": "stream",
          "name": "stderr",
          "text": [
            "\r 25%|██▍       | 431/1757 [12:45<08:28,  2.61it/s]"
          ]
        },
        {
          "output_type": "stream",
          "name": "stdout",
          "text": [
            "Warning: No neighbors for 6a365e3d-3036c66f-8a6df461-023719e0-89e94f3f\n",
            "Warning: No neighbors for 509256e3-ae749574-2ed3b94c-70cb0d4a-c0c5bb17\n",
            "Warning: No neighbors for a697ceaf-14af6fc1-c3647f3c-aede76ea-8725a66a\n",
            "Warning: No neighbors for a637b350-beee9905-fb521839-6d435f9b-028af52d\n",
            "Warning: No neighbors for 5383c032-4844d1a4-eb64305e-0ade5e7f-9ba01dbe\n",
            "Warning: No neighbors for 1e457cbb-b441fc85-d8d29551-0cb1fed9-15dee5bd\n",
            "Warning: No neighbors for 669b4965-be67a9dd-0ba00b96-3ed4d288-597c3f17\n",
            "Warning: No neighbors for a2c767ad-f88d5b23-c8ac6a06-187b6f12-31b3b997\n",
            "Warning: No neighbors for 0369cf95-5de4a811-909514eb-eb184266-6fd5f34d\n",
            "Warning: No neighbors for 78c36ecb-22d167b1-65e01e0c-b34e7f8a-ea6a3560\n",
            "Warning: No neighbors for 389719a1-640badce-9bfe0feb-ba7f1920-5ce18b6f\n",
            "Warning: No neighbors for 8b2d4798-c3d08813-8153a072-3a0d7279-a3fce382\n",
            "Warning: No neighbors for a443c681-b645a81f-f6984e09-647055cd-91eb4fb2\n",
            "Warning: No neighbors for d98d8444-f796a558-3845bd43-6f788016-eeb30fbe\n"
          ]
        },
        {
          "output_type": "stream",
          "name": "stderr",
          "text": [
            " 26%|██▌       | 454/1757 [12:46<02:03, 10.56it/s]"
          ]
        },
        {
          "output_type": "stream",
          "name": "stdout",
          "text": [
            "Warning: No neighbors for 541636c3-18ecc8da-a3f6640d-9d83ea98-ccbdbe90\n",
            "Warning: No neighbors for 3064d164-51d55e8c-44d9e2eb-f23564ed-fb5f3d7b\n",
            "Warning: No neighbors for 6330ae75-4b4b98a8-f30103e2-b63a9851-0c9291d3\n",
            "Warning: No neighbors for 5a59d90e-c54ec68d-44bdc914-b4d4c363-0c9cb507\n",
            "Warning: No neighbors for f117e2e1-c7520860-bc5802a5-07507428-ada238ba\n",
            "Warning: No neighbors for ece315c9-345afa23-8d337032-d83c7882-c3117c51\n",
            "Warning: No neighbors for a235b65b-e777f854-a98de6d6-2f3d33d8-bca255ec\n",
            "Warning: No neighbors for 9c71900a-b5e18305-f9df0b97-003dd3f9-43b646b4\n",
            "Warning: No neighbors for a32990db-01db76c5-5cd8c181-a1ee08ab-d7c0768c\n",
            "Warning: No neighbors for 1cbbc3bb-d73918dc-73c6ee64-27309278-4ddad091\n",
            "Warning: No neighbors for 7432b679-7ca729e9-b3100233-d47731bf-6cf8ccf8\n",
            "Warning: No neighbors for 25b1dd1d-431d3e3c-cb43c2fe-054b5a70-4541c5ca\n",
            "Warning: No neighbors for af9c417d-3dcf1474-cd2acc43-e626a563-17e2d847\n",
            "Warning: No neighbors for 02243cb4-2e9c6a1c-c0ae75ae-e505e762-5290e8b6\n",
            "Warning: No neighbors for e75b96ca-11c5ef05-85a3e41f-c9022765-e0964abe\n",
            "Warning: No neighbors for 234a1625-42484581-cd643235-63faf04d-9ea96079\n",
            "Warning: No neighbors for 45a3cef0-8343e94b-f165cead-1d3471d4-9a3d3378\n",
            "Warning: No neighbors for 915cb40c-ead44862-4775b2d6-e45d2416-7ebcf7ea\n",
            "Warning: No neighbors for 980cc2b9-0b8bad62-f2439957-bbdabb15-5fc1e0a5\n",
            "Warning: No neighbors for d4571749-6f350a93-640a4403-4dfc955a-321bc850\n",
            "Warning: No neighbors for e84529b0-a61235e5-d5549e31-05c5be43-1185e03b\n",
            "Warning: No neighbors for 4dd7b909-a3d39988-ab7e165f-f29847a1-c57b4c6d\n",
            "Warning: No neighbors for 525fb0e1-930b666d-f55abb6d-e448a295-965cfc73\n",
            "Warning: No neighbors for 82c035f5-5a578684-2df7188a-425df796-7e77e428\n",
            "Warning: No neighbors for 7103bc1b-f1af671e-77ee8be1-5c597199-a31db737\n",
            "Warning: No neighbors for 1d1566ae-5510e3ba-58e602b7-fed550cd-74d574cd\n",
            "Warning: No neighbors for 5a80f4d2-19b6162d-a6f56654-3c81198a-2eb26f5b\n",
            "Warning: No neighbors for 60f9f3d9-7d89b50e-2be196c1-2af27604-c3828354\n",
            "Warning: No neighbors for c2167010-c3f5e929-0ec59f46-1c982b94-ccb54f4c\n",
            "Warning: No neighbors for ddda1188-c465eece-e88bbbfc-ace00d10-b7435d2c\n",
            "Warning: No neighbors for 52ddf47d-f01becfb-41759505-e259fe73-991bc1dc\n",
            "Warning: No neighbors for 7f4192c6-54cace19-adb8cf83-629440cb-6361dbe5\n",
            "Warning: No neighbors for 38d510ea-674865e3-9da62458-38a4a000-5045b778\n"
          ]
        },
        {
          "output_type": "stream",
          "name": "stderr",
          "text": [
            " 28%|██▊       | 490/1757 [12:46<00:43, 29.44it/s]"
          ]
        },
        {
          "output_type": "stream",
          "name": "stdout",
          "text": [
            "Warning: No neighbors for 0bc89685-3b9a0105-1ef53af6-9cff785d-ccac83a6\n",
            "Warning: No neighbors for 23e4f989-caaa416d-91c3200f-91c9b1fe-f77b34dc\n",
            "Warning: No neighbors for a5736e54-3e62ca38-e88ad158-3079601f-07167f9c\n",
            "Warning: No neighbors for 35a47c59-2aab3906-f9286768-152d2179-cc62e9de\n",
            "Warning: No neighbors for dfd50995-588454cb-665bb331-cab34466-6afc0cae\n",
            "Warning: No neighbors for 27d42a1e-280eaa04-10014e69-4a8002ff-4cb6405f\n",
            "Warning: No neighbors for 9998288a-26cabba9-6574c343-9f747f6d-6f484870\n",
            "Warning: No neighbors for 453ba9f3-913077e0-a39f0410-b97aa0da-22e29fe5\n",
            "Warning: No neighbors for a47b8ca8-edf44637-4a65aef2-cee87e3a-dde0ec01\n",
            "Warning: No neighbors for fd92c2ff-772fde9a-66ef1ded-ef2feeff-f902a6df\n",
            "Warning: No neighbors for 83355d76-57625913-c14d1b3d-64ad4b16-3ff57e11\n",
            "Warning: No neighbors for fab322a0-b20a26e8-e98b0a36-406d8aae-1698b603\n"
          ]
        },
        {
          "output_type": "stream",
          "name": "stderr",
          "text": [
            "\r 28%|██▊       | 496/1757 [12:47<00:58, 21.66it/s]"
          ]
        },
        {
          "output_type": "stream",
          "name": "stdout",
          "text": [
            "Warning: No neighbors for fd20d67f-b3287404-63bb5008-fdbf8c8f-b33b4a7b\n",
            "Warning: No neighbors for 29c358b2-93a017c2-41071274-5ebe0de7-25ab9974\n"
          ]
        },
        {
          "output_type": "stream",
          "name": "stderr",
          "text": [
            "\r 29%|██▊       | 501/1757 [12:50<03:02,  6.88it/s]"
          ]
        },
        {
          "output_type": "stream",
          "name": "stdout",
          "text": [
            "Warning: No neighbors for 3ffbbe3e-5fab8bbd-262ae744-96ac2f48-e8f528d7\n",
            "Warning: No neighbors for 047cae4d-0b66ce27-5d72296c-584e3784-400cd24a\n",
            "Warning: No neighbors for 3ed8f119-770bcf6d-3ff9789c-fb271a2c-a1792d66\n",
            "Warning: No neighbors for b5ead029-f80f0f8a-ad2baa20-0f3f0d85-ff0fdb18\n"
          ]
        },
        {
          "output_type": "stream",
          "name": "stderr",
          "text": [
            "\r 29%|██▊       | 504/1757 [12:53<05:22,  3.89it/s]"
          ]
        },
        {
          "output_type": "stream",
          "name": "stdout",
          "text": [
            "Warning: No neighbors for fb5265af-e7c95fca-0a39eca0-da6a086b-5e70e79b\n",
            "Warning: No neighbors for 4cf0b392-9975b36f-ab5a282f-6c875bb7-80d1f788\n",
            "Warning: No neighbors for 66caad96-680fdece-f77580a2-3a1911c7-078eccd0\n",
            "Warning: No neighbors for f0a4163d-b913794a-9387f541-95f8b095-e0632e96\n",
            "Warning: No neighbors for 6e7dfa86-472e2483-8f05d214-2cb8ff2f-2cbc53eb\n"
          ]
        },
        {
          "output_type": "stream",
          "name": "stderr",
          "text": [
            "\r 29%|██▉       | 510/1757 [12:54<04:23,  4.72it/s]"
          ]
        },
        {
          "output_type": "stream",
          "name": "stdout",
          "text": [
            "Warning: No neighbors for 774f2736-58f6d8a1-d769260c-9d5771c2-9bd7c26d\n",
            "Warning: No neighbors for 3ba6e69d-3e3d6d71-1190f7c3-1c7bf076-d8848ce9\n",
            "Warning: No neighbors for 9808f8b1-1b9076b3-27819fb6-e5891467-915bd631\n",
            "Warning: No neighbors for 4e391d4c-28a270d4-ca048f6d-39d7b083-d7349a5d\n",
            "Warning: No neighbors for 8c09ff13-c2b844ef-1d2dbcf1-3ffb84ff-dcfb7f31\n"
          ]
        },
        {
          "output_type": "stream",
          "name": "stderr",
          "text": [
            "\r 29%|██▉       | 516/1757 [12:54<03:47,  5.45it/s]"
          ]
        },
        {
          "output_type": "stream",
          "name": "stdout",
          "text": [
            "Warning: No neighbors for a189e901-d8bc7ea7-aba77314-76a5944a-dbb94188\n",
            "Warning: No neighbors for 2debaae7-42cf58e2-681ce34b-eb360591-e59b1250\n"
          ]
        },
        {
          "output_type": "stream",
          "name": "stderr",
          "text": [
            "\r 30%|██▉       | 519/1757 [12:55<04:00,  5.14it/s]"
          ]
        },
        {
          "output_type": "stream",
          "name": "stdout",
          "text": [
            "Warning: No neighbors for 5c9f16d7-ac8b0947-c6401e63-77d0632d-ef7b6753\n",
            "Warning: No neighbors for 1b792519-68871940-e2f96173-1588ab21-bb776c67\n",
            "Warning: No neighbors for bef27ab8-475ded1b-62acf137-d619524d-b0ff1874\n"
          ]
        },
        {
          "output_type": "stream",
          "name": "stderr",
          "text": [
            " 30%|██▉       | 527/1757 [12:55<02:41,  7.61it/s]"
          ]
        },
        {
          "output_type": "stream",
          "name": "stdout",
          "text": [
            "Warning: No neighbors for 7311993e-4219916d-1038fbdf-66ddec18-b4a52057\n",
            "Warning: No neighbors for bf97c21b-748f4b37-4e5bc036-f6648c98-cef4b407\n",
            "Warning: No neighbors for 65fbb09d-c5735d73-e085414b-222d7fe5-2f3ff47a\n"
          ]
        },
        {
          "output_type": "stream",
          "name": "stderr",
          "text": [
            "\r 30%|███       | 529/1757 [13:01<11:02,  1.85it/s]"
          ]
        },
        {
          "output_type": "stream",
          "name": "stdout",
          "text": [
            "Warning: No neighbors for be78dcbe-6a8572bd-125978f8-06291a7e-dfe35aad\n",
            "Warning: No neighbors for d81e76a9-0211c1c5-bef23171-2665a159-a73eb64e\n",
            "Warning: No neighbors for b04fa8ac-c1666eb2-92ea7aec-8e062647-efe76db9\n",
            "Warning: No neighbors for fff72ced-b8325d4f-6108dc57-815a33ca-cf929495\n"
          ]
        },
        {
          "output_type": "stream",
          "name": "stderr",
          "text": [
            " 30%|███       | 535/1757 [13:03<08:48,  2.31it/s]"
          ]
        },
        {
          "output_type": "stream",
          "name": "stdout",
          "text": [
            "Warning: No neighbors for 877c1889-c1cb66d6-661c35b0-9bd859e7-fce5e796\n",
            "Warning: No neighbors for 58a99a96-d39c4a5b-28686a6e-7f935a2c-1ab35803\n",
            "Warning: No neighbors for 899d1016-b60f6070-9ba3bc02-9bd363c8-e708a9db\n"
          ]
        },
        {
          "output_type": "stream",
          "name": "stderr",
          "text": [
            " 32%|███▏      | 561/1757 [13:03<01:37, 12.21it/s]"
          ]
        },
        {
          "output_type": "stream",
          "name": "stdout",
          "text": [
            "Warning: No neighbors for 753ead41-61157964-81272b5a-74e9ea75-a6c3f464\n",
            "Warning: No neighbors for c85ed494-2b81e6f2-cc9f390c-d2e9eb1a-653e7404\n",
            "Warning: No neighbors for 72f06980-223e2645-66d7a968-19435784-ee8dc970\n",
            "Warning: No neighbors for b61a4d0a-0fbc2fca-2608083b-568c0634-0cc1ca20\n",
            "Warning: No neighbors for 3326d778-e6b7840c-ad19a9ae-fad00085-0250a9f8\n",
            "Warning: No neighbors for 659dbf58-31a3aadd-51b917fa-00132578-e4fbb89a\n",
            "Warning: No neighbors for 00ea02b0-7683b368-36f62daa-42d9d905-ea39a845\n",
            "Warning: No neighbors for c9a90c2a-96994b48-87e5638c-479abbda-8bdaaa80\n",
            "Warning: No neighbors for abbe217e-bce9cb37-6b4b729d-efb9e64a-72d1638f\n",
            "Warning: No neighbors for b01de748-6fa3067b-348f7c51-2639aa0e-5249bd09\n",
            "Warning: No neighbors for ef9f6698-39e605a9-905ec13f-52b61336-59c23e77\n",
            "Warning: No neighbors for cad3ab02-9e9a3edd-00ef3694-a6bfdf2b-6ead2be5\n",
            "Warning: No neighbors for dde683f6-7e6769ba-d22d4943-23942647-c5e65e46\n",
            "Warning: No neighbors for 88d3f88f-4042242e-c77c97ae-35104efe-7b1785c5\n",
            "Warning: No neighbors for 2cc867b6-1d3cba0a-75825660-5a2ad3dd-17cc1ccd\n",
            "Warning: No neighbors for 2dfef778-1ddbe172-2c869a80-e0e24117-57ac504d\n",
            "Warning: No neighbors for 1fd0e623-e1156407-6aa37eea-6283cce1-85859e40\n",
            "Warning: No neighbors for 901b375c-3312f747-b3451074-1c0dc91e-6d1b92ec\n",
            "Warning: No neighbors for dc60730b-2245873d-8323483b-6538caec-4a54d99e\n",
            "Warning: No neighbors for 08eb5594-d6583864-ee153796-55744851-e2dd0977\n",
            "Warning: No neighbors for b37fb679-0760a093-98cd2205-e133d76f-4488c7ef\n",
            "Warning: No neighbors for 594f2c26-3bbb9af0-93363a00-cf392541-259986f4\n",
            "Warning: No neighbors for 2536973d-60c40540-b069435d-a473368f-65766a82\n"
          ]
        },
        {
          "output_type": "stream",
          "name": "stderr",
          "text": [
            "\r 32%|███▏      | 566/1757 [13:08<04:30,  4.40it/s]"
          ]
        },
        {
          "output_type": "stream",
          "name": "stdout",
          "text": [
            "Warning: No neighbors for 8ff6a017-5f102df4-21eb2fe1-fdc270cc-e5840ce6\n",
            "Warning: No neighbors for 5e879aac-d5cd72d1-92dbb22d-31646e03-1c8fd201\n"
          ]
        },
        {
          "output_type": "stream",
          "name": "stderr",
          "text": [
            " 34%|███▎      | 589/1757 [13:08<01:50, 10.55it/s]"
          ]
        },
        {
          "output_type": "stream",
          "name": "stdout",
          "text": [
            "Warning: No neighbors for 947006a5-0e39bd99-5f40815c-6fe02537-b6146642\n",
            "Warning: No neighbors for 9bc1fce3-1ecf7b3a-1f82ac24-f12d32eb-c73e9860\n",
            "Warning: No neighbors for 220a2dd3-23c22054-242140a9-5a51f8dc-51aad57e\n",
            "Warning: No neighbors for ecab5c5a-ccbcfad6-a14d8f92-491edf2f-2fa7d032\n",
            "Warning: No neighbors for 1f1a6bff-70660291-44dbe186-c7368bd3-3bc65f14\n",
            "Warning: No neighbors for 82be2e6e-081b2ca5-90b6fe19-3f699883-342b2541\n",
            "Warning: No neighbors for 54207bd3-163e459b-5021cddc-981da9c7-7afb110b\n",
            "Warning: No neighbors for f12152a5-d7b98aa7-ef5bacfb-1faf6ad4-02603210\n",
            "Warning: No neighbors for 9cb103a3-441cb66a-f43c44eb-fd0f6f0f-1b5a941f\n",
            "Warning: No neighbors for 623eeb03-ae55125c-1aaad2fc-cf3b810a-f6b55ce6\n",
            "Warning: No neighbors for 1d26be6f-10aa4102-0e505913-043d1ac3-1d2867a3\n",
            "Warning: No neighbors for 41143630-340c77d0-1a129f54-1a2ef4f7-cf9ee2bf\n",
            "Warning: No neighbors for 86340635-17bdb2d7-880c7eac-c5d8dba2-600716be\n",
            "Warning: No neighbors for 985667f7-6c06596d-09bf0366-5842dcb4-5d7b7351\n",
            "Warning: No neighbors for f6a23f26-7b2ded10-7e9c62a2-e8143aac-edf79831\n",
            "Warning: No neighbors for 3902dcce-9ac302bd-ac0cb685-e7099c1e-f336ea65\n",
            "Warning: No neighbors for 2f9eae1f-cca73bbc-ad8f6ec6-339472cb-59651a84\n",
            "Warning: No neighbors for 40a2d7e5-41d224d0-22ebd054-c218fa0a-26ac1d47\n",
            "Warning: No neighbors for 9bc78ae5-2663b9c0-dfab0023-ff52f628-008cce9f\n",
            "Warning: No neighbors for 367b85bc-ec00eab6-ed01b2d4-b969298a-dfc15290\n",
            "Warning: No neighbors for 6ac072b5-7570768f-fd1367b6-45d650ad-98c0557b\n",
            "Warning: No neighbors for c1e96821-c0a7e739-ef4d8d98-ffe6fc9b-5413eb10\n",
            "Warning: No neighbors for 5d657c16-8971e77d-02f64675-320b9811-8548bb9b\n",
            "Warning: No neighbors for 17ff7369-20912497-3b539b61-9c4ace20-7dc7fa12\n",
            "Warning: No neighbors for bceb45d9-799ac7a7-effd7ba0-71a61a33-92e4f08a\n",
            "Warning: No neighbors for 8c726f8d-bed7bfa6-95e5c8a3-ab6f63f0-0445a403\n",
            "Warning: No neighbors for 136103be-5d9067ab-82b8ba09-ea9e1684-bc313561\n",
            "Warning: No neighbors for 5beca2be-eaad7c92-7edc433d-7114ea78-235a7238\n",
            "Warning: No neighbors for 85aadf77-f4086853-10e41493-991e143b-f3873c8a\n",
            "Warning: No neighbors for 60a6dcf8-50d69959-ffbc189c-a0147053-12084190\n",
            "Warning: No neighbors for da555792-378589f7-36685a12-5df28bf4-4a739d60\n",
            "Warning: No neighbors for 3c9459b5-6ae112e4-5b9b46af-1ebce3a1-98f2ed02\n"
          ]
        },
        {
          "output_type": "stream",
          "name": "stderr",
          "text": [
            "\r 34%|███▍      | 602/1757 [13:09<01:53, 10.14it/s]"
          ]
        },
        {
          "output_type": "stream",
          "name": "stdout",
          "text": [
            "Warning: No neighbors for 1031e607-2f9fb954-b28a37ae-1658a31f-dbd6b5eb\n",
            "Warning: No neighbors for 977b6eb8-b32ccee4-46e772c1-4fd8d49f-7d80509f\n",
            "Warning: No neighbors for e25002bd-4c3b73d9-ce9af0db-a6400638-cec81675\n",
            "Warning: No neighbors for fdbde91d-e4d4c028-24a1e822-595eebc7-5aa9817e\n",
            "Warning: No neighbors for 0c104b3b-6cb5a19d-003efaea-ee9e9e54-69226973\n",
            "Warning: No neighbors for 535395cb-477f2582-bcb9ce14-2fe358ed-663ca35f\n",
            "Warning: No neighbors for 7bed69f1-cc18e1f0-2eb4dcb3-fc12d45a-27fb8e16\n",
            "Warning: No neighbors for 855c4bc9-0405eb44-feff0bde-1e9694c6-f07a5f40\n",
            "Warning: No neighbors for f485f90e-89ddb1ef-82c62782-e7181819-ebdd2cb4\n",
            "Warning: No neighbors for 706e355d-a38118f3-41195b5c-f73127f1-9a40f71a\n",
            "Warning: No neighbors for 3286f8ab-e968a9bf-41193c12-354fcb50-4f62214c\n",
            "Warning: No neighbors for fd4192d2-3f5afcf5-89c3397f-0e850307-8f3cdfd8\n",
            "Warning: No neighbors for da0be823-1298ac83-343bb2da-2aa258b4-445cf842\n",
            "Warning: No neighbors for 45850f22-4e7f9e06-32ca4148-d84c0cc1-06f28b0c\n",
            "Warning: No neighbors for e50c7be5-f5a583b2-ae39331f-4ff6392f-961a6722\n",
            "Warning: No neighbors for 4ffa9b04-04057208-d25545a9-aef6340d-a82dab05\n",
            "Warning: No neighbors for 28f01e45-70289c19-d12d3a53-282df82c-6bc9b077\n",
            "Warning: No neighbors for 329c4269-12f89279-605cce06-6880c196-b645ac35\n",
            "Warning: No neighbors for d77b00af-6193c8d5-c2dc5d3c-1b2608b0-a71c41ea\n",
            "Warning: No neighbors for 58487355-5d9c106a-91deb4dd-beb07b31-cd15340f\n",
            "Warning: No neighbors for 10c94089-f565f79b-8bbfb349-4e1e63ff-71287b88\n",
            "Warning: No neighbors for c50b6aa2-d944ca6e-34875e2e-ec6857cb-98e8d590\n",
            "Warning: No neighbors for 7a0fca04-0e6f7596-b8ef12eb-5137fbd3-935cd67e\n",
            "Warning: No neighbors for 31dda3ff-190b3434-1850e211-8a44b60c-90996bbd\n",
            "Warning: No neighbors for a2efae60-ea4a0a0f-bdb511c5-c4d6a5ed-cfd8c04c\n",
            "Warning: No neighbors for 134290cb-70af201a-8a4c45ca-4c687715-f012f96f\n",
            "Warning: No neighbors for 93366281-dad96068-b95f63e3-7097702e-a4a46d4c\n",
            "Warning: No neighbors for bbbf958a-7443bcc5-fe53581e-5fe61158-197cc0cc\n",
            "Warning: No neighbors for f2aea861-2c8c108e-63acc515-68503824-85f13c32\n",
            "Warning: No neighbors for 0491306a-d44bb1cd-36678cdf-ef64aa11-ee9897a2\n"
          ]
        },
        {
          "output_type": "stream",
          "name": "stderr",
          "text": [
            " 37%|███▋      | 642/1757 [13:18<03:59,  4.66it/s]"
          ]
        },
        {
          "output_type": "stream",
          "name": "stdout",
          "text": [
            "Warning: No neighbors for ad5add4b-5fa5c827-b9186b74-d21403a5-869f4cba\n"
          ]
        },
        {
          "output_type": "stream",
          "name": "stderr",
          "text": [
            " 37%|███▋      | 646/1757 [13:20<04:42,  3.93it/s]"
          ]
        },
        {
          "output_type": "stream",
          "name": "stdout",
          "text": [
            "Warning: No neighbors for 632317fe-058bf625-b7a9c00c-90dc785c-b5a1cf9e\n",
            "Warning: No neighbors for 160e7df2-10de3a5d-2bfecf93-b810c2e4-884ef90b\n",
            "Warning: No neighbors for 2ea52b26-e5700e1b-83655817-efac482b-7fcba3c4\n",
            "Warning: No neighbors for 7557075e-2c1ab76c-0154b58c-52b45040-4aae7471\n",
            "Warning: No neighbors for 37e28c6e-3042abdb-7277ed6c-6444cc0d-9501e2bb\n",
            "Warning: No neighbors for c6969669-99c89901-f5a23a2f-8e4ce398-5a730ef9\n"
          ]
        },
        {
          "output_type": "stream",
          "name": "stderr",
          "text": [
            "\r 37%|███▋      | 652/1757 [13:21<03:30,  5.25it/s]"
          ]
        },
        {
          "output_type": "stream",
          "name": "stdout",
          "text": [
            "Warning: No neighbors for 1ac73b78-88cb787d-4395533f-1d95b4a1-a837c2d6\n",
            "Warning: No neighbors for 6c985f49-15a62a3a-9445601b-995b3428-4cea4e1f\n"
          ]
        },
        {
          "output_type": "stream",
          "name": "stderr",
          "text": [
            " 38%|███▊      | 660/1757 [13:23<05:24,  3.38it/s]"
          ]
        },
        {
          "output_type": "stream",
          "name": "stdout",
          "text": [
            "Warning: No neighbors for 36d81169-05c7003c-4e8d8280-052aab6b-32e51754\n",
            "Warning: No neighbors for a00eea53-a6504578-33e99d0f-2edf4fef-a8e3bc81\n",
            "Warning: No neighbors for b20f7aa1-4291e154-effb0d45-e146289a-b3b3d8a8\n",
            "Warning: No neighbors for b6f01bef-96a01d6b-2fffdb78-c555cadf-d9e2dc65\n"
          ]
        },
        {
          "output_type": "stream",
          "name": "stderr",
          "text": [
            " 39%|███▊      | 679/1757 [13:27<02:13,  8.07it/s]"
          ]
        },
        {
          "output_type": "stream",
          "name": "stdout",
          "text": [
            "Warning: No neighbors for 76ccbbf2-6d9d8393-3c48b3e2-fc6384b5-10637d36\n",
            "Warning: No neighbors for e8d67c4c-17c5ddb0-5a649f13-a34185d0-13634eb8\n",
            "Warning: No neighbors for a0ef1256-69b8fffd-25c9d20f-d925003e-f1a960a9\n",
            "Warning: No neighbors for 92bea871-abaa0d6e-b12dba75-df47fb33-0e019db6\n",
            "Warning: No neighbors for eadf2150-e5ff730b-607d65a3-c44e6485-230a93b4\n",
            "Warning: No neighbors for 7bda11c4-557dae95-1a0faf51-11a2e6da-920adde4\n",
            "Warning: No neighbors for 94878943-a36926da-1e1b43c8-ab1e928a-a33f9f8b\n",
            "Warning: No neighbors for 981e3309-eaf91685-c988ccec-c1e1c1f6-e68c13e0\n",
            "Warning: No neighbors for efeff006-d687bdb7-57ae92b7-02d48c81-f2b45947\n",
            "Warning: No neighbors for 597f9f12-054c5359-786992b7-f1547715-68339d73\n",
            "Warning: No neighbors for 254f5a81-fe04f7c7-b47453c2-eede86ff-7b7233c9\n",
            "Warning: No neighbors for 99e9ea50-bf547afb-4042e843-887ca691-f825129f\n",
            "Warning: No neighbors for 0e4671cc-565f6f4a-50cacbcc-bd84d118-0d2cbb95\n",
            "Warning: No neighbors for 09628781-e89a7917-128e50f4-95b254d9-c00811fd\n",
            "Warning: No neighbors for 2d6cceb4-bf2c9c51-1f6ac185-acef606e-fa3e54f1\n",
            "Warning: No neighbors for ad2e399e-b314d077-4f889029-2084e94c-b8b6559c\n",
            "Warning: No neighbors for f5bdabc1-226b2bc9-a4f0aeab-0e1ede43-ddc4a98f\n"
          ]
        },
        {
          "output_type": "stream",
          "name": "stderr",
          "text": [
            " 39%|███▉      | 691/1757 [13:28<02:30,  7.08it/s]"
          ]
        },
        {
          "output_type": "stream",
          "name": "stdout",
          "text": [
            "Warning: No neighbors for a1442017-b4ad8c01-c5bbd5fa-83f33f3b-b20db01d\n",
            "Warning: No neighbors for fb24274c-b1965c64-741b1278-42c6fadd-14ef87fe\n",
            "Warning: No neighbors for a2a16f8a-37459ed5-9301570d-ef7d0e0e-d7c67861\n",
            "Warning: No neighbors for f9e97ee7-98566a37-0303e92e-23c977ee-4788c528\n",
            "Warning: No neighbors for 0fe65579-809411ea-acb102e3-66de3ee0-cbe6dbd2\n"
          ]
        },
        {
          "output_type": "stream",
          "name": "stderr",
          "text": [
            " 41%|████▏     | 726/1757 [13:29<00:38, 26.89it/s]"
          ]
        },
        {
          "output_type": "stream",
          "name": "stdout",
          "text": [
            "Warning: No neighbors for 92b87314-315e7bff-a9d2ed0e-23eba163-2834f35c\n",
            "Warning: No neighbors for a8502b8f-9f45e559-21747f2c-3563ff07-b8486429\n",
            "Warning: No neighbors for bccf4a72-0f27201c-f66cb7db-8d313c54-368cdc2c\n",
            "Warning: No neighbors for eb408786-dfa656f9-82e2455a-12ed0ba6-af5b8df4\n",
            "Warning: No neighbors for 6f4f3fa1-44fa7d7b-04c14f36-95ed645c-9b3afc9a\n",
            "Warning: No neighbors for 7e81a462-e4540693-952eccaa-65f55e92-7bec9097\n",
            "Warning: No neighbors for e99637a5-d44458d7-aae4345b-74687511-191a9a32\n",
            "Warning: No neighbors for e7bcbcb4-16993f11-e9cdc86a-a99bfb30-dac015f8\n",
            "Warning: No neighbors for c31c0a56-fa8581ee-c6dad111-382b20e9-816031ce\n",
            "Warning: No neighbors for 6beb0c21-70b54d1c-315e7c80-30469288-bedf4161\n",
            "Warning: No neighbors for c6639d60-2db847b0-565b3fb1-99683f91-5ff8c5ea\n",
            "Warning: No neighbors for 7c12b46b-9af9ac4c-c2488a81-d09c4967-e9a1bc6f\n",
            "Warning: No neighbors for 4b945680-b93f1851-5980b680-9f619533-3e4974ff\n",
            "Warning: No neighbors for 8c3d37d8-5c96956f-fa02fa60-71946702-3f101559\n",
            "Warning: No neighbors for f27ede0a-831aab00-80ea71f4-6221c7a6-e792a720\n",
            "Warning: No neighbors for b6c841d5-18a44354-d9033bda-59b522f2-5e0676bc\n",
            "Warning: No neighbors for 1b672157-10a5f113-8994477e-57d1c84d-8f774912\n",
            "Warning: No neighbors for 2c1cd9f1-d327d316-d816bd46-3d626ece-472f1d84\n",
            "Warning: No neighbors for 3fbdbe68-7c8fb73c-1a456f31-91f22423-f77f3ea6\n",
            "Warning: No neighbors for 637364c1-1fd64180-eb95e925-0724383a-22299533\n",
            "Warning: No neighbors for 35fc33e5-d4fbf7a6-68d77c16-835dc098-35019e02\n",
            "Warning: No neighbors for a9bd06dc-2cbfa987-535d041f-19e1ae7a-81d41ec8\n",
            "Warning: No neighbors for 0dbe2100-00057c9d-b2d06fe1-e0d323d0-06100523\n",
            "Warning: No neighbors for 93072a1b-603681ad-efb677bf-cc79af22-9e6034f5\n",
            "Warning: No neighbors for eb52d980-ae255f95-cc09bf8b-4e3cb40a-82cf2da0\n",
            "Warning: No neighbors for 11266176-3a4c2da5-45a6cded-5ad210a2-15bf8c14\n",
            "Warning: No neighbors for 278bb7bb-63b81ee8-4e07bbbf-41ed9ec5-3fe8c816\n",
            "Warning: No neighbors for ead5a2a5-847c49c9-2db124f7-a7b951a6-5cac609b\n",
            "Warning: No neighbors for 7b8699f1-82ce0e87-492e5ddc-09ea736d-df46b3dd\n",
            "Warning: No neighbors for 5550e048-d45f5e1b-a4fc49b5-c8332f52-51476c37\n",
            "Warning: No neighbors for 88498b37-c21dc7ba-bc202800-b517a62d-f7ac5bcf\n",
            "Warning: No neighbors for 0ae3e899-37547d05-8ebcfba9-84fcd8a7-e3eb0100\n",
            "Warning: No neighbors for bab96f44-1aa8a391-fd6c2e71-c3b084cc-b1d501c1\n",
            "Warning: No neighbors for 26ae66a6-437d0bee-292124e3-5190035a-33cad15f\n",
            "Warning: No neighbors for 22ccc529-be123926-6aff8657-82717c67-b381d093\n",
            "Warning: No neighbors for 600b15dd-b1aaf370-936c398c-4565ecd5-d2716c3e\n"
          ]
        },
        {
          "output_type": "stream",
          "name": "stderr",
          "text": [
            " 42%|████▏     | 740/1757 [13:36<04:08,  4.10it/s]"
          ]
        },
        {
          "output_type": "stream",
          "name": "stdout",
          "text": [
            "Warning: No neighbors for a3bac49d-a6bec7db-6937854d-79188294-9e8d9576\n",
            "Warning: No neighbors for 9228418a-3edcf899-3cf215ca-7c58bf85-e53b4ec9\n",
            "Warning: No neighbors for 35a82b7c-4153ffb3-f4c5c09b-29f9ad2e-72b2ec87\n",
            "Warning: No neighbors for 249cc74b-d6ae7597-d776e473-c710c372-244232a9\n"
          ]
        },
        {
          "output_type": "stream",
          "name": "stderr",
          "text": [
            " 43%|████▎     | 760/1757 [13:37<02:18,  7.22it/s]"
          ]
        },
        {
          "output_type": "stream",
          "name": "stdout",
          "text": [
            "Warning: No neighbors for 1cc5e97b-234a45dc-61c9abe9-7a8846ac-32c47442\n",
            "Warning: No neighbors for 7b09cbfa-74211759-6de0d3bf-b7916faa-3bd3feef\n",
            "Warning: No neighbors for 032ebec1-0f17c5c0-e39e4ea1-5577c1f7-45c5058d\n",
            "Warning: No neighbors for f1c4b1ba-53ce2f62-32bd4e55-b63b2e7d-25b94ccd\n",
            "Warning: No neighbors for 982a8445-9dc53890-edc11471-2f4a5806-eeefabeb\n",
            "Warning: No neighbors for 12e5c896-ed851964-7c795878-d9d3c1a4-c179cdd1\n",
            "Warning: No neighbors for dd873df6-902a234a-039005f3-6d1177df-00447acf\n",
            "Warning: No neighbors for 067d95d1-229d3abc-6e755e6a-1f773ac1-77951517\n",
            "Warning: No neighbors for ad33265a-4451fb79-c33f9a3e-32d12a8d-3f13f031\n",
            "Warning: No neighbors for 90917144-361e0bdf-0c1915e7-a6ad0c5d-52e9b4f2\n",
            "Warning: No neighbors for 631e2d39-dd8334b6-611d21cf-63def880-2822e7b1\n",
            "Warning: No neighbors for b4bc3375-c3ce0867-481008f8-63f6f62a-54f44ccf\n",
            "Warning: No neighbors for 867c41d3-211415e0-1a935e38-b594600c-7e30a1bb\n",
            "Warning: No neighbors for 1eb5aca3-f045354e-d5cd7208-2c282e05-54646bf9\n",
            "Warning: No neighbors for a6b03e63-75e7b5c0-334811cc-e51a6683-f8246f45\n",
            "Warning: No neighbors for 05167cf5-7ee8fb1a-c2bd69ab-08849c20-da6d1c4f\n",
            "Warning: No neighbors for 858c46d5-9ede3784-5651c411-98a79d60-e398302e\n",
            "Warning: No neighbors for 6d3c1271-8146bdd9-047b3e4f-c8264515-6deac26b\n",
            "Warning: No neighbors for 8a186ec7-3a22b815-9e71f7a4-165e8a0e-17b149c4\n"
          ]
        },
        {
          "output_type": "stream",
          "name": "stderr",
          "text": [
            " 45%|████▌     | 798/1757 [13:38<00:47, 20.03it/s]"
          ]
        },
        {
          "output_type": "stream",
          "name": "stdout",
          "text": [
            "Warning: No neighbors for 4dad376a-42a52b47-4ba8f7d6-cbfbcb4e-a8283c42\n",
            "Warning: No neighbors for 8930bcd1-c1a464a2-2ee5cbb8-94395286-7d792376\n",
            "Warning: No neighbors for f9c88da0-402e7d50-a7c52c37-8f691061-2b2150f0\n",
            "Warning: No neighbors for bfa42c48-f211ca67-ef70061d-fae68254-b42e10e3\n",
            "Warning: No neighbors for c2b7e0b2-3cb5bf8e-d2cd9e54-c49f1a5b-c4d0efd8\n",
            "Warning: No neighbors for 39829cb1-7ca19902-1999373b-bdad7f62-f359cf95\n",
            "Warning: No neighbors for b8452458-cccd0f5b-4b35c054-6945ee6c-8d96b21f\n",
            "Warning: No neighbors for fb8b2832-dbdb5b15-6bafaf9f-5f10fa11-b0530b55\n",
            "Warning: No neighbors for 4d01e85e-1d544229-d522c0ae-06d42cba-d820c6b1\n",
            "Warning: No neighbors for 1b868dd4-b3c57e1a-2554bd64-5204f256-3ea6679b\n",
            "Warning: No neighbors for d5702d72-0fd24e0c-cec10827-a4020ecc-cf99fe95\n",
            "Warning: No neighbors for 6b176129-99c1fd5e-b85b19dc-082e5936-8d344371\n",
            "Warning: No neighbors for 043951e1-094e4849-aa8ad9c1-dfd4a2c9-437d5306\n",
            "Warning: No neighbors for 5627548e-94ebd672-55ec4531-f094c08e-3bf0c82e\n",
            "Warning: No neighbors for 919c96b8-d3cf74f0-49bd4e58-0f9397aa-1ee12d7a\n",
            "Warning: No neighbors for 320293af-d5968b5d-c133d27e-757bc5ee-23b70f99\n",
            "Warning: No neighbors for ecdc3fde-4d1f97ac-8bbb7ee5-c98b6f30-b29bc9c3\n",
            "Warning: No neighbors for fb8b9ebf-be2b5a9d-fed8329c-3e66262c-c7d6430c\n",
            "Warning: No neighbors for 7dfefcf3-8e75504b-0e111afa-705f45dd-112187bc\n",
            "Warning: No neighbors for ab21650b-423d4c19-44a9938e-a733b79f-60bb4ee1\n",
            "Warning: No neighbors for 94f441a3-1a9ae7f4-d980c3a2-771852b9-e4de8763\n",
            "Warning: No neighbors for af53925c-41ac01d6-1fb41739-35eb339c-ded42dba\n",
            "Warning: No neighbors for e414695b-d5da3a86-e48df1c5-0184e379-29cb9346\n",
            "Warning: No neighbors for 4309aa3c-a9535608-7c242838-fc604b63-8637aa79\n",
            "Warning: No neighbors for 4b45e0ae-b0c984e7-31ca069d-f31e1a67-37d50eb8\n",
            "Warning: No neighbors for 4f88e8ce-d23b0254-fbd662c2-595868ee-0537a7d0\n",
            "Warning: No neighbors for d3f00a80-9bee12ef-96c22dcf-d3c63124-5ecb984d\n",
            "Warning: No neighbors for 7b16deb5-2b6d161c-a4303b96-7a841db4-ef1a28ea\n",
            "Warning: No neighbors for 23af0674-60922ec5-c51b1d45-50cddbca-50def8a5\n",
            "Warning: No neighbors for 75b9c06a-4c7b72af-ac91bb18-9adc5018-d1404229\n",
            "Warning: No neighbors for 18e54ea7-24b71b28-8b360857-9f2fff6d-4a65ff79\n",
            "Warning: No neighbors for 639097ac-45c8b928-17625676-d12f4795-1fe58822\n",
            "Warning: No neighbors for 785c7d93-75ae91ca-ba2e3f64-3f64ca2e-387c2521\n",
            "Warning: No neighbors for 51acdbcc-ca2edbb9-f5e902c8-63253d20-72df85cd\n",
            "Warning: No neighbors for 20e7aab4-229140c1-91d40250-4a286fcf-62ba57f0\n"
          ]
        },
        {
          "output_type": "stream",
          "name": "stderr",
          "text": [
            "\r 46%|████▌     | 806/1757 [13:39<01:15, 12.67it/s]"
          ]
        },
        {
          "output_type": "stream",
          "name": "stdout",
          "text": [
            "Warning: No neighbors for fd4363d3-9be3d234-7cf58d9e-7dfca0f3-0b40e9e5\n",
            "Warning: No neighbors for fd228853-2df84977-18361e36-f22ccc25-7d9a4046\n",
            "Warning: No neighbors for 319c3b33-efb17315-499ab319-2127696c-0e44775f\n",
            "Warning: No neighbors for 1331a436-265db545-9256c863-a1f73d0e-9d9ab5c6\n",
            "Warning: No neighbors for 6db2d97e-aad82eaa-d5b97730-6907145d-aa9e8599\n"
          ]
        },
        {
          "output_type": "stream",
          "name": "stderr",
          "text": [
            " 46%|████▋     | 817/1757 [13:41<01:45,  8.87it/s]"
          ]
        },
        {
          "output_type": "stream",
          "name": "stdout",
          "text": [
            "Warning: No neighbors for 4e72551f-316800fc-ef254d71-4666c656-0a3393ae\n",
            "Warning: No neighbors for f00348e5-a3f24ef8-83317347-dd085e61-57af9257\n",
            "Warning: No neighbors for bae95193-a3596e8a-da7c0c8e-d785a6e5-6c1e7f47\n",
            "Warning: No neighbors for 11d2e27e-81b176c2-a8b3900d-b8d22421-3d7f3e54\n",
            "Warning: No neighbors for 6d07b2a5-c48f6123-a8238328-7ac6c5de-5b08b21d\n",
            "Warning: No neighbors for 171fb62c-1ab30d1f-830af0fb-f8c074a8-9070f591\n",
            "Warning: No neighbors for cff1f7db-aac0a6fe-b589f10e-78c2e883-b00dabc9\n",
            "Warning: No neighbors for 50ed8f43-4e862391-b5a44dc9-bb5517a6-7a5f1541\n",
            "Warning: No neighbors for 62092a35-54e06670-77358ada-adc7e6a5-6741b234\n",
            "Warning: No neighbors for a9e864c3-0f70059a-273c22f4-5009f6db-473ce3c4\n"
          ]
        },
        {
          "output_type": "stream",
          "name": "stderr",
          "text": [
            " 48%|████▊     | 852/1757 [13:41<00:38, 23.60it/s]"
          ]
        },
        {
          "output_type": "stream",
          "name": "stdout",
          "text": [
            "Warning: No neighbors for 626693d2-5bdf6b66-b544287c-e7c1f243-17fdd70e\n",
            "Warning: No neighbors for 34115b03-7c75172e-c1e96fa2-f0938ceb-d0617ca4\n",
            "Warning: No neighbors for a67cf133-7552784d-4174ac42-051925a5-96ddb69e\n",
            "Warning: No neighbors for a861fccb-69a4f6c6-f5f1f725-456c089e-11dd09e5\n",
            "Warning: No neighbors for 259dd0e9-1b94b1db-55d42ec1-e50e0376-a2018eef\n",
            "Warning: No neighbors for aa60b969-d711a8fd-501a7874-94158c06-e096dc72\n",
            "Warning: No neighbors for cc1b4f47-01898a94-cf946625-7af3b01c-6ee889e5\n",
            "Warning: No neighbors for 6021c402-c9ddaeef-502874cb-8d9df3c1-332573d6\n",
            "Warning: No neighbors for e4581e4f-c07fca47-33ff95c7-8222d5cf-8b91c416\n",
            "Warning: No neighbors for 12f97953-8767ba98-a37b2e32-20df5196-dd155cbd\n",
            "Warning: No neighbors for 44615423-ea9dccff-094e60a8-b66d647d-8cdccc57\n",
            "Warning: No neighbors for 68ff2871-6ad74797-ac5aa6f1-0c8ad46b-fc26dc7f\n",
            "Warning: No neighbors for dd7ef2b6-ebf7d09e-f712fd9c-4a88e6f7-78bccd51\n",
            "Warning: No neighbors for 3d864f72-4d9ea6c7-8b2787d0-847f2011-0282a80e\n",
            "Warning: No neighbors for 72f3c9c5-c327a3a4-de348932-9f262de3-fb7943ea\n",
            "Warning: No neighbors for 4490c9a7-e695c42b-65065361-744425fe-1cbf9c77\n",
            "Warning: No neighbors for e8ef99c2-c9886d19-da939896-97862f00-3e1ff511\n",
            "Warning: No neighbors for f60c0da6-1135e487-c0927d25-ca7dc61f-a3d7f277\n",
            "Warning: No neighbors for 0149f5ea-0e731d1d-e4e72f38-f288c757-6d15c02f\n",
            "Warning: No neighbors for 6042e79d-d6123dac-700bbcd4-d40892c1-c4f08159\n",
            "Warning: No neighbors for dd5288d9-25c4fc2e-a4931e09-a7953360-18de2d82\n",
            "Warning: No neighbors for 86a893f4-a3c086cf-c5136df2-262748f2-60d34cd7\n",
            "Warning: No neighbors for 4f9f86a9-edb65294-14e00ff3-00d3e82e-e1744b34\n",
            "Warning: No neighbors for 68caa794-c05777d7-80811c89-101e12e3-600a9a0d\n",
            "Warning: No neighbors for 7fb879bd-f49e00bd-91609953-bf71e17f-5a419295\n",
            "Warning: No neighbors for 8164aadb-a7a54ce6-4aef6517-fac146c0-e52e91a2\n",
            "Warning: No neighbors for d3539787-74453ce8-714f74f3-2e3301be-c42bc545\n",
            "Warning: No neighbors for 818a4981-4a020385-5eaea232-311be0a0-1852d666\n",
            "Warning: No neighbors for f8f8cc35-72e3260f-0a35988a-17982b98-4d76b3db\n"
          ]
        },
        {
          "output_type": "stream",
          "name": "stderr",
          "text": [
            "\r 49%|████▉     | 860/1757 [13:42<00:49, 18.30it/s]"
          ]
        },
        {
          "output_type": "stream",
          "name": "stdout",
          "text": [
            "Warning: No neighbors for f1ea753b-7b304931-02c08ff4-df2914b3-9808e730\n",
            "Warning: No neighbors for a7779cd8-01218354-30c74949-df779c84-e84f5cc0\n",
            "Warning: No neighbors for b1260ec2-6d938ad4-3db82602-1c230efa-e324ffed\n"
          ]
        },
        {
          "output_type": "stream",
          "name": "stderr",
          "text": [
            " 50%|█████     | 884/1757 [13:44<00:43, 19.93it/s]"
          ]
        },
        {
          "output_type": "stream",
          "name": "stdout",
          "text": [
            "Warning: No neighbors for b86952bb-26100cdd-1bf2cc44-e62914dc-15e3bcaa\n",
            "Warning: No neighbors for e3003c6c-e636db3f-1e33540c-24c22676-5a691923\n",
            "Warning: No neighbors for 3da3a8d1-1d04bff6-c84d0002-6d8a5c3c-62a17713\n",
            "Warning: No neighbors for 626cf247-1753a923-8d794f8c-66700062-a050a1be\n",
            "Warning: No neighbors for 24baae47-5a002b1f-cfc2f3e4-e50b97e8-e346f127\n",
            "Warning: No neighbors for daa214d3-92662e2e-c59a1bcb-c20668ee-91c44a3e\n",
            "Warning: No neighbors for fbfcdf49-aaf72c62-da44707e-4cac2cbd-41dc7f5b\n",
            "Warning: No neighbors for f81e936a-181200e5-674f00fb-0650ab93-0d368664\n",
            "Warning: No neighbors for 5763ec9f-f75de14b-b606d3c1-064fab22-9ac793e0\n",
            "Warning: No neighbors for a80b8c28-a0e0c2f0-89be31b8-025b7a81-064446a4\n",
            "Warning: No neighbors for 950f4b62-50e6764f-cd439533-7a8a1965-2c6bd0b9\n",
            "Warning: No neighbors for 5ad14a1b-e9bc6318-ecb89d16-efbc2356-3a0d7c35\n",
            "Warning: No neighbors for bf3d9688-11434bd1-1b8c8527-6fea34d7-e6302779\n",
            "Warning: No neighbors for fa0ab42c-00854299-7c7e79fc-2bbcbe4b-8c492773\n",
            "Warning: No neighbors for de6c2ee5-9a54c70d-11355e60-4f00400c-346d8994\n",
            "Warning: No neighbors for a25aa13d-a54439f3-daf014bd-caf8362f-73e69fb6\n"
          ]
        },
        {
          "output_type": "stream",
          "name": "stderr",
          "text": [
            "\r 51%|█████     | 890/1757 [13:46<01:21, 10.61it/s]"
          ]
        },
        {
          "output_type": "stream",
          "name": "stdout",
          "text": [
            "Warning: No neighbors for aa435070-3bf27c12-ce72eaf0-e9269fc7-719ea123\n"
          ]
        },
        {
          "output_type": "stream",
          "name": "stderr",
          "text": [
            "\r 51%|█████     | 894/1757 [13:46<01:40,  8.56it/s]"
          ]
        },
        {
          "output_type": "stream",
          "name": "stdout",
          "text": [
            "Warning: No neighbors for 462cc6dc-c1040e66-84c341fd-d252466b-f4b276d6\n",
            "Warning: No neighbors for 3f0b2fca-4067e134-7f5a98e5-1a7c7575-48d136e4\n",
            "Warning: No neighbors for 3403ef30-d0c33e5f-744b3532-2e78cd20-b59b795a\n",
            "Warning: No neighbors for 80001b54-19d2a09d-8ca6fddf-aa67cd15-cab5b82b\n",
            "Warning: No neighbors for c8ae540c-8624b632-7614aaf3-7d844dad-c02967e2\n"
          ]
        },
        {
          "output_type": "stream",
          "name": "stderr",
          "text": [
            "\r 51%|█████     | 899/1757 [13:47<01:48,  7.94it/s]"
          ]
        },
        {
          "output_type": "stream",
          "name": "stdout",
          "text": [
            "Warning: No neighbors for d9e773a7-2e7f5df4-fac2ec17-aee8cf16-5cb58aa4\n",
            "Warning: No neighbors for e5b8d4a0-907d8502-87788dfe-f2514019-6d3bfb2b\n",
            "Warning: No neighbors for 12f62075-3374ac97-0428558c-87f27269-35d123b0\n"
          ]
        },
        {
          "output_type": "stream",
          "name": "stderr",
          "text": [
            " 52%|█████▏    | 905/1757 [13:48<01:53,  7.48it/s]"
          ]
        },
        {
          "output_type": "stream",
          "name": "stdout",
          "text": [
            "Warning: No neighbors for bc4f7abf-35756b5b-72993b36-40292fac-b26ef49f\n",
            "Warning: No neighbors for 10c08a05-8ccf4b41-16fbf4fa-4e796661-41852c4e\n",
            "Warning: No neighbors for a8c0b3a8-030ef9f3-493bf8e9-fd318625-831b80a1\n",
            "Warning: No neighbors for 99a7a0aa-8104cf08-b9d4282e-a459877b-05d75ae9\n",
            "Warning: No neighbors for e1678641-6a9b2469-bcae71b9-598c2e87-1ed71e55\n",
            "Warning: No neighbors for 41479840-5d9f3cf1-ac29c4be-7007cfb9-37e379f3\n",
            "Warning: No neighbors for 32f29bbd-708c39d5-e0e01140-65e5a8ac-a2a6f01c\n",
            "Warning: No neighbors for a17b5dc8-d644c07f-3d06ab54-851e9dee-b8643fad\n",
            "Warning: No neighbors for d958a1d3-977c9fd6-0296ff8d-bf5c5aa9-8894c621\n",
            "Warning: No neighbors for 99afae49-8d95e258-a1717ce5-74e8f9fa-715ae11a\n",
            "Warning: No neighbors for 08313ce1-bfd06c2b-b5a54a31-4833369d-f7a855f8\n",
            "Warning: No neighbors for 4b166e4d-83303d70-558a16a2-f4124f77-4de139f5\n",
            "Warning: No neighbors for 1f3aee69-87625550-e8ecf072-a9f1bddc-1ccaa456\n",
            "Warning: No neighbors for 66c16419-baf9fe49-c87be455-7d164f38-0c558c50\n",
            "Warning: No neighbors for 7185ac88-94217e96-4aee5429-e6d8c627-ab0c781b\n",
            "Warning: No neighbors for 0adc5047-fc17f513-e10dca88-e34805ef-9ff8c441\n",
            "Warning: No neighbors for 1f30d6c6-dd30be34-d4d0c41d-f6e6d2c3-df9b0055\n",
            "Warning: No neighbors for d8fac13e-3b9a8a45-6e453870-29e4b59b-f9506550\n",
            "Warning: No neighbors for 4f3657cf-1cef59b2-16bb338a-05597a38-c18c386c\n",
            "Warning: No neighbors for 6ec3610c-5315c4c4-c3795837-766fa4c3-d05d67d7\n",
            "Warning: No neighbors for 2a172cb5-e3b49197-32da5c11-077598dc-970a2645\n",
            "Warning: No neighbors for 1739d62d-0800863a-2bf6988a-d60184bf-57e6ba16\n",
            "Warning: No neighbors for c108d63c-841a0a0a-9ec7a811-364ef5ea-1fee4566\n",
            "Warning: No neighbors for 00233de9-6d49b0b0-925bbf31-693a3d63-6c723927\n",
            "Warning: No neighbors for 4b9bd7bf-6682ec75-9b0d9720-fab90bb8-27c6ba07\n",
            "Warning: No neighbors for 116ad7aa-27e921e1-1db07417-5f7f1edf-46d2d141\n",
            "Warning: No neighbors for 9558dccd-c1ac8c89-1fccbe35-aef00f25-d66aafc5\n",
            "Warning: No neighbors for 3bc6301b-32da29d9-c4efbaaf-b301e1a2-2edd75b9\n",
            "Warning: No neighbors for 4c4f29e9-6d99e44d-86ffe2f8-6b72e501-b27dd20e\n",
            "Warning: No neighbors for 6fe272b2-4f11b433-1fcdc1ca-05998ff3-3bb73648\n",
            "Warning: No neighbors for 8ee8957c-24f269a5-fed123e7-a992007b-a66f2d2a\n"
          ]
        },
        {
          "output_type": "stream",
          "name": "stderr",
          "text": [
            " 54%|█████▎    | 940/1757 [13:50<01:05, 12.43it/s]"
          ]
        },
        {
          "output_type": "stream",
          "name": "stdout",
          "text": [
            "Warning: No neighbors for 9341fa90-9c64ae63-5dd549a5-2d5f781d-f2b24b1f\n",
            "Warning: No neighbors for e7e76a1e-34396b60-07031c2e-e7e0e0a5-d4681162\n",
            "Warning: No neighbors for 5ffed220-f6a200b2-e08a9fe1-b3e79395-a59335e2\n",
            "Warning: No neighbors for f0b62498-a5524360-d3707326-4652ed4a-c35b0d3b\n",
            "Warning: No neighbors for d9c53cb6-60f1dfa9-87a86871-2c89acb1-7fce5d23\n",
            "Warning: No neighbors for 4e5fdcd0-be6575fd-335261bc-aae205df-4d15c58f\n",
            "Warning: No neighbors for 2d37d028-f95d738d-1e02fdfc-4461ec0f-76f21aad\n",
            "Warning: No neighbors for 1254bd1f-85e4e4f7-64913332-798fb62c-eaa483f6\n",
            "Warning: No neighbors for a8b5ce00-4154aba5-27184ed2-ff3eaa68-d062cbb4\n",
            "Warning: No neighbors for 124fc0be-16167117-5bbacfdb-9a90a44b-b52aeee9\n",
            "Warning: No neighbors for 494c4bc9-93b40bbe-0d1477c6-0dc0ebe9-e6a9def5\n",
            "Warning: No neighbors for 97f88e47-b56da51c-50e52359-0b9000df-1f119272\n",
            "Warning: No neighbors for a3ecda2e-cac43681-ada88c8a-4355d72f-d9874965\n",
            "Warning: No neighbors for d8c4239a-c60d444d-16a9595d-683911d5-08a09209\n",
            "Warning: No neighbors for 1e6fb29f-53b237d3-aa3c428b-6660cd91-4eda6309\n",
            "Warning: No neighbors for 16c412e8-8585068e-ad9fc372-602a1f4a-88f8f372\n",
            "Warning: No neighbors for 99bc790c-9661c3e7-9efa96ea-1b8e9456-2e88fa03\n",
            "Warning: No neighbors for d39296d4-8d61fdda-95920427-c261d541-bf5371ce\n",
            "Warning: No neighbors for 16054f91-3545538a-00f495dc-b9ecde2d-d229f180\n",
            "Warning: No neighbors for a26265ad-04c52c0c-b5efe3bd-8fd2fede-76521169\n",
            "Warning: No neighbors for c7b0aadd-bd5f99c5-b14d8a80-f1eb032a-27fbb060\n",
            "Warning: No neighbors for 8847fb41-e63f0191-4f9a133c-d37aa042-6f3b0225\n",
            "Warning: No neighbors for cc3db094-a1d4eac4-0f4a05a7-ff2787ff-f8751354\n",
            "Warning: No neighbors for 1b03b75d-a69c3162-d4415d49-fe9b8cb3-43afe0f1\n",
            "Warning: No neighbors for fcb3e067-bdc610ab-da397cbd-39caecd2-b55027e2\n",
            "Warning: No neighbors for 4b9bc031-1541d6e3-34b0c228-c99ea3af-15622bd3\n",
            "Warning: No neighbors for c23bef4a-b96a1785-a6b576b8-60f9abf7-2e1679f3\n",
            "Warning: No neighbors for 8144a92e-87cd71dd-3f85df71-cc7d3742-9f291136\n",
            "Warning: No neighbors for 3445b09b-1a086651-d915ab28-16df5cbe-efcd79a5\n",
            "Warning: No neighbors for 5299bfe0-32e070ec-0c4f69fd-f29b0b50-3ddbab40\n",
            "Warning: No neighbors for f394925e-bf28ce94-0c55d6d9-e5eec772-e5d97104\n",
            "Warning: No neighbors for d3e9606e-6fcbc8c5-28911537-1efd7404-42cdc31d\n",
            "Warning: No neighbors for ba23d470-c8706f7a-e2664ec7-1de4f966-c6e986c4\n",
            "Warning: No neighbors for 372e9d97-2ee55444-42c590a3-e6c4bb68-b59f426c\n",
            "Warning: No neighbors for f56a5f3b-06c0620f-fc929174-6c10ff84-54f892b9\n"
          ]
        },
        {
          "output_type": "stream",
          "name": "stderr",
          "text": [
            " 56%|█████▌    | 980/1757 [13:51<00:34, 22.22it/s]"
          ]
        },
        {
          "output_type": "stream",
          "name": "stdout",
          "text": [
            "Warning: No neighbors for 1069b22e-2700bf39-3f13aca2-cbb488d6-37503866\n",
            "Warning: No neighbors for 0ae6774d-801efc01-0809848e-659ad586-4dce727a\n",
            "Warning: No neighbors for b56c2f66-6ddbc693-d1b30b2b-c1dd33d2-bf450aea\n",
            "Warning: No neighbors for 9664dd99-6cfd04f7-33a68398-c55da37d-000af373\n",
            "Warning: No neighbors for 7b17a9b4-afd36b9a-6c21b461-680d4d4c-67a6e054\n",
            "Warning: No neighbors for a25c7e21-16d3ba55-15982988-2cda8ac9-b1d56d5f\n",
            "Warning: No neighbors for 005017f6-395132c7-05bf3bfb-45cb1fb3-e0dc49b5\n",
            "Warning: No neighbors for 1d394d50-b10aad3a-9f90be4c-bfcec6e9-84463897\n",
            "Warning: No neighbors for 74a8560f-ee9f938f-df73ead3-6abadf8b-1d106802\n",
            "Warning: No neighbors for a10bec92-373482ee-518bf9ae-96b3d0be-ca8dd217\n",
            "Warning: No neighbors for 4ff0de58-774b50d6-33df7a9d-8783ba24-1cd1e742\n",
            "Warning: No neighbors for 4d9fe0cd-457c7413-8c333010-89668ab2-765b37ca\n"
          ]
        },
        {
          "output_type": "stream",
          "name": "stderr",
          "text": [
            "\r 56%|█████▋    | 990/1757 [13:51<00:35, 21.71it/s]"
          ]
        },
        {
          "output_type": "stream",
          "name": "stdout",
          "text": [
            "Warning: No neighbors for 7de88e29-d57e0cd4-eabb8649-4d80c7bf-c81e428e\n",
            "Warning: No neighbors for 1f1c181e-cc819daa-2784b79d-df7850fe-1d19c304\n",
            "Warning: No neighbors for fcc08fdd-f7ba06e7-4aa9d17e-6a4d10fb-0808f046\n",
            "Warning: No neighbors for b7198b67-730c1be1-f8fef0d1-83287867-c0b8d5df\n",
            "Warning: No neighbors for 51d0ebec-0b725de1-dbe3f4e9-74a74ae2-60240a35\n",
            "Warning: No neighbors for 0251aa05-0fb0a3dd-edb74c20-c52eae22-6138e26c\n",
            "Warning: No neighbors for babd1e16-0a38d3af-dd095f39-090c70b7-aeaf26bb\n",
            "Warning: No neighbors for 085a5db4-0191afb5-93e46ad6-1e551354-c9eda0d5\n",
            "Warning: No neighbors for e70f8383-a5bcfb61-5becc68c-9ea04ba5-fd68a41b\n",
            "Warning: No neighbors for 4595d15d-4f323255-5c21158e-4c591b50-612c4f75\n",
            "Warning: No neighbors for d81e286a-bca5de91-61cf0257-693186f0-69af6f85\n",
            "Warning: No neighbors for bbf75841-2a68214f-71e80959-69fe8bb2-f5f06a10\n",
            "Warning: No neighbors for ca7d3ebf-7ec4f888-3f4dd020-925715b0-14dfb0ed\n",
            "Warning: No neighbors for 7904ed03-240bd3ea-c1c73481-f9706582-63971a43\n",
            "Warning: No neighbors for c0186a05-940cbc40-b2279f34-187c62fd-a11e492d\n",
            "Warning: No neighbors for 57ddb75f-63a8bf89-89fc1c48-89683036-b63b16b6\n",
            "Warning: No neighbors for 8d973810-073e3ba1-85e48f90-011a0dd8-e1212104\n",
            "Warning: No neighbors for 0635bff9-1bf574a4-578af2ce-574b6652-a68307e4\n",
            "Warning: No neighbors for e3cd2e16-1b7e1ada-0c02f599-8f5a3ff9-c76ea3aa\n"
          ]
        },
        {
          "output_type": "stream",
          "name": "stderr",
          "text": [
            " 58%|█████▊    | 1013/1757 [13:52<00:33, 22.34it/s]"
          ]
        },
        {
          "output_type": "stream",
          "name": "stdout",
          "text": [
            "Warning: No neighbors for e894fd1c-d5f2a5d4-32f5d483-749877db-29caeabb\n",
            "Warning: No neighbors for 093dcd57-14aa7a11-99cb668c-8ca697bf-59337102\n",
            "Warning: No neighbors for 753c3598-3dc1a321-8f1c22ac-1f38042c-a9b5f4bc\n",
            "Warning: No neighbors for a085917e-9ef2ed3f-15031810-655ad8a0-8cb50051\n"
          ]
        },
        {
          "output_type": "stream",
          "name": "stderr",
          "text": [
            "\r 58%|█████▊    | 1016/1757 [13:53<00:35, 20.95it/s]"
          ]
        },
        {
          "output_type": "stream",
          "name": "stdout",
          "text": [
            "Warning: No neighbors for a663e100-6073db88-56e451d2-378d9b0d-d8e97f9c\n",
            "Warning: No neighbors for d63b5008-a01f5039-ce6eeaef-0319afb7-fdb0e5dd\n",
            "Warning: No neighbors for a0da08c1-590f2155-f9ddc616-7983594a-3ca3f964\n",
            "Warning: No neighbors for aab4c181-4c6fb19d-b22f3e7b-87da29ed-ddb907a5\n",
            "Warning: No neighbors for f52af341-a945543d-1a522bf9-aae6bf11-17d1d072\n",
            "Warning: No neighbors for fa91f807-73ce59c2-cb48421f-c843fae0-c59f729f\n",
            "Warning: No neighbors for b0b1cb04-f2b89f55-c0e8687b-f15123c2-b93e2630\n",
            "Warning: No neighbors for 42922311-a07656ed-eb7b400a-198e833f-a3e1b9bb\n",
            "Warning: No neighbors for 3bffe8e6-aab5d57c-6e05f3ef-5d2feca6-c864d0f7\n",
            "Warning: No neighbors for d6e3bda2-58457c7c-acf24b5b-d453c608-6c2528dc\n",
            "Warning: No neighbors for 69bcc382-9c42d7f1-ddfbecd4-ddca06e6-7b01019b\n"
          ]
        },
        {
          "output_type": "stream",
          "name": "stderr",
          "text": [
            " 60%|█████▉    | 1049/1757 [13:53<00:15, 44.57it/s]"
          ]
        },
        {
          "output_type": "stream",
          "name": "stdout",
          "text": [
            "Warning: No neighbors for 3ff7c34f-40a680f2-53f01fce-1cb8080b-35384f33\n",
            "Warning: No neighbors for 478acc08-98cd8369-8d54940e-1452e932-66d49ecf\n",
            "Warning: No neighbors for 9dc2d803-49c80037-7b5a3b05-1bf0481c-6e88ef5c\n",
            "Warning: No neighbors for 6cbb6da3-ef3bb267-c9b73b0d-dbb38973-ebbd48f4\n",
            "Warning: No neighbors for 08f72394-76252973-5ad8005e-acbded71-af02b1e3\n",
            "Warning: No neighbors for 2b2a4616-8538523b-6eb25e04-5a754894-8e6b957f\n",
            "Warning: No neighbors for cf30baec-4c82683c-916100a3-fa1b71ea-21be8459\n",
            "Warning: No neighbors for 5d37dfca-4cacd571-c2af74e3-58dc1e6e-241d2eb1\n",
            "Warning: No neighbors for f7dc3495-fbbc9a46-2d5c08c4-b54eb0b2-69b3d4a8\n",
            "Warning: No neighbors for 75d7bd41-0bafde66-a97c1ec6-548223bd-b3d83acf\n",
            "Warning: No neighbors for bc042d2c-3db468a3-cea365c5-c1cac9df-72fb0a3b\n",
            "Warning: No neighbors for 5bb092ff-f2186ffa-0c51fab8-40aa6ebf-05803b1b\n",
            "Warning: No neighbors for 6324d4c3-2a1d0d9d-7812d0bf-d69cda69-6bf2e748\n",
            "Warning: No neighbors for 4c2232ea-9a13576e-8189ca8b-d3962694-12e94bb0\n",
            "Warning: No neighbors for f7a4e18f-004ac053-81024d1b-568dbb86-b20f308b\n",
            "Warning: No neighbors for ca394108-2bd736c2-eb677e6b-5d4ea9ff-5cc9c534\n",
            "Warning: No neighbors for a409bd4d-c1338227-b956913f-cc0dded0-4b3d81b8\n",
            "Warning: No neighbors for 088a2800-435ebd97-f2e13708-f886e767-e7a98fce\n",
            "Warning: No neighbors for 0818e7d9-fbd989f1-2c2b0a5d-6b7c7822-c3886429\n",
            "Warning: No neighbors for 629b4ba9-ff27f36b-62f2497e-b0a44b8c-258f00b9\n",
            "Warning: No neighbors for 96671a72-c761df2d-9ca250fc-06ff41fe-f61f0db0\n",
            "Warning: No neighbors for d74ebddd-4e1153ad-c68cf1d5-ea3f4154-940f2ca0\n",
            "Warning: No neighbors for e95fa869-0640dc7c-b7d00740-db70b418-e0d1af84\n",
            "Warning: No neighbors for 46282f76-3e088414-7b6a0ea1-e239b973-173b633e\n",
            "Warning: No neighbors for 78299096-8d601dd9-61bd0cd0-1ed1e0ff-52094f93\n",
            "Warning: No neighbors for e16a4b85-372c948d-2be8c3d4-f5612f1b-cf634968\n",
            "Warning: No neighbors for a87b92a4-c5e70c5c-461eaa0d-75ce9bc0-bd4b97e3\n"
          ]
        },
        {
          "output_type": "stream",
          "name": "stderr",
          "text": [
            " 60%|██████    | 1062/1757 [13:55<00:45, 15.39it/s]"
          ]
        },
        {
          "output_type": "stream",
          "name": "stdout",
          "text": [
            "Warning: No neighbors for a512ddd5-0f909229-bab34ff3-5f1e21d2-51cd9c85\n",
            "Warning: No neighbors for 53069252-b0413bc4-99a4520e-2f3934d8-21d6bb03\n",
            "Warning: No neighbors for 3ab08213-bc54de8f-47348a99-cca027fe-cdb09fdc\n",
            "Warning: No neighbors for 8704adfb-8cbc9b36-91bcef7b-842c33a2-94a3b3c9\n",
            "Warning: No neighbors for 2db7e96e-bbe1b60d-978c1288-c6f5aa37-3b18791a\n",
            "Warning: No neighbors for 001e2195-622bd52d-1231e014-d12fdf46-a282e56e\n",
            "Warning: No neighbors for 2ad141f2-c6b5a335-51c2d2bd-1e66b0be-6c0b2a4e\n",
            "Warning: No neighbors for ec5e899b-d79a9c87-cde766c3-076cb467-773a9a67\n",
            "Warning: No neighbors for 20d03a5a-db6514f3-05c9d9ca-002d1551-9d2ab485\n",
            "Warning: No neighbors for 58d313c4-3c00ed0e-196b3123-dea149fe-860e62c7\n",
            "Warning: No neighbors for e60764e6-b784bfe9-02cc5ca4-e526b581-7f199581\n",
            "Warning: No neighbors for 43df8214-d298c308-99abd3ed-f844fa39-77c21393\n",
            "Warning: No neighbors for 9be54937-aa19f73a-f33ec646-a7c547e5-ebc6e0f2\n",
            "Warning: No neighbors for e37cdbfa-513b61b1-33f2b1a6-d63d2fb5-df8a849d\n",
            "Warning: No neighbors for 314c4133-9086d0cc-f72ef1cb-afa10d89-b020f938\n",
            "Warning: No neighbors for dc6e7428-e6f445df-1c78d622-c5b252dd-93784709\n",
            "Warning: No neighbors for 5927fbf0-1b8985e5-a3068193-d7e200d9-b53ed1b7\n",
            "Warning: No neighbors for 3fed1d0e-baf453c8-26b94f40-007f0986-de0aee69\n",
            "Warning: No neighbors for d42438e7-7bd69ba8-ed0420ee-e9111459-8e06ebb0\n",
            "Warning: No neighbors for 61cb61a4-1326ebf0-5b45b66a-89dadd2f-891bf33d\n",
            "Warning: No neighbors for 0b353d78-364ff8f0-041af7e1-4d3c0435-8dcc558e\n",
            "Warning: No neighbors for cb1d8124-5aee4192-f95629b3-6c7d0762-0333db80\n",
            "Warning: No neighbors for 8a61732e-2ab9aedc-d3762ed1-7dac851e-06f064a5\n",
            "Warning: No neighbors for 9ea54be8-dc10965f-641804d7-e3a248fb-260ce13e\n",
            "Warning: No neighbors for 112a5c5a-1f6a00bb-9662a57a-14f729d2-09c48b66\n",
            "Warning: No neighbors for 9680e5ee-1612cdb6-73b0c831-909ada1e-6faee2ce\n",
            "Warning: No neighbors for f3c034ec-7e352b47-fe4c0067-63573cbb-09a9e9d4\n",
            "Warning: No neighbors for 186f8c2f-d6e9bc8e-f21c9334-e18e6bce-94337443\n"
          ]
        },
        {
          "output_type": "stream",
          "name": "stderr",
          "text": [
            " 62%|██████▏   | 1097/1757 [13:56<00:38, 17.10it/s]"
          ]
        },
        {
          "output_type": "stream",
          "name": "stdout",
          "text": [
            "Warning: No neighbors for 3644fe78-1dbd2d68-b3a0c5cd-a7b78841-3e17249a\n",
            "Warning: No neighbors for 59c47442-06949e3d-78da743f-96ab2228-5d58aa76\n",
            "Warning: No neighbors for ab01d9a0-6b26018f-5434f6ee-7862dc28-04ce191a\n",
            "Warning: No neighbors for 05cfa70c-bae80a26-8b294ba9-86716b29-7b719ea7\n",
            "Warning: No neighbors for d6dead20-6f4680bb-3fdab9c2-28907e94-2f3217ef\n",
            "Warning: No neighbors for ce019c61-d5a7bbdf-ad1a70e6-45af9c26-ed714fcc\n",
            "Warning: No neighbors for 36024fc7-5f6f5805-fb893533-7b1e5f73-252c832b\n",
            "Warning: No neighbors for 4575a1fa-fbfb2a89-c4aa9efe-ebd4ee73-f3110f69\n",
            "Warning: No neighbors for dd70d287-61fd8ca8-22bfbcd9-a9f7f436-d67f3d83\n"
          ]
        },
        {
          "output_type": "stream",
          "name": "stderr",
          "text": [
            " 65%|██████▍   | 1136/1757 [13:57<00:17, 35.81it/s]"
          ]
        },
        {
          "output_type": "stream",
          "name": "stdout",
          "text": [
            "Warning: No neighbors for 698898fb-e79972a2-36aaf028-49732f12-f23dd001\n",
            "Warning: No neighbors for 0b9f919d-73309b38-9cb97a1d-614b62d1-291bc344\n",
            "Warning: No neighbors for 8ac5b22d-48b69de6-c7b8d8a2-6b1c50a8-6a6aa95a\n",
            "Warning: No neighbors for d72aa86b-a66bef80-c7d332a5-3b739a4e-dbefc8b7\n",
            "Warning: No neighbors for d872bdd5-71f41be4-3ab2c54b-c9b11ab2-67d23573\n",
            "Warning: No neighbors for 844a09ef-24e89b2c-d4989482-a43cd7ad-ad1fdd11\n",
            "Warning: No neighbors for c08cdad4-b39d03b0-1de89e76-68692ab9-95af3476\n",
            "Warning: No neighbors for 76da7448-714d5bca-ed8c14cf-881a3956-4210804b\n",
            "Warning: No neighbors for 4e9a8912-da542d33-6582bd2e-510335f7-00ed46e1\n",
            "Warning: No neighbors for d9b3011f-0067bdd0-c04fb6b0-725287e0-bd11f5c9\n",
            "Warning: No neighbors for 33a2eacd-d711337b-426ce432-c6539e32-72fcee83\n",
            "Warning: No neighbors for b1b69a4f-be26a874-9b5348e6-e7c9bff9-fbaf2e77\n",
            "Warning: No neighbors for a7ddb2fc-f2919987-a4c633f7-0c683c80-a3f59148\n",
            "Warning: No neighbors for 8647dfc7-f422e5b2-2bfcf6b4-43ff8a35-47469efd\n",
            "Warning: No neighbors for 4f2a60a0-90767094-d580a2f3-36251e71-39ac59b3\n",
            "Warning: No neighbors for bce7246e-5edff07e-b95772e6-4cc1ae42-17239e30\n",
            "Warning: No neighbors for 0313411d-ee7e0c03-0b6eb1cf-aee5f21c-1d931ced\n",
            "Warning: No neighbors for d1e2e1d5-62362cb0-5493aaa4-61ac3ee9-27697767\n",
            "Warning: No neighbors for 3973f6fd-9e015ad8-10438496-faf0ed84-4435e71d\n",
            "Warning: No neighbors for 23de9b13-5854211f-97dd16ae-c957e019-eb39c293\n",
            "Warning: No neighbors for aa19721c-12253bbb-5a270bae-a92ab343-1ca1e28b\n",
            "Warning: No neighbors for f24714fc-f21fa87d-3326e6aa-989f43f8-4f1367cb\n",
            "Warning: No neighbors for cbed2618-90a3421d-d954d769-c4dffba8-197fa3ef\n",
            "Warning: No neighbors for ac2c3b7c-6085eaa4-6f028eaf-ad2256b6-497db8c0\n",
            "Warning: No neighbors for 24e65247-3b6b1459-912f0937-fbfbd39a-87dd8520\n",
            "Warning: No neighbors for 0c764461-6821e201-824cf356-6d67d926-354a9db9\n",
            "Warning: No neighbors for 1994abcc-f25644bd-4a45161f-dfb1953d-4743218e\n",
            "Warning: No neighbors for 73e13358-56faa1dd-66de535f-106e76b5-4a171d3b\n",
            "Warning: No neighbors for 45bc55ce-d46a4152-193b91e5-32c8a18a-3991c179\n",
            "Warning: No neighbors for ce5cd120-4f52e836-4ff90ac4-699458c2-a34c53ad\n",
            "Warning: No neighbors for e550d530-334a1280-fc2dba66-cf91d7e2-e20ebe0e\n",
            "Warning: No neighbors for 0c5b1207-c5a169c2-0730d05f-aaccf742-6f47f468\n",
            "Warning: No neighbors for 9d04d3cd-1e0421a2-e7789d06-7cf05b3b-f191ad4a\n",
            "Warning: No neighbors for f92d2497-44e61c68-ba829cf6-64fbf6fc-ce57210c\n",
            "Warning: No neighbors for e75510f5-f8f17f74-ca5c5aeb-f8bdf597-44093622\n",
            "Warning: No neighbors for b309b36e-eb5e64a0-e8757865-73693ad7-33a2598d\n",
            "Warning: No neighbors for 4092ec42-d0ccdde4-13fdccd1-9c486c7b-0732ffa5\n",
            "Warning: No neighbors for bd41bb03-3819802e-b2c71b61-9377db57-33e57bcc\n",
            "Warning: No neighbors for 7ece00a1-210e7ba0-b8b1e328-850fbd6d-20d90cdb\n",
            "Warning: No neighbors for 9a115cdd-8813d543-1104a0a1-22e04845-71828ab3\n",
            "Warning: No neighbors for 1b881d90-fc6367b1-f9b0b338-d0731477-299d073f\n",
            "Warning: No neighbors for e6ade53e-9f0c6d4f-4678452b-387207f9-8155c2cb\n",
            "Warning: No neighbors for 5ae42b17-dc723f61-60806a8a-3a89800e-56dac2f8\n"
          ]
        },
        {
          "output_type": "stream",
          "name": "stderr",
          "text": [
            " 66%|██████▌   | 1160/1757 [13:57<00:15, 39.32it/s]"
          ]
        },
        {
          "output_type": "stream",
          "name": "stdout",
          "text": [
            "Warning: No neighbors for 5e9c1673-da821086-35718691-36e20ea3-47c7a294\n",
            "Warning: No neighbors for d3fb1b89-5938a1d2-504f4f16-a2935a64-9fd53738\n",
            "Warning: No neighbors for bdcf0285-639c2268-e26643ed-e852c856-c9340629\n",
            "Warning: No neighbors for 5fc4c3a7-2b9c4c85-7237349d-5886f17f-d8c6e2d3\n",
            "Warning: No neighbors for e773d2e4-f049e5ad-adc7e7ef-714f57d3-e1299333\n",
            "Warning: No neighbors for 5b061388-2fd30b35-bc3b9417-82187ad5-b9a329f1\n",
            "Warning: No neighbors for d708d299-7cd295cf-766a7fd7-dd92a49c-74c66195\n",
            "Warning: No neighbors for 4502755f-d964ac95-90655e2e-ccc6d9ed-ed8ef5ea\n",
            "Warning: No neighbors for ab6b6b8a-e897a4f5-6868d56e-2c10b206-d5c0ad6f\n",
            "Warning: No neighbors for 2de9ee8c-4775abc8-86c0f840-afb2dfba-6234cd7b\n",
            "Warning: No neighbors for cf47d5aa-9dbc52c0-a2a2d039-1bee70ed-92d994de\n"
          ]
        },
        {
          "output_type": "stream",
          "name": "stderr",
          "text": [
            "\r 66%|██████▋   | 1168/1757 [13:58<00:17, 33.92it/s]"
          ]
        },
        {
          "output_type": "stream",
          "name": "stdout",
          "text": [
            "Warning: No neighbors for a2cb385a-ddd1c5c2-4a251035-38adfcf0-b7b32f1b\n",
            "Warning: No neighbors for 93f111af-91034c66-a8328c40-87aa0aba-63b44e6c\n",
            "Warning: No neighbors for 4f566f7f-eda454b2-80df92a1-b01ab8bd-0d87b77e\n",
            "Warning: No neighbors for afe8784a-98e6eee2-8a83605e-970f9f32-52030548\n",
            "Warning: No neighbors for 951cd4b8-f117866e-dae6e059-d028943b-c84b739d\n",
            "Warning: No neighbors for deeacdf8-bc7b4129-e0a19ada-19cdecd0-b5515120\n",
            "Warning: No neighbors for 78101751-dff36882-c9142ad3-8d4152d4-94c57dfb\n",
            "Warning: No neighbors for 4ac9c9cf-6069ec03-0b5ea836-57c9d8ea-9480e53c\n",
            "Warning: No neighbors for 612b9a8a-074714af-a62f5a7e-46a4d7dd-fb1969e4\n"
          ]
        },
        {
          "output_type": "stream",
          "name": "stderr",
          "text": [
            "\r 67%|██████▋   | 1176/1757 [13:58<00:16, 35.98it/s]"
          ]
        },
        {
          "output_type": "stream",
          "name": "stdout",
          "text": [
            "Warning: No neighbors for 519a3958-182826e9-f754780d-7b562169-e2421aec\n",
            "Warning: No neighbors for 6b21bf96-079b3fe5-a71e626a-b824512b-4a3ca181\n",
            "Warning: No neighbors for 36372e55-b686aa64-164b853c-188d5c19-3152baac\n",
            "Warning: No neighbors for 22059b70-fd418100-96073690-6b20a37e-2d3afc62\n",
            "Warning: No neighbors for 262eee0a-0de99a7e-7d676afb-8e9e35a2-4f8b0a10\n",
            "Warning: No neighbors for 08c8c84b-ee9513a5-df7f5790-944bbbcf-b436f676\n",
            "Warning: No neighbors for 3c7375ec-14ddd4ec-f3a38430-2f1a8e72-04011f4e\n",
            "Warning: No neighbors for 4ab34eef-755dfe94-5899e73b-9c75daa2-6ab99d6c\n",
            "Warning: No neighbors for e451eac4-2d1e7409-c215911c-e7f6345a-3bf4fbf9\n",
            "Warning: No neighbors for bc23caca-51b929ae-4da7b1af-c98899d1-f8852212\n",
            "Warning: No neighbors for 0298d077-5a120d2c-ae451068-545d1f06-ce1ef2a3\n"
          ]
        },
        {
          "output_type": "stream",
          "name": "stderr",
          "text": [
            "\r 68%|██████▊   | 1188/1757 [13:58<00:16, 34.54it/s]"
          ]
        },
        {
          "output_type": "stream",
          "name": "stdout",
          "text": [
            "Warning: No neighbors for 08144f7c-6e70715d-b0029ebc-9db45092-7bd73bbd\n"
          ]
        },
        {
          "output_type": "stream",
          "name": "stderr",
          "text": [
            "\r 68%|██████▊   | 1193/1757 [14:00<00:39, 14.24it/s]"
          ]
        },
        {
          "output_type": "stream",
          "name": "stdout",
          "text": [
            "Warning: No neighbors for 0472b941-8d69c871-3f4104e7-61ac1ba4-19f2a013\n",
            "Warning: No neighbors for 37643eb9-4046373b-3f11e3a1-e20d0f3a-b2abb842\n",
            "Warning: No neighbors for 46bb0f01-65c43c34-d91731a5-40a47881-02542020\n",
            "Warning: No neighbors for 67a34f68-8a602263-9d6dc56d-7b4e2ccf-f46622b4\n",
            "Warning: No neighbors for 7df2aedb-914f544d-877e1511-8e8255bf-a21c0d80\n"
          ]
        },
        {
          "output_type": "stream",
          "name": "stderr",
          "text": [
            " 70%|███████   | 1233/1757 [14:00<00:12, 42.16it/s]"
          ]
        },
        {
          "output_type": "stream",
          "name": "stdout",
          "text": [
            "Warning: No neighbors for b7c6fdce-f0908c0a-7d9af9cc-c41325ae-72b92805\n",
            "Warning: No neighbors for 930b935a-3c00642d-5df422d6-7e54f82e-7f9262f0\n",
            "Warning: No neighbors for 14c87f84-dc86840c-92bb7646-944a8907-83acd822\n",
            "Warning: No neighbors for c7b6e4b2-50323312-95eb0dfd-b422cd89-4542892b\n",
            "Warning: No neighbors for 335400d1-3f57e3cb-ec42e20e-45aec79c-88155eb3\n",
            "Warning: No neighbors for 8fe57333-1f96fff6-b40e7e91-d0fa5895-86351689\n",
            "Warning: No neighbors for 8a37c74b-63f318b0-353a6604-027fc4b1-2f11e044\n",
            "Warning: No neighbors for 58a72b70-bac8113b-93ce82f5-bd190bf8-0e0a3f47\n",
            "Warning: No neighbors for 397cf4ea-dcf4cf0d-c4911ec3-16cd9245-99ab6b8e\n",
            "Warning: No neighbors for cd648d41-2c48f9d8-323233bc-7d651b59-f4566bed\n",
            "Warning: No neighbors for 575630c8-5a0ff16f-118e2a46-6e27f08f-45d8ab61\n",
            "Warning: No neighbors for 0c69d156-6f5f3a89-7d361367-57f8c979-583ef198\n",
            "Warning: No neighbors for e35d7c70-3f278882-4f133ee9-184f4d7e-fa32a4d7\n",
            "Warning: No neighbors for 2f8ca5e2-5a1e02ab-e84f7547-069743e9-0f08d9e0\n",
            "Warning: No neighbors for f2ea048e-52ada468-199a5a64-06f14cb3-76e57312\n",
            "Warning: No neighbors for a6fecb51-61970f3b-43cacfe7-19d72689-c9b93019\n",
            "Warning: No neighbors for cef64b4c-819e02be-8f91a655-64c38896-9d1b6f25\n",
            "Warning: No neighbors for 48cee5d5-523f1d66-a03b572f-a4f93208-05f6f0a1\n",
            "Warning: No neighbors for de976e6a-8c72260e-ad52cbd9-738497c9-c57f5d7a\n",
            "Warning: No neighbors for 594c12f1-09a87d7f-43ef1308-61420e50-929695f5\n",
            "Warning: No neighbors for 5c3883eb-5f81be28-db49183e-6c67e0a9-4db10a9c\n",
            "Warning: No neighbors for 298234d2-5a9ba3c6-2929f8ab-68d0b218-4729e9c4\n",
            "Warning: No neighbors for 4b0a8ecf-0ef5bc26-f1dd51b2-94575e1c-7cb76aaa\n",
            "Warning: No neighbors for 66d8d2fd-b0a9aecc-7111b40b-49f8ce56-2e4e28a3\n",
            "Warning: No neighbors for c82f5dd1-f6c0e281-962bd95e-652ec699-5141d801\n",
            "Warning: No neighbors for cbee1732-86894ad9-b516b1fc-d85b4729-b9847f22\n",
            "Warning: No neighbors for 0d6f97f3-3dbb1fbf-4c12e52b-c40dc38e-c99470e3\n",
            "Warning: No neighbors for 17cbece1-ca5947bf-80fcfab6-45d1ff4f-3358c7bf\n",
            "Warning: No neighbors for 3c201241-f017f8c9-6b1ea138-f08a5671-ebaf45ae\n",
            "Warning: No neighbors for 7cb3c3e7-d1d799e7-d53a4d53-402c1088-df6ee51d\n",
            "Warning: No neighbors for 6190fe95-fcb6a9a4-ade58396-9c2093cd-2ccd8f36\n",
            "Warning: No neighbors for cecb3494-26e4560c-d770db72-fc7707eb-8a345a9c\n",
            "Warning: No neighbors for 33a8f156-591a51eb-d2925393-1bf2fe7a-727152ea\n",
            "Warning: No neighbors for 4a996851-96bb850d-8e64a593-6514bcd7-2118ad34\n",
            "Warning: No neighbors for baa8fc52-1025a04b-60a12261-fa0ee673-33305665\n",
            "Warning: No neighbors for bbd21dec-0fde8620-d360a0b7-78764138-70e2cf96\n",
            "Warning: No neighbors for e029fc9f-90f6886c-c34d128c-7faaadcf-60d8ee9c\n",
            "Warning: No neighbors for 062db259-b95403d3-8319b3c7-a43e13a3-d3d67b28\n",
            "Warning: No neighbors for 44860c80-c42c7401-a954bc60-4257bd75-f664d293\n",
            "Warning: No neighbors for efdaeb95-8c2df66f-946287fc-c6cd55ba-8f350889\n",
            "Warning: No neighbors for 54818cbd-a4b8a8a9-530f4d6c-1d1f8452-7bb15f69\n",
            "Warning: No neighbors for 0d5d892d-2ebdb495-6297685d-25998ab2-2bf1b755\n",
            "Warning: No neighbors for d08cba0f-91e256a8-f822dae1-bc521463-20ce4f82\n",
            "Warning: No neighbors for 406b6127-091c6822-ba7b4e67-1f9e03aa-683f2ed7\n",
            "Warning: No neighbors for f5f5c297-6d581bdf-d03668b5-de7a9fef-773c5dec\n"
          ]
        },
        {
          "output_type": "stream",
          "name": "stderr",
          "text": [
            "\r 71%|███████   | 1245/1757 [14:00<00:11, 45.58it/s]"
          ]
        },
        {
          "output_type": "stream",
          "name": "stdout",
          "text": [
            "Warning: No neighbors for 2ff69e5d-24d34842-eabee3c9-566a4bdd-dbd3f58f\n",
            "Warning: No neighbors for ad76eb9d-ceda8244-6cbedc81-c1f641a6-100e0e6d\n",
            "Warning: No neighbors for 69f25094-119e7c05-62d480a6-497cf8de-da0f1fe8\n",
            "Warning: No neighbors for de45a85c-af7897b8-c22c7efd-3943635f-8d6ee9b0\n",
            "Warning: No neighbors for 78a0c3be-0b5d140d-2374ad40-91affee6-8081db0e\n"
          ]
        },
        {
          "output_type": "stream",
          "name": "stderr",
          "text": [
            " 73%|███████▎  | 1282/1757 [14:02<00:15, 30.10it/s]"
          ]
        },
        {
          "output_type": "stream",
          "name": "stdout",
          "text": [
            "Warning: No neighbors for 2d2a3fb9-88bd56a9-83b77e29-edd9639d-fa50b0b6\n",
            "Warning: No neighbors for f1d0ecfa-1d436372-5005422b-6c1400f5-44e54f81\n",
            "Warning: No neighbors for 94db5c91-1615a947-9b35f969-8b1d01b5-4dc3ccd5\n",
            "Warning: No neighbors for 495ec57b-6171e3de-8bb086b2-d580f556-e45ef83a\n",
            "Warning: No neighbors for 68fb9043-c2b31582-2b2abc1e-f790e8aa-9c73260f\n",
            "Warning: No neighbors for 68906195-849d7a12-5be8ded0-0cf74952-aaa709a6\n",
            "Warning: No neighbors for d7c8a748-5a7aed38-5a41743b-a950d09c-a0765825\n",
            "Warning: No neighbors for eba11594-e93a04ef-f2505a4c-4c6616ad-c9b15cac\n",
            "Warning: No neighbors for 4df03604-8386e77e-40209b3a-53bed660-74ed5e82\n",
            "Warning: No neighbors for ae0bad42-f68a7008-cbc88f10-99d821fe-342c6e9c\n",
            "Warning: No neighbors for 13af642a-4b70c3b9-e1921320-a9cc429f-decb0467\n",
            "Warning: No neighbors for 8444b26f-23a66bf5-b2fd597e-9471d694-6e55f4f0\n",
            "Warning: No neighbors for b3f8f6f3-2c92e47c-45c871e1-5dee27f5-405e1258\n",
            "Warning: No neighbors for 74b97eb3-f6e5c013-592a248c-1ac4b510-ade92b8e\n",
            "Warning: No neighbors for e5d90986-3eb4ba64-cbf65c24-b817ae92-6ec2750f\n",
            "Warning: No neighbors for 7dbc51a3-efbdf5e1-8442d6e2-bf5589d5-1c5865fc\n",
            "Warning: No neighbors for 477fb7b7-94f7802e-fc13543c-0f291343-9ebbf3d9\n",
            "Warning: No neighbors for 02a5272c-0c2568a9-9a8300cc-5c0fc85a-259980ad\n",
            "Warning: No neighbors for 5fff6a72-2ff9f759-852918c9-e1c2031e-6ccc1122\n",
            "Warning: No neighbors for 72394b71-2b9e9a64-1d0e22ed-69643a8b-1faab1cf\n",
            "Warning: No neighbors for 6515e57d-8b3cc976-9dee5d95-0d1d9221-c0d8a460\n"
          ]
        },
        {
          "output_type": "stream",
          "name": "stderr",
          "text": [
            " 74%|███████▍  | 1304/1757 [14:04<00:20, 21.88it/s]"
          ]
        },
        {
          "output_type": "stream",
          "name": "stdout",
          "text": [
            "Warning: No neighbors for ca0fb4d7-bf71036f-d0559399-241dafdd-3fa28ff3\n",
            "Warning: No neighbors for b03a3d97-8edbd071-dcbf46c4-dad559c5-4e3ed76d\n",
            "Warning: No neighbors for 89bb7c70-2aa2182a-e4840423-2b266a9a-718db84a\n",
            "Warning: No neighbors for 55de2cd6-330c3b47-07b82409-f9f462f8-03b73b6d\n",
            "Warning: No neighbors for 97a04b88-57938e7b-83617a45-9c1eb8e4-9e019a83\n",
            "Warning: No neighbors for a2c447a9-05612de7-5b883b24-fc8185c6-f6e96767\n",
            "Warning: No neighbors for 7c444903-be660c1a-ba0897cd-b1685281-ab28e11f\n",
            "Warning: No neighbors for cfd13898-9a4eb51a-917efcbe-c3b8f822-a59f3982\n",
            "Warning: No neighbors for ac4c15c5-41cc49f3-07fb2712-6c3f32eb-dcf0a177\n",
            "Warning: No neighbors for e18d5974-f82627fa-4412aa84-3680d6c3-3657e675\n",
            "Warning: No neighbors for 3d798667-d7079b61-7249960d-06f5da6e-1f51a268\n",
            "Warning: No neighbors for 882e8028-de7076c5-3ab194d2-b1cc5527-293908c0\n",
            "Warning: No neighbors for c64f48c9-2e419cef-92ca30c8-39631514-ca378e8b\n",
            "Warning: No neighbors for e2e8fc84-1a43ac2c-430136ad-f0732fb7-a5f500c0\n",
            "Warning: No neighbors for 8a94b451-410af04f-6f97e89c-36bfcc82-ea3f358a\n",
            "Warning: No neighbors for 7b842d95-9084c653-7a7b4419-f9acbf46-c25493a9\n",
            "Warning: No neighbors for d02a55a7-3615af6e-ea478abb-30f2a4a1-a2ea3d3b\n",
            "Warning: No neighbors for 11b4f968-c6aae1be-dc3012af-61a4d4d5-b1e39896\n",
            "Warning: No neighbors for 9fc60281-6940dc97-9b93d0a7-b634d5f6-6d4bff44\n",
            "Warning: No neighbors for 106b149d-b9619648-e93139f9-58ca3a1d-f2984a1b\n",
            "Warning: No neighbors for 8230ded1-71a6714c-7cfb7ee5-cecfe1f7-a0ddcbb3\n",
            "Warning: No neighbors for 890213ba-b2d0086f-8a4746cb-e36c4265-52cdac88\n",
            "Warning: No neighbors for 8c4f42f4-0399ecde-69fa388f-f9f1e910-a8870865\n",
            "Warning: No neighbors for a7d87580-40fbd2d8-9eb9f0c9-23d97a6d-d9135ac2\n",
            "Warning: No neighbors for 4256ce99-403b3e0d-1871ebf3-27134b0b-5026280a\n"
          ]
        },
        {
          "output_type": "stream",
          "name": "stderr",
          "text": [
            " 75%|███████▌  | 1319/1757 [14:06<00:35, 12.41it/s]"
          ]
        },
        {
          "output_type": "stream",
          "name": "stdout",
          "text": [
            "Warning: No neighbors for 5edba6d0-7aee1507-f358a706-5af52fa6-07db3ac0\n"
          ]
        },
        {
          "output_type": "stream",
          "name": "stderr",
          "text": [
            " 76%|███████▋  | 1341/1757 [14:07<00:21, 19.43it/s]"
          ]
        },
        {
          "output_type": "stream",
          "name": "stdout",
          "text": [
            "Warning: No neighbors for 4e7aa670-6aa2dee8-cc81a85f-8afcf521-8d2e6e8f\n",
            "Warning: No neighbors for 3e00f15c-244f0c5f-5fee7b49-b2704009-abfce9a7\n",
            "Warning: No neighbors for f385965c-93e349d2-22fde9ab-060db7a0-e4ffc1ee\n",
            "Warning: No neighbors for 0d466872-5df1cae0-074ea094-0d91505b-7ff45614\n",
            "Warning: No neighbors for c0f7a890-63093d2b-90a5f909-2d9a5569-5f4eec53\n",
            "Warning: No neighbors for 80c260ca-4a335e36-b1d12840-390f871c-c853aaa7\n",
            "Warning: No neighbors for 5df5fba3-c0f0e932-685f8de2-e3885b40-5cd1d0cd\n",
            "Warning: No neighbors for 7c3d61b5-0ad79311-74137fe4-f528301d-9d4ac7c1\n",
            "Warning: No neighbors for a9523ca2-02d18a00-0032155d-08e746a5-623a468f\n",
            "Warning: No neighbors for e8c76a7c-546c9a0a-3f7b353b-d73ebac6-aa01689a\n",
            "Warning: No neighbors for 93700033-3859e5b2-cef73241-85074b06-c895099d\n",
            "Warning: No neighbors for f67541af-ac376d7e-f835df56-ba9893fd-b0e33e81\n",
            "Warning: No neighbors for 301e7483-9b092dad-5acfc9e7-e88a71b2-126aa494\n",
            "Warning: No neighbors for 56db7045-0f47a459-8b34e726-e55d9a09-7d92d917\n",
            "Warning: No neighbors for 391b896b-383e1e1d-e07ccb7a-0e737f3a-0f9c5f37\n",
            "Warning: No neighbors for 8cc12630-eafb4bc0-294d6ea7-deae4fce-74cda03d\n",
            "Warning: No neighbors for 600d2251-257d799e-57852b12-2f2bfe79-ec3059cf\n",
            "Warning: No neighbors for 7b5c8b5e-687c1aa5-f45a609b-1b5721d9-b0eb8e04\n",
            "Warning: No neighbors for 5c5af637-ae7c0d4a-7b6d9b5a-e099dd58-a9bdc201\n",
            "Warning: No neighbors for 5191e0c8-affa9dbb-fb8e22d6-2e76835e-b7faa93d\n"
          ]
        },
        {
          "output_type": "stream",
          "name": "stderr",
          "text": [
            " 77%|███████▋  | 1357/1757 [14:08<00:20, 19.57it/s]"
          ]
        },
        {
          "output_type": "stream",
          "name": "stdout",
          "text": [
            "Warning: No neighbors for e86dbe1f-d1de422a-c944e87a-2411a87b-9a502b7e\n",
            "Warning: No neighbors for 689a6b4d-9eb0f517-8db528c4-cf38f2d0-510a77ca\n",
            "Warning: No neighbors for c73d7ece-deec5585-fa3004c4-248dc1d6-3e055459\n",
            "Warning: No neighbors for f8b63638-c02f5658-ecf655d8-b0094261-35429c59\n",
            "Warning: No neighbors for 55565fe3-f06760c5-73365907-02344b1c-cd29c56a\n",
            "Warning: No neighbors for 1e5ca153-998b2a9b-25707745-bd6ac2ab-24d336a4\n",
            "Warning: No neighbors for a40c6b0e-ee0358d9-0d72d727-3d554da7-15d66ab1\n"
          ]
        },
        {
          "output_type": "stream",
          "name": "stderr",
          "text": [
            " 78%|███████▊  | 1366/1757 [14:08<00:20, 18.96it/s]"
          ]
        },
        {
          "output_type": "stream",
          "name": "stdout",
          "text": [
            "Warning: No neighbors for e76c6769-604cdd17-17cea20a-df3848b2-33181ea0\n",
            "Warning: No neighbors for 6ebc3195-621207d4-4a4102c4-04ab3057-6a7551f7\n",
            "Warning: No neighbors for 9e2ea9a4-a86abbe9-89394ea2-1333ea68-83fd0ea9\n",
            "Warning: No neighbors for edbe2f66-e7c17448-1512b08f-ff7f6b20-1b721c83\n",
            "Warning: No neighbors for 9a6794e6-f7debb23-23c537d5-550c10a1-d99c7320\n",
            "Warning: No neighbors for 7de69499-c4c7c5f6-3c78d9b0-bf811a95-00b0a543\n"
          ]
        },
        {
          "output_type": "stream",
          "name": "stderr",
          "text": [
            " 79%|███████▊  | 1380/1757 [14:09<00:17, 22.07it/s]"
          ]
        },
        {
          "output_type": "stream",
          "name": "stdout",
          "text": [
            "Warning: No neighbors for a8028ac9-6e9ff25c-1bcbfde8-60dc98a9-0f31d7fa\n",
            "Warning: No neighbors for d88968e8-75710c1a-7cebaa4e-7d9c8617-c3d7e2c6\n",
            "Warning: No neighbors for 30d1cb46-20b6c03c-5cc9e7fd-ff266cf6-df3ad9fa\n",
            "Warning: No neighbors for 41e8ea3e-293c10b5-6930009f-5f7454bb-f2709955\n",
            "Warning: No neighbors for 993128c7-87260c3f-1e97a8ff-7396b82a-2d8b5054\n",
            "Warning: No neighbors for 34c830b2-df6e368a-aa89a995-79ad158b-165ce154\n",
            "Warning: No neighbors for baddd5b9-affff677-371cca07-db88d348-8b17f6a4\n",
            "Warning: No neighbors for bfcd38c2-4ddd2747-afd91710-28c7d4f8-16cac3c8\n",
            "Warning: No neighbors for 687b872c-4e932f44-cadc1707-3efdad9f-a9334d90\n",
            "Warning: No neighbors for 95aeb0c5-d3d47b4b-97e4ce4e-a42984d4-b6f15806\n",
            "Warning: No neighbors for bfda6577-565da20b-fff34af2-82bdfd4e-66bfc7a7\n"
          ]
        },
        {
          "output_type": "stream",
          "name": "stderr",
          "text": [
            " 79%|███████▉  | 1391/1757 [14:10<00:18, 19.72it/s]"
          ]
        },
        {
          "output_type": "stream",
          "name": "stdout",
          "text": [
            "Warning: No neighbors for dbe4ab07-30d44a93-332f0386-f4beec0d-099aa072\n",
            "Warning: No neighbors for 076f207d-a7ba9680-c43aa125-39b7cdcb-d79ed138\n",
            "Warning: No neighbors for 0fd336d7-772c910d-8933017f-9f17fe37-8bfeb87f\n",
            "Warning: No neighbors for 6e8e2456-b3e3b432-67abe598-a911cec0-c32d8ec9\n",
            "Warning: No neighbors for d3f4df7f-c3ce2f34-0ae264dd-ea9f807b-96f179a3\n",
            "Warning: No neighbors for 4f330e22-46d3762f-cbd15564-703f42cc-1bac8bfb\n",
            "Warning: No neighbors for 36a5f7d0-b6910549-7e53a006-c4a414f3-bdc86342\n",
            "Warning: No neighbors for 5f4b938e-237003c2-3bea60cb-f6a288e0-6f7eba0a\n"
          ]
        },
        {
          "output_type": "stream",
          "name": "stderr",
          "text": [
            "\r 79%|███████▉  | 1394/1757 [14:10<00:18, 19.11it/s]"
          ]
        },
        {
          "output_type": "stream",
          "name": "stdout",
          "text": [
            "Warning: No neighbors for f596387c-5400a1f7-d1f82703-4c546f44-62a9e71a\n",
            "Warning: No neighbors for 7a299495-066352ae-e1b811ba-24af150c-88174dbb\n",
            "Warning: No neighbors for f0a7c436-57e95ff8-d8e5e961-c58768df-af911772\n",
            "Warning: No neighbors for f09abb90-419c534b-8c4d9678-365976e0-211631d5\n"
          ]
        },
        {
          "output_type": "stream",
          "name": "stderr",
          "text": [
            "\r 80%|███████▉  | 1397/1757 [14:10<00:20, 17.24it/s]"
          ]
        },
        {
          "output_type": "stream",
          "name": "stdout",
          "text": [
            "Warning: No neighbors for c371ddc8-35088c54-78e01688-8d9e8bd1-b2fb3bad\n",
            "Warning: No neighbors for 9f8cf435-4c9c18c0-5ac5b7f2-0ce2105d-f22f09c8\n",
            "Warning: No neighbors for 25d734ee-e9d64c4a-00f176b9-94350346-b0fb6543\n",
            "Warning: No neighbors for 54b06d84-8114cdcf-f37dd7e4-2ec1b1ce-ba44efb8\n",
            "Warning: No neighbors for 30f22b71-a12b9c2a-01ed7239-f60928d5-ecd246b2\n",
            "Warning: No neighbors for d69651ae-dc7bacca-a05efc02-1d5882cd-001c77c4\n",
            "Warning: No neighbors for f486b982-652a63c4-ebf514a2-3edf77df-0ec0e345\n",
            "Warning: No neighbors for 4b50bb33-5157d420-3a7b6871-5fc6fada-68b6f36c\n",
            "Warning: No neighbors for b8d12edc-f1947c00-fad803d2-c593aa1e-a12adee2\n",
            "Warning: No neighbors for 3ed4e0e9-e53b5571-c487cc1f-d5b34616-c954adc1\n",
            "Warning: No neighbors for f9596a0f-c177e1cf-259971b3-cf36ec6b-82535519\n",
            "Warning: No neighbors for a20d166a-28532078-e4d48b41-43290a8c-d9d04094\n"
          ]
        },
        {
          "output_type": "stream",
          "name": "stderr",
          "text": [
            " 82%|████████▏ | 1444/1757 [14:12<00:12, 25.62it/s]"
          ]
        },
        {
          "output_type": "stream",
          "name": "stdout",
          "text": [
            "Warning: No neighbors for 88b2995a-0636fc84-ecc10164-d24e3a47-a968885a\n",
            "Warning: No neighbors for 283f4781-e30f03cd-587c7b2b-f7920134-184af42b\n",
            "Warning: No neighbors for 17a83511-bb7972a5-26641a22-0de77ac1-79384212\n",
            "Warning: No neighbors for b0667c57-671d1851-61f36f6e-c6fb9039-75256a67\n",
            "Warning: No neighbors for 16cb583d-c2469fe1-b20f90fe-d18b1206-c01e8280\n",
            "Warning: No neighbors for fa750a34-9b41af0e-a7e83a0a-545474e4-3682bee5\n",
            "Warning: No neighbors for 872fae3c-ec26eccf-59100141-27b03334-7a6c6e0b\n",
            "Warning: No neighbors for 45d2c50d-385bc349-ee36a6f0-b5dd0834-9417c6d3\n",
            "Warning: No neighbors for 60fd7489-937f307b-98b2dc76-47140a3d-e90402fb\n",
            "Warning: No neighbors for 914ffad1-3b67aca8-572b07cc-8e289bc6-fd463e9b\n",
            "Warning: No neighbors for e10dc4a8-7831ed31-fc72dc20-564879db-dc125ade\n",
            "Warning: No neighbors for 71056158-b2962073-7cdf381b-a609a74f-908741e9\n",
            "Warning: No neighbors for 7ee2c207-1b341624-3e1c0ac8-ee562f9a-4532f0fb\n",
            "Warning: No neighbors for 646bd48e-c4af42ea-bc9fafe5-baf7b7ed-827b169f\n",
            "Warning: No neighbors for 6bde95f8-a9c90417-55df2cf8-886315b8-87b3d11c\n",
            "Warning: No neighbors for bec2779a-5b5d6c63-6fb8e6fc-673abaf6-abfcd3cd\n",
            "Warning: No neighbors for 52a11d22-22700f6c-57d0539e-64c2f97f-4325eab8\n",
            "Warning: No neighbors for fc08b4f9-a67dd3a8-8bc68820-858e5989-bb651ebd\n",
            "Warning: No neighbors for 5d87e092-ab4776ba-3a108854-003e99e4-9d77e045\n",
            "Warning: No neighbors for eb7b11e8-6cd2246a-8b498285-8b113a5c-4e2d652a\n",
            "Warning: No neighbors for 39cdea28-47dd8f2e-ab24ac52-05953c84-9f071db4\n",
            "Warning: No neighbors for edba9e98-71b3b920-8ef5b3fc-7bfa3707-5e0cf7d3\n",
            "Warning: No neighbors for 2573eb05-56769c32-92bbda67-209620f6-8c53e785\n",
            "Warning: No neighbors for f69cb388-6b56afd1-78cc3582-ddddb71f-7914f518\n",
            "Warning: No neighbors for c87ad56f-d2794ebc-a158f355-72925fc4-98126d85\n",
            "Warning: No neighbors for a7b2e93b-b541da18-c7e8c6a7-1031f5ec-6f4534b5\n",
            "Warning: No neighbors for 5b6454a6-9acbc7b6-9914afe6-510c8f02-dc387f42\n",
            "Warning: No neighbors for a279b6d9-a77659b3-8e167386-9fa03711-de56e0df\n",
            "Warning: No neighbors for be4ac3a7-1fcf4b16-8bb3c109-90521f1c-82ec2334\n",
            "Warning: No neighbors for 47ad0657-72b1ecc1-cb52b443-e2bffb9d-e08c37c8\n",
            "Warning: No neighbors for 5ba6276f-a60bd3e5-4a6f373d-7392a12c-3c2df733\n",
            "Warning: No neighbors for ba5d21fa-49309f11-591c8c97-475c2c1c-71f4c671\n",
            "Warning: No neighbors for e80f9afe-33e6f7c6-09765fbc-1c6b4d51-90862f52\n",
            "Warning: No neighbors for 7b4211fe-def2de24-c6991efa-026a3d44-2e4082f8\n",
            "Warning: No neighbors for b606c5ab-1f7c5020-53941bec-8f32fed0-249da9f6\n",
            "Warning: No neighbors for c3dccd75-321d490b-d282ea11-4da8be1c-6f83adb4\n",
            "Warning: No neighbors for d54a965f-9fb1b27f-8a1b45a8-87d31707-45c1feb1\n",
            "Warning: No neighbors for efa1c4d4-c6b83e76-71107d37-015f4c79-24aa9e68\n",
            "Warning: No neighbors for 59b7e3c4-05bcf819-da6417fa-60f5b61a-38711e5c\n",
            "Warning: No neighbors for 742a919c-4e4a6e34-f49de182-4a0dafcf-8b3c101b\n",
            "Warning: No neighbors for 2c2a8c78-1629add6-99b9b1e7-913212fa-faa7a8ac\n",
            "Warning: No neighbors for b54bc332-ff02c34f-e3f3bb2e-fe2f4048-dd319070\n",
            "Warning: No neighbors for cfed0c72-04977582-dfd428a6-e706a90e-39477aeb\n",
            "Warning: No neighbors for ed72025e-af03cca3-47f5fd1d-6fab3730-357b260c\n",
            "Warning: No neighbors for 698c9f48-7a2e46fb-706d0fad-8ba14000-a8e2afa3\n",
            "Warning: No neighbors for 33fc033e-1bf597b9-c61521fa-a0c76d55-d351c27e\n",
            "Warning: No neighbors for 465ba171-45969980-8f4832db-fc449d5e-eeba3f82\n",
            "Warning: No neighbors for 65d16acb-5ca46ac3-67ad2080-d2b32dcb-3045572a\n",
            "Warning: No neighbors for dd057e98-81e1ba75-b0aaff5d-500471fa-dc0d2f26\n",
            "Warning: No neighbors for 27c8695d-7ee419f8-18f8f7fb-c709b4b4-1394cf96\n",
            "Warning: No neighbors for 5e8f5834-f4fb82c4-f4eba5f6-49e33757-5b7e95f6\n",
            "Warning: No neighbors for 58746f22-a4ec6e14-de015b64-9ae5bc01-a686bc9d\n",
            "Warning: No neighbors for 6d00654c-94387330-275cff2b-f94acdd9-d980c90d\n",
            "Warning: No neighbors for f54633d1-480972a2-7841a264-4f148912-55b9bd2b\n",
            "Warning: No neighbors for 75d5c0bc-5e81621f-3834432c-7c6ec188-405eee3d\n",
            "Warning: No neighbors for 61298358-d1d176b3-bade1419-5279e90c-fa47fc84\n",
            "Warning: No neighbors for 7906cc36-5792f5f5-0dfd9958-b9db8727-def14ae0\n",
            "Warning: No neighbors for efcd0f1e-ca74705e-98d60e4e-f0b2973d-00c3e9ef\n",
            "Warning: No neighbors for 5eb7dff0-9c36667a-28e8a02f-809c0dbd-4ae6de06\n",
            "Warning: No neighbors for 080d6652-79772b00-ae86eab7-4e7b9ef1-932d14ac\n",
            "Warning: No neighbors for c34160ca-54d428d0-46ce5802-b6554ae8-5b6aad50\n",
            "Warning: No neighbors for 3ad19878-a3d3da98-e22b55ae-0f148475-963ab8a4\n",
            "Warning: No neighbors for e84b1fe5-7f779203-42b46c53-66df490b-abcf130e\n"
          ]
        },
        {
          "output_type": "stream",
          "name": "stderr",
          "text": [
            " 85%|████████▌ | 1501/1757 [14:12<00:04, 57.36it/s]"
          ]
        },
        {
          "output_type": "stream",
          "name": "stdout",
          "text": [
            "Warning: No neighbors for b6cb6090-c4796727-86732cc0-a9bc29e1-5638f184\n",
            "Warning: No neighbors for 81b06111-9c9f8e7b-b2d7bf91-ea7a0879-560c2a01\n",
            "Warning: No neighbors for d4224ddd-8aa6156b-cd29c9d9-348705e1-b788d738\n",
            "Warning: No neighbors for 0e252403-bb42255b-ee6fd71f-be583467-1ad701f9\n",
            "Warning: No neighbors for 2a6ada64-ea28522d-475c450d-fd4d8193-b0c37808\n",
            "Warning: No neighbors for bc5d9f87-920144a0-d3ca3503-19b5bcb5-61515d32\n",
            "Warning: No neighbors for 7ce68740-c1b476ff-ce6b2927-bb348ff4-5d5b3ba6\n",
            "Warning: No neighbors for 668ee194-c8af34b1-84654bbc-fd7290a0-52e2284a\n",
            "Warning: No neighbors for bb26c835-52f3634a-2362ca7d-168a0d12-575d344f\n",
            "Warning: No neighbors for 648449fa-5e173b2a-87663d57-4a0fbfc0-138e42c7\n",
            "Warning: No neighbors for 69cdf30e-651d85df-5843410f-a4ebfd3d-51b2637f\n",
            "Warning: No neighbors for 858ef05a-191c3f51-fac37c74-f69c40a7-8dfec367\n",
            "Warning: No neighbors for 1ca655bc-99d5b59d-f27af0a3-3f163da1-68c68548\n",
            "Warning: No neighbors for 27d13742-996c1dc1-54e90f1f-9ac3370e-7c89a69f\n",
            "Warning: No neighbors for ef16a908-4e0cfd05-be7e7fdb-26165e40-0a8e3bf9\n",
            "Warning: No neighbors for 273cc27e-214616e5-f9b5cae9-02461150-8bac0d41\n",
            "Warning: No neighbors for 852b0393-cd268a37-b5cf5942-f7f1ce5c-923b22a9\n",
            "Warning: No neighbors for 92364007-ae0da1e4-d2ebe1f7-894c9cf6-8f1d29bf\n",
            "Warning: No neighbors for 8dfe9790-cf9d9025-c5cfe882-959b4325-f75bab4d\n",
            "Warning: No neighbors for 725c4dc0-57575d39-cce21839-2b82e412-3c17bc1c\n",
            "Warning: No neighbors for b5581aa5-fcd5c72e-460b5007-f377f28b-8899e7f8\n",
            "Warning: No neighbors for d65f54f8-b7a2b436-9b0eb6ac-1d7b1df3-24869a62\n",
            "Warning: No neighbors for ed9d5f4f-8cc434f8-9c8d4edc-dbdde128-2636f164\n",
            "Warning: No neighbors for b37e8207-edf4a7f0-13e20658-f19ab6a4-c6ce75db\n"
          ]
        },
        {
          "output_type": "stream",
          "name": "stderr",
          "text": [
            "\r 86%|████████▌ | 1512/1757 [14:14<00:10, 22.45it/s]"
          ]
        },
        {
          "output_type": "stream",
          "name": "stdout",
          "text": [
            "Warning: No neighbors for 3c248c40-b23d88c7-d1751a15-df7e684c-37b6616f\n",
            "Warning: No neighbors for 82136901-fceffc41-8201cba8-f7d58149-b28c0f0c\n",
            "Warning: No neighbors for 44388ee4-a43ff605-7edf7add-37dd01f3-7596e2a5\n",
            "Warning: No neighbors for 90152092-fd5d2419-974e1fe1-56a28613-203b7582\n",
            "Warning: No neighbors for 9b8c2d9e-43919453-7439d1d9-7b72f836-809a48c0\n",
            "Warning: No neighbors for e19b103c-89c6cdba-72199b0e-13579411-8d34e683\n",
            "Warning: No neighbors for 5fd72ed1-ff28c5fe-d3289d66-ba4b2a91-3bea0e15\n",
            "Warning: No neighbors for 19127cf6-7165c966-19f1a34b-a8197509-1c21c405\n",
            "Warning: No neighbors for 1b690b0a-d04cf75b-08c760d4-6dfc0845-4a9468d6\n",
            "Warning: No neighbors for 0ad86316-e31266ea-fa4fea2e-a761a1c1-981b0d60\n",
            "Warning: No neighbors for af5a4055-1869c37c-825a8715-d21221b0-a695d690\n"
          ]
        },
        {
          "output_type": "stream",
          "name": "stderr",
          "text": [
            "\r 87%|████████▋ | 1522/1757 [14:14<00:09, 25.27it/s]"
          ]
        },
        {
          "output_type": "stream",
          "name": "stdout",
          "text": [
            "Warning: No neighbors for bcee236d-12b95c81-fcb75a1d-35882dbd-11c426d8\n",
            "Warning: No neighbors for 916b12d7-76059c08-1268f70d-b05823a0-d42e2048\n",
            "Warning: No neighbors for 18cbd215-b24d3322-1e3a37ba-0f8afb0e-9c3924b8\n",
            "Warning: No neighbors for 79001f5e-5e5a5924-4851c109-5724d9e0-fbdfe028\n"
          ]
        },
        {
          "output_type": "stream",
          "name": "stderr",
          "text": [
            " 88%|████████▊ | 1553/1757 [14:15<00:05, 35.37it/s]"
          ]
        },
        {
          "output_type": "stream",
          "name": "stdout",
          "text": [
            "Warning: No neighbors for b9f2f590-bde0d8c1-9681496a-a940bbe9-c23f2d98\n",
            "Warning: No neighbors for dabc0b83-a9c14c24-665e4d55-041ff84c-b3ebaeb1\n",
            "Warning: No neighbors for 8101d6ca-68680194-9096ff85-b4475595-69800d1f\n",
            "Warning: No neighbors for 8fc7aac8-0c01960e-2687ec5b-3089ef77-83741c19\n",
            "Warning: No neighbors for a28f924b-78973e94-992c0779-aa0620d0-f019190d\n",
            "Warning: No neighbors for b7fcdc0b-dfc82fb2-7cab7bf2-331256c3-8d8c6198\n",
            "Warning: No neighbors for 05a2a6dc-f50169a4-86d92a5b-8a6b4cb6-6aafaba1\n",
            "Warning: No neighbors for d2205a30-43c03fd6-453fd012-a8b47743-68320983\n",
            "Warning: No neighbors for 6926f1e2-6f1901ff-ab107a39-db8bbfdc-2e740a90\n",
            "Warning: No neighbors for 5dcf8ea0-56b9b461-139272e2-0b70d5ba-706c1c17\n",
            "Warning: No neighbors for c9471c56-b39708fb-38e4ac27-75f071f8-4dd9df64\n",
            "Warning: No neighbors for 886cb118-050e3ea6-3c42a696-205c06d6-0ea72c7d\n",
            "Warning: No neighbors for 0f6f602d-63502c17-024393a4-efb3dbcb-2e297f80\n",
            "Warning: No neighbors for 2bb156b6-f638b68c-5dcfab42-d70cc0ff-bb701062\n",
            "Warning: No neighbors for 4639cd47-e73a89d3-48315552-a87979a8-7dd4f191\n",
            "Warning: No neighbors for d423cd88-d0739c64-5212e268-96f30c3b-7bd9f6ae\n",
            "Warning: No neighbors for 0cc2674f-8298209f-25792271-246af867-f6d8e314\n",
            "Warning: No neighbors for 03954238-24ea1e40-b4f46981-14eecb13-301ae5a5\n",
            "Warning: No neighbors for 38025d74-4a3fea10-dcaf71e6-6a588a62-3debbf37\n",
            "Warning: No neighbors for fd04c584-0d40aba9-06107c1a-b321226d-9fa12179\n",
            "Warning: No neighbors for a5a05a3e-be857dbf-47ce66dc-f2076c35-c9044df5\n",
            "Warning: No neighbors for 96620d05-8d4a473a-0a38d62a-1b69517d-5f7aa090\n",
            "Warning: No neighbors for ba5c3740-391ebedf-79f5b71c-a8684f39-416c04dc\n",
            "Warning: No neighbors for c407cf83-cefde765-3c4aefe7-11fa0733-46077fea\n",
            "Warning: No neighbors for 880e390d-98c40bff-e886b0d8-f2d182b9-71ffff66\n",
            "Warning: No neighbors for 62b5c1d7-026415bd-709d9898-96419721-197344e9\n",
            "Warning: No neighbors for cc6f25bc-2bcad5e4-332dcbc7-4b1c83d0-b65d10f8\n",
            "Warning: No neighbors for 72e74e80-51370336-298d0f66-face8834-05c01e1c\n",
            "Warning: No neighbors for 85e76d91-3cc169ca-19222e20-6f55df71-6435b4c2\n",
            "Warning: No neighbors for 4833be35-93dde731-887457ba-79a75134-5a55eb32\n",
            "Warning: No neighbors for 3cd7f25d-9b28568f-9cce213b-bf120736-66ee90bb\n",
            "Warning: No neighbors for 0adaa381-12b282ef-373216e6-282d621d-0cc9e24a\n",
            "Warning: No neighbors for e74369a8-03c0682f-db4011f0-575cd60e-df73c492\n",
            "Warning: No neighbors for 57549158-8f9a1076-d75c3d1c-2c6603ca-9eb26310\n",
            "Warning: No neighbors for 28bb1a43-a8cb9104-0c42bed4-47b38faf-14704037\n",
            "Warning: No neighbors for 9ad4ae97-e7e88cbc-dec2a463-08bb7f44-0747b2c7\n",
            "Warning: No neighbors for 6e114314-cd40ef6e-9a3ac4c4-e6d14fa3-7ffaf567\n",
            "Warning: No neighbors for 72cc6a72-c507416e-5ca59cf2-6e095b8b-c10a228f\n",
            "Warning: No neighbors for f4b77f41-122f33ce-9a8f9dd3-a0670069-842b2d8b\n",
            "Warning: No neighbors for 51430867-3b02a2b0-3e3850a8-3067d772-d190e64f\n",
            "Warning: No neighbors for 5464183a-b734be91-2ee18216-11b88c7b-ed6b6a7e\n",
            "Warning: No neighbors for 16c190a8-974581a3-92832901-3c8451e0-9c07c09b\n",
            "Warning: No neighbors for 8caec6e5-d7130f14-a1b420c3-299bbb67-1ebc54d7\n",
            "Warning: No neighbors for c8c9fe31-20ec5b72-5af4fb9f-cf27db74-70befba0\n",
            "Warning: No neighbors for 18691ac3-289463ac-e66e8162-8e109d2e-b137d807\n",
            "Warning: No neighbors for 724a38cc-d83e05df-2180d921-f1a1952f-6900bd01\n",
            "Warning: No neighbors for 38adef57-a42db828-af661a6f-4ec6d2a9-fa229617\n",
            "Warning: No neighbors for d926ef60-a7ed7b40-b3cc274b-a45a18c7-219f493b\n",
            "Warning: No neighbors for 66c08ac9-1441b8c1-121a8694-5b65d8ee-b0351f49\n",
            "Warning: No neighbors for f14f02f2-f1cb3b77-e6f9e8cc-29320c30-72aa5a15\n",
            "Warning: No neighbors for fab88b8f-6b79c189-ef930615-7673c2e7-b9b5aa34\n",
            "Warning: No neighbors for d9d4f41e-6ff9a0ca-5555a0ab-900c5b5f-06e29b7a\n",
            "Warning: No neighbors for 94bc03d0-de09a17d-123a6425-56345467-e11561a5\n",
            "Warning: No neighbors for c5acc944-ac39e95c-0f5e3efc-580d79d9-7fcea6ae\n",
            "Warning: No neighbors for 71290eb1-6c8d3eaa-989d69a7-051b8bb1-8286832e\n",
            "Warning: No neighbors for 57256e5c-be334ba1-18ba192d-b28bea6e-ced7a8c5\n",
            "Warning: No neighbors for 5ef3b52e-a102da92-6e4e92bd-93c1ce7e-ae4d61a8\n",
            "Warning: No neighbors for 4953bd9b-8fa12742-5eab3c6f-4534918b-69ca43e5\n",
            "Warning: No neighbors for 16a4e2af-7cc0b0f9-465e7df2-49387a38-9a4aa2c8\n",
            "Warning: No neighbors for 57a32736-146b735d-b832a70b-2eb8107b-e17ec9c1\n",
            "Warning: No neighbors for d2f6ec40-48abb550-a8a3a693-1e5c330e-2373ee5f\n",
            "Warning: No neighbors for 19a5c816-45ad33cf-5de7c912-c3e680a2-cff8d9f7\n",
            "Warning: No neighbors for 7b4f70ec-cbfc1716-18b1794b-848b35ef-09867239\n",
            "Warning: No neighbors for 72f8465e-e6efdc49-76ff5266-11d2f8e7-692d9234\n",
            "Warning: No neighbors for 3c2facbf-da7b849a-b52c74a8-87db7701-c8956977\n",
            "Warning: No neighbors for 3815ddbe-e5c0d378-1e7be748-81c48c77-97fa3a59\n"
          ]
        },
        {
          "output_type": "stream",
          "name": "stderr",
          "text": [
            "\r 91%|█████████ | 1597/1757 [14:15<00:02, 64.95it/s]"
          ]
        },
        {
          "output_type": "stream",
          "name": "stdout",
          "text": [
            "Warning: No neighbors for c8f1c691-7f8c6c8f-9f93699e-f6075019-ac4d88f5\n",
            "Warning: No neighbors for 150f7868-e05a77bd-183e1e47-ba41f55a-3bd7183d\n",
            "Warning: No neighbors for 5140f08f-9588ee09-aaf2a1de-0532b442-280f183e\n",
            "Warning: No neighbors for 2cb56139-caca8fcb-de0ccd9c-202d34d7-961a4d97\n",
            "Warning: No neighbors for 3bfb6588-138e0976-3338c97e-e78e0aed-7412573e\n",
            "Warning: No neighbors for 120f3b06-2ddcb29b-92d1b5d2-462c193c-c6024765\n",
            "Warning: No neighbors for d2d4848b-002c91ad-0de2c63c-9178e97e-c5a31a77\n",
            "Warning: No neighbors for c1de7ef9-1285917a-99f70649-673069ef-02605ec6\n",
            "Warning: No neighbors for d23ced25-06fd4608-57672771-2dab8e07-32523fcb\n",
            "Warning: No neighbors for 60a126ad-41ab6b07-ed28f908-c00f9e41-545b3930\n",
            "Warning: No neighbors for 17adf708-2cf34743-26a482c7-d0160af7-46c8f7d7\n",
            "Warning: No neighbors for 2a011ed2-6bc1029d-0aab4c2e-ee029448-15c6ac32\n",
            "Warning: No neighbors for 1a1d788e-95d86484-1ff82024-6c7cd215-c4802d24\n",
            "Warning: No neighbors for ef04d1f0-5a039a3e-a90100fa-43ef64e4-ff5c08af\n",
            "Warning: No neighbors for 250773a6-40dcd953-25b20011-be680111-1f12fe6e\n",
            "Warning: No neighbors for d59361ae-39bda21c-14a67980-bdd94216-3980fd79\n"
          ]
        },
        {
          "output_type": "stream",
          "name": "stderr",
          "text": [
            " 93%|█████████▎| 1626/1757 [14:16<00:01, 66.53it/s]"
          ]
        },
        {
          "output_type": "stream",
          "name": "stdout",
          "text": [
            "Warning: No neighbors for a411fd33-5560b849-afdfdc82-4a1d1d0b-bf8c28a7\n",
            "Warning: No neighbors for 24567192-42002ef8-9952ca7c-18042fb5-527cbe19\n",
            "Warning: No neighbors for 3822d796-7c2ff236-b161f02f-e16ba1ad-71489377\n",
            "Warning: No neighbors for f0b5af50-f1ede508-b4ffc5ba-7ceb978c-91e17321\n",
            "Warning: No neighbors for 832e6530-bbae3ad5-e463e6fc-a5db5318-7ddc35db\n",
            "Warning: No neighbors for f543d375-8f3bcfaf-f3f826a2-9e3beec0-b0ade089\n",
            "Warning: No neighbors for 8ffeb98d-059d0957-f0aade08-ef5d3516-a6b8e5f6\n",
            "Warning: No neighbors for f72ba5db-25ace111-d67d2fa3-c6983679-c2abc46d\n",
            "Warning: No neighbors for 51d640d4-27d1cd63-f84856cc-3d5f40eb-8b359e1f\n",
            "Warning: No neighbors for ddc958e4-cc7c4f7a-d70bc3d0-cac0c2fe-746f7a84\n",
            "Warning: No neighbors for c5505f94-e7042cb5-39c7160c-b0a7af5e-4031cc4c\n",
            "Warning: No neighbors for c394d21a-9e6f4756-e7668e58-44a67a8f-9de604ac\n",
            "Warning: No neighbors for 7aadbf77-54eda0e2-91288c15-83113d92-e414ded5\n",
            "Warning: No neighbors for 4c3e8263-398c7c98-11fe869e-74df0e88-9ca7e455\n",
            "Warning: No neighbors for bbdca865-5c61e76a-f34969d9-450a565f-ab42c872\n",
            "Warning: No neighbors for 806f7f21-df1d53d4-3dec0329-207e38ce-9d0f1dea\n",
            "Warning: No neighbors for 1eb9acc9-d3258601-2d46d671-36b9333e-aa25eb14\n",
            "Warning: No neighbors for 10c0b4e4-d04cd206-c4620fe4-40fec411-fb710792\n",
            "Warning: No neighbors for 120e6ef4-a0cf61e0-12d19d01-ac153ab3-b41d63d3\n",
            "Warning: No neighbors for 718b7f54-b95a0b62-79e06f81-271cf4dd-84f47178\n",
            "Warning: No neighbors for a041f04e-9dc8cdcb-0536ff23-557173c9-d659e238\n",
            "Warning: No neighbors for 59d8436e-56728976-2563683c-03e90f95-27e8a1da\n",
            "Warning: No neighbors for 49c1af03-57f186f5-54d18e6b-29c225e2-457c2c8e\n",
            "Warning: No neighbors for 868c0036-29b8a758-526cf680-320101aa-02ab4952\n",
            "Warning: No neighbors for 798c58a3-55a14682-95bf26ef-c7fa7652-08d09fef\n",
            "Warning: No neighbors for 677f3c59-fc6ec8cf-d9ca6714-066507e4-edc101c6\n",
            "Warning: No neighbors for 97a458cf-beb49c02-475e5a7f-55b1a278-f2c5b0ce\n",
            "Warning: No neighbors for 55c84dc4-5d5fe9d5-55265057-61c20fd2-8f341571\n",
            "Warning: No neighbors for 57341c71-024a78fa-e3d019b3-6d217853-d6eead97\n",
            "Warning: No neighbors for 0b8c1506-be36c785-239aa897-acf662ee-d8bae9f0\n",
            "Warning: No neighbors for a53ce8ea-7f2dc602-20634854-bc579540-22b242e8\n",
            "Warning: No neighbors for 8893a360-fa142ae5-89efb6fa-41ec349f-89b7d429\n",
            "Warning: No neighbors for b5479ba1-bfa84a2d-811ceb82-13374019-e3fc34b4\n",
            "Warning: No neighbors for da1dbfca-ba25edf5-43d70a2e-a5a2929d-83174dd5\n",
            "Warning: No neighbors for c28ba6a9-1d0cf7c9-4649c998-a3643c9e-34af8919\n",
            "Warning: No neighbors for 30d8df06-136bab6a-41017d26-97b3ab6c-e68602db\n",
            "Warning: No neighbors for 438c445b-039e41c4-60ce1df8-492eaa21-90769106\n",
            "Warning: No neighbors for e4c5ff9e-3154a026-be765c4b-edb152e0-8c847d5a\n",
            "Warning: No neighbors for 994e4aaa-4ff25a37-542faa2a-055d9274-4d01be49\n",
            "Warning: No neighbors for 672b0b44-fc303efb-19baa4b3-d24b46f1-22d5357b\n",
            "Warning: No neighbors for a5700bf1-a2abc908-a5c5422d-980aeaf8-c67953ed\n",
            "Warning: No neighbors for a0524ed4-ba6f2c34-0f4511c2-e06f15ac-16074574\n",
            "Warning: No neighbors for c1aa4fdf-fae29b36-06540534-d110e3fb-ab5253e1\n",
            "Warning: No neighbors for 2b24d2c5-2d072d1b-0ea268ec-3ce39c47-4deb38a5\n",
            "Warning: No neighbors for e6251100-b7343664-00d34768-075e3f31-33770393\n",
            "Warning: No neighbors for 2a50f81f-a6c0ec20-47d8f528-81b99174-488ce4fc\n",
            "Warning: No neighbors for 60c0b0a7-51163d14-84290efd-a5dfab11-56cd49f8\n",
            "Warning: No neighbors for 2cbdf64b-8b118269-611b2040-b884bcfb-cd72c857\n",
            "Warning: No neighbors for b9d274cd-409586d9-f89de945-85dbaa4d-6ea78459\n",
            "Warning: No neighbors for c4ca4bc3-56adf429-80528854-dd35290f-b36bf7a6\n",
            "Warning: No neighbors for dca92711-642f915d-834792d1-a6900256-a1cdc93d\n"
          ]
        },
        {
          "output_type": "stream",
          "name": "stderr",
          "text": [
            " 98%|█████████▊| 1723/1757 [14:16<00:00, 145.27it/s]"
          ]
        },
        {
          "output_type": "stream",
          "name": "stdout",
          "text": [
            "Warning: No neighbors for 3341dba2-2a651a0c-b475bf65-87ef2ef4-5896f882\n",
            "Warning: No neighbors for 3cbc129f-d65d5c3c-dd2544ba-9d84afe9-7d02c06f\n",
            "Warning: No neighbors for 527f20d2-3456c8d9-a592d612-3b2cc307-6fc8a390\n",
            "Warning: No neighbors for abf0f37a-06b0af1d-d1d730fc-c83f3cc6-625c3114\n",
            "Warning: No neighbors for e3820f4d-0436c943-21774fdb-85c413d2-833f66f2\n",
            "Warning: No neighbors for 1fefcaaa-84b28808-8d3e1d6a-685ce4d5-6499f810\n",
            "Warning: No neighbors for 53246b82-44732246-49c68fee-20eaee8d-77ad10d0\n",
            "Warning: No neighbors for 94671a3e-86e04466-9ce2b465-b5cdd41f-53125c76\n",
            "Warning: No neighbors for c518d273-cdc52d4f-c3cf8ff4-8e9e27e7-718cc2ed\n",
            "Warning: No neighbors for c0a3fc05-0e8b5c2d-bd8bb9b4-6504af24-5a232559\n",
            "Warning: No neighbors for 430aaeac-aa6c9efc-9e3b919b-735050f7-e5499f3d\n",
            "Warning: No neighbors for 07b0354d-bbf0970c-6021026a-81ab2efd-fd8092dd\n",
            "Warning: No neighbors for 7cdd53ae-61bca4bb-b7ee71c6-40bb65a5-df7087b3\n",
            "Warning: No neighbors for 868ddf9c-c213680a-91281335-9fdb7885-e3946ffb\n",
            "Warning: No neighbors for 87ea40e2-1fa1ca7c-9252c951-d4d5f9e4-44632a02\n",
            "Warning: No neighbors for 4862ba92-d142b310-8a54df11-87bfa473-0da6126e\n",
            "Warning: No neighbors for 86b93aaa-169ee4db-626a034b-fb4db087-31a3e663\n",
            "Warning: No neighbors for d83e6864-e6c92824-f62df716-d540f477-466bc870\n",
            "Warning: No neighbors for 6de5499a-b662b981-002ffd1d-fdb8b511-f85494b4\n",
            "Warning: No neighbors for 1ecfa7dd-d0ab53dd-aa306837-7e2aa8c2-632b6e2c\n",
            "Warning: No neighbors for f8de60da-828f0962-106189d3-d7334986-8d962bb9\n",
            "Warning: No neighbors for 1d00cfa1-29d99da7-c62126a2-18449dbb-6dd404f0\n",
            "Warning: No neighbors for 0df7fff0-fdc4aea5-aef9f302-2d76d404-4fecfffb\n",
            "Warning: No neighbors for db6c6a14-dda337fa-86212045-55434993-b19e82f2\n",
            "Warning: No neighbors for d47e0ab1-8a7c45ac-084c278b-7bd793b0-225a6f45\n",
            "Warning: No neighbors for 9b001d26-8f4c211c-1230f7b3-9c117cb5-f32893cc\n",
            "Warning: No neighbors for 7f64aa9b-ad09e457-c43b6c4a-58f0c9c4-63bd359a\n",
            "Warning: No neighbors for 53269689-81a1a25c-73811eb7-29759420-3e776c22\n",
            "Warning: No neighbors for 51c8df10-9b7b31f5-b858d26c-0aa52308-28b83ed4\n",
            "Warning: No neighbors for cce9dcbc-88296698-f8ab8fbc-3e7f9201-1adf291c\n",
            "Warning: No neighbors for 00419c98-6f4860a1-3dee986d-8e2ceadc-d2fd30ae\n",
            "Warning: No neighbors for 0ad56e11-66a541d1-b99823f4-05e8d4bc-6542b85a\n",
            "Warning: No neighbors for f772719f-4afb0ee8-b3ea2619-d3554508-bf32da1a\n",
            "Warning: No neighbors for ac74f746-dd6cfe69-d012d9d5-23284ff7-6fd2fef3\n",
            "Warning: No neighbors for 4ed2e62c-f806ef83-05dda924-ec5e4ca8-93a02317\n",
            "Warning: No neighbors for 0cff2fac-0c260d1b-ab082204-0011db32-8516b735\n",
            "Warning: No neighbors for a0c38afc-5de759ae-7c2f0fb6-d955131c-90ca76cf\n",
            "Warning: No neighbors for 4e65a29e-8cd9b050-f0229c6b-15055eea-f114993a\n",
            "Warning: No neighbors for 73036d3f-e79c7e27-984eaa21-2efe3596-f5b0e1e6\n",
            "Warning: No neighbors for 9f492120-5fa7d5e6-13476793-4eb7929c-c5741664\n",
            "Warning: No neighbors for 70db5bf1-5174ff8d-77f44d79-410901a6-dcd22bb8\n",
            "Warning: No neighbors for d37c8630-2c378794-13fca1f4-fc10a1c7-67a540dd\n",
            "Warning: No neighbors for 430d65f6-02c6c61f-29143154-a21dcd13-4029c857\n",
            "Warning: No neighbors for a94a680c-f73013b5-ce8084a1-5679162b-8f53a4f2\n",
            "Warning: No neighbors for ae1d009c-45b4edc3-e378c37b-d6830120-f9519934\n",
            "Warning: No neighbors for f967ff5f-907b7315-a6b7c5d4-8d2a9c60-5da03da4\n",
            "Warning: No neighbors for 899dc5bc-97293c31-af74e705-a16ccfe8-89317001\n",
            "Warning: No neighbors for f376233e-48f8a645-4ef3b252-9385cac5-cbbf09f5\n",
            "Warning: No neighbors for 6ec4ef75-6e1a999b-602fdd32-de7e0cb6-8932fc13\n",
            "Warning: No neighbors for 141a0b55-ddeb2a84-a9c63758-5bc397b6-aaad40e5\n",
            "Warning: No neighbors for 53f4ea2b-b76526b5-07480de6-882ac314-3cb8dc05\n",
            "Warning: No neighbors for 9e6da287-66b7afc0-19b8b623-2ef9be10-f7d2ea64\n",
            "Warning: No neighbors for f169ac29-8ab8a796-58400d05-b6151f28-881ea7b1\n",
            "Warning: No neighbors for dd860e7e-9c60d450-6ac07d99-c81c5819-e4440deb\n",
            "Warning: No neighbors for 7e981a26-0a163e2e-9791a45c-90c20ff1-1f87c301\n",
            "Warning: No neighbors for ef2c474a-893c98ba-4f48f17c-5155da51-75bb1a84\n",
            "Warning: No neighbors for 15ae134d-cfdd4992-f7138887-775c44ec-d5aec551\n",
            "Warning: No neighbors for ca7adcf5-4c136c08-dccbff31-d7c21b05-15fa21ac\n",
            "Warning: No neighbors for 6ee1fc70-ae4b2d16-66aee982-3d3473c7-c3fd3b6f\n",
            "Warning: No neighbors for a7179377-8336bf01-9bad3e80-f53a57d1-009d8e5d\n",
            "Warning: No neighbors for 6e032ab3-5119d263-dda87161-61144223-929b79d5\n",
            "Warning: No neighbors for ac75f1e5-b5763ff2-ff2f6de0-29cb0ac1-e95d8490\n",
            "Warning: No neighbors for eb5a3ac2-3e452656-fe461074-def148b3-721e8b83\n",
            "Warning: No neighbors for 440839c2-b40d0272-e81d7e33-30270013-bdbdaf55\n"
          ]
        },
        {
          "output_type": "stream",
          "name": "stderr",
          "text": [
            "100%|██████████| 1757/1757 [14:16<00:00,  2.05it/s] "
          ]
        },
        {
          "output_type": "stream",
          "name": "stdout",
          "text": [
            "Warning: No neighbors for 9db62922-a3a23e99-5123e90f-7fc51e3e-89088a2b\n",
            "Warning: No neighbors for 3092df89-125e0ea2-12fd9e1e-296785fb-c68f8f8a\n",
            "Warning: No neighbors for f3315a21-686127a3-1223db3c-dbb51ff2-f9a457a6\n",
            "Warning: No neighbors for ce667f32-d1699da5-ca1df120-2d10e486-e64071ce\n",
            "Warning: No neighbors for d80e8d29-f3af4c92-20d56392-a6534f3d-ed0388c9\n",
            "Warning: No neighbors for 1029afac-9c96ec0c-06997558-db19590a-d0fe242a\n",
            "Warning: No neighbors for 9372681a-46c62455-2f6e0b07-3d85531a-fdcbfd57\n",
            "Warning: No neighbors for bb8ac02f-bee331ce-0df4cd4b-abe3f234-21952475\n",
            "Warning: No neighbors for 56c9b25c-ecd9f550-e7946cd4-e4a9de87-0837b271\n",
            "Warning: No neighbors for 661825e9-0b90c7bb-82d366fe-9d04a179-9c8e05ea\n",
            "Warning: No neighbors for efec3176-9d43f059-79f8d295-37ca2f52-cb46b971\n",
            "Warning: No neighbors for ca139acf-a10e99d2-43152eec-ba07c17c-a7bdae13\n",
            "Warning: No neighbors for 87b3cb2f-67508aec-b135fcfe-1b728228-6e158b6c\n",
            "Warning: No neighbors for fc5e43bc-210961f4-aa8f516f-60bbe595-a7b1d1ae\n",
            "Warning: No neighbors for 0289d85b-21efd43c-e213e3e3-7260c7a4-b9c743f2\n",
            "Warning: No neighbors for 8ead5bf9-7ad13369-4623d4eb-d63c882e-a68dfbb1\n",
            "Warning: No neighbors for f6e43f21-c5d43f84-dd2da450-6520c3dd-b7a49290\n",
            "Warning: No neighbors for fd06cf15-058aae6b-242307ec-ced4084a-8bcd48ba\n",
            "Warning: No neighbors for 167cf380-414ab68a-ee171625-6c739970-7d033ddb\n",
            "Warning: No neighbors for 5678f058-16e4ee44-5e6704bc-b8b2f7df-ce4686d8\n",
            "Warning: No neighbors for f22aa140-f3af469e-30bf0149-a2379c52-ef2b4da5\n",
            "Warning: No neighbors for 0dc06fa6-a5f8796e-4a44c476-22f36cfc-7e4cfa4e\n",
            "Warning: No neighbors for dfd61bef-32162933-fdb250cc-39ca923e-f135ef73\n",
            "Warning: No neighbors for 8206bbca-3f4169f6-f5d1f37e-63fe1b67-a022b9cd\n",
            "Generated reports for 286 test images\n"
          ]
        },
        {
          "output_type": "stream",
          "name": "stderr",
          "text": [
            "\n"
          ]
        }
      ]
    },
    {
      "cell_type": "code",
      "source": [
        "# Save the generated reports\n",
        "print(strftime(\"%Y-%m-%d %H:%M:%S\", gmtime()))\n",
        "\n",
        "# Create output directory if it doesn't exist\n",
        "pred_dir = os.path.join(base_path, 'output')\n",
        "os.makedirs(pred_dir, exist_ok=True)\n",
        "\n",
        "# Save the generated reports\n",
        "pred_file = os.path.join(pred_dir, f'{n}-gram.tsv')\n",
        "print(f\"Saving predictions to {pred_file}\")\n",
        "\n",
        "with open(pred_file, 'w') as f:\n",
        "    print('dicom_id\\tgenerated', file=f)\n",
        "    for dicom_id, generated in sorted(generated_reports.items()):\n",
        "        # Clean up the text (remove any tabs)\n",
        "        cleaned_text = generated.replace('\\t', ' ')\n",
        "        print(f'{dicom_id}\\t{cleaned_text}', file=f)\n",
        "\n",
        "print(strftime(\"%Y-%m-%d %H:%M:%S\", gmtime()))"
      ],
      "metadata": {
        "colab": {
          "base_uri": "https://localhost:8080/"
        },
        "id": "l7acpffo09p2",
        "outputId": "87661c3c-4617-42e0-a234-58651ed7c61e"
      },
      "execution_count": 12,
      "outputs": [
        {
          "output_type": "stream",
          "name": "stdout",
          "text": [
            "2025-04-21 05:16:33\n",
            "Saving predictions to /content/drive/MyDrive/mimic-cxr-project/output/3-gram.tsv\n",
            "2025-04-21 05:16:34\n"
          ]
        }
      ]
    },
    {
      "cell_type": "code",
      "source": [
        "# Display sample of generated reports\n",
        "sample_count = min(3, len(generated_reports))\n",
        "sample_dicoms = list(generated_reports.keys())[:sample_count]\n",
        "\n",
        "for dicom_id in sample_dicoms:\n",
        "    print(f\"\\nSample report for {dicom_id}:\")\n",
        "    report_text = generated_reports[dicom_id]\n",
        "\n",
        "    # Print preview of the report (first 200 characters)\n",
        "    if len(report_text) > 200:\n",
        "        print(report_text[:200] + \"...\")\n",
        "    else:\n",
        "        print(report_text)"
      ],
      "metadata": {
        "colab": {
          "base_uri": "https://localhost:8080/"
        },
        "id": "lhBR88bj1Ai3",
        "outputId": "73ba6333-c879-46dc-d1bf-6289d406fcd0"
      },
      "execution_count": 13,
      "outputs": [
        {
          "output_type": "stream",
          "name": "stdout",
          "text": [
            "\n",
            "Sample report for 63100eab-9e8a8d90-392bc822-325de482-69a64e3b:\n",
            "the patient in the appropriate clinical setting . there is bibasilar atelectasis is noted above the thoracic inlet which may reflect atelectasis but could be developing aspiration pneumonia . minimal ...\n",
            "\n",
            "Sample report for 17269efa-b016a94d-1361e8df-ac428071-d1133672:\n",
            "extensive right lower lobe . with the endotracheal tube tip courses below the field of view .\n",
            "\n",
            "Sample report for 247d5e7b-66c77989-ca5fec41-608aaa71-eab4c699:\n",
            "cardiomediastinal and hilar silhouettes are stable . no effusion\n"
          ]
        }
      ]
    }
  ]
}