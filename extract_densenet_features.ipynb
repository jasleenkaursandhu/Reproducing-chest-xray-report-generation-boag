{
  "nbformat": 4,
  "nbformat_minor": 0,
  "metadata": {
    "colab": {
      "provenance": [],
      "authorship_tag": "ABX9TyPVAsxtMuMG2+bcdnf4Q4ZG",
      "include_colab_link": true
    },
    "kernelspec": {
      "name": "python3",
      "display_name": "Python 3"
    },
    "language_info": {
      "name": "python"
    }
  },
  "cells": [
    {
      "cell_type": "markdown",
      "metadata": {
        "id": "view-in-github",
        "colab_type": "text"
      },
      "source": [
        "<a href=\"https://colab.research.google.com/github/jasleenkaursandhu/Reproducing-chest-xray-report-generation-boag/blob/main/extract_densenet_features.ipynb\" target=\"_parent\"><img src=\"https://colab.research.google.com/assets/colab-badge.svg\" alt=\"Open In Colab\"/></a>"
      ]
    },
    {
      "cell_type": "code",
      "execution_count": 1,
      "metadata": {
        "colab": {
          "base_uri": "https://localhost:8080/"
        },
        "id": "iUvyFXXwk4ko",
        "outputId": "b3e945b4-f59a-46a3-ecd5-18cc2d3b767f"
      },
      "outputs": [
        {
          "output_type": "stream",
          "name": "stdout",
          "text": [
            "Collecting pydicom\n",
            "  Downloading pydicom-3.0.1-py3-none-any.whl.metadata (9.4 kB)\n",
            "Downloading pydicom-3.0.1-py3-none-any.whl (2.4 MB)\n",
            "\u001b[2K   \u001b[90m━━━━━━━━━━━━━━━━━━━━━━━━━━━━━━━━━━━━━━━━\u001b[0m \u001b[32m2.4/2.4 MB\u001b[0m \u001b[31m10.5 MB/s\u001b[0m eta \u001b[36m0:00:00\u001b[0m\n",
            "\u001b[?25hInstalling collected packages: pydicom\n",
            "Successfully installed pydicom-3.0.1\n",
            "Requirement already satisfied: tensorflow in /usr/local/lib/python3.11/dist-packages (2.18.0)\n",
            "Requirement already satisfied: absl-py>=1.0.0 in /usr/local/lib/python3.11/dist-packages (from tensorflow) (1.4.0)\n",
            "Requirement already satisfied: astunparse>=1.6.0 in /usr/local/lib/python3.11/dist-packages (from tensorflow) (1.6.3)\n",
            "Requirement already satisfied: flatbuffers>=24.3.25 in /usr/local/lib/python3.11/dist-packages (from tensorflow) (25.2.10)\n",
            "Requirement already satisfied: gast!=0.5.0,!=0.5.1,!=0.5.2,>=0.2.1 in /usr/local/lib/python3.11/dist-packages (from tensorflow) (0.6.0)\n",
            "Requirement already satisfied: google-pasta>=0.1.1 in /usr/local/lib/python3.11/dist-packages (from tensorflow) (0.2.0)\n",
            "Requirement already satisfied: libclang>=13.0.0 in /usr/local/lib/python3.11/dist-packages (from tensorflow) (18.1.1)\n",
            "Requirement already satisfied: opt-einsum>=2.3.2 in /usr/local/lib/python3.11/dist-packages (from tensorflow) (3.4.0)\n",
            "Requirement already satisfied: packaging in /usr/local/lib/python3.11/dist-packages (from tensorflow) (24.2)\n",
            "Requirement already satisfied: protobuf!=4.21.0,!=4.21.1,!=4.21.2,!=4.21.3,!=4.21.4,!=4.21.5,<6.0.0dev,>=3.20.3 in /usr/local/lib/python3.11/dist-packages (from tensorflow) (5.29.4)\n",
            "Requirement already satisfied: requests<3,>=2.21.0 in /usr/local/lib/python3.11/dist-packages (from tensorflow) (2.32.3)\n",
            "Requirement already satisfied: setuptools in /usr/local/lib/python3.11/dist-packages (from tensorflow) (75.2.0)\n",
            "Requirement already satisfied: six>=1.12.0 in /usr/local/lib/python3.11/dist-packages (from tensorflow) (1.17.0)\n",
            "Requirement already satisfied: termcolor>=1.1.0 in /usr/local/lib/python3.11/dist-packages (from tensorflow) (3.0.1)\n",
            "Requirement already satisfied: typing-extensions>=3.6.6 in /usr/local/lib/python3.11/dist-packages (from tensorflow) (4.13.1)\n",
            "Requirement already satisfied: wrapt>=1.11.0 in /usr/local/lib/python3.11/dist-packages (from tensorflow) (1.17.2)\n",
            "Requirement already satisfied: grpcio<2.0,>=1.24.3 in /usr/local/lib/python3.11/dist-packages (from tensorflow) (1.71.0)\n",
            "Requirement already satisfied: tensorboard<2.19,>=2.18 in /usr/local/lib/python3.11/dist-packages (from tensorflow) (2.18.0)\n",
            "Requirement already satisfied: keras>=3.5.0 in /usr/local/lib/python3.11/dist-packages (from tensorflow) (3.8.0)\n",
            "Requirement already satisfied: numpy<2.1.0,>=1.26.0 in /usr/local/lib/python3.11/dist-packages (from tensorflow) (2.0.2)\n",
            "Requirement already satisfied: h5py>=3.11.0 in /usr/local/lib/python3.11/dist-packages (from tensorflow) (3.13.0)\n",
            "Requirement already satisfied: ml-dtypes<0.5.0,>=0.4.0 in /usr/local/lib/python3.11/dist-packages (from tensorflow) (0.4.1)\n",
            "Requirement already satisfied: tensorflow-io-gcs-filesystem>=0.23.1 in /usr/local/lib/python3.11/dist-packages (from tensorflow) (0.37.1)\n",
            "Requirement already satisfied: wheel<1.0,>=0.23.0 in /usr/local/lib/python3.11/dist-packages (from astunparse>=1.6.0->tensorflow) (0.45.1)\n",
            "Requirement already satisfied: rich in /usr/local/lib/python3.11/dist-packages (from keras>=3.5.0->tensorflow) (13.9.4)\n",
            "Requirement already satisfied: namex in /usr/local/lib/python3.11/dist-packages (from keras>=3.5.0->tensorflow) (0.0.8)\n",
            "Requirement already satisfied: optree in /usr/local/lib/python3.11/dist-packages (from keras>=3.5.0->tensorflow) (0.15.0)\n",
            "Requirement already satisfied: charset-normalizer<4,>=2 in /usr/local/lib/python3.11/dist-packages (from requests<3,>=2.21.0->tensorflow) (3.4.1)\n",
            "Requirement already satisfied: idna<4,>=2.5 in /usr/local/lib/python3.11/dist-packages (from requests<3,>=2.21.0->tensorflow) (3.10)\n",
            "Requirement already satisfied: urllib3<3,>=1.21.1 in /usr/local/lib/python3.11/dist-packages (from requests<3,>=2.21.0->tensorflow) (2.3.0)\n",
            "Requirement already satisfied: certifi>=2017.4.17 in /usr/local/lib/python3.11/dist-packages (from requests<3,>=2.21.0->tensorflow) (2025.1.31)\n",
            "Requirement already satisfied: markdown>=2.6.8 in /usr/local/lib/python3.11/dist-packages (from tensorboard<2.19,>=2.18->tensorflow) (3.7)\n",
            "Requirement already satisfied: tensorboard-data-server<0.8.0,>=0.7.0 in /usr/local/lib/python3.11/dist-packages (from tensorboard<2.19,>=2.18->tensorflow) (0.7.2)\n",
            "Requirement already satisfied: werkzeug>=1.0.1 in /usr/local/lib/python3.11/dist-packages (from tensorboard<2.19,>=2.18->tensorflow) (3.1.3)\n",
            "Requirement already satisfied: MarkupSafe>=2.1.1 in /usr/local/lib/python3.11/dist-packages (from werkzeug>=1.0.1->tensorboard<2.19,>=2.18->tensorflow) (3.0.2)\n",
            "Requirement already satisfied: markdown-it-py>=2.2.0 in /usr/local/lib/python3.11/dist-packages (from rich->keras>=3.5.0->tensorflow) (3.0.0)\n",
            "Requirement already satisfied: pygments<3.0.0,>=2.13.0 in /usr/local/lib/python3.11/dist-packages (from rich->keras>=3.5.0->tensorflow) (2.18.0)\n",
            "Requirement already satisfied: mdurl~=0.1 in /usr/local/lib/python3.11/dist-packages (from markdown-it-py>=2.2.0->rich->keras>=3.5.0->tensorflow) (0.1.2)\n"
          ]
        }
      ],
      "source": [
        "!pip install pydicom\n",
        "!pip install tensorflow\n",
        "import numpy as np\n",
        "import pandas as pd\n",
        "import os\n",
        "import pydicom\n",
        "import tensorflow as tf\n",
        "from tensorflow.keras.applications.densenet import DenseNet121, preprocess_input\n",
        "from PIL import Image\n",
        "import tqdm\n",
        "import pickle\n",
        "import gc"
      ]
    },
    {
      "cell_type": "code",
      "source": [
        "# Mount Google Drive\n",
        "from google.colab import drive\n",
        "drive.mount('/content/drive')\n",
        "\n",
        "# Define paths\n",
        "base_path = '/content/drive/MyDrive/mimic-cxr-project'\n",
        "data_dir = os.path.join(base_path, 'data')\n",
        "files_path = os.path.join(base_path, 'files')\n",
        "output_dir = os.path.join(base_path, 'output')\n",
        "\n",
        "# Create output directory if it doesn't exist\n",
        "os.makedirs(output_dir, exist_ok=True)\n",
        "\n",
        "# Load train and test data\n",
        "train_df = pd.read_csv(os.path.join(data_dir, 'train.tsv'), sep='\\t')\n",
        "test_df = pd.read_csv(os.path.join(data_dir, 'test.tsv'), sep='\\t')\n",
        "\n",
        "print(f\"Train data shape: {train_df.shape}\")\n",
        "print(f\"Test data shape: {test_df.shape}\")\n",
        "\n",
        "# Load pre-trained DenseNet121 model\n",
        "model = DenseNet121(weights='imagenet', include_top=False, pooling='avg')\n",
        "print(\"Loaded DenseNet121 model\")\n",
        "\n",
        "# Function to extract features from a DICOM image\n",
        "def extract_features(dicom_path):\n",
        "    try:\n",
        "        # Read the DICOM file\n",
        "        ds = pydicom.dcmread(dicom_path)\n",
        "\n",
        "        # Convert to image format\n",
        "        pixel_array = ds.pixel_array\n",
        "\n",
        "        # Normalize pixel values\n",
        "        pixel_array = pixel_array / np.max(pixel_array)\n",
        "\n",
        "        # Convert to uint8\n",
        "        img = np.uint8(pixel_array * 255)\n",
        "\n",
        "        # Convert to RGB (DenseNet expects 3 channels)\n",
        "        if len(img.shape) == 2:\n",
        "            # Grayscale to RGB\n",
        "            img_rgb = np.stack([img, img, img], axis=2)\n",
        "        elif img.shape[2] == 1:\n",
        "            # Single channel to RGB\n",
        "            img_rgb = np.concatenate([img, img, img], axis=2)\n",
        "        else:\n",
        "            img_rgb = img\n",
        "\n",
        "        # Resize to 224x224 (expected by DenseNet)\n",
        "        pil_img = Image.fromarray(img_rgb)\n",
        "        pil_img = pil_img.resize((224, 224))\n",
        "\n",
        "        # Convert to numpy array and preprocess\n",
        "        img_array = np.array(pil_img)\n",
        "        img_array = preprocess_input(img_array)\n",
        "\n",
        "        # Add batch dimension\n",
        "        img_array = np.expand_dims(img_array, axis=0)\n",
        "\n",
        "        # Extract features\n",
        "        features = model.predict(img_array, verbose=0)\n",
        "\n",
        "        return features.flatten()\n",
        "    except Exception as e:\n",
        "        print(f\"Error processing {dicom_path}: {e}\")\n",
        "        return None\n",
        "\n",
        "# Process train images in batches to avoid memory issues\n",
        "batch_size = 50\n",
        "densenet_vecs = {}\n",
        "\n",
        "# Process train images\n",
        "for idx, row in tqdm.tqdm(train_df.iterrows(), total=len(train_df), desc=\"Processing train images\"):\n",
        "    if idx % batch_size == 0:\n",
        "        print(f\"Processed {idx}/{len(train_df)} train images\")\n",
        "\n",
        "    dicom_id = row['dicom_id']\n",
        "    subject_id = row['subject_id']\n",
        "    study_id = row['study_id']\n",
        "\n",
        "    # Construct path to the DICOM file\n",
        "    subject_prefix = f\"p{str(subject_id)[:2]}\"\n",
        "    subject_dir = f\"p{subject_id}\"\n",
        "    study_dir = f\"s{study_id}\"\n",
        "    dicom_file = f\"{dicom_id}.dcm\"\n",
        "    dicom_path = os.path.join(files_path, subject_prefix, subject_dir, study_dir, dicom_file)\n",
        "\n",
        "    if os.path.exists(dicom_path):\n",
        "        features = extract_features(dicom_path)\n",
        "        if features is not None:\n",
        "            densenet_vecs[dicom_id] = features\n",
        "\n",
        "    # Save intermediate results\n",
        "    if (idx + 1) % 500 == 0 or idx == len(train_df) - 1:\n",
        "        print(f\"Saving intermediate results: {len(densenet_vecs)} vectors\")\n",
        "        with open(os.path.join(output_dir, 'densenet121_train.pkl'), 'wb') as f:\n",
        "            pickle.dump(densenet_vecs, f)\n",
        "\n",
        "    # Clean up memory\n",
        "    if idx % 100 == 0:\n",
        "        gc.collect()\n",
        "\n",
        "# Save the final vectors\n",
        "with open(os.path.join(output_dir, 'densenet121_train.pkl'), 'wb') as f:\n",
        "    pickle.dump(densenet_vecs, f)\n",
        "\n",
        "print(f\"Saved DenseNet features for {len(densenet_vecs)} train images\")\n",
        "\n",
        "# Process test images\n",
        "test_densenet_vecs = {}\n",
        "\n",
        "for idx, row in tqdm.tqdm(test_df.iterrows(), total=len(test_df), desc=\"Processing test images\"):\n",
        "    if idx % batch_size == 0:\n",
        "        print(f\"Processed {idx}/{len(test_df)} test images\")\n",
        "\n",
        "    dicom_id = row['dicom_id']\n",
        "    subject_id = row['subject_id']\n",
        "    study_id = row['study_id']\n",
        "\n",
        "    # Construct path to the DICOM file\n",
        "    subject_prefix = f\"p{str(subject_id)[:2]}\"\n",
        "    subject_dir = f\"p{subject_id}\"\n",
        "    study_dir = f\"s{study_id}\"\n",
        "    dicom_file = f\"{dicom_id}.dcm\"\n",
        "    dicom_path = os.path.join(files_path, subject_prefix, subject_dir, study_dir, dicom_file)\n",
        "\n",
        "    if os.path.exists(dicom_path):\n",
        "        features = extract_features(dicom_path)\n",
        "        if features is not None:\n",
        "            test_densenet_vecs[dicom_id] = features\n",
        "\n",
        "    # Save intermediate results\n",
        "    if (idx + 1) % 100 == 0 or idx == len(test_df) - 1:\n",
        "        print(f\"Saving intermediate results: {len(test_densenet_vecs)} vectors\")\n",
        "        with open(os.path.join(output_dir, 'densenet121_test.pkl'), 'wb') as f:\n",
        "            pickle.dump(test_densenet_vecs, f)\n",
        "\n",
        "    # Clean up memory\n",
        "    if idx % 50 == 0:\n",
        "        gc.collect()\n",
        "\n",
        "# Save the test vectors\n",
        "with open(os.path.join(output_dir, 'densenet121_test.pkl'), 'wb') as f:\n",
        "    pickle.dump(test_densenet_vecs, f)\n",
        "\n",
        "print(f\"Saved DenseNet features for {len(test_densenet_vecs)} test images\")"
      ],
      "metadata": {
        "colab": {
          "base_uri": "https://localhost:8080/"
        },
        "id": "oMEgnN89zHQy",
        "outputId": "f47638c4-c837-47ca-ac77-fcec151bc0ae"
      },
      "execution_count": 2,
      "outputs": [
        {
          "output_type": "stream",
          "name": "stdout",
          "text": [
            "Mounted at /content/drive\n",
            "Train data shape: (2243, 3)\n",
            "Test data shape: (871, 3)\n",
            "Downloading data from https://storage.googleapis.com/tensorflow/keras-applications/densenet/densenet121_weights_tf_dim_ordering_tf_kernels_notop.h5\n",
            "\u001b[1m29084464/29084464\u001b[0m \u001b[32m━━━━━━━━━━━━━━━━━━━━\u001b[0m\u001b[37m\u001b[0m \u001b[1m0s\u001b[0m 0us/step\n",
            "Loaded DenseNet121 model\n"
          ]
        },
        {
          "output_type": "stream",
          "name": "stderr",
          "text": [
            "\rProcessing train images:   0%|          | 0/2243 [00:00<?, ?it/s]"
          ]
        },
        {
          "output_type": "stream",
          "name": "stdout",
          "text": [
            "Processed 0/2243 train images\n"
          ]
        },
        {
          "output_type": "stream",
          "name": "stderr",
          "text": [
            "Processing train images:   2%|▏         | 50/2243 [06:29<59:51,  1.64s/it]"
          ]
        },
        {
          "output_type": "stream",
          "name": "stdout",
          "text": [
            "Processed 50/2243 train images\n"
          ]
        },
        {
          "output_type": "stream",
          "name": "stderr",
          "text": [
            "Processing train images:   4%|▍         | 100/2243 [08:05<1:33:02,  2.60s/it]"
          ]
        },
        {
          "output_type": "stream",
          "name": "stdout",
          "text": [
            "Processed 100/2243 train images\n"
          ]
        },
        {
          "output_type": "stream",
          "name": "stderr",
          "text": [
            "Processing train images:   7%|▋         | 150/2243 [09:27<1:00:15,  1.73s/it]"
          ]
        },
        {
          "output_type": "stream",
          "name": "stdout",
          "text": [
            "Processed 150/2243 train images\n"
          ]
        },
        {
          "output_type": "stream",
          "name": "stderr",
          "text": [
            "Processing train images:   9%|▉         | 200/2243 [10:56<56:46,  1.67s/it]"
          ]
        },
        {
          "output_type": "stream",
          "name": "stdout",
          "text": [
            "Processed 200/2243 train images\n"
          ]
        },
        {
          "output_type": "stream",
          "name": "stderr",
          "text": [
            "Processing train images:  10%|▉         | 217/2243 [11:25<38:58,  1.15s/it]"
          ]
        },
        {
          "output_type": "stream",
          "name": "stdout",
          "text": [
            "Error processing /content/drive/MyDrive/mimic-cxr-project/files/p17/p17585916/s51774836/7f7346e9-c1f9639f-8e83f5bc-f166c421-69f3b162.dcm: The number of bytes of pixel data is less than expected (1274412 vs 15548928 bytes) - the dataset may be corrupted, have an invalid group 0028 element value, or the transfer syntax may be incorrect\n"
          ]
        },
        {
          "output_type": "stream",
          "name": "stderr",
          "text": [
            "Processing train images:  11%|█         | 250/2243 [12:18<58:24,  1.76s/it]"
          ]
        },
        {
          "output_type": "stream",
          "name": "stdout",
          "text": [
            "Processed 250/2243 train images\n"
          ]
        },
        {
          "output_type": "stream",
          "name": "stderr",
          "text": [
            "Processing train images:  13%|█▎        | 300/2243 [13:38<49:45,  1.54s/it]"
          ]
        },
        {
          "output_type": "stream",
          "name": "stdout",
          "text": [
            "Processed 300/2243 train images\n"
          ]
        },
        {
          "output_type": "stream",
          "name": "stderr",
          "text": [
            "Processing train images:  16%|█▌        | 350/2243 [14:59<58:06,  1.84s/it]  "
          ]
        },
        {
          "output_type": "stream",
          "name": "stdout",
          "text": [
            "Processed 350/2243 train images\n"
          ]
        },
        {
          "output_type": "stream",
          "name": "stderr",
          "text": [
            "Processing train images:  18%|█▊        | 400/2243 [16:28<1:15:34,  2.46s/it]"
          ]
        },
        {
          "output_type": "stream",
          "name": "stdout",
          "text": [
            "Processed 400/2243 train images\n"
          ]
        },
        {
          "output_type": "stream",
          "name": "stderr",
          "text": [
            "Processing train images:  20%|██        | 450/2243 [18:02<1:04:27,  2.16s/it]"
          ]
        },
        {
          "output_type": "stream",
          "name": "stdout",
          "text": [
            "Processed 450/2243 train images\n"
          ]
        },
        {
          "output_type": "stream",
          "name": "stderr",
          "text": [
            "Processing train images:  22%|██▏       | 499/2243 [19:24<52:38,  1.81s/it]  "
          ]
        },
        {
          "output_type": "stream",
          "name": "stdout",
          "text": [
            "Saving intermediate results: 499 vectors\n"
          ]
        },
        {
          "output_type": "stream",
          "name": "stderr",
          "text": [
            "\rProcessing train images:  22%|██▏       | 500/2243 [19:26<56:08,  1.93s/it]"
          ]
        },
        {
          "output_type": "stream",
          "name": "stdout",
          "text": [
            "Processed 500/2243 train images\n"
          ]
        },
        {
          "output_type": "stream",
          "name": "stderr",
          "text": [
            "Processing train images:  25%|██▍       | 550/2243 [20:52<43:29,  1.54s/it]"
          ]
        },
        {
          "output_type": "stream",
          "name": "stdout",
          "text": [
            "Processed 550/2243 train images\n"
          ]
        },
        {
          "output_type": "stream",
          "name": "stderr",
          "text": [
            "Processing train images:  27%|██▋       | 600/2243 [22:18<46:29,  1.70s/it]"
          ]
        },
        {
          "output_type": "stream",
          "name": "stdout",
          "text": [
            "Processed 600/2243 train images\n"
          ]
        },
        {
          "output_type": "stream",
          "name": "stderr",
          "text": [
            "Processing train images:  29%|██▉       | 650/2243 [23:44<1:01:56,  2.33s/it]"
          ]
        },
        {
          "output_type": "stream",
          "name": "stdout",
          "text": [
            "Processed 650/2243 train images\n"
          ]
        },
        {
          "output_type": "stream",
          "name": "stderr",
          "text": [
            "Processing train images:  29%|██▉       | 652/2243 [23:46<44:14,  1.67s/it]"
          ]
        },
        {
          "output_type": "stream",
          "name": "stdout",
          "text": [
            "Error processing /content/drive/MyDrive/mimic-cxr-project/files/p18/p18426683/s56692948/4c7a69d2-8396ed79-2b88c121-cfb19206-e72369d6.dcm: The number of bytes of pixel data is less than expected (2699910 vs 15548928 bytes) - the dataset may be corrupted, have an invalid group 0028 element value, or the transfer syntax may be incorrect\n"
          ]
        },
        {
          "output_type": "stream",
          "name": "stderr",
          "text": [
            "Processing train images:  31%|███       | 700/2243 [25:09<46:37,  1.81s/it]"
          ]
        },
        {
          "output_type": "stream",
          "name": "stdout",
          "text": [
            "Processed 700/2243 train images\n"
          ]
        },
        {
          "output_type": "stream",
          "name": "stderr",
          "text": [
            "Processing train images:  33%|███▎      | 750/2243 [26:32<34:32,  1.39s/it]"
          ]
        },
        {
          "output_type": "stream",
          "name": "stdout",
          "text": [
            "Processed 750/2243 train images\n"
          ]
        },
        {
          "output_type": "stream",
          "name": "stderr",
          "text": [
            "Processing train images:  36%|███▌      | 800/2243 [28:02<56:15,  2.34s/it]  "
          ]
        },
        {
          "output_type": "stream",
          "name": "stdout",
          "text": [
            "Processed 800/2243 train images\n"
          ]
        },
        {
          "output_type": "stream",
          "name": "stderr",
          "text": [
            "Processing train images:  38%|███▊      | 850/2243 [29:32<39:18,  1.69s/it]"
          ]
        },
        {
          "output_type": "stream",
          "name": "stdout",
          "text": [
            "Processed 850/2243 train images\n"
          ]
        },
        {
          "output_type": "stream",
          "name": "stderr",
          "text": [
            "Processing train images:  40%|████      | 900/2243 [30:50<31:35,  1.41s/it]"
          ]
        },
        {
          "output_type": "stream",
          "name": "stdout",
          "text": [
            "Processed 900/2243 train images\n"
          ]
        },
        {
          "output_type": "stream",
          "name": "stderr",
          "text": [
            "Processing train images:  41%|████      | 910/2243 [31:05<28:36,  1.29s/it]"
          ]
        },
        {
          "output_type": "stream",
          "name": "stdout",
          "text": [
            "Error processing /content/drive/MyDrive/mimic-cxr-project/files/p19/p19286907/s51318449/b584431a-4c8ff7f0-3927d5fd-e5135a78-88274d2e.dcm: The number of bytes of pixel data is less than expected (5763910 vs 15548928 bytes) - the dataset may be corrupted, have an invalid group 0028 element value, or the transfer syntax may be incorrect\n"
          ]
        },
        {
          "output_type": "stream",
          "name": "stderr",
          "text": [
            "Processing train images:  42%|████▏     | 950/2243 [32:14<37:09,  1.72s/it]"
          ]
        },
        {
          "output_type": "stream",
          "name": "stdout",
          "text": [
            "Processed 950/2243 train images\n"
          ]
        },
        {
          "output_type": "stream",
          "name": "stderr",
          "text": [
            "Processing train images:  45%|████▍     | 999/2243 [33:38<36:24,  1.76s/it]"
          ]
        },
        {
          "output_type": "stream",
          "name": "stdout",
          "text": [
            "Saving intermediate results: 997 vectors\n"
          ]
        },
        {
          "output_type": "stream",
          "name": "stderr",
          "text": [
            "\rProcessing train images:  45%|████▍     | 1000/2243 [33:40<37:33,  1.81s/it]"
          ]
        },
        {
          "output_type": "stream",
          "name": "stdout",
          "text": [
            "Processed 1000/2243 train images\n"
          ]
        },
        {
          "output_type": "stream",
          "name": "stderr",
          "text": [
            "Processing train images:  46%|████▋     | 1039/2243 [34:47<29:11,  1.46s/it]"
          ]
        },
        {
          "output_type": "stream",
          "name": "stdout",
          "text": [
            "Error processing /content/drive/MyDrive/mimic-cxr-project/files/p14/p14187001/s54676352/f0d713e0-4db1800a-4ae3600b-c365a2a5-4985ec73.dcm: The number of bytes of pixel data is less than expected (1094284 vs 15548928 bytes) - the dataset may be corrupted, have an invalid group 0028 element value, or the transfer syntax may be incorrect\n"
          ]
        },
        {
          "output_type": "stream",
          "name": "stderr",
          "text": [
            "Processing train images:  47%|████▋     | 1050/2243 [35:05<30:40,  1.54s/it]"
          ]
        },
        {
          "output_type": "stream",
          "name": "stdout",
          "text": [
            "Processed 1050/2243 train images\n"
          ]
        },
        {
          "output_type": "stream",
          "name": "stderr",
          "text": [
            "Processing train images:  49%|████▉     | 1100/2243 [36:30<35:25,  1.86s/it]"
          ]
        },
        {
          "output_type": "stream",
          "name": "stdout",
          "text": [
            "Processed 1100/2243 train images\n"
          ]
        },
        {
          "output_type": "stream",
          "name": "stderr",
          "text": [
            "Processing train images:  51%|█████▏    | 1150/2243 [37:55<35:10,  1.93s/it]"
          ]
        },
        {
          "output_type": "stream",
          "name": "stdout",
          "text": [
            "Processed 1150/2243 train images\n"
          ]
        },
        {
          "output_type": "stream",
          "name": "stderr",
          "text": [
            "Processing train images:  53%|█████▎    | 1200/2243 [39:27<30:28,  1.75s/it]"
          ]
        },
        {
          "output_type": "stream",
          "name": "stdout",
          "text": [
            "Processed 1200/2243 train images\n"
          ]
        },
        {
          "output_type": "stream",
          "name": "stderr",
          "text": [
            "Processing train images:  56%|█████▌    | 1250/2243 [40:50<27:35,  1.67s/it]"
          ]
        },
        {
          "output_type": "stream",
          "name": "stdout",
          "text": [
            "Processed 1250/2243 train images\n"
          ]
        },
        {
          "output_type": "stream",
          "name": "stderr",
          "text": [
            "Processing train images:  58%|█████▊    | 1300/2243 [42:14<28:17,  1.80s/it]"
          ]
        },
        {
          "output_type": "stream",
          "name": "stdout",
          "text": [
            "Processed 1300/2243 train images\n"
          ]
        },
        {
          "output_type": "stream",
          "name": "stderr",
          "text": [
            "Processing train images:  60%|██████    | 1350/2243 [43:44<22:59,  1.54s/it]"
          ]
        },
        {
          "output_type": "stream",
          "name": "stdout",
          "text": [
            "Processed 1350/2243 train images\n"
          ]
        },
        {
          "output_type": "stream",
          "name": "stderr",
          "text": [
            "Processing train images:  62%|██████▏   | 1383/2243 [44:39<18:54,  1.32s/it]"
          ]
        },
        {
          "output_type": "stream",
          "name": "stdout",
          "text": [
            "Error processing /content/drive/MyDrive/mimic-cxr-project/files/p10/p10067702/s52093291/7b27c1fb-f3a20e71-a3633833-c56fdbd1-59ceb4c6.dcm: The number of bytes of pixel data is less than expected (7844238 vs 15548928 bytes) - the dataset may be corrupted, have an invalid group 0028 element value, or the transfer syntax may be incorrect\n"
          ]
        },
        {
          "output_type": "stream",
          "name": "stderr",
          "text": [
            "Processing train images:  62%|██████▏   | 1400/2243 [45:07<25:05,  1.79s/it]"
          ]
        },
        {
          "output_type": "stream",
          "name": "stdout",
          "text": [
            "Processed 1400/2243 train images\n"
          ]
        },
        {
          "output_type": "stream",
          "name": "stderr",
          "text": [
            "Processing train images:  65%|██████▍   | 1450/2243 [46:29<20:38,  1.56s/it]"
          ]
        },
        {
          "output_type": "stream",
          "name": "stdout",
          "text": [
            "Processed 1450/2243 train images\n"
          ]
        },
        {
          "output_type": "stream",
          "name": "stderr",
          "text": [
            "Processing train images:  67%|██████▋   | 1500/2243 [47:49<19:25,  1.57s/it]"
          ]
        },
        {
          "output_type": "stream",
          "name": "stdout",
          "text": [
            "Saving intermediate results: 1495 vectors\n",
            "Processed 1500/2243 train images\n"
          ]
        },
        {
          "output_type": "stream",
          "name": "stderr",
          "text": [
            "Processing train images:  69%|██████▉   | 1550/2243 [49:21<17:34,  1.52s/it]"
          ]
        },
        {
          "output_type": "stream",
          "name": "stdout",
          "text": [
            "Processed 1550/2243 train images\n"
          ]
        },
        {
          "output_type": "stream",
          "name": "stderr",
          "text": [
            "Processing train images:  71%|███████▏  | 1600/2243 [50:45<18:05,  1.69s/it]"
          ]
        },
        {
          "output_type": "stream",
          "name": "stdout",
          "text": [
            "Processed 1600/2243 train images\n"
          ]
        },
        {
          "output_type": "stream",
          "name": "stderr",
          "text": [
            "Processing train images:  74%|███████▎  | 1650/2243 [52:18<14:51,  1.50s/it]"
          ]
        },
        {
          "output_type": "stream",
          "name": "stdout",
          "text": [
            "Processed 1650/2243 train images\n"
          ]
        },
        {
          "output_type": "stream",
          "name": "stderr",
          "text": [
            "Processing train images:  76%|███████▌  | 1700/2243 [53:43<14:55,  1.65s/it]"
          ]
        },
        {
          "output_type": "stream",
          "name": "stdout",
          "text": [
            "Processed 1700/2243 train images\n"
          ]
        },
        {
          "output_type": "stream",
          "name": "stderr",
          "text": [
            "Processing train images:  78%|███████▊  | 1750/2243 [55:11<16:45,  2.04s/it]"
          ]
        },
        {
          "output_type": "stream",
          "name": "stdout",
          "text": [
            "Processed 1750/2243 train images\n"
          ]
        },
        {
          "output_type": "stream",
          "name": "stderr",
          "text": [
            "Processing train images:  80%|████████  | 1800/2243 [56:32<10:42,  1.45s/it]"
          ]
        },
        {
          "output_type": "stream",
          "name": "stdout",
          "text": [
            "Processed 1800/2243 train images\n"
          ]
        },
        {
          "output_type": "stream",
          "name": "stderr",
          "text": [
            "Processing train images:  82%|████████▏ | 1850/2243 [57:52<11:18,  1.73s/it]"
          ]
        },
        {
          "output_type": "stream",
          "name": "stdout",
          "text": [
            "Processed 1850/2243 train images\n"
          ]
        },
        {
          "output_type": "stream",
          "name": "stderr",
          "text": [
            "Processing train images:  83%|████████▎ | 1859/2243 [58:07<08:58,  1.40s/it]"
          ]
        },
        {
          "output_type": "stream",
          "name": "stdout",
          "text": [
            "Error processing /content/drive/MyDrive/mimic-cxr-project/files/p10/p10862862/s51465215/adedf30a-e7c7f6bf-5f84d327-6a28ec36-1884d9fa.dcm: The number of bytes of pixel data is less than expected (7811632 vs 15548928 bytes) - the dataset may be corrupted, have an invalid group 0028 element value, or the transfer syntax may be incorrect\n"
          ]
        },
        {
          "output_type": "stream",
          "name": "stderr",
          "text": [
            "Processing train images:  84%|████████▎ | 1875/2243 [58:37<09:44,  1.59s/it]"
          ]
        },
        {
          "output_type": "stream",
          "name": "stdout",
          "text": [
            "Error processing /content/drive/MyDrive/mimic-cxr-project/files/p12/p12472552/s50755415/1e5ca153-998b2a9b-25707745-bd6ac2ab-24d336a4.dcm: The number of bytes of pixel data is less than expected (5567114 vs 15548928 bytes) - the dataset may be corrupted, have an invalid group 0028 element value, or the transfer syntax may be incorrect\n"
          ]
        },
        {
          "output_type": "stream",
          "name": "stderr",
          "text": [
            "Processing train images:  85%|████████▍ | 1900/2243 [59:19<10:36,  1.86s/it]"
          ]
        },
        {
          "output_type": "stream",
          "name": "stdout",
          "text": [
            "Processed 1900/2243 train images\n"
          ]
        },
        {
          "output_type": "stream",
          "name": "stderr",
          "text": [
            "Processing train images:  87%|████████▋ | 1950/2243 [1:00:43<08:03,  1.65s/it]"
          ]
        },
        {
          "output_type": "stream",
          "name": "stdout",
          "text": [
            "Processed 1950/2243 train images\n"
          ]
        },
        {
          "output_type": "stream",
          "name": "stderr",
          "text": [
            "Processing train images:  89%|████████▉ | 1999/2243 [1:02:02<06:26,  1.58s/it]"
          ]
        },
        {
          "output_type": "stream",
          "name": "stdout",
          "text": [
            "Saving intermediate results: 1993 vectors\n"
          ]
        },
        {
          "output_type": "stream",
          "name": "stderr",
          "text": [
            "\rProcessing train images:  89%|████████▉ | 2000/2243 [1:02:04<06:54,  1.71s/it]"
          ]
        },
        {
          "output_type": "stream",
          "name": "stdout",
          "text": [
            "Processed 2000/2243 train images\n"
          ]
        },
        {
          "output_type": "stream",
          "name": "stderr",
          "text": [
            "Processing train images:  91%|█████████▏| 2050/2243 [1:03:23<05:26,  1.69s/it]"
          ]
        },
        {
          "output_type": "stream",
          "name": "stdout",
          "text": [
            "Processed 2050/2243 train images\n"
          ]
        },
        {
          "output_type": "stream",
          "name": "stderr",
          "text": [
            "Processing train images:  93%|█████████▎| 2078/2243 [1:04:07<03:13,  1.17s/it]"
          ]
        },
        {
          "output_type": "stream",
          "name": "stdout",
          "text": [
            "Error processing /content/drive/MyDrive/mimic-cxr-project/files/p13/p13374841/s58911904/50ea8464-0aa978d0-82d052ac-c25caaa6-f794da21.dcm: The number of bytes of pixel data is less than expected (3994490 vs 14298480 bytes) - the dataset may be corrupted, have an invalid group 0028 element value, or the transfer syntax may be incorrect\n"
          ]
        },
        {
          "output_type": "stream",
          "name": "stderr",
          "text": [
            "Processing train images:  94%|█████████▎| 2100/2243 [1:04:49<04:59,  2.09s/it]"
          ]
        },
        {
          "output_type": "stream",
          "name": "stdout",
          "text": [
            "Processed 2100/2243 train images\n"
          ]
        },
        {
          "output_type": "stream",
          "name": "stderr",
          "text": [
            "Processing train images:  96%|█████████▌| 2150/2243 [1:06:07<02:14,  1.44s/it]"
          ]
        },
        {
          "output_type": "stream",
          "name": "stdout",
          "text": [
            "Processed 2150/2243 train images\n"
          ]
        },
        {
          "output_type": "stream",
          "name": "stderr",
          "text": [
            "Processing train images:  98%|█████████▊| 2200/2243 [1:07:35<01:13,  1.72s/it]"
          ]
        },
        {
          "output_type": "stream",
          "name": "stdout",
          "text": [
            "Processed 2200/2243 train images\n"
          ]
        },
        {
          "output_type": "stream",
          "name": "stderr",
          "text": [
            "Processing train images: 100%|██████████| 2243/2243 [1:08:56<00:00,  1.84s/it]"
          ]
        },
        {
          "output_type": "stream",
          "name": "stdout",
          "text": [
            "Saving intermediate results: 2235 vectors\n"
          ]
        },
        {
          "output_type": "stream",
          "name": "stderr",
          "text": [
            "\n"
          ]
        },
        {
          "output_type": "stream",
          "name": "stdout",
          "text": [
            "Saved DenseNet features for 2235 train images\n"
          ]
        },
        {
          "output_type": "stream",
          "name": "stderr",
          "text": [
            "\rProcessing test images:   0%|          | 0/871 [00:00<?, ?it/s]"
          ]
        },
        {
          "output_type": "stream",
          "name": "stdout",
          "text": [
            "Processed 0/871 test images\n"
          ]
        },
        {
          "output_type": "stream",
          "name": "stderr",
          "text": [
            "Processing test images:   6%|▌         | 50/871 [01:20<22:15,  1.63s/it]"
          ]
        },
        {
          "output_type": "stream",
          "name": "stdout",
          "text": [
            "Processed 50/871 test images\n"
          ]
        },
        {
          "output_type": "stream",
          "name": "stderr",
          "text": [
            "Processing test images:   8%|▊         | 67/871 [01:45<15:48,  1.18s/it]"
          ]
        },
        {
          "output_type": "stream",
          "name": "stdout",
          "text": [
            "Error processing /content/drive/MyDrive/mimic-cxr-project/files/p16/p16741986/s56541794/fdba0667-faa73efd-da3746a5-2a72a1fa-f5b292b7.dcm: The number of bytes of pixel data is less than expected (3535498 vs 15548928 bytes) - the dataset may be corrupted, have an invalid group 0028 element value, or the transfer syntax may be incorrect\n"
          ]
        },
        {
          "output_type": "stream",
          "name": "stderr",
          "text": [
            "Processing test images:  11%|█▏        | 99/871 [02:39<18:32,  1.44s/it]"
          ]
        },
        {
          "output_type": "stream",
          "name": "stdout",
          "text": [
            "Saving intermediate results: 99 vectors\n"
          ]
        },
        {
          "output_type": "stream",
          "name": "stderr",
          "text": [
            "\rProcessing test images:  11%|█▏        | 100/871 [02:41<20:39,  1.61s/it]"
          ]
        },
        {
          "output_type": "stream",
          "name": "stdout",
          "text": [
            "Processed 100/871 test images\n"
          ]
        },
        {
          "output_type": "stream",
          "name": "stderr",
          "text": [
            "Processing test images:  16%|█▌        | 141/871 [03:50<22:18,  1.83s/it]"
          ]
        },
        {
          "output_type": "stream",
          "name": "stdout",
          "text": [
            "Error processing /content/drive/MyDrive/mimic-cxr-project/files/p10/p10068304/s53442406/a235b65b-e777f854-a98de6d6-2f3d33d8-bca255ec.dcm: The number of bytes of pixel data is less than expected (8892968 vs 15487900 bytes) - the dataset may be corrupted, have an invalid group 0028 element value, or the transfer syntax may be incorrect\n"
          ]
        },
        {
          "output_type": "stream",
          "name": "stderr",
          "text": [
            "Processing test images:  16%|█▋        | 143/871 [03:54<20:46,  1.71s/it]"
          ]
        },
        {
          "output_type": "stream",
          "name": "stdout",
          "text": [
            "Error processing /content/drive/MyDrive/mimic-cxr-project/files/p10/p10068304/s54217246/4e5eebbe-0eddc029-b15d4941-d49ec4dd-f18951c0.dcm: The number of bytes of pixel data is less than expected (5796396 vs 15311000 bytes) - the dataset may be corrupted, have an invalid group 0028 element value, or the transfer syntax may be incorrect\n"
          ]
        },
        {
          "output_type": "stream",
          "name": "stderr",
          "text": [
            "Processing test images:  17%|█▋        | 150/871 [04:04<18:55,  1.58s/it]"
          ]
        },
        {
          "output_type": "stream",
          "name": "stdout",
          "text": [
            "Processed 150/871 test images\n"
          ]
        },
        {
          "output_type": "stream",
          "name": "stderr",
          "text": [
            "Processing test images:  23%|██▎       | 200/871 [05:29<20:46,  1.86s/it]"
          ]
        },
        {
          "output_type": "stream",
          "name": "stdout",
          "text": [
            "Saving intermediate results: 197 vectors\n",
            "Processed 200/871 test images\n"
          ]
        },
        {
          "output_type": "stream",
          "name": "stderr",
          "text": [
            "Processing test images:  29%|██▊       | 250/871 [06:52<15:32,  1.50s/it]"
          ]
        },
        {
          "output_type": "stream",
          "name": "stdout",
          "text": [
            "Processed 250/871 test images\n"
          ]
        },
        {
          "output_type": "stream",
          "name": "stderr",
          "text": [
            "Processing test images:  34%|███▍      | 300/871 [08:10<14:24,  1.51s/it]"
          ]
        },
        {
          "output_type": "stream",
          "name": "stdout",
          "text": [
            "Saving intermediate results: 297 vectors\n",
            "Processed 300/871 test images\n"
          ]
        },
        {
          "output_type": "stream",
          "name": "stderr",
          "text": [
            "Processing test images:  40%|████      | 350/871 [09:35<15:19,  1.77s/it]"
          ]
        },
        {
          "output_type": "stream",
          "name": "stdout",
          "text": [
            "Processed 350/871 test images\n"
          ]
        },
        {
          "output_type": "stream",
          "name": "stderr",
          "text": [
            "Processing test images:  46%|████▌     | 400/871 [11:07<12:42,  1.62s/it]"
          ]
        },
        {
          "output_type": "stream",
          "name": "stdout",
          "text": [
            "Saving intermediate results: 397 vectors\n",
            "Processed 400/871 test images\n"
          ]
        },
        {
          "output_type": "stream",
          "name": "stderr",
          "text": [
            "Processing test images:  52%|█████▏    | 450/871 [12:39<12:00,  1.71s/it]"
          ]
        },
        {
          "output_type": "stream",
          "name": "stdout",
          "text": [
            "Processed 450/871 test images\n"
          ]
        },
        {
          "output_type": "stream",
          "name": "stderr",
          "text": [
            "Processing test images:  57%|█████▋    | 500/871 [14:03<10:14,  1.66s/it]"
          ]
        },
        {
          "output_type": "stream",
          "name": "stdout",
          "text": [
            "Saving intermediate results: 497 vectors\n",
            "Processed 500/871 test images\n"
          ]
        },
        {
          "output_type": "stream",
          "name": "stderr",
          "text": [
            "Processing test images:  63%|██████▎   | 550/871 [15:24<08:22,  1.56s/it]"
          ]
        },
        {
          "output_type": "stream",
          "name": "stdout",
          "text": [
            "Processed 550/871 test images\n"
          ]
        },
        {
          "output_type": "stream",
          "name": "stderr",
          "text": [
            "Processing test images:  69%|██████▉   | 600/871 [16:44<07:17,  1.61s/it]"
          ]
        },
        {
          "output_type": "stream",
          "name": "stdout",
          "text": [
            "Saving intermediate results: 597 vectors\n",
            "Processed 600/871 test images\n"
          ]
        },
        {
          "output_type": "stream",
          "name": "stderr",
          "text": [
            "Processing test images:  75%|███████▍  | 650/871 [18:05<06:04,  1.65s/it]"
          ]
        },
        {
          "output_type": "stream",
          "name": "stdout",
          "text": [
            "Processed 650/871 test images\n"
          ]
        },
        {
          "output_type": "stream",
          "name": "stderr",
          "text": [
            "Processing test images:  80%|████████  | 700/871 [19:25<04:00,  1.41s/it]"
          ]
        },
        {
          "output_type": "stream",
          "name": "stdout",
          "text": [
            "Saving intermediate results: 697 vectors\n",
            "Processed 700/871 test images\n"
          ]
        },
        {
          "output_type": "stream",
          "name": "stderr",
          "text": [
            "Processing test images:  86%|████████▌ | 750/871 [20:51<02:59,  1.48s/it]"
          ]
        },
        {
          "output_type": "stream",
          "name": "stdout",
          "text": [
            "Processed 750/871 test images\n"
          ]
        },
        {
          "output_type": "stream",
          "name": "stderr",
          "text": [
            "Processing test images:  92%|█████████▏| 800/871 [22:13<01:36,  1.37s/it]"
          ]
        },
        {
          "output_type": "stream",
          "name": "stdout",
          "text": [
            "Saving intermediate results: 797 vectors\n",
            "Processed 800/871 test images\n"
          ]
        },
        {
          "output_type": "stream",
          "name": "stderr",
          "text": [
            "Processing test images:  98%|█████████▊| 850/871 [23:35<00:34,  1.65s/it]"
          ]
        },
        {
          "output_type": "stream",
          "name": "stdout",
          "text": [
            "Processed 850/871 test images\n"
          ]
        },
        {
          "output_type": "stream",
          "name": "stderr",
          "text": [
            "Processing test images: 100%|██████████| 871/871 [24:07<00:00,  1.66s/it]"
          ]
        },
        {
          "output_type": "stream",
          "name": "stdout",
          "text": [
            "Saving intermediate results: 868 vectors\n",
            "Saved DenseNet features for 868 test images\n"
          ]
        },
        {
          "output_type": "stream",
          "name": "stderr",
          "text": [
            "\n"
          ]
        }
      ]
    },
    {
      "cell_type": "code",
      "source": [
        "# Find nearest neighbors based on feature similarity\n",
        "import numpy as np\n",
        "from sklearn.metrics.pairwise import cosine_similarity\n",
        "\n",
        "# Load the feature vectors if you're running this in a separate session\n",
        "train_features_path = os.path.join(output_dir, 'densenet121_train.pkl')\n",
        "test_features_path = os.path.join(output_dir, 'densenet121_test.pkl')\n",
        "\n",
        "with open(train_features_path, 'rb') as f:\n",
        "    densenet_vecs = pickle.load(f)\n",
        "\n",
        "with open(test_features_path, 'rb') as f:\n",
        "    test_densenet_vecs = pickle.load(f)\n",
        "\n",
        "print(f\"Loaded {len(densenet_vecs)} train features and {len(test_densenet_vecs)} test features\")\n",
        "\n",
        "# Convert train features to numpy array for faster processing\n",
        "train_dicom_ids = list(densenet_vecs.keys())\n",
        "train_features = np.array([densenet_vecs[dicom_id] for dicom_id in train_dicom_ids])\n",
        "\n",
        "# Find top 100 nearest neighbors for each test image\n",
        "top100_neighbors = {}\n",
        "\n",
        "for test_dicom, test_features in tqdm.tqdm(test_densenet_vecs.items(), desc=\"Finding neighbors\"):\n",
        "    # Reshape test features for cosine similarity\n",
        "    test_features_reshaped = test_features.reshape(1, -1)\n",
        "\n",
        "    # Compute similarity to all training images\n",
        "    similarities = cosine_similarity(test_features_reshaped, train_features)[0]\n",
        "\n",
        "    # Get indices of top 100 most similar images\n",
        "    top_indices = similarities.argsort()[-100:][::-1]\n",
        "\n",
        "    # Get the corresponding dicom IDs\n",
        "    top_dicom_ids = [train_dicom_ids[i] for i in top_indices]\n",
        "\n",
        "    # Store in our neighbors dictionary\n",
        "    top100_neighbors[test_dicom] = top_dicom_ids\n",
        "\n",
        "# Save the neighbors\n",
        "neighbors_path = os.path.join(output_dir, 'top100_neighbors.pkl')\n",
        "with open(neighbors_path, 'wb') as f:\n",
        "    pickle.dump(top100_neighbors, f)\n",
        "\n",
        "print(f\"Saved top 100 neighbors for {len(top100_neighbors)} test images\")"
      ],
      "metadata": {
        "colab": {
          "base_uri": "https://localhost:8080/"
        },
        "id": "Wuyg5CirFaps",
        "outputId": "b0b51196-8fe0-4654-a062-971ada23c3f9"
      },
      "execution_count": 3,
      "outputs": [
        {
          "output_type": "stream",
          "name": "stdout",
          "text": [
            "Loaded 2235 train features and 868 test features\n"
          ]
        },
        {
          "output_type": "stream",
          "name": "stderr",
          "text": [
            "Finding neighbors: 100%|██████████| 868/868 [00:24<00:00, 34.73it/s]\n"
          ]
        },
        {
          "output_type": "stream",
          "name": "stdout",
          "text": [
            "Saved top 100 neighbors for 868 test images\n"
          ]
        }
      ]
    }
  ]
}