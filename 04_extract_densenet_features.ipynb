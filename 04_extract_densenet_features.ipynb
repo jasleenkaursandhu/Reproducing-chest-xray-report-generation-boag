{
 "nbformat": 4,
 "nbformat_minor": 0,
 "metadata": {
  "colab": {
   "provenance": [],
   "authorship_tag": "ABX9TyPVAsxtMuMG2+bcdnf4Q4ZG",
   "include_colab_link": true
  },
  "kernelspec": {
   "name": "python3",
   "display_name": "Python 3 (ipykernel)",
   "language": "python"
  },
  "language_info": {
   "name": "python"
  }
 },
 "cells": [
  {
   "cell_type": "markdown",
   "metadata": {
    "id": "view-in-github",
    "colab_type": "text"
   },
   "source": [
    "<a href=\"https://colab.research.google.com/github/jasleenkaursandhu/Reproducing-chest-xray-report-generation-boag/blob/main/extract_densenet_features.ipynb\" target=\"_parent\"><img src=\"https://colab.research.google.com/assets/colab-badge.svg\" alt=\"Open In Colab\"/></a>"
   ]
  },
  {
   "metadata": {
    "ExecuteTime": {
     "end_time": "2025-04-25T16:57:52.869545Z",
     "start_time": "2025-04-25T16:45:22.778487Z"
    }
   },
   "cell_type": "code",
   "source": [
    "# Feature Extraction for k-NN Chest X-ray Report Generation\n",
    "# Based on the Boag et al. paper \"Baselines for Chest X-Ray Report Generation\"\n",
    "# This notebook extracts DenseNet121 features from chest X-ray images\n",
    "\n",
    "import numpy as np\n",
    "import pandas as pd\n",
    "import os\n",
    "import pydicom\n",
    "import tensorflow as tf\n",
    "from tensorflow.keras.applications.densenet import DenseNet121, preprocess_input\n",
    "from PIL import Image\n",
    "import tqdm\n",
    "import pickle\n",
    "import gc\n",
    "from sklearn.metrics.pairwise import cosine_similarity\n",
    "\n",
    "# Temporarily disable certificate verification (Not recommended for production)\n",
    "import ssl\n",
    "os.environ['PYTHONHTTPSVERIFY'] = '0'\n",
    "ssl._create_default_https_context = ssl._create_unverified_context\n",
    "\n",
    "# Define paths\n",
    "base_path = '/Users/simeon/Documents/DLH/content/mimic-cxr-project'\n",
    "data_dir = os.path.join(base_path, 'data')\n",
    "files_path = os.path.join(base_path, 'new_files')\n",
    "output_dir = os.path.join(base_path, 'output')\n",
    "features_dir = os.path.join(base_path, 'features')\n",
    "\n",
    "# Create output directories if they don't exist\n",
    "os.makedirs(output_dir, exist_ok=True)\n",
    "os.makedirs(features_dir, exist_ok=True)\n",
    "\n",
    "# Load train and test data\n",
    "train_df = pd.read_csv(os.path.join(data_dir, 'train.tsv'), sep='\\t')\n",
    "test_df = pd.read_csv(os.path.join(data_dir, 'test.tsv'), sep='\\t')\n",
    "\n",
    "print(f\"Train data shape: {train_df.shape}\")\n",
    "print(f\"Test data shape: {test_df.shape}\")\n",
    "\n",
    "# Load pre-trained DenseNet121 model\n",
    "# Per the paper: \"We use a DenseNet121 to extract features of size 8 × 8 × 1024,\n",
    "# which are then globally mean-pooled to a final, 1024-dimensional representation\"\n",
    "model = DenseNet121(weights='imagenet', include_top=False, pooling='avg')\n",
    "print(\"Loaded DenseNet121 model with global average pooling\")\n",
    "\n",
    "# Function to extract features from a DICOM image\n",
    "def extract_features(dicom_path):\n",
    "    try:\n",
    "        # Read the DICOM file\n",
    "        ds = pydicom.dcmread(dicom_path)\n",
    "\n",
    "        # Convert to image format\n",
    "        pixel_array = ds.pixel_array\n",
    "\n",
    "        # Normalize pixel values\n",
    "        pixel_array = pixel_array / np.max(pixel_array)\n",
    "\n",
    "        # Convert to uint8\n",
    "        img = np.uint8(pixel_array * 255)\n",
    "\n",
    "        # Convert to RGB (DenseNet expects 3 channels)\n",
    "        if len(img.shape) == 2:\n",
    "            # Grayscale to RGB\n",
    "            img_rgb = np.stack([img, img, img], axis=2)\n",
    "        elif img.shape[2] == 1:\n",
    "            # Single channel to RGB\n",
    "            img_rgb = np.concatenate([img, img, img], axis=2)\n",
    "        else:\n",
    "            img_rgb = img\n",
    "\n",
    "        # Resize to 224x224 (expected by DenseNet)\n",
    "        pil_img = Image.fromarray(img_rgb)\n",
    "        pil_img = pil_img.resize((224, 224))\n",
    "\n",
    "        # Convert to numpy array and preprocess\n",
    "        img_array = np.array(pil_img)\n",
    "        img_array = preprocess_input(img_array)\n",
    "\n",
    "        # Add batch dimension\n",
    "        img_array = np.expand_dims(img_array, axis=0)\n",
    "\n",
    "        # Extract features\n",
    "        features = model.predict(img_array, verbose=0)\n",
    "\n",
    "        return features.flatten()\n",
    "    except Exception as e:\n",
    "        print(f\"Error processing {dicom_path}: {e}\")\n",
    "        return None\n",
    "\n",
    "# Process train images in batches to avoid memory issues\n",
    "batch_size = 50\n",
    "densenet_vecs = {}\n",
    "\n",
    "# Process train images\n",
    "for idx, row in tqdm.tqdm(train_df.iterrows(), total=len(train_df), desc=\"Processing train images\"):\n",
    "    if idx % batch_size == 0:\n",
    "        print(f\"Processed {idx}/{len(train_df)} train images\")\n",
    "\n",
    "    dicom_id = row['dicom_id']\n",
    "    subject_id = row['subject_id']\n",
    "    study_id = row['study_id']\n",
    "\n",
    "    # Construct path to the DICOM file\n",
    "    subject_prefix = f\"p{str(subject_id)[:2]}\"\n",
    "    subject_dir = f\"p{subject_id}\"\n",
    "    study_dir = f\"s{study_id}\"\n",
    "    dicom_file = f\"{dicom_id}.dcm\"\n",
    "    dicom_path = os.path.join(files_path, subject_prefix, subject_dir, study_dir, dicom_file)\n",
    "\n",
    "    if os.path.exists(dicom_path):\n",
    "        features = extract_features(dicom_path)\n",
    "        if features is not None:\n",
    "            densenet_vecs[dicom_id] = features\n",
    "\n",
    "    # Save intermediate results\n",
    "    if (idx + 1) % 500 == 0 or idx == len(train_df) - 1:\n",
    "        print(f\"Saving intermediate results: {len(densenet_vecs)} vectors\")\n",
    "        with open(os.path.join(features_dir, 'densenet121_train.pkl'), 'wb') as f:\n",
    "            pickle.dump(densenet_vecs, f)\n",
    "\n",
    "    # Clean up memory\n",
    "    if idx % 100 == 0:\n",
    "        gc.collect()\n",
    "\n",
    "# Save the final vectors\n",
    "with open(os.path.join(features_dir, 'densenet121_train.pkl'), 'wb') as f:\n",
    "    pickle.dump(densenet_vecs, f)\n",
    "\n",
    "# Also save as numpy arrays for easier processing\n",
    "train_dicom_ids = list(densenet_vecs.keys())\n",
    "train_features = np.array([densenet_vecs[dicom_id] for dicom_id in train_dicom_ids])\n",
    "\n",
    "np.save(os.path.join(features_dir, 'train_dicom_ids.npy'), np.array(train_dicom_ids))\n",
    "np.save(os.path.join(features_dir, 'train_densenet_features.npy'), train_features)\n",
    "\n",
    "print(f\"Saved DenseNet features for {len(densenet_vecs)} train images\")\n",
    "\n",
    "# Process test images\n",
    "test_densenet_vecs = {}\n",
    "\n",
    "for idx, row in tqdm.tqdm(test_df.iterrows(), total=len(test_df), desc=\"Processing test images\"):\n",
    "    if idx % batch_size == 0:\n",
    "        print(f\"Processed {idx}/{len(test_df)} test images\")\n",
    "\n",
    "    dicom_id = row['dicom_id']\n",
    "    subject_id = row['subject_id']\n",
    "    study_id = row['study_id']\n",
    "\n",
    "    # Construct path to the DICOM file\n",
    "    subject_prefix = f\"p{str(subject_id)[:2]}\"\n",
    "    subject_dir = f\"p{subject_id}\"\n",
    "    study_dir = f\"s{study_id}\"\n",
    "    dicom_file = f\"{dicom_id}.dcm\"\n",
    "    dicom_path = os.path.join(files_path, subject_prefix, subject_dir, study_dir, dicom_file)\n",
    "\n",
    "    if os.path.exists(dicom_path):\n",
    "        features = extract_features(dicom_path)\n",
    "        if features is not None:\n",
    "            test_densenet_vecs[dicom_id] = features\n",
    "\n",
    "    # Save intermediate results\n",
    "    if (idx + 1) % 100 == 0 or idx == len(test_df) - 1:\n",
    "        print(f\"Saving intermediate results: {len(test_densenet_vecs)} vectors\")\n",
    "        with open(os.path.join(features_dir, 'densenet121_test.pkl'), 'wb') as f:\n",
    "            pickle.dump(test_densenet_vecs, f)\n",
    "\n",
    "    # Clean up memory\n",
    "    if idx % 50 == 0:\n",
    "        gc.collect()\n",
    "\n",
    "# Save the test vectors\n",
    "with open(os.path.join(features_dir, 'densenet121_test.pkl'), 'wb') as f:\n",
    "    pickle.dump(test_densenet_vecs, f)\n",
    "\n",
    "# Also save as numpy arrays for easier processing\n",
    "test_dicom_ids = list(test_densenet_vecs.keys())\n",
    "test_features = np.array([test_densenet_vecs[dicom_id] for dicom_id in test_dicom_ids])\n",
    "\n",
    "np.save(os.path.join(features_dir, 'test_dicom_ids.npy'), np.array(test_dicom_ids))\n",
    "np.save(os.path.join(features_dir, 'test_densenet_features.npy'), test_features)\n",
    "\n",
    "print(f\"Saved DenseNet features for {len(test_densenet_vecs)} test images\")\n",
    "\n",
    "# Modified section: Find k-NN for multiple values of k (1, 50, 100, 200)\n",
    "print(\"Finding k-NN (nearest neighbors) for each test image with k=1, 50, 100, 200...\")\n",
    "\n",
    "# Convert feature dictionaries to arrays for faster processing\n",
    "train_dicom_ids = list(densenet_vecs.keys())\n",
    "train_features = np.array([densenet_vecs[dicom_id] for dicom_id in train_dicom_ids])\n",
    "\n",
    "# Define the k values we want to compute\n",
    "k_values = [1, 50, 100, 200]\n",
    "max_k = max(k_values)  # We'll compute up to the maximum k and then subset\n",
    "\n",
    "# Find k-NN for each test image and for each k\n",
    "knn_neighbors = {k: {} for k in k_values}\n",
    "\n",
    "for test_dicom, test_feature in tqdm.tqdm(test_densenet_vecs.items(), desc=\"Finding k-NN\"):\n",
    "    # Reshape test features for cosine similarity\n",
    "    test_feature_reshaped = test_feature.reshape(1, -1)\n",
    "\n",
    "    # Compute similarity to all training images\n",
    "    similarities = cosine_similarity(test_feature_reshaped, train_features)[0]\n",
    "\n",
    "    # Get indices of the most similar images (for the maximum k)\n",
    "    top_indices = similarities.argsort()[-max_k:][::-1]\n",
    "\n",
    "    # Get the corresponding dicom IDs\n",
    "    nearest_neighbors = [train_dicom_ids[idx] for idx in top_indices]\n",
    "\n",
    "    # Store in our neighbors dictionary for each k value\n",
    "    for k in k_values:\n",
    "        knn_neighbors[k][test_dicom] = nearest_neighbors[:k]\n",
    "\n",
    "# Save the k-NN neighbors for each k\n",
    "for k in k_values:\n",
    "    neighbors_path = os.path.join(output_dir, f'{k}nn_neighbors.pkl')\n",
    "    with open(neighbors_path, 'wb') as f:\n",
    "        pickle.dump(knn_neighbors[k], f)\n",
    "    print(f\"Saved {k}-NN neighbors for {len(knn_neighbors[k])} test images\")"
   ],
   "outputs": [
    {
     "name": "stdout",
     "output_type": "stream",
     "text": [
      "Train data shape: (4291, 3)\n",
      "Test data shape: (1757, 3)\n",
      "Loaded DenseNet121 model with global average pooling\n"
     ]
    },
    {
     "name": "stderr",
     "output_type": "stream",
     "text": [
      "Processing train images:   0%|          | 0/4291 [00:00<?, ?it/s]"
     ]
    },
    {
     "name": "stdout",
     "output_type": "stream",
     "text": [
      "Processed 0/4291 train images\n"
     ]
    },
    {
     "name": "stderr",
     "output_type": "stream",
     "text": [
      "Processing train images:   1%|          | 51/4291 [00:09<08:13,  8.59it/s] "
     ]
    },
    {
     "name": "stdout",
     "output_type": "stream",
     "text": [
      "Processed 50/4291 train images\n"
     ]
    },
    {
     "name": "stderr",
     "output_type": "stream",
     "text": [
      "Processing train images:   2%|▏         | 100/4291 [00:15<08:27,  8.25it/s]"
     ]
    },
    {
     "name": "stdout",
     "output_type": "stream",
     "text": [
      "Processed 100/4291 train images\n"
     ]
    },
    {
     "name": "stderr",
     "output_type": "stream",
     "text": [
      "Processing train images:   4%|▎         | 151/4291 [00:21<08:07,  8.49it/s]"
     ]
    },
    {
     "name": "stdout",
     "output_type": "stream",
     "text": [
      "Processed 150/4291 train images\n"
     ]
    },
    {
     "name": "stderr",
     "output_type": "stream",
     "text": [
      "Processing train images:   5%|▍         | 201/4291 [00:26<08:46,  7.78it/s]"
     ]
    },
    {
     "name": "stdout",
     "output_type": "stream",
     "text": [
      "Processed 200/4291 train images\n"
     ]
    },
    {
     "name": "stderr",
     "output_type": "stream",
     "text": [
      "Processing train images:   6%|▌         | 251/4291 [00:33<07:42,  8.73it/s]"
     ]
    },
    {
     "name": "stdout",
     "output_type": "stream",
     "text": [
      "Processed 250/4291 train images\n"
     ]
    },
    {
     "name": "stderr",
     "output_type": "stream",
     "text": [
      "Processing train images:   7%|▋         | 300/4291 [00:39<07:42,  8.63it/s]"
     ]
    },
    {
     "name": "stdout",
     "output_type": "stream",
     "text": [
      "Processed 300/4291 train images\n"
     ]
    },
    {
     "name": "stderr",
     "output_type": "stream",
     "text": [
      "Processing train images:   8%|▊         | 351/4291 [00:45<07:14,  9.08it/s]"
     ]
    },
    {
     "name": "stdout",
     "output_type": "stream",
     "text": [
      "Processed 350/4291 train images\n"
     ]
    },
    {
     "name": "stderr",
     "output_type": "stream",
     "text": [
      "Processing train images:   9%|▉         | 401/4291 [00:51<08:39,  7.49it/s]"
     ]
    },
    {
     "name": "stdout",
     "output_type": "stream",
     "text": [
      "Processed 400/4291 train images\n"
     ]
    },
    {
     "name": "stderr",
     "output_type": "stream",
     "text": [
      "Processing train images:  11%|█         | 451/4291 [00:57<07:18,  8.75it/s]"
     ]
    },
    {
     "name": "stdout",
     "output_type": "stream",
     "text": [
      "Processed 450/4291 train images\n"
     ]
    },
    {
     "name": "stderr",
     "output_type": "stream",
     "text": [
      "Processing train images:  12%|█▏        | 500/4291 [01:03<07:43,  8.18it/s]"
     ]
    },
    {
     "name": "stdout",
     "output_type": "stream",
     "text": [
      "Saving intermediate results: 500 vectors\n",
      "Processed 500/4291 train images\n"
     ]
    },
    {
     "name": "stderr",
     "output_type": "stream",
     "text": [
      "Processing train images:  13%|█▎        | 551/4291 [01:09<07:27,  8.36it/s]"
     ]
    },
    {
     "name": "stdout",
     "output_type": "stream",
     "text": [
      "Processed 550/4291 train images\n"
     ]
    },
    {
     "name": "stderr",
     "output_type": "stream",
     "text": [
      "Processing train images:  14%|█▍        | 601/4291 [01:15<08:51,  6.95it/s]"
     ]
    },
    {
     "name": "stdout",
     "output_type": "stream",
     "text": [
      "Processed 600/4291 train images\n"
     ]
    },
    {
     "name": "stderr",
     "output_type": "stream",
     "text": [
      "Processing train images:  15%|█▌        | 651/4291 [01:21<07:11,  8.43it/s]"
     ]
    },
    {
     "name": "stdout",
     "output_type": "stream",
     "text": [
      "Processed 650/4291 train images\n"
     ]
    },
    {
     "name": "stderr",
     "output_type": "stream",
     "text": [
      "Processing train images:  16%|█▋        | 701/4291 [01:27<08:36,  6.95it/s]"
     ]
    },
    {
     "name": "stdout",
     "output_type": "stream",
     "text": [
      "Processed 700/4291 train images\n"
     ]
    },
    {
     "name": "stderr",
     "output_type": "stream",
     "text": [
      "Processing train images:  18%|█▊        | 751/4291 [01:33<07:04,  8.35it/s]"
     ]
    },
    {
     "name": "stdout",
     "output_type": "stream",
     "text": [
      "Processed 750/4291 train images\n"
     ]
    },
    {
     "name": "stderr",
     "output_type": "stream",
     "text": [
      "Processing train images:  19%|█▊        | 801/4291 [01:39<08:10,  7.11it/s]"
     ]
    },
    {
     "name": "stdout",
     "output_type": "stream",
     "text": [
      "Processed 800/4291 train images\n"
     ]
    },
    {
     "name": "stderr",
     "output_type": "stream",
     "text": [
      "Processing train images:  20%|█▉        | 851/4291 [01:45<06:32,  8.77it/s]"
     ]
    },
    {
     "name": "stdout",
     "output_type": "stream",
     "text": [
      "Processed 850/4291 train images\n"
     ]
    },
    {
     "name": "stderr",
     "output_type": "stream",
     "text": [
      "Processing train images:  21%|██        | 901/4291 [01:51<07:58,  7.09it/s]"
     ]
    },
    {
     "name": "stdout",
     "output_type": "stream",
     "text": [
      "Processed 900/4291 train images\n"
     ]
    },
    {
     "name": "stderr",
     "output_type": "stream",
     "text": [
      "Processing train images:  22%|██▏       | 951/4291 [01:57<06:56,  8.02it/s]"
     ]
    },
    {
     "name": "stdout",
     "output_type": "stream",
     "text": [
      "Processed 950/4291 train images\n"
     ]
    },
    {
     "name": "stderr",
     "output_type": "stream",
     "text": [
      "Processing train images:  23%|██▎       | 1001/4291 [02:02<07:36,  7.21it/s]"
     ]
    },
    {
     "name": "stdout",
     "output_type": "stream",
     "text": [
      "Saving intermediate results: 1000 vectors\n",
      "Processed 1000/4291 train images\n"
     ]
    },
    {
     "name": "stderr",
     "output_type": "stream",
     "text": [
      "Processing train images:  24%|██▍       | 1051/4291 [02:08<05:59,  9.01it/s]"
     ]
    },
    {
     "name": "stdout",
     "output_type": "stream",
     "text": [
      "Processed 1050/4291 train images\n"
     ]
    },
    {
     "name": "stderr",
     "output_type": "stream",
     "text": [
      "Processing train images:  26%|██▌       | 1101/4291 [02:14<07:53,  6.73it/s]"
     ]
    },
    {
     "name": "stdout",
     "output_type": "stream",
     "text": [
      "Processed 1100/4291 train images\n"
     ]
    },
    {
     "name": "stderr",
     "output_type": "stream",
     "text": [
      "Processing train images:  27%|██▋       | 1151/4291 [02:20<05:59,  8.73it/s]"
     ]
    },
    {
     "name": "stdout",
     "output_type": "stream",
     "text": [
      "Processed 1150/4291 train images\n"
     ]
    },
    {
     "name": "stderr",
     "output_type": "stream",
     "text": [
      "Processing train images:  28%|██▊       | 1201/4291 [02:26<07:11,  7.17it/s]"
     ]
    },
    {
     "name": "stdout",
     "output_type": "stream",
     "text": [
      "Processed 1200/4291 train images\n"
     ]
    },
    {
     "name": "stderr",
     "output_type": "stream",
     "text": [
      "Processing train images:  29%|██▉       | 1251/4291 [02:32<06:03,  8.37it/s]"
     ]
    },
    {
     "name": "stdout",
     "output_type": "stream",
     "text": [
      "Processed 1250/4291 train images\n"
     ]
    },
    {
     "name": "stderr",
     "output_type": "stream",
     "text": [
      "Processing train images:  30%|███       | 1301/4291 [02:38<07:14,  6.88it/s]"
     ]
    },
    {
     "name": "stdout",
     "output_type": "stream",
     "text": [
      "Processed 1300/4291 train images\n"
     ]
    },
    {
     "name": "stderr",
     "output_type": "stream",
     "text": [
      "Processing train images:  31%|███▏      | 1351/4291 [02:44<06:11,  7.92it/s]"
     ]
    },
    {
     "name": "stdout",
     "output_type": "stream",
     "text": [
      "Processed 1350/4291 train images\n"
     ]
    },
    {
     "name": "stderr",
     "output_type": "stream",
     "text": [
      "Processing train images:  33%|███▎      | 1401/4291 [02:50<06:52,  7.00it/s]"
     ]
    },
    {
     "name": "stdout",
     "output_type": "stream",
     "text": [
      "Processed 1400/4291 train images\n"
     ]
    },
    {
     "name": "stderr",
     "output_type": "stream",
     "text": [
      "Processing train images:  34%|███▍      | 1451/4291 [02:56<05:52,  8.05it/s]"
     ]
    },
    {
     "name": "stdout",
     "output_type": "stream",
     "text": [
      "Processed 1450/4291 train images\n"
     ]
    },
    {
     "name": "stderr",
     "output_type": "stream",
     "text": [
      "Processing train images:  35%|███▍      | 1500/4291 [03:02<05:48,  8.02it/s]"
     ]
    },
    {
     "name": "stdout",
     "output_type": "stream",
     "text": [
      "Saving intermediate results: 1500 vectors\n",
      "Processed 1500/4291 train images\n"
     ]
    },
    {
     "name": "stderr",
     "output_type": "stream",
     "text": [
      "Processing train images:  36%|███▌      | 1551/4291 [03:09<05:38,  8.10it/s]"
     ]
    },
    {
     "name": "stdout",
     "output_type": "stream",
     "text": [
      "Processed 1550/4291 train images\n"
     ]
    },
    {
     "name": "stderr",
     "output_type": "stream",
     "text": [
      "Processing train images:  37%|███▋      | 1600/4291 [03:15<05:23,  8.32it/s]"
     ]
    },
    {
     "name": "stdout",
     "output_type": "stream",
     "text": [
      "Processed 1600/4291 train images\n"
     ]
    },
    {
     "name": "stderr",
     "output_type": "stream",
     "text": [
      "Processing train images:  38%|███▊      | 1651/4291 [03:21<05:07,  8.57it/s]"
     ]
    },
    {
     "name": "stdout",
     "output_type": "stream",
     "text": [
      "Processed 1650/4291 train images\n"
     ]
    },
    {
     "name": "stderr",
     "output_type": "stream",
     "text": [
      "Processing train images:  40%|███▉      | 1701/4291 [03:27<05:43,  7.55it/s]"
     ]
    },
    {
     "name": "stdout",
     "output_type": "stream",
     "text": [
      "Processed 1700/4291 train images\n"
     ]
    },
    {
     "name": "stderr",
     "output_type": "stream",
     "text": [
      "Processing train images:  41%|████      | 1751/4291 [03:32<04:43,  8.95it/s]"
     ]
    },
    {
     "name": "stdout",
     "output_type": "stream",
     "text": [
      "Processed 1750/4291 train images\n"
     ]
    },
    {
     "name": "stderr",
     "output_type": "stream",
     "text": [
      "Processing train images:  42%|████▏     | 1801/4291 [03:38<05:41,  7.29it/s]"
     ]
    },
    {
     "name": "stdout",
     "output_type": "stream",
     "text": [
      "Processed 1800/4291 train images\n"
     ]
    },
    {
     "name": "stderr",
     "output_type": "stream",
     "text": [
      "Processing train images:  43%|████▎     | 1851/4291 [03:44<04:44,  8.57it/s]"
     ]
    },
    {
     "name": "stdout",
     "output_type": "stream",
     "text": [
      "Processed 1850/4291 train images\n"
     ]
    },
    {
     "name": "stderr",
     "output_type": "stream",
     "text": [
      "Processing train images:  44%|████▍     | 1901/4291 [03:50<05:31,  7.20it/s]"
     ]
    },
    {
     "name": "stdout",
     "output_type": "stream",
     "text": [
      "Processed 1900/4291 train images\n"
     ]
    },
    {
     "name": "stderr",
     "output_type": "stream",
     "text": [
      "Processing train images:  45%|████▌     | 1951/4291 [03:56<04:21,  8.95it/s]"
     ]
    },
    {
     "name": "stdout",
     "output_type": "stream",
     "text": [
      "Processed 1950/4291 train images\n"
     ]
    },
    {
     "name": "stderr",
     "output_type": "stream",
     "text": [
      "Processing train images:  47%|████▋     | 2000/4291 [04:01<04:30,  8.46it/s]"
     ]
    },
    {
     "name": "stdout",
     "output_type": "stream",
     "text": [
      "Saving intermediate results: 2000 vectors\n",
      "Processed 2000/4291 train images\n"
     ]
    },
    {
     "name": "stderr",
     "output_type": "stream",
     "text": [
      "Processing train images:  48%|████▊     | 2051/4291 [04:07<04:18,  8.68it/s]"
     ]
    },
    {
     "name": "stdout",
     "output_type": "stream",
     "text": [
      "Processed 2050/4291 train images\n"
     ]
    },
    {
     "name": "stderr",
     "output_type": "stream",
     "text": [
      "Processing train images:  49%|████▉     | 2101/4291 [04:13<05:02,  7.25it/s]"
     ]
    },
    {
     "name": "stdout",
     "output_type": "stream",
     "text": [
      "Processed 2100/4291 train images\n"
     ]
    },
    {
     "name": "stderr",
     "output_type": "stream",
     "text": [
      "Processing train images:  50%|█████     | 2151/4291 [04:19<04:08,  8.63it/s]"
     ]
    },
    {
     "name": "stdout",
     "output_type": "stream",
     "text": [
      "Processed 2150/4291 train images\n"
     ]
    },
    {
     "name": "stderr",
     "output_type": "stream",
     "text": [
      "Processing train images:  51%|█████▏    | 2201/4291 [04:24<04:40,  7.45it/s]"
     ]
    },
    {
     "name": "stdout",
     "output_type": "stream",
     "text": [
      "Processed 2200/4291 train images\n"
     ]
    },
    {
     "name": "stderr",
     "output_type": "stream",
     "text": [
      "Processing train images:  52%|█████▏    | 2251/4291 [04:30<03:48,  8.94it/s]"
     ]
    },
    {
     "name": "stdout",
     "output_type": "stream",
     "text": [
      "Processed 2250/4291 train images\n"
     ]
    },
    {
     "name": "stderr",
     "output_type": "stream",
     "text": [
      "Processing train images:  54%|█████▎    | 2301/4291 [04:36<04:27,  7.43it/s]"
     ]
    },
    {
     "name": "stdout",
     "output_type": "stream",
     "text": [
      "Processed 2300/4291 train images\n"
     ]
    },
    {
     "name": "stderr",
     "output_type": "stream",
     "text": [
      "Processing train images:  55%|█████▍    | 2351/4291 [04:42<04:00,  8.06it/s]"
     ]
    },
    {
     "name": "stdout",
     "output_type": "stream",
     "text": [
      "Processed 2350/4291 train images\n"
     ]
    },
    {
     "name": "stderr",
     "output_type": "stream",
     "text": [
      "Processing train images:  56%|█████▌    | 2400/4291 [04:47<03:34,  8.82it/s]"
     ]
    },
    {
     "name": "stdout",
     "output_type": "stream",
     "text": [
      "Processed 2400/4291 train images\n"
     ]
    },
    {
     "name": "stderr",
     "output_type": "stream",
     "text": [
      "Processing train images:  57%|█████▋    | 2451/4291 [04:53<03:44,  8.18it/s]"
     ]
    },
    {
     "name": "stdout",
     "output_type": "stream",
     "text": [
      "Processed 2450/4291 train images\n"
     ]
    },
    {
     "name": "stderr",
     "output_type": "stream",
     "text": [
      "Processing train images:  58%|█████▊    | 2500/4291 [05:00<04:00,  7.44it/s]"
     ]
    },
    {
     "name": "stdout",
     "output_type": "stream",
     "text": [
      "Saving intermediate results: 2500 vectors\n",
      "Processed 2500/4291 train images\n"
     ]
    },
    {
     "name": "stderr",
     "output_type": "stream",
     "text": [
      "Processing train images:  59%|█████▉    | 2551/4291 [05:06<03:21,  8.63it/s]"
     ]
    },
    {
     "name": "stdout",
     "output_type": "stream",
     "text": [
      "Processed 2550/4291 train images\n"
     ]
    },
    {
     "name": "stderr",
     "output_type": "stream",
     "text": [
      "Processing train images:  61%|██████    | 2600/4291 [05:12<03:19,  8.46it/s]"
     ]
    },
    {
     "name": "stdout",
     "output_type": "stream",
     "text": [
      "Processed 2600/4291 train images\n"
     ]
    },
    {
     "name": "stderr",
     "output_type": "stream",
     "text": [
      "Processing train images:  62%|██████▏   | 2651/4291 [05:18<03:09,  8.66it/s]"
     ]
    },
    {
     "name": "stdout",
     "output_type": "stream",
     "text": [
      "Processed 2650/4291 train images\n"
     ]
    },
    {
     "name": "stderr",
     "output_type": "stream",
     "text": [
      "Processing train images:  63%|██████▎   | 2701/4291 [05:24<03:49,  6.92it/s]"
     ]
    },
    {
     "name": "stdout",
     "output_type": "stream",
     "text": [
      "Processed 2700/4291 train images\n"
     ]
    },
    {
     "name": "stderr",
     "output_type": "stream",
     "text": [
      "Processing train images:  64%|██████▍   | 2751/4291 [05:30<03:05,  8.31it/s]"
     ]
    },
    {
     "name": "stdout",
     "output_type": "stream",
     "text": [
      "Processed 2750/4291 train images\n"
     ]
    },
    {
     "name": "stderr",
     "output_type": "stream",
     "text": [
      "Processing train images:  65%|██████▌   | 2800/4291 [05:36<03:12,  7.75it/s]"
     ]
    },
    {
     "name": "stdout",
     "output_type": "stream",
     "text": [
      "Processed 2800/4291 train images\n"
     ]
    },
    {
     "name": "stderr",
     "output_type": "stream",
     "text": [
      "Processing train images:  66%|██████▋   | 2851/4291 [05:42<02:47,  8.60it/s]"
     ]
    },
    {
     "name": "stdout",
     "output_type": "stream",
     "text": [
      "Processed 2850/4291 train images\n"
     ]
    },
    {
     "name": "stderr",
     "output_type": "stream",
     "text": [
      "Processing train images:  68%|██████▊   | 2901/4291 [05:48<03:03,  7.56it/s]"
     ]
    },
    {
     "name": "stdout",
     "output_type": "stream",
     "text": [
      "Processed 2900/4291 train images\n"
     ]
    },
    {
     "name": "stderr",
     "output_type": "stream",
     "text": [
      "Processing train images:  69%|██████▉   | 2951/4291 [05:53<02:31,  8.85it/s]"
     ]
    },
    {
     "name": "stdout",
     "output_type": "stream",
     "text": [
      "Processed 2950/4291 train images\n"
     ]
    },
    {
     "name": "stderr",
     "output_type": "stream",
     "text": [
      "Processing train images:  70%|██████▉   | 3000/4291 [05:59<02:48,  7.65it/s]"
     ]
    },
    {
     "name": "stdout",
     "output_type": "stream",
     "text": [
      "Saving intermediate results: 3000 vectors\n",
      "Processed 3000/4291 train images\n"
     ]
    },
    {
     "name": "stderr",
     "output_type": "stream",
     "text": [
      "Processing train images:  71%|███████   | 3051/4291 [06:05<02:22,  8.68it/s]"
     ]
    },
    {
     "name": "stdout",
     "output_type": "stream",
     "text": [
      "Processed 3050/4291 train images\n"
     ]
    },
    {
     "name": "stderr",
     "output_type": "stream",
     "text": [
      "Processing train images:  72%|███████▏  | 3101/4291 [06:11<02:45,  7.19it/s]"
     ]
    },
    {
     "name": "stdout",
     "output_type": "stream",
     "text": [
      "Processed 3100/4291 train images\n"
     ]
    },
    {
     "name": "stderr",
     "output_type": "stream",
     "text": [
      "Processing train images:  73%|███████▎  | 3151/4291 [06:17<02:17,  8.26it/s]"
     ]
    },
    {
     "name": "stdout",
     "output_type": "stream",
     "text": [
      "Processed 3150/4291 train images\n"
     ]
    },
    {
     "name": "stderr",
     "output_type": "stream",
     "text": [
      "Processing train images:  75%|███████▍  | 3201/4291 [06:23<02:33,  7.11it/s]"
     ]
    },
    {
     "name": "stdout",
     "output_type": "stream",
     "text": [
      "Processed 3200/4291 train images\n"
     ]
    },
    {
     "name": "stderr",
     "output_type": "stream",
     "text": [
      "Processing train images:  76%|███████▌  | 3251/4291 [06:28<02:05,  8.29it/s]"
     ]
    },
    {
     "name": "stdout",
     "output_type": "stream",
     "text": [
      "Processed 3250/4291 train images\n"
     ]
    },
    {
     "name": "stderr",
     "output_type": "stream",
     "text": [
      "Processing train images:  77%|███████▋  | 3301/4291 [06:34<02:16,  7.26it/s]"
     ]
    },
    {
     "name": "stdout",
     "output_type": "stream",
     "text": [
      "Processed 3300/4291 train images\n"
     ]
    },
    {
     "name": "stderr",
     "output_type": "stream",
     "text": [
      "Processing train images:  78%|███████▊  | 3351/4291 [06:40<01:56,  8.08it/s]"
     ]
    },
    {
     "name": "stdout",
     "output_type": "stream",
     "text": [
      "Processed 3350/4291 train images\n"
     ]
    },
    {
     "name": "stderr",
     "output_type": "stream",
     "text": [
      "Processing train images:  79%|███████▉  | 3400/4291 [06:47<01:57,  7.59it/s]"
     ]
    },
    {
     "name": "stdout",
     "output_type": "stream",
     "text": [
      "Processed 3400/4291 train images\n"
     ]
    },
    {
     "name": "stderr",
     "output_type": "stream",
     "text": [
      "Processing train images:  80%|████████  | 3451/4291 [06:53<01:45,  7.98it/s]"
     ]
    },
    {
     "name": "stdout",
     "output_type": "stream",
     "text": [
      "Processed 3450/4291 train images\n"
     ]
    },
    {
     "name": "stderr",
     "output_type": "stream",
     "text": [
      "Processing train images:  82%|████████▏ | 3500/4291 [06:59<01:41,  7.78it/s]"
     ]
    },
    {
     "name": "stdout",
     "output_type": "stream",
     "text": [
      "Saving intermediate results: 3500 vectors\n",
      "Processed 3500/4291 train images\n"
     ]
    },
    {
     "name": "stderr",
     "output_type": "stream",
     "text": [
      "Processing train images:  83%|████████▎ | 3551/4291 [07:06<01:33,  7.89it/s]"
     ]
    },
    {
     "name": "stdout",
     "output_type": "stream",
     "text": [
      "Processed 3550/4291 train images\n"
     ]
    },
    {
     "name": "stderr",
     "output_type": "stream",
     "text": [
      "Processing train images:  84%|████████▍ | 3601/4291 [07:12<01:36,  7.15it/s]"
     ]
    },
    {
     "name": "stdout",
     "output_type": "stream",
     "text": [
      "Processed 3600/4291 train images\n"
     ]
    },
    {
     "name": "stderr",
     "output_type": "stream",
     "text": [
      "Processing train images:  85%|████████▌ | 3651/4291 [07:18<01:14,  8.62it/s]"
     ]
    },
    {
     "name": "stdout",
     "output_type": "stream",
     "text": [
      "Processed 3650/4291 train images\n"
     ]
    },
    {
     "name": "stderr",
     "output_type": "stream",
     "text": [
      "Processing train images:  86%|████████▌ | 3700/4291 [07:24<01:10,  8.41it/s]"
     ]
    },
    {
     "name": "stdout",
     "output_type": "stream",
     "text": [
      "Processed 3700/4291 train images\n"
     ]
    },
    {
     "name": "stderr",
     "output_type": "stream",
     "text": [
      "Processing train images:  87%|████████▋ | 3751/4291 [07:30<01:03,  8.53it/s]"
     ]
    },
    {
     "name": "stdout",
     "output_type": "stream",
     "text": [
      "Processed 3750/4291 train images\n"
     ]
    },
    {
     "name": "stderr",
     "output_type": "stream",
     "text": [
      "Processing train images:  89%|████████▊ | 3801/4291 [07:36<01:08,  7.17it/s]"
     ]
    },
    {
     "name": "stdout",
     "output_type": "stream",
     "text": [
      "Processed 3800/4291 train images\n"
     ]
    },
    {
     "name": "stderr",
     "output_type": "stream",
     "text": [
      "Processing train images:  90%|████████▉ | 3851/4291 [07:42<00:53,  8.28it/s]"
     ]
    },
    {
     "name": "stdout",
     "output_type": "stream",
     "text": [
      "Processed 3850/4291 train images\n"
     ]
    },
    {
     "name": "stderr",
     "output_type": "stream",
     "text": [
      "Processing train images:  91%|█████████ | 3901/4291 [07:48<00:55,  7.03it/s]"
     ]
    },
    {
     "name": "stdout",
     "output_type": "stream",
     "text": [
      "Processed 3900/4291 train images\n"
     ]
    },
    {
     "name": "stderr",
     "output_type": "stream",
     "text": [
      "Processing train images:  92%|█████████▏| 3951/4291 [07:54<00:40,  8.41it/s]"
     ]
    },
    {
     "name": "stdout",
     "output_type": "stream",
     "text": [
      "Processed 3950/4291 train images\n"
     ]
    },
    {
     "name": "stderr",
     "output_type": "stream",
     "text": [
      "Processing train images:  93%|█████████▎| 4000/4291 [08:00<00:36,  7.90it/s]"
     ]
    },
    {
     "name": "stdout",
     "output_type": "stream",
     "text": [
      "Saving intermediate results: 4000 vectors\n",
      "Processed 4000/4291 train images\n"
     ]
    },
    {
     "name": "stderr",
     "output_type": "stream",
     "text": [
      "Processing train images:  94%|█████████▍| 4051/4291 [08:06<00:28,  8.53it/s]"
     ]
    },
    {
     "name": "stdout",
     "output_type": "stream",
     "text": [
      "Processed 4050/4291 train images\n"
     ]
    },
    {
     "name": "stderr",
     "output_type": "stream",
     "text": [
      "Processing train images:  96%|█████████▌| 4101/4291 [08:12<00:25,  7.47it/s]"
     ]
    },
    {
     "name": "stdout",
     "output_type": "stream",
     "text": [
      "Processed 4100/4291 train images\n"
     ]
    },
    {
     "name": "stderr",
     "output_type": "stream",
     "text": [
      "Processing train images:  97%|█████████▋| 4151/4291 [08:18<00:16,  8.53it/s]"
     ]
    },
    {
     "name": "stdout",
     "output_type": "stream",
     "text": [
      "Processed 4150/4291 train images\n"
     ]
    },
    {
     "name": "stderr",
     "output_type": "stream",
     "text": [
      "Processing train images:  98%|█████████▊| 4201/4291 [08:23<00:12,  7.07it/s]"
     ]
    },
    {
     "name": "stdout",
     "output_type": "stream",
     "text": [
      "Processed 4200/4291 train images\n"
     ]
    },
    {
     "name": "stderr",
     "output_type": "stream",
     "text": [
      "Processing train images:  99%|█████████▉| 4251/4291 [08:29<00:04,  8.27it/s]"
     ]
    },
    {
     "name": "stdout",
     "output_type": "stream",
     "text": [
      "Processed 4250/4291 train images\n"
     ]
    },
    {
     "name": "stderr",
     "output_type": "stream",
     "text": [
      "Processing train images: 100%|██████████| 4291/4291 [08:34<00:00,  8.34it/s]\n"
     ]
    },
    {
     "name": "stdout",
     "output_type": "stream",
     "text": [
      "Saving intermediate results: 4291 vectors\n",
      "Saved DenseNet features for 4291 train images\n"
     ]
    },
    {
     "name": "stderr",
     "output_type": "stream",
     "text": [
      "Processing test images:   0%|          | 0/1757 [00:00<?, ?it/s]"
     ]
    },
    {
     "name": "stdout",
     "output_type": "stream",
     "text": [
      "Processed 0/1757 test images\n"
     ]
    },
    {
     "name": "stderr",
     "output_type": "stream",
     "text": [
      "Processing test images:   3%|▎         | 50/1757 [00:06<03:33,  8.01it/s]"
     ]
    },
    {
     "name": "stdout",
     "output_type": "stream",
     "text": [
      "Processed 50/1757 test images\n"
     ]
    },
    {
     "name": "stderr",
     "output_type": "stream",
     "text": [
      "Processing test images:   6%|▌         | 100/1757 [00:12<03:34,  7.74it/s]"
     ]
    },
    {
     "name": "stdout",
     "output_type": "stream",
     "text": [
      "Saving intermediate results: 100 vectors\n",
      "Processed 100/1757 test images\n"
     ]
    },
    {
     "name": "stderr",
     "output_type": "stream",
     "text": [
      "Processing test images:   9%|▊         | 151/1757 [00:19<03:47,  7.05it/s]"
     ]
    },
    {
     "name": "stdout",
     "output_type": "stream",
     "text": [
      "Processed 150/1757 test images\n"
     ]
    },
    {
     "name": "stderr",
     "output_type": "stream",
     "text": [
      "Processing test images:  11%|█▏        | 200/1757 [00:25<04:08,  6.26it/s]"
     ]
    },
    {
     "name": "stdout",
     "output_type": "stream",
     "text": [
      "Saving intermediate results: 200 vectors\n",
      "Processed 200/1757 test images\n"
     ]
    },
    {
     "name": "stderr",
     "output_type": "stream",
     "text": [
      "Processing test images:  14%|█▍        | 250/1757 [00:32<03:01,  8.32it/s]"
     ]
    },
    {
     "name": "stdout",
     "output_type": "stream",
     "text": [
      "Processed 250/1757 test images\n"
     ]
    },
    {
     "name": "stderr",
     "output_type": "stream",
     "text": [
      "Processing test images:  17%|█▋        | 301/1757 [00:38<03:24,  7.12it/s]"
     ]
    },
    {
     "name": "stdout",
     "output_type": "stream",
     "text": [
      "Saving intermediate results: 300 vectors\n",
      "Processed 300/1757 test images\n"
     ]
    },
    {
     "name": "stderr",
     "output_type": "stream",
     "text": [
      "Processing test images:  20%|█▉        | 351/1757 [00:44<03:13,  7.26it/s]"
     ]
    },
    {
     "name": "stdout",
     "output_type": "stream",
     "text": [
      "Processed 350/1757 test images\n"
     ]
    },
    {
     "name": "stderr",
     "output_type": "stream",
     "text": [
      "Processing test images:  23%|██▎       | 401/1757 [00:50<03:16,  6.89it/s]"
     ]
    },
    {
     "name": "stdout",
     "output_type": "stream",
     "text": [
      "Saving intermediate results: 400 vectors\n",
      "Processed 400/1757 test images\n"
     ]
    },
    {
     "name": "stderr",
     "output_type": "stream",
     "text": [
      "Processing test images:  26%|██▌       | 451/1757 [00:56<03:12,  6.77it/s]"
     ]
    },
    {
     "name": "stdout",
     "output_type": "stream",
     "text": [
      "Processed 450/1757 test images\n"
     ]
    },
    {
     "name": "stderr",
     "output_type": "stream",
     "text": [
      "Processing test images:  28%|██▊       | 500/1757 [01:02<02:37,  8.00it/s]"
     ]
    },
    {
     "name": "stdout",
     "output_type": "stream",
     "text": [
      "Saving intermediate results: 500 vectors\n",
      "Processed 500/1757 test images\n"
     ]
    },
    {
     "name": "stderr",
     "output_type": "stream",
     "text": [
      "Processing test images:  31%|███▏      | 551/1757 [01:08<02:49,  7.12it/s]"
     ]
    },
    {
     "name": "stdout",
     "output_type": "stream",
     "text": [
      "Processed 550/1757 test images\n"
     ]
    },
    {
     "name": "stderr",
     "output_type": "stream",
     "text": [
      "Processing test images:  34%|███▍      | 600/1757 [01:14<02:17,  8.41it/s]"
     ]
    },
    {
     "name": "stdout",
     "output_type": "stream",
     "text": [
      "Saving intermediate results: 600 vectors\n",
      "Processed 600/1757 test images\n"
     ]
    },
    {
     "name": "stderr",
     "output_type": "stream",
     "text": [
      "Processing test images:  37%|███▋      | 651/1757 [01:20<02:36,  7.07it/s]"
     ]
    },
    {
     "name": "stdout",
     "output_type": "stream",
     "text": [
      "Processed 650/1757 test images\n"
     ]
    },
    {
     "name": "stderr",
     "output_type": "stream",
     "text": [
      "Processing test images:  40%|███▉      | 700/1757 [01:26<02:04,  8.52it/s]"
     ]
    },
    {
     "name": "stdout",
     "output_type": "stream",
     "text": [
      "Saving intermediate results: 700 vectors\n",
      "Processed 700/1757 test images\n"
     ]
    },
    {
     "name": "stderr",
     "output_type": "stream",
     "text": [
      "Processing test images:  43%|████▎     | 751/1757 [01:32<02:23,  7.01it/s]"
     ]
    },
    {
     "name": "stdout",
     "output_type": "stream",
     "text": [
      "Processed 750/1757 test images\n"
     ]
    },
    {
     "name": "stderr",
     "output_type": "stream",
     "text": [
      "Processing test images:  46%|████▌     | 801/1757 [01:38<02:13,  7.17it/s]"
     ]
    },
    {
     "name": "stdout",
     "output_type": "stream",
     "text": [
      "Saving intermediate results: 800 vectors\n",
      "Processed 800/1757 test images\n"
     ]
    },
    {
     "name": "stderr",
     "output_type": "stream",
     "text": [
      "Processing test images:  48%|████▊     | 851/1757 [01:44<02:10,  6.92it/s]"
     ]
    },
    {
     "name": "stdout",
     "output_type": "stream",
     "text": [
      "Processed 850/1757 test images\n"
     ]
    },
    {
     "name": "stderr",
     "output_type": "stream",
     "text": [
      "Processing test images:  51%|█████     | 900/1757 [01:50<01:44,  8.18it/s]"
     ]
    },
    {
     "name": "stdout",
     "output_type": "stream",
     "text": [
      "Saving intermediate results: 900 vectors\n",
      "Processed 900/1757 test images\n"
     ]
    },
    {
     "name": "stderr",
     "output_type": "stream",
     "text": [
      "Processing test images:  54%|█████▍    | 951/1757 [01:57<01:56,  6.90it/s]"
     ]
    },
    {
     "name": "stdout",
     "output_type": "stream",
     "text": [
      "Processed 950/1757 test images\n"
     ]
    },
    {
     "name": "stderr",
     "output_type": "stream",
     "text": [
      "Processing test images:  57%|█████▋    | 1001/1757 [02:02<01:44,  7.24it/s]"
     ]
    },
    {
     "name": "stdout",
     "output_type": "stream",
     "text": [
      "Saving intermediate results: 1000 vectors\n",
      "Processed 1000/1757 test images\n"
     ]
    },
    {
     "name": "stderr",
     "output_type": "stream",
     "text": [
      "Processing test images:  60%|█████▉    | 1051/1757 [02:08<01:40,  7.04it/s]"
     ]
    },
    {
     "name": "stdout",
     "output_type": "stream",
     "text": [
      "Processed 1050/1757 test images\n"
     ]
    },
    {
     "name": "stderr",
     "output_type": "stream",
     "text": [
      "Processing test images:  63%|██████▎   | 1100/1757 [02:14<01:19,  8.29it/s]"
     ]
    },
    {
     "name": "stdout",
     "output_type": "stream",
     "text": [
      "Saving intermediate results: 1100 vectors\n",
      "Processed 1100/1757 test images\n"
     ]
    },
    {
     "name": "stderr",
     "output_type": "stream",
     "text": [
      "Processing test images:  66%|██████▌   | 1151/1757 [02:20<01:26,  6.97it/s]"
     ]
    },
    {
     "name": "stdout",
     "output_type": "stream",
     "text": [
      "Processed 1150/1757 test images\n"
     ]
    },
    {
     "name": "stderr",
     "output_type": "stream",
     "text": [
      "Processing test images:  68%|██████▊   | 1200/1757 [02:26<01:07,  8.27it/s]"
     ]
    },
    {
     "name": "stdout",
     "output_type": "stream",
     "text": [
      "Saving intermediate results: 1200 vectors\n",
      "Processed 1200/1757 test images\n"
     ]
    },
    {
     "name": "stderr",
     "output_type": "stream",
     "text": [
      "Processing test images:  71%|███████   | 1251/1757 [02:32<01:12,  7.00it/s]"
     ]
    },
    {
     "name": "stdout",
     "output_type": "stream",
     "text": [
      "Processed 1250/1757 test images\n"
     ]
    },
    {
     "name": "stderr",
     "output_type": "stream",
     "text": [
      "Processing test images:  74%|███████▍  | 1300/1757 [02:38<00:55,  8.26it/s]"
     ]
    },
    {
     "name": "stdout",
     "output_type": "stream",
     "text": [
      "Saving intermediate results: 1300 vectors\n",
      "Processed 1300/1757 test images\n"
     ]
    },
    {
     "name": "stderr",
     "output_type": "stream",
     "text": [
      "Processing test images:  77%|███████▋  | 1351/1757 [02:44<01:00,  6.75it/s]"
     ]
    },
    {
     "name": "stdout",
     "output_type": "stream",
     "text": [
      "Processed 1350/1757 test images\n"
     ]
    },
    {
     "name": "stderr",
     "output_type": "stream",
     "text": [
      "Processing test images:  80%|███████▉  | 1400/1757 [02:50<00:43,  8.21it/s]"
     ]
    },
    {
     "name": "stdout",
     "output_type": "stream",
     "text": [
      "Saving intermediate results: 1400 vectors\n",
      "Processed 1400/1757 test images\n"
     ]
    },
    {
     "name": "stderr",
     "output_type": "stream",
     "text": [
      "Processing test images:  83%|████████▎ | 1451/1757 [02:57<00:42,  7.17it/s]"
     ]
    },
    {
     "name": "stdout",
     "output_type": "stream",
     "text": [
      "Processed 1450/1757 test images\n"
     ]
    },
    {
     "name": "stderr",
     "output_type": "stream",
     "text": [
      "Processing test images:  85%|████████▌ | 1500/1757 [03:02<00:30,  8.41it/s]"
     ]
    },
    {
     "name": "stdout",
     "output_type": "stream",
     "text": [
      "Saving intermediate results: 1500 vectors\n",
      "Processed 1500/1757 test images\n"
     ]
    },
    {
     "name": "stderr",
     "output_type": "stream",
     "text": [
      "Processing test images:  88%|████████▊ | 1551/1757 [03:08<00:28,  7.15it/s]"
     ]
    },
    {
     "name": "stdout",
     "output_type": "stream",
     "text": [
      "Processed 1550/1757 test images\n"
     ]
    },
    {
     "name": "stderr",
     "output_type": "stream",
     "text": [
      "Processing test images:  91%|█████████ | 1601/1757 [03:14<00:21,  7.11it/s]"
     ]
    },
    {
     "name": "stdout",
     "output_type": "stream",
     "text": [
      "Saving intermediate results: 1600 vectors\n",
      "Processed 1600/1757 test images\n"
     ]
    },
    {
     "name": "stderr",
     "output_type": "stream",
     "text": [
      "Processing test images:  94%|█████████▍| 1651/1757 [03:20<00:14,  7.16it/s]"
     ]
    },
    {
     "name": "stdout",
     "output_type": "stream",
     "text": [
      "Processed 1650/1757 test images\n"
     ]
    },
    {
     "name": "stderr",
     "output_type": "stream",
     "text": [
      "Processing test images:  97%|█████████▋| 1701/1757 [03:26<00:07,  7.10it/s]"
     ]
    },
    {
     "name": "stdout",
     "output_type": "stream",
     "text": [
      "Saving intermediate results: 1700 vectors\n",
      "Processed 1700/1757 test images\n"
     ]
    },
    {
     "name": "stderr",
     "output_type": "stream",
     "text": [
      "Processing test images: 100%|█████████▉| 1751/1757 [03:32<00:00,  7.15it/s]"
     ]
    },
    {
     "name": "stdout",
     "output_type": "stream",
     "text": [
      "Processed 1750/1757 test images\n"
     ]
    },
    {
     "name": "stderr",
     "output_type": "stream",
     "text": [
      "Processing test images: 100%|██████████| 1757/1757 [03:33<00:00,  8.24it/s]\n"
     ]
    },
    {
     "name": "stdout",
     "output_type": "stream",
     "text": [
      "Saving intermediate results: 1757 vectors\n",
      "Saved DenseNet features for 1757 test images\n",
      "Finding k-NN (nearest neighbors) for each test image with k=1, 50, 100, 200...\n"
     ]
    },
    {
     "name": "stderr",
     "output_type": "stream",
     "text": [
      "Finding k-NN: 100%|██████████| 1757/1757 [00:20<00:00, 83.99it/s] "
     ]
    },
    {
     "name": "stdout",
     "output_type": "stream",
     "text": [
      "Saved 1-NN neighbors for 1757 test images\n",
      "Saved 50-NN neighbors for 1757 test images\n",
      "Saved 100-NN neighbors for 1757 test images\n",
      "Saved 200-NN neighbors for 1757 test images\n"
     ]
    },
    {
     "name": "stderr",
     "output_type": "stream",
     "text": [
      "\n"
     ]
    }
   ],
   "execution_count": 2
  }
 ]
}
