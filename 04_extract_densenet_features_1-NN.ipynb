{
 "nbformat": 4,
 "nbformat_minor": 0,
 "metadata": {
  "colab": {
   "provenance": [],
   "authorship_tag": "ABX9TyPVAsxtMuMG2+bcdnf4Q4ZG",
   "include_colab_link": true
  },
  "kernelspec": {
   "name": "python3",
   "display_name": "Python 3 (ipykernel)",
   "language": "python"
  },
  "language_info": {
   "name": "python"
  }
 },
 "cells": [
  {
   "cell_type": "markdown",
   "metadata": {
    "id": "view-in-github",
    "colab_type": "text"
   },
   "source": [
    "<a href=\"https://colab.research.google.com/github/jasleenkaursandhu/Reproducing-chest-xray-report-generation-boag/blob/main/extract_densenet_features.ipynb\" target=\"_parent\"><img src=\"https://colab.research.google.com/assets/colab-badge.svg\" alt=\"Open In Colab\"/></a>"
   ]
  },
  {
   "cell_type": "code",
   "metadata": {
    "colab": {
     "base_uri": "https://localhost:8080/"
    },
    "id": "iUvyFXXwk4ko",
    "outputId": "b3e945b4-f59a-46a3-ecd5-18cc2d3b767f",
    "ExecuteTime": {
     "end_time": "2025-04-20T00:53:41.394155Z",
     "start_time": "2025-04-20T00:41:10.412307Z"
    }
   },
   "source": [
    "# Feature Extraction for 1-NN Chest X-ray Report Generation\n",
    "# Based on the Boag et al. paper \"Baselines for Chest X-Ray Report Generation\"\n",
    "# This notebook extracts DenseNet121 features from chest X-ray images\n",
    "\n",
    "import numpy as np\n",
    "import pandas as pd\n",
    "import os\n",
    "import pydicom\n",
    "import tensorflow as tf\n",
    "from tensorflow.keras.applications.densenet import DenseNet121, preprocess_input\n",
    "from PIL import Image\n",
    "import tqdm\n",
    "import pickle\n",
    "import gc\n",
    "from sklearn.metrics.pairwise import cosine_similarity\n",
    "\n",
    "# Temporarily disable certificate verification (Not recommended for production)\n",
    "import ssl\n",
    "os.environ['PYTHONHTTPSVERIFY'] = '0'\n",
    "ssl._create_default_https_context = ssl._create_unverified_context\n",
    "\n",
    "# Define paths\n",
    "base_path = '/Users/simeon/Documents/DLH/content/mimic-cxr-project'\n",
    "data_dir = os.path.join(base_path, 'data')\n",
    "files_path = os.path.join(base_path, 'new_files')\n",
    "output_dir = os.path.join(base_path, 'output')\n",
    "features_dir = os.path.join(base_path, 'features')\n",
    "\n",
    "# Create output directories if they don't exist\n",
    "os.makedirs(output_dir, exist_ok=True)\n",
    "os.makedirs(features_dir, exist_ok=True)\n",
    "\n",
    "# Load train and test data\n",
    "train_df = pd.read_csv(os.path.join(data_dir, 'train.tsv'), sep='\\t')\n",
    "test_df = pd.read_csv(os.path.join(data_dir, 'test.tsv'), sep='\\t')\n",
    "\n",
    "print(f\"Train data shape: {train_df.shape}\")\n",
    "print(f\"Test data shape: {test_df.shape}\")\n",
    "\n",
    "# Load pre-trained DenseNet121 model\n",
    "# Per the paper: \"We use a DenseNet121 to extract features of size 8 × 8 × 1024,\n",
    "# which are then globally mean-pooled to a final, 1024-dimensional representation\"\n",
    "model = DenseNet121(weights='imagenet', include_top=False, pooling='avg')\n",
    "print(\"Loaded DenseNet121 model with global average pooling\")\n",
    "\n",
    "# Function to extract features from a DICOM image\n",
    "def extract_features(dicom_path):\n",
    "    try:\n",
    "        # Read the DICOM file\n",
    "        ds = pydicom.dcmread(dicom_path)\n",
    "\n",
    "        # Convert to image format\n",
    "        pixel_array = ds.pixel_array\n",
    "\n",
    "        # Normalize pixel values\n",
    "        pixel_array = pixel_array / np.max(pixel_array)\n",
    "\n",
    "        # Convert to uint8\n",
    "        img = np.uint8(pixel_array * 255)\n",
    "\n",
    "        # Convert to RGB (DenseNet expects 3 channels)\n",
    "        if len(img.shape) == 2:\n",
    "            # Grayscale to RGB\n",
    "            img_rgb = np.stack([img, img, img], axis=2)\n",
    "        elif img.shape[2] == 1:\n",
    "            # Single channel to RGB\n",
    "            img_rgb = np.concatenate([img, img, img], axis=2)\n",
    "        else:\n",
    "            img_rgb = img\n",
    "\n",
    "        # Resize to 224x224 (expected by DenseNet)\n",
    "        pil_img = Image.fromarray(img_rgb)\n",
    "        pil_img = pil_img.resize((224, 224))\n",
    "\n",
    "        # Convert to numpy array and preprocess\n",
    "        img_array = np.array(pil_img)\n",
    "        img_array = preprocess_input(img_array)\n",
    "\n",
    "        # Add batch dimension\n",
    "        img_array = np.expand_dims(img_array, axis=0)\n",
    "\n",
    "        # Extract features\n",
    "        features = model.predict(img_array, verbose=0)\n",
    "\n",
    "        return features.flatten()\n",
    "    except Exception as e:\n",
    "        print(f\"Error processing {dicom_path}: {e}\")\n",
    "        return None\n",
    "\n",
    "# Process train images in batches to avoid memory issues\n",
    "batch_size = 50\n",
    "densenet_vecs = {}\n",
    "\n",
    "# Process train images\n",
    "for idx, row in tqdm.tqdm(train_df.iterrows(), total=len(train_df), desc=\"Processing train images\"):\n",
    "    if idx % batch_size == 0:\n",
    "        print(f\"Processed {idx}/{len(train_df)} train images\")\n",
    "\n",
    "    dicom_id = row['dicom_id']\n",
    "    subject_id = row['subject_id']\n",
    "    study_id = row['study_id']\n",
    "\n",
    "    # Construct path to the DICOM file\n",
    "    subject_prefix = f\"p{str(subject_id)[:2]}\"\n",
    "    subject_dir = f\"p{subject_id}\"\n",
    "    study_dir = f\"s{study_id}\"\n",
    "    dicom_file = f\"{dicom_id}.dcm\"\n",
    "    dicom_path = os.path.join(files_path, subject_prefix, subject_dir, study_dir, dicom_file)\n",
    "\n",
    "    if os.path.exists(dicom_path):\n",
    "        features = extract_features(dicom_path)\n",
    "        if features is not None:\n",
    "            densenet_vecs[dicom_id] = features\n",
    "\n",
    "    # Save intermediate results\n",
    "    if (idx + 1) % 500 == 0 or idx == len(train_df) - 1:\n",
    "        print(f\"Saving intermediate results: {len(densenet_vecs)} vectors\")\n",
    "        with open(os.path.join(features_dir, 'densenet121_train.pkl'), 'wb') as f:\n",
    "            pickle.dump(densenet_vecs, f)\n",
    "\n",
    "    # Clean up memory\n",
    "    if idx % 100 == 0:\n",
    "        gc.collect()\n",
    "\n",
    "# Save the final vectors\n",
    "with open(os.path.join(features_dir, 'densenet121_train.pkl'), 'wb') as f:\n",
    "    pickle.dump(densenet_vecs, f)\n",
    "\n",
    "# Also save as numpy arrays for easier processing\n",
    "train_dicom_ids = list(densenet_vecs.keys())\n",
    "train_features = np.array([densenet_vecs[dicom_id] for dicom_id in train_dicom_ids])\n",
    "\n",
    "np.save(os.path.join(features_dir, 'train_dicom_ids.npy'), np.array(train_dicom_ids))\n",
    "np.save(os.path.join(features_dir, 'train_densenet_features.npy'), train_features)\n",
    "\n",
    "print(f\"Saved DenseNet features for {len(densenet_vecs)} train images\")\n",
    "\n",
    "# Process test images\n",
    "test_densenet_vecs = {}\n",
    "\n",
    "for idx, row in tqdm.tqdm(test_df.iterrows(), total=len(test_df), desc=\"Processing test images\"):\n",
    "    if idx % batch_size == 0:\n",
    "        print(f\"Processed {idx}/{len(test_df)} test images\")\n",
    "\n",
    "    dicom_id = row['dicom_id']\n",
    "    subject_id = row['subject_id']\n",
    "    study_id = row['study_id']\n",
    "\n",
    "    # Construct path to the DICOM file\n",
    "    subject_prefix = f\"p{str(subject_id)[:2]}\"\n",
    "    subject_dir = f\"p{subject_id}\"\n",
    "    study_dir = f\"s{study_id}\"\n",
    "    dicom_file = f\"{dicom_id}.dcm\"\n",
    "    dicom_path = os.path.join(files_path, subject_prefix, subject_dir, study_dir, dicom_file)\n",
    "\n",
    "    if os.path.exists(dicom_path):\n",
    "        features = extract_features(dicom_path)\n",
    "        if features is not None:\n",
    "            test_densenet_vecs[dicom_id] = features\n",
    "\n",
    "    # Save intermediate results\n",
    "    if (idx + 1) % 100 == 0 or idx == len(test_df) - 1:\n",
    "        print(f\"Saving intermediate results: {len(test_densenet_vecs)} vectors\")\n",
    "        with open(os.path.join(features_dir, 'densenet121_test.pkl'), 'wb') as f:\n",
    "            pickle.dump(test_densenet_vecs, f)\n",
    "\n",
    "    # Clean up memory\n",
    "    if idx % 50 == 0:\n",
    "        gc.collect()\n",
    "\n",
    "# Save the test vectors\n",
    "with open(os.path.join(features_dir, 'densenet121_test.pkl'), 'wb') as f:\n",
    "    pickle.dump(test_densenet_vecs, f)\n",
    "\n",
    "# Also save as numpy arrays for easier processing\n",
    "test_dicom_ids = list(test_densenet_vecs.keys())\n",
    "test_features = np.array([test_densenet_vecs[dicom_id] for dicom_id in test_dicom_ids])\n",
    "\n",
    "np.save(os.path.join(features_dir, 'test_dicom_ids.npy'), np.array(test_dicom_ids))\n",
    "np.save(os.path.join(features_dir, 'test_densenet_features.npy'), test_features)\n",
    "\n",
    "print(f\"Saved DenseNet features for {len(test_densenet_vecs)} test images\")\n",
    "\n",
    "# For the 1-NN approach, we only need the single closest neighbor for each test image\n",
    "# This is in contrast to the original code that found the top 100 neighbors\n",
    "print(\"Finding 1-NN (single nearest neighbor) for each test image...\")\n",
    "\n",
    "# Convert feature dictionaries to arrays for faster processing\n",
    "train_dicom_ids = list(densenet_vecs.keys())\n",
    "train_features = np.array([densenet_vecs[dicom_id] for dicom_id in train_dicom_ids])\n",
    "\n",
    "# Find 1-NN for each test image\n",
    "one_nn_neighbors = {}\n",
    "\n",
    "for test_dicom, test_features in tqdm.tqdm(test_densenet_vecs.items(), desc=\"Finding 1-NN\"):\n",
    "    # Reshape test features for cosine similarity\n",
    "    test_features_reshaped = test_features.reshape(1, -1)\n",
    "\n",
    "    # Compute similarity to all training images\n",
    "    similarities = cosine_similarity(test_features_reshaped, train_features)[0]\n",
    "\n",
    "    # Get index of the most similar image\n",
    "    top_idx = similarities.argmax()\n",
    "\n",
    "    # Get the corresponding dicom ID\n",
    "    nearest_neighbor = train_dicom_ids[top_idx]\n",
    "\n",
    "    # Store in our neighbors dictionary - as a list with a single element\n",
    "    # to maintain compatibility with the original code structure\n",
    "    one_nn_neighbors[test_dicom] = [nearest_neighbor]\n",
    "\n",
    "# Save the 1-NN neighbors\n",
    "neighbors_path = os.path.join(output_dir, '1nn_neighbors.pkl')\n",
    "with open(neighbors_path, 'wb') as f:\n",
    "    pickle.dump(one_nn_neighbors, f)\n",
    "\n",
    "print(f\"Saved 1-NN neighbors for {len(one_nn_neighbors)} test images\")"
   ],
   "outputs": [
    {
     "name": "stdout",
     "output_type": "stream",
     "text": [
      "Train data shape: (4291, 3)\n",
      "Test data shape: (1757, 3)\n",
      "Loaded DenseNet121 model with global average pooling\n"
     ]
    },
    {
     "name": "stderr",
     "output_type": "stream",
     "text": [
      "Processing train images:   0%|          | 0/4291 [00:00<?, ?it/s]"
     ]
    },
    {
     "name": "stdout",
     "output_type": "stream",
     "text": [
      "Processed 0/4291 train images\n"
     ]
    },
    {
     "name": "stderr",
     "output_type": "stream",
     "text": [
      "Processing train images:   1%|          | 51/4291 [00:06<08:24,  8.41it/s] "
     ]
    },
    {
     "name": "stdout",
     "output_type": "stream",
     "text": [
      "Processed 50/4291 train images\n"
     ]
    },
    {
     "name": "stderr",
     "output_type": "stream",
     "text": [
      "Processing train images:   2%|▏         | 101/4291 [00:12<09:28,  7.37it/s]"
     ]
    },
    {
     "name": "stdout",
     "output_type": "stream",
     "text": [
      "Processed 100/4291 train images\n"
     ]
    },
    {
     "name": "stderr",
     "output_type": "stream",
     "text": [
      "Processing train images:   4%|▎         | 151/4291 [00:18<07:54,  8.72it/s]"
     ]
    },
    {
     "name": "stdout",
     "output_type": "stream",
     "text": [
      "Processed 150/4291 train images\n"
     ]
    },
    {
     "name": "stderr",
     "output_type": "stream",
     "text": [
      "Processing train images:   5%|▍         | 201/4291 [00:24<09:15,  7.36it/s]"
     ]
    },
    {
     "name": "stdout",
     "output_type": "stream",
     "text": [
      "Processed 200/4291 train images\n"
     ]
    },
    {
     "name": "stderr",
     "output_type": "stream",
     "text": [
      "Processing train images:   6%|▌         | 251/4291 [00:30<07:45,  8.68it/s]"
     ]
    },
    {
     "name": "stdout",
     "output_type": "stream",
     "text": [
      "Processed 250/4291 train images\n"
     ]
    },
    {
     "name": "stderr",
     "output_type": "stream",
     "text": [
      "Processing train images:   7%|▋         | 301/4291 [00:36<09:14,  7.19it/s]"
     ]
    },
    {
     "name": "stdout",
     "output_type": "stream",
     "text": [
      "Processed 300/4291 train images\n"
     ]
    },
    {
     "name": "stderr",
     "output_type": "stream",
     "text": [
      "Processing train images:   8%|▊         | 351/4291 [00:42<07:37,  8.61it/s]"
     ]
    },
    {
     "name": "stdout",
     "output_type": "stream",
     "text": [
      "Processed 350/4291 train images\n"
     ]
    },
    {
     "name": "stderr",
     "output_type": "stream",
     "text": [
      "Processing train images:   9%|▉         | 401/4291 [00:48<09:37,  6.74it/s]"
     ]
    },
    {
     "name": "stdout",
     "output_type": "stream",
     "text": [
      "Processed 400/4291 train images\n"
     ]
    },
    {
     "name": "stderr",
     "output_type": "stream",
     "text": [
      "Processing train images:  11%|█         | 451/4291 [00:54<08:01,  7.98it/s]"
     ]
    },
    {
     "name": "stdout",
     "output_type": "stream",
     "text": [
      "Processed 450/4291 train images\n"
     ]
    },
    {
     "name": "stderr",
     "output_type": "stream",
     "text": [
      "Processing train images:  12%|█▏        | 501/4291 [01:00<08:48,  7.17it/s]"
     ]
    },
    {
     "name": "stdout",
     "output_type": "stream",
     "text": [
      "Saving intermediate results: 500 vectors\n",
      "Processed 500/4291 train images\n"
     ]
    },
    {
     "name": "stderr",
     "output_type": "stream",
     "text": [
      "Processing train images:  13%|█▎        | 551/4291 [01:06<07:20,  8.50it/s]"
     ]
    },
    {
     "name": "stdout",
     "output_type": "stream",
     "text": [
      "Processed 550/4291 train images\n"
     ]
    },
    {
     "name": "stderr",
     "output_type": "stream",
     "text": [
      "Processing train images:  14%|█▍        | 601/4291 [01:12<08:49,  6.97it/s]"
     ]
    },
    {
     "name": "stdout",
     "output_type": "stream",
     "text": [
      "Processed 600/4291 train images\n"
     ]
    },
    {
     "name": "stderr",
     "output_type": "stream",
     "text": [
      "Processing train images:  15%|█▌        | 651/4291 [01:18<07:30,  8.08it/s]"
     ]
    },
    {
     "name": "stdout",
     "output_type": "stream",
     "text": [
      "Processed 650/4291 train images\n"
     ]
    },
    {
     "name": "stderr",
     "output_type": "stream",
     "text": [
      "Processing train images:  16%|█▋        | 701/4291 [01:25<08:23,  7.13it/s]"
     ]
    },
    {
     "name": "stdout",
     "output_type": "stream",
     "text": [
      "Processed 700/4291 train images\n"
     ]
    },
    {
     "name": "stderr",
     "output_type": "stream",
     "text": [
      "Processing train images:  18%|█▊        | 751/4291 [01:31<06:56,  8.51it/s]"
     ]
    },
    {
     "name": "stdout",
     "output_type": "stream",
     "text": [
      "Processed 750/4291 train images\n"
     ]
    },
    {
     "name": "stderr",
     "output_type": "stream",
     "text": [
      "Processing train images:  19%|█▊        | 800/4291 [01:37<07:31,  7.74it/s]"
     ]
    },
    {
     "name": "stdout",
     "output_type": "stream",
     "text": [
      "Processed 800/4291 train images\n"
     ]
    },
    {
     "name": "stderr",
     "output_type": "stream",
     "text": [
      "Processing train images:  20%|█▉        | 851/4291 [01:44<06:48,  8.41it/s]"
     ]
    },
    {
     "name": "stdout",
     "output_type": "stream",
     "text": [
      "Processed 850/4291 train images\n"
     ]
    },
    {
     "name": "stderr",
     "output_type": "stream",
     "text": [
      "Processing train images:  21%|██        | 901/4291 [01:50<08:31,  6.63it/s]"
     ]
    },
    {
     "name": "stdout",
     "output_type": "stream",
     "text": [
      "Processed 900/4291 train images\n"
     ]
    },
    {
     "name": "stderr",
     "output_type": "stream",
     "text": [
      "Processing train images:  22%|██▏       | 951/4291 [01:56<06:51,  8.12it/s]"
     ]
    },
    {
     "name": "stdout",
     "output_type": "stream",
     "text": [
      "Processed 950/4291 train images\n"
     ]
    },
    {
     "name": "stderr",
     "output_type": "stream",
     "text": [
      "Processing train images:  23%|██▎       | 1001/4291 [02:02<07:47,  7.04it/s]"
     ]
    },
    {
     "name": "stdout",
     "output_type": "stream",
     "text": [
      "Saving intermediate results: 1000 vectors\n",
      "Processed 1000/4291 train images\n"
     ]
    },
    {
     "name": "stderr",
     "output_type": "stream",
     "text": [
      "Processing train images:  24%|██▍       | 1051/4291 [02:08<06:18,  8.55it/s]"
     ]
    },
    {
     "name": "stdout",
     "output_type": "stream",
     "text": [
      "Processed 1050/4291 train images\n"
     ]
    },
    {
     "name": "stderr",
     "output_type": "stream",
     "text": [
      "Processing train images:  26%|██▌       | 1101/4291 [02:14<07:25,  7.16it/s]"
     ]
    },
    {
     "name": "stdout",
     "output_type": "stream",
     "text": [
      "Processed 1100/4291 train images\n"
     ]
    },
    {
     "name": "stderr",
     "output_type": "stream",
     "text": [
      "Processing train images:  27%|██▋       | 1151/4291 [02:20<06:13,  8.41it/s]"
     ]
    },
    {
     "name": "stdout",
     "output_type": "stream",
     "text": [
      "Processed 1150/4291 train images\n"
     ]
    },
    {
     "name": "stderr",
     "output_type": "stream",
     "text": [
      "Processing train images:  28%|██▊       | 1201/4291 [02:26<07:12,  7.15it/s]"
     ]
    },
    {
     "name": "stdout",
     "output_type": "stream",
     "text": [
      "Processed 1200/4291 train images\n"
     ]
    },
    {
     "name": "stderr",
     "output_type": "stream",
     "text": [
      "Processing train images:  29%|██▉       | 1251/4291 [02:32<06:47,  7.47it/s]"
     ]
    },
    {
     "name": "stdout",
     "output_type": "stream",
     "text": [
      "Processed 1250/4291 train images\n"
     ]
    },
    {
     "name": "stderr",
     "output_type": "stream",
     "text": [
      "Processing train images:  30%|███       | 1300/4291 [02:38<05:49,  8.56it/s]"
     ]
    },
    {
     "name": "stdout",
     "output_type": "stream",
     "text": [
      "Processed 1300/4291 train images\n"
     ]
    },
    {
     "name": "stderr",
     "output_type": "stream",
     "text": [
      "Processing train images:  31%|███▏      | 1351/4291 [02:44<06:28,  7.57it/s]"
     ]
    },
    {
     "name": "stdout",
     "output_type": "stream",
     "text": [
      "Processed 1350/4291 train images\n"
     ]
    },
    {
     "name": "stderr",
     "output_type": "stream",
     "text": [
      "Processing train images:  33%|███▎      | 1401/4291 [02:51<07:28,  6.45it/s]"
     ]
    },
    {
     "name": "stdout",
     "output_type": "stream",
     "text": [
      "Processed 1400/4291 train images\n"
     ]
    },
    {
     "name": "stderr",
     "output_type": "stream",
     "text": [
      "Processing train images:  34%|███▍      | 1451/4291 [02:57<05:33,  8.52it/s]"
     ]
    },
    {
     "name": "stdout",
     "output_type": "stream",
     "text": [
      "Processed 1450/4291 train images\n"
     ]
    },
    {
     "name": "stderr",
     "output_type": "stream",
     "text": [
      "Processing train images:  35%|███▍      | 1501/4291 [03:03<06:27,  7.20it/s]"
     ]
    },
    {
     "name": "stdout",
     "output_type": "stream",
     "text": [
      "Saving intermediate results: 1500 vectors\n",
      "Processed 1500/4291 train images\n"
     ]
    },
    {
     "name": "stderr",
     "output_type": "stream",
     "text": [
      "Processing train images:  36%|███▌      | 1551/4291 [03:09<05:18,  8.59it/s]"
     ]
    },
    {
     "name": "stdout",
     "output_type": "stream",
     "text": [
      "Processed 1550/4291 train images\n"
     ]
    },
    {
     "name": "stderr",
     "output_type": "stream",
     "text": [
      "Processing train images:  37%|███▋      | 1601/4291 [03:15<06:05,  7.36it/s]"
     ]
    },
    {
     "name": "stdout",
     "output_type": "stream",
     "text": [
      "Processed 1600/4291 train images\n"
     ]
    },
    {
     "name": "stderr",
     "output_type": "stream",
     "text": [
      "Processing train images:  38%|███▊      | 1651/4291 [03:21<05:27,  8.05it/s]"
     ]
    },
    {
     "name": "stdout",
     "output_type": "stream",
     "text": [
      "Processed 1650/4291 train images\n"
     ]
    },
    {
     "name": "stderr",
     "output_type": "stream",
     "text": [
      "Processing train images:  40%|███▉      | 1701/4291 [03:27<05:50,  7.39it/s]"
     ]
    },
    {
     "name": "stdout",
     "output_type": "stream",
     "text": [
      "Processed 1700/4291 train images\n"
     ]
    },
    {
     "name": "stderr",
     "output_type": "stream",
     "text": [
      "Processing train images:  41%|████      | 1751/4291 [03:32<04:53,  8.67it/s]"
     ]
    },
    {
     "name": "stdout",
     "output_type": "stream",
     "text": [
      "Processed 1750/4291 train images\n"
     ]
    },
    {
     "name": "stderr",
     "output_type": "stream",
     "text": [
      "Processing train images:  42%|████▏     | 1801/4291 [03:39<06:24,  6.47it/s]"
     ]
    },
    {
     "name": "stdout",
     "output_type": "stream",
     "text": [
      "Processed 1800/4291 train images\n"
     ]
    },
    {
     "name": "stderr",
     "output_type": "stream",
     "text": [
      "Processing train images:  43%|████▎     | 1851/4291 [03:45<04:45,  8.55it/s]"
     ]
    },
    {
     "name": "stdout",
     "output_type": "stream",
     "text": [
      "Processed 1850/4291 train images\n"
     ]
    },
    {
     "name": "stderr",
     "output_type": "stream",
     "text": [
      "Processing train images:  44%|████▍     | 1901/4291 [03:51<05:34,  7.14it/s]"
     ]
    },
    {
     "name": "stdout",
     "output_type": "stream",
     "text": [
      "Processed 1900/4291 train images\n"
     ]
    },
    {
     "name": "stderr",
     "output_type": "stream",
     "text": [
      "Processing train images:  45%|████▌     | 1951/4291 [03:57<04:27,  8.76it/s]"
     ]
    },
    {
     "name": "stdout",
     "output_type": "stream",
     "text": [
      "Processed 1950/4291 train images\n"
     ]
    },
    {
     "name": "stderr",
     "output_type": "stream",
     "text": [
      "Processing train images:  47%|████▋     | 2000/4291 [04:03<04:56,  7.72it/s]"
     ]
    },
    {
     "name": "stdout",
     "output_type": "stream",
     "text": [
      "Saving intermediate results: 2000 vectors\n",
      "Processed 2000/4291 train images\n"
     ]
    },
    {
     "name": "stderr",
     "output_type": "stream",
     "text": [
      "Processing train images:  48%|████▊     | 2051/4291 [04:09<04:22,  8.54it/s]"
     ]
    },
    {
     "name": "stdout",
     "output_type": "stream",
     "text": [
      "Processed 2050/4291 train images\n"
     ]
    },
    {
     "name": "stderr",
     "output_type": "stream",
     "text": [
      "Processing train images:  49%|████▉     | 2101/4291 [04:14<05:03,  7.21it/s]"
     ]
    },
    {
     "name": "stdout",
     "output_type": "stream",
     "text": [
      "Processed 2100/4291 train images\n"
     ]
    },
    {
     "name": "stderr",
     "output_type": "stream",
     "text": [
      "Processing train images:  50%|█████     | 2151/4291 [04:20<04:09,  8.58it/s]"
     ]
    },
    {
     "name": "stdout",
     "output_type": "stream",
     "text": [
      "Processed 2150/4291 train images\n"
     ]
    },
    {
     "name": "stderr",
     "output_type": "stream",
     "text": [
      "Processing train images:  51%|█████▏    | 2201/4291 [04:26<04:44,  7.34it/s]"
     ]
    },
    {
     "name": "stdout",
     "output_type": "stream",
     "text": [
      "Processed 2200/4291 train images\n"
     ]
    },
    {
     "name": "stderr",
     "output_type": "stream",
     "text": [
      "Processing train images:  52%|█████▏    | 2251/4291 [04:32<03:54,  8.70it/s]"
     ]
    },
    {
     "name": "stdout",
     "output_type": "stream",
     "text": [
      "Processed 2250/4291 train images\n"
     ]
    },
    {
     "name": "stderr",
     "output_type": "stream",
     "text": [
      "Processing train images:  54%|█████▎    | 2301/4291 [04:38<04:32,  7.29it/s]"
     ]
    },
    {
     "name": "stdout",
     "output_type": "stream",
     "text": [
      "Processed 2300/4291 train images\n"
     ]
    },
    {
     "name": "stderr",
     "output_type": "stream",
     "text": [
      "Processing train images:  55%|█████▍    | 2351/4291 [04:44<03:45,  8.62it/s]"
     ]
    },
    {
     "name": "stdout",
     "output_type": "stream",
     "text": [
      "Processed 2350/4291 train images\n"
     ]
    },
    {
     "name": "stderr",
     "output_type": "stream",
     "text": [
      "Processing train images:  56%|█████▌    | 2401/4291 [04:50<04:23,  7.18it/s]"
     ]
    },
    {
     "name": "stdout",
     "output_type": "stream",
     "text": [
      "Processed 2400/4291 train images\n"
     ]
    },
    {
     "name": "stderr",
     "output_type": "stream",
     "text": [
      "Processing train images:  57%|█████▋    | 2451/4291 [04:55<03:34,  8.60it/s]"
     ]
    },
    {
     "name": "stdout",
     "output_type": "stream",
     "text": [
      "Processed 2450/4291 train images\n"
     ]
    },
    {
     "name": "stderr",
     "output_type": "stream",
     "text": [
      "Processing train images:  58%|█████▊    | 2500/4291 [05:01<03:31,  8.48it/s]"
     ]
    },
    {
     "name": "stdout",
     "output_type": "stream",
     "text": [
      "Saving intermediate results: 2500 vectors\n",
      "Processed 2500/4291 train images\n"
     ]
    },
    {
     "name": "stderr",
     "output_type": "stream",
     "text": [
      "Processing train images:  59%|█████▉    | 2551/4291 [05:07<03:23,  8.56it/s]"
     ]
    },
    {
     "name": "stdout",
     "output_type": "stream",
     "text": [
      "Processed 2550/4291 train images\n"
     ]
    },
    {
     "name": "stderr",
     "output_type": "stream",
     "text": [
      "Processing train images:  61%|██████    | 2601/4291 [05:13<03:51,  7.31it/s]"
     ]
    },
    {
     "name": "stdout",
     "output_type": "stream",
     "text": [
      "Processed 2600/4291 train images\n"
     ]
    },
    {
     "name": "stderr",
     "output_type": "stream",
     "text": [
      "Processing train images:  62%|██████▏   | 2651/4291 [05:19<03:09,  8.64it/s]"
     ]
    },
    {
     "name": "stdout",
     "output_type": "stream",
     "text": [
      "Processed 2650/4291 train images\n"
     ]
    },
    {
     "name": "stderr",
     "output_type": "stream",
     "text": [
      "Processing train images:  63%|██████▎   | 2701/4291 [05:25<03:40,  7.20it/s]"
     ]
    },
    {
     "name": "stdout",
     "output_type": "stream",
     "text": [
      "Processed 2700/4291 train images\n"
     ]
    },
    {
     "name": "stderr",
     "output_type": "stream",
     "text": [
      "Processing train images:  64%|██████▍   | 2751/4291 [05:31<02:59,  8.57it/s]"
     ]
    },
    {
     "name": "stdout",
     "output_type": "stream",
     "text": [
      "Processed 2750/4291 train images\n"
     ]
    },
    {
     "name": "stderr",
     "output_type": "stream",
     "text": [
      "Processing train images:  65%|██████▌   | 2801/4291 [05:36<03:25,  7.26it/s]"
     ]
    },
    {
     "name": "stdout",
     "output_type": "stream",
     "text": [
      "Processed 2800/4291 train images\n"
     ]
    },
    {
     "name": "stderr",
     "output_type": "stream",
     "text": [
      "Processing train images:  66%|██████▋   | 2851/4291 [05:42<02:52,  8.35it/s]"
     ]
    },
    {
     "name": "stdout",
     "output_type": "stream",
     "text": [
      "Processed 2850/4291 train images\n"
     ]
    },
    {
     "name": "stderr",
     "output_type": "stream",
     "text": [
      "Processing train images:  68%|██████▊   | 2901/4291 [05:48<03:03,  7.58it/s]"
     ]
    },
    {
     "name": "stdout",
     "output_type": "stream",
     "text": [
      "Processed 2900/4291 train images\n"
     ]
    },
    {
     "name": "stderr",
     "output_type": "stream",
     "text": [
      "Processing train images:  69%|██████▉   | 2951/4291 [05:54<02:39,  8.40it/s]"
     ]
    },
    {
     "name": "stdout",
     "output_type": "stream",
     "text": [
      "Processed 2950/4291 train images\n"
     ]
    },
    {
     "name": "stderr",
     "output_type": "stream",
     "text": [
      "Processing train images:  70%|██████▉   | 3000/4291 [06:00<02:39,  8.10it/s]"
     ]
    },
    {
     "name": "stdout",
     "output_type": "stream",
     "text": [
      "Saving intermediate results: 3000 vectors\n",
      "Processed 3000/4291 train images\n"
     ]
    },
    {
     "name": "stderr",
     "output_type": "stream",
     "text": [
      "Processing train images:  71%|███████   | 3051/4291 [06:06<02:27,  8.42it/s]"
     ]
    },
    {
     "name": "stdout",
     "output_type": "stream",
     "text": [
      "Processed 3050/4291 train images\n"
     ]
    },
    {
     "name": "stderr",
     "output_type": "stream",
     "text": [
      "Processing train images:  72%|███████▏  | 3101/4291 [06:12<02:45,  7.18it/s]"
     ]
    },
    {
     "name": "stdout",
     "output_type": "stream",
     "text": [
      "Processed 3100/4291 train images\n"
     ]
    },
    {
     "name": "stderr",
     "output_type": "stream",
     "text": [
      "Processing train images:  73%|███████▎  | 3151/4291 [06:18<02:15,  8.42it/s]"
     ]
    },
    {
     "name": "stdout",
     "output_type": "stream",
     "text": [
      "Processed 3150/4291 train images\n"
     ]
    },
    {
     "name": "stderr",
     "output_type": "stream",
     "text": [
      "Processing train images:  75%|███████▍  | 3201/4291 [06:24<02:32,  7.16it/s]"
     ]
    },
    {
     "name": "stdout",
     "output_type": "stream",
     "text": [
      "Processed 3200/4291 train images\n"
     ]
    },
    {
     "name": "stderr",
     "output_type": "stream",
     "text": [
      "Processing train images:  76%|███████▌  | 3251/4291 [06:30<02:04,  8.35it/s]"
     ]
    },
    {
     "name": "stdout",
     "output_type": "stream",
     "text": [
      "Processed 3250/4291 train images\n"
     ]
    },
    {
     "name": "stderr",
     "output_type": "stream",
     "text": [
      "Processing train images:  77%|███████▋  | 3301/4291 [06:36<02:18,  7.17it/s]"
     ]
    },
    {
     "name": "stdout",
     "output_type": "stream",
     "text": [
      "Processed 3300/4291 train images\n"
     ]
    },
    {
     "name": "stderr",
     "output_type": "stream",
     "text": [
      "Processing train images:  78%|███████▊  | 3351/4291 [06:42<01:50,  8.51it/s]"
     ]
    },
    {
     "name": "stdout",
     "output_type": "stream",
     "text": [
      "Processed 3350/4291 train images\n"
     ]
    },
    {
     "name": "stderr",
     "output_type": "stream",
     "text": [
      "Processing train images:  79%|███████▉  | 3400/4291 [06:48<01:52,  7.92it/s]"
     ]
    },
    {
     "name": "stdout",
     "output_type": "stream",
     "text": [
      "Processed 3400/4291 train images\n"
     ]
    },
    {
     "name": "stderr",
     "output_type": "stream",
     "text": [
      "Processing train images:  80%|████████  | 3451/4291 [06:54<01:45,  7.99it/s]"
     ]
    },
    {
     "name": "stdout",
     "output_type": "stream",
     "text": [
      "Processed 3450/4291 train images\n"
     ]
    },
    {
     "name": "stderr",
     "output_type": "stream",
     "text": [
      "Processing train images:  82%|████████▏ | 3500/4291 [07:01<01:41,  7.80it/s]"
     ]
    },
    {
     "name": "stdout",
     "output_type": "stream",
     "text": [
      "Saving intermediate results: 3500 vectors\n",
      "Processed 3500/4291 train images\n"
     ]
    },
    {
     "name": "stderr",
     "output_type": "stream",
     "text": [
      "Processing train images:  83%|████████▎ | 3551/4291 [07:07<01:39,  7.41it/s]"
     ]
    },
    {
     "name": "stdout",
     "output_type": "stream",
     "text": [
      "Processed 3550/4291 train images\n"
     ]
    },
    {
     "name": "stderr",
     "output_type": "stream",
     "text": [
      "Processing train images:  84%|████████▍ | 3601/4291 [07:13<01:36,  7.17it/s]"
     ]
    },
    {
     "name": "stdout",
     "output_type": "stream",
     "text": [
      "Processed 3600/4291 train images\n"
     ]
    },
    {
     "name": "stderr",
     "output_type": "stream",
     "text": [
      "Processing train images:  85%|████████▌ | 3651/4291 [07:19<01:16,  8.40it/s]"
     ]
    },
    {
     "name": "stdout",
     "output_type": "stream",
     "text": [
      "Processed 3650/4291 train images\n"
     ]
    },
    {
     "name": "stderr",
     "output_type": "stream",
     "text": [
      "Processing train images:  86%|████████▋ | 3701/4291 [07:25<01:21,  7.24it/s]"
     ]
    },
    {
     "name": "stdout",
     "output_type": "stream",
     "text": [
      "Processed 3700/4291 train images\n"
     ]
    },
    {
     "name": "stderr",
     "output_type": "stream",
     "text": [
      "Processing train images:  87%|████████▋ | 3751/4291 [07:31<01:04,  8.42it/s]"
     ]
    },
    {
     "name": "stdout",
     "output_type": "stream",
     "text": [
      "Processed 3750/4291 train images\n"
     ]
    },
    {
     "name": "stderr",
     "output_type": "stream",
     "text": [
      "Processing train images:  89%|████████▊ | 3800/4291 [07:37<01:03,  7.76it/s]"
     ]
    },
    {
     "name": "stdout",
     "output_type": "stream",
     "text": [
      "Processed 3800/4291 train images\n"
     ]
    },
    {
     "name": "stderr",
     "output_type": "stream",
     "text": [
      "Processing train images:  90%|████████▉ | 3851/4291 [07:43<00:51,  8.60it/s]"
     ]
    },
    {
     "name": "stdout",
     "output_type": "stream",
     "text": [
      "Processed 3850/4291 train images\n"
     ]
    },
    {
     "name": "stderr",
     "output_type": "stream",
     "text": [
      "Processing train images:  91%|█████████ | 3901/4291 [07:49<00:54,  7.17it/s]"
     ]
    },
    {
     "name": "stdout",
     "output_type": "stream",
     "text": [
      "Processed 3900/4291 train images\n"
     ]
    },
    {
     "name": "stderr",
     "output_type": "stream",
     "text": [
      "Processing train images:  92%|█████████▏| 3951/4291 [07:55<00:39,  8.50it/s]"
     ]
    },
    {
     "name": "stdout",
     "output_type": "stream",
     "text": [
      "Processed 3950/4291 train images\n"
     ]
    },
    {
     "name": "stderr",
     "output_type": "stream",
     "text": [
      "Processing train images:  93%|█████████▎| 4000/4291 [08:01<00:35,  8.13it/s]"
     ]
    },
    {
     "name": "stdout",
     "output_type": "stream",
     "text": [
      "Saving intermediate results: 4000 vectors\n",
      "Processed 4000/4291 train images\n"
     ]
    },
    {
     "name": "stderr",
     "output_type": "stream",
     "text": [
      "Processing train images:  94%|█████████▍| 4051/4291 [08:07<00:28,  8.49it/s]"
     ]
    },
    {
     "name": "stdout",
     "output_type": "stream",
     "text": [
      "Processed 4050/4291 train images\n"
     ]
    },
    {
     "name": "stderr",
     "output_type": "stream",
     "text": [
      "Processing train images:  96%|█████████▌| 4101/4291 [08:13<00:25,  7.48it/s]"
     ]
    },
    {
     "name": "stdout",
     "output_type": "stream",
     "text": [
      "Processed 4100/4291 train images\n"
     ]
    },
    {
     "name": "stderr",
     "output_type": "stream",
     "text": [
      "Processing train images:  97%|█████████▋| 4151/4291 [08:19<00:17,  8.16it/s]"
     ]
    },
    {
     "name": "stdout",
     "output_type": "stream",
     "text": [
      "Processed 4150/4291 train images\n"
     ]
    },
    {
     "name": "stderr",
     "output_type": "stream",
     "text": [
      "Processing train images:  98%|█████████▊| 4201/4291 [08:25<00:12,  7.15it/s]"
     ]
    },
    {
     "name": "stdout",
     "output_type": "stream",
     "text": [
      "Processed 4200/4291 train images\n"
     ]
    },
    {
     "name": "stderr",
     "output_type": "stream",
     "text": [
      "Processing train images:  99%|█████████▉| 4251/4291 [08:31<00:04,  8.56it/s]"
     ]
    },
    {
     "name": "stdout",
     "output_type": "stream",
     "text": [
      "Processed 4250/4291 train images\n"
     ]
    },
    {
     "name": "stderr",
     "output_type": "stream",
     "text": [
      "Processing train images: 100%|██████████| 4291/4291 [08:36<00:00,  8.31it/s]\n"
     ]
    },
    {
     "name": "stdout",
     "output_type": "stream",
     "text": [
      "Saving intermediate results: 4291 vectors\n",
      "Saved DenseNet features for 4291 train images\n"
     ]
    },
    {
     "name": "stderr",
     "output_type": "stream",
     "text": [
      "Processing test images:   0%|          | 0/1757 [00:00<?, ?it/s]"
     ]
    },
    {
     "name": "stdout",
     "output_type": "stream",
     "text": [
      "Processed 0/1757 test images\n"
     ]
    },
    {
     "name": "stderr",
     "output_type": "stream",
     "text": [
      "Processing test images:   3%|▎         | 51/1757 [00:06<03:57,  7.18it/s]"
     ]
    },
    {
     "name": "stdout",
     "output_type": "stream",
     "text": [
      "Processed 50/1757 test images\n"
     ]
    },
    {
     "name": "stderr",
     "output_type": "stream",
     "text": [
      "Processing test images:   6%|▌         | 101/1757 [00:12<03:54,  7.07it/s]"
     ]
    },
    {
     "name": "stdout",
     "output_type": "stream",
     "text": [
      "Saving intermediate results: 100 vectors\n",
      "Processed 100/1757 test images\n"
     ]
    },
    {
     "name": "stderr",
     "output_type": "stream",
     "text": [
      "Processing test images:   9%|▊         | 151/1757 [00:18<03:38,  7.34it/s]"
     ]
    },
    {
     "name": "stdout",
     "output_type": "stream",
     "text": [
      "Processed 150/1757 test images\n"
     ]
    },
    {
     "name": "stderr",
     "output_type": "stream",
     "text": [
      "Processing test images:  11%|█▏        | 201/1757 [00:24<03:37,  7.14it/s]"
     ]
    },
    {
     "name": "stdout",
     "output_type": "stream",
     "text": [
      "Saving intermediate results: 200 vectors\n",
      "Processed 200/1757 test images\n"
     ]
    },
    {
     "name": "stderr",
     "output_type": "stream",
     "text": [
      "Processing test images:  14%|█▍        | 251/1757 [00:30<03:29,  7.18it/s]"
     ]
    },
    {
     "name": "stdout",
     "output_type": "stream",
     "text": [
      "Processed 250/1757 test images\n"
     ]
    },
    {
     "name": "stderr",
     "output_type": "stream",
     "text": [
      "Processing test images:  17%|█▋        | 301/1757 [00:36<03:24,  7.11it/s]"
     ]
    },
    {
     "name": "stdout",
     "output_type": "stream",
     "text": [
      "Saving intermediate results: 300 vectors\n",
      "Processed 300/1757 test images\n"
     ]
    },
    {
     "name": "stderr",
     "output_type": "stream",
     "text": [
      "Processing test images:  20%|█▉        | 351/1757 [00:42<03:15,  7.19it/s]"
     ]
    },
    {
     "name": "stdout",
     "output_type": "stream",
     "text": [
      "Processed 350/1757 test images\n"
     ]
    },
    {
     "name": "stderr",
     "output_type": "stream",
     "text": [
      "Processing test images:  23%|██▎       | 401/1757 [00:48<03:08,  7.17it/s]"
     ]
    },
    {
     "name": "stdout",
     "output_type": "stream",
     "text": [
      "Saving intermediate results: 400 vectors\n",
      "Processed 400/1757 test images\n"
     ]
    },
    {
     "name": "stderr",
     "output_type": "stream",
     "text": [
      "Processing test images:  26%|██▌       | 451/1757 [00:54<03:00,  7.24it/s]"
     ]
    },
    {
     "name": "stdout",
     "output_type": "stream",
     "text": [
      "Processed 450/1757 test images\n"
     ]
    },
    {
     "name": "stderr",
     "output_type": "stream",
     "text": [
      "Processing test images:  29%|██▊       | 501/1757 [01:00<02:55,  7.17it/s]"
     ]
    },
    {
     "name": "stdout",
     "output_type": "stream",
     "text": [
      "Saving intermediate results: 500 vectors\n",
      "Processed 500/1757 test images\n"
     ]
    },
    {
     "name": "stderr",
     "output_type": "stream",
     "text": [
      "Processing test images:  31%|███▏      | 551/1757 [01:06<02:47,  7.19it/s]"
     ]
    },
    {
     "name": "stdout",
     "output_type": "stream",
     "text": [
      "Processed 550/1757 test images\n"
     ]
    },
    {
     "name": "stderr",
     "output_type": "stream",
     "text": [
      "Processing test images:  34%|███▍      | 601/1757 [01:11<02:40,  7.22it/s]"
     ]
    },
    {
     "name": "stdout",
     "output_type": "stream",
     "text": [
      "Saving intermediate results: 600 vectors\n",
      "Processed 600/1757 test images\n"
     ]
    },
    {
     "name": "stderr",
     "output_type": "stream",
     "text": [
      "Processing test images:  37%|███▋      | 651/1757 [01:17<02:33,  7.20it/s]"
     ]
    },
    {
     "name": "stdout",
     "output_type": "stream",
     "text": [
      "Processed 650/1757 test images\n"
     ]
    },
    {
     "name": "stderr",
     "output_type": "stream",
     "text": [
      "Processing test images:  40%|███▉      | 701/1757 [01:23<02:26,  7.19it/s]"
     ]
    },
    {
     "name": "stdout",
     "output_type": "stream",
     "text": [
      "Saving intermediate results: 700 vectors\n",
      "Processed 700/1757 test images\n"
     ]
    },
    {
     "name": "stderr",
     "output_type": "stream",
     "text": [
      "Processing test images:  43%|████▎     | 751/1757 [01:29<02:18,  7.26it/s]"
     ]
    },
    {
     "name": "stdout",
     "output_type": "stream",
     "text": [
      "Processed 750/1757 test images\n"
     ]
    },
    {
     "name": "stderr",
     "output_type": "stream",
     "text": [
      "Processing test images:  46%|████▌     | 801/1757 [01:35<02:14,  7.11it/s]"
     ]
    },
    {
     "name": "stdout",
     "output_type": "stream",
     "text": [
      "Saving intermediate results: 800 vectors\n",
      "Processed 800/1757 test images\n"
     ]
    },
    {
     "name": "stderr",
     "output_type": "stream",
     "text": [
      "Processing test images:  48%|████▊     | 851/1757 [01:41<02:04,  7.25it/s]"
     ]
    },
    {
     "name": "stdout",
     "output_type": "stream",
     "text": [
      "Processed 850/1757 test images\n"
     ]
    },
    {
     "name": "stderr",
     "output_type": "stream",
     "text": [
      "Processing test images:  51%|█████▏    | 901/1757 [01:47<01:58,  7.20it/s]"
     ]
    },
    {
     "name": "stdout",
     "output_type": "stream",
     "text": [
      "Saving intermediate results: 900 vectors\n",
      "Processed 900/1757 test images\n"
     ]
    },
    {
     "name": "stderr",
     "output_type": "stream",
     "text": [
      "Processing test images:  54%|█████▍    | 951/1757 [01:53<01:51,  7.24it/s]"
     ]
    },
    {
     "name": "stdout",
     "output_type": "stream",
     "text": [
      "Processed 950/1757 test images\n"
     ]
    },
    {
     "name": "stderr",
     "output_type": "stream",
     "text": [
      "Processing test images:  57%|█████▋    | 1001/1757 [01:59<01:45,  7.17it/s]"
     ]
    },
    {
     "name": "stdout",
     "output_type": "stream",
     "text": [
      "Saving intermediate results: 1000 vectors\n",
      "Processed 1000/1757 test images\n"
     ]
    },
    {
     "name": "stderr",
     "output_type": "stream",
     "text": [
      "Processing test images:  60%|█████▉    | 1051/1757 [02:05<01:36,  7.32it/s]"
     ]
    },
    {
     "name": "stdout",
     "output_type": "stream",
     "text": [
      "Processed 1050/1757 test images\n"
     ]
    },
    {
     "name": "stderr",
     "output_type": "stream",
     "text": [
      "Processing test images:  63%|██████▎   | 1100/1757 [02:11<01:22,  7.96it/s]"
     ]
    },
    {
     "name": "stdout",
     "output_type": "stream",
     "text": [
      "Saving intermediate results: 1100 vectors\n",
      "Processed 1100/1757 test images\n"
     ]
    },
    {
     "name": "stderr",
     "output_type": "stream",
     "text": [
      "Processing test images:  66%|██████▌   | 1151/1757 [02:17<01:24,  7.16it/s]"
     ]
    },
    {
     "name": "stdout",
     "output_type": "stream",
     "text": [
      "Processed 1150/1757 test images\n"
     ]
    },
    {
     "name": "stderr",
     "output_type": "stream",
     "text": [
      "Processing test images:  68%|██████▊   | 1201/1757 [02:23<01:17,  7.15it/s]"
     ]
    },
    {
     "name": "stdout",
     "output_type": "stream",
     "text": [
      "Saving intermediate results: 1200 vectors\n",
      "Processed 1200/1757 test images\n"
     ]
    },
    {
     "name": "stderr",
     "output_type": "stream",
     "text": [
      "Processing test images:  71%|███████   | 1251/1757 [02:29<01:10,  7.21it/s]"
     ]
    },
    {
     "name": "stdout",
     "output_type": "stream",
     "text": [
      "Processed 1250/1757 test images\n"
     ]
    },
    {
     "name": "stderr",
     "output_type": "stream",
     "text": [
      "Processing test images:  74%|███████▍  | 1300/1757 [02:35<00:56,  8.12it/s]"
     ]
    },
    {
     "name": "stdout",
     "output_type": "stream",
     "text": [
      "Saving intermediate results: 1300 vectors\n",
      "Processed 1300/1757 test images\n"
     ]
    },
    {
     "name": "stderr",
     "output_type": "stream",
     "text": [
      "Processing test images:  77%|███████▋  | 1351/1757 [02:42<00:57,  7.03it/s]"
     ]
    },
    {
     "name": "stdout",
     "output_type": "stream",
     "text": [
      "Processed 1350/1757 test images\n"
     ]
    },
    {
     "name": "stderr",
     "output_type": "stream",
     "text": [
      "Processing test images:  80%|███████▉  | 1401/1757 [02:48<00:50,  7.10it/s]"
     ]
    },
    {
     "name": "stdout",
     "output_type": "stream",
     "text": [
      "Saving intermediate results: 1400 vectors\n",
      "Processed 1400/1757 test images\n"
     ]
    },
    {
     "name": "stderr",
     "output_type": "stream",
     "text": [
      "Processing test images:  83%|████████▎ | 1451/1757 [02:54<00:43,  7.01it/s]"
     ]
    },
    {
     "name": "stdout",
     "output_type": "stream",
     "text": [
      "Processed 1450/1757 test images\n"
     ]
    },
    {
     "name": "stderr",
     "output_type": "stream",
     "text": [
      "Processing test images:  85%|████████▌ | 1501/1757 [03:00<00:36,  6.97it/s]"
     ]
    },
    {
     "name": "stdout",
     "output_type": "stream",
     "text": [
      "Saving intermediate results: 1500 vectors\n",
      "Processed 1500/1757 test images\n"
     ]
    },
    {
     "name": "stderr",
     "output_type": "stream",
     "text": [
      "Processing test images:  88%|████████▊ | 1551/1757 [03:06<00:29,  7.05it/s]"
     ]
    },
    {
     "name": "stdout",
     "output_type": "stream",
     "text": [
      "Processed 1550/1757 test images\n"
     ]
    },
    {
     "name": "stderr",
     "output_type": "stream",
     "text": [
      "Processing test images:  91%|█████████ | 1600/1757 [03:12<00:19,  8.18it/s]"
     ]
    },
    {
     "name": "stdout",
     "output_type": "stream",
     "text": [
      "Saving intermediate results: 1600 vectors\n",
      "Processed 1600/1757 test images\n"
     ]
    },
    {
     "name": "stderr",
     "output_type": "stream",
     "text": [
      "Processing test images:  94%|█████████▍| 1651/1757 [03:18<00:15,  6.80it/s]"
     ]
    },
    {
     "name": "stdout",
     "output_type": "stream",
     "text": [
      "Processed 1650/1757 test images\n"
     ]
    },
    {
     "name": "stderr",
     "output_type": "stream",
     "text": [
      "Processing test images:  97%|█████████▋| 1700/1757 [03:24<00:07,  7.19it/s]"
     ]
    },
    {
     "name": "stdout",
     "output_type": "stream",
     "text": [
      "Saving intermediate results: 1700 vectors\n",
      "Processed 1700/1757 test images\n"
     ]
    },
    {
     "name": "stderr",
     "output_type": "stream",
     "text": [
      "Processing test images: 100%|█████████▉| 1751/1757 [03:31<00:00,  6.92it/s]"
     ]
    },
    {
     "name": "stdout",
     "output_type": "stream",
     "text": [
      "Processed 1750/1757 test images\n"
     ]
    },
    {
     "name": "stderr",
     "output_type": "stream",
     "text": [
      "Processing test images: 100%|██████████| 1757/1757 [03:32<00:00,  8.29it/s]\n"
     ]
    },
    {
     "name": "stdout",
     "output_type": "stream",
     "text": [
      "Saving intermediate results: 1757 vectors\n",
      "Saved DenseNet features for 1757 test images\n",
      "Finding 1-NN (single nearest neighbor) for each test image...\n"
     ]
    },
    {
     "name": "stderr",
     "output_type": "stream",
     "text": [
      "Finding 1-NN: 100%|██████████| 1757/1757 [00:22<00:00, 79.73it/s] "
     ]
    },
    {
     "name": "stdout",
     "output_type": "stream",
     "text": [
      "Saved 1-NN neighbors for 1757 test images\n"
     ]
    },
    {
     "name": "stderr",
     "output_type": "stream",
     "text": [
      "\n"
     ]
    }
   ],
   "execution_count": 2
  }
 ]
}
