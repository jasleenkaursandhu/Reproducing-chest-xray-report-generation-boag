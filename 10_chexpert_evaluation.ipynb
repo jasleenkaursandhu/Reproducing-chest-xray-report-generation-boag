{
 "nbformat": 4,
 "nbformat_minor": 0,
 "metadata": {
  "colab": {
   "provenance": [],
   "include_colab_link": true
  },
  "kernelspec": {
   "name": "python3",
   "display_name": "Python 3 (ipykernel)",
   "language": "python"
  },
  "language_info": {
   "name": "python"
  }
 },
 "cells": [
  {
   "cell_type": "markdown",
   "metadata": {
    "id": "view-in-github",
    "colab_type": "text"
   },
   "source": [
    "<a href=\"https://colab.research.google.com/github/jasleenkaursandhu/Reproducing-chest-xray-report-generation-boag/blob/main/chexpert_evaluation.ipynb\" target=\"_parent\"><img src=\"https://colab.research.google.com/assets/colab-badge.svg\" alt=\"Open In Colab\"/></a>"
   ]
  },
  {
   "metadata": {
    "id": "rZ-dMbySGkBB",
    "ExecuteTime": {
     "end_time": "2025-04-20T14:20:33.020347Z",
     "start_time": "2025-04-20T14:20:33.018501Z"
    }
   },
   "cell_type": "code",
   "source": [
    "# Define paths\n",
    "base_path = '/Users/simeon/Documents/DLH/content/mimic-cxr-project/' # For local machine\n",
    "# base_path = '/content/drive/MyDrive/mimic-cxr-project' # For Google Colab"
   ],
   "outputs": [],
   "execution_count": 5
  },
  {
   "metadata": {
    "ExecuteTime": {
     "end_time": "2025-04-20T14:20:33.662732Z",
     "start_time": "2025-04-20T14:20:33.659131Z"
    }
   },
   "cell_type": "code",
   "source": [
    "def process_reference_files(input_files, output_prefix=\"\", base_path=None):\n",
    "    \"\"\"Converts TSV files to headerless CSV files with text content only.\"\"\"\n",
    "    import csv, os\n",
    "    from time import strftime, gmtime\n",
    "\n",
    "    results = {}\n",
    "\n",
    "    for input_file in input_files:\n",
    "        file_base = os.path.splitext(os.path.basename(input_file))[0]\n",
    "        output_file = f\"{output_prefix}{file_base}.csv\"\n",
    "\n",
    "        input_path = input_file\n",
    "        output_path = output_file\n",
    "\n",
    "        if base_path:\n",
    "            if not os.path.isabs(input_file):\n",
    "                input_path = os.path.join(base_path, input_file)\n",
    "            output_path = os.path.join(base_path, \"output\", output_file)\n",
    "\n",
    "        ref_reports = {}\n",
    "\n",
    "        with open(input_path, 'r') as f:\n",
    "            first_line = f.readline().strip()\n",
    "            has_header = 'dicom_id' in first_line and '\\t' in first_line\n",
    "\n",
    "            if not has_header:\n",
    "                parts = first_line.split('\\t')\n",
    "                if len(parts) >= 2:\n",
    "                    ref_reports[parts[0]] = '\\t'.join(parts[1:])\n",
    "\n",
    "            for line in f:\n",
    "                parts = line.strip().split('\\t')\n",
    "                if len(parts) >= 2:\n",
    "                    ref_reports[parts[0]] = '\\t'.join(parts[1:])\n",
    "\n",
    "        os.makedirs(os.path.dirname(output_path), exist_ok=True)\n",
    "\n",
    "        with open(output_path, 'w', newline='') as f:\n",
    "            writer = csv.writer(f, quoting=csv.QUOTE_MINIMAL)\n",
    "            for _, text in sorted(ref_reports.items()):\n",
    "                writer.writerow([text])\n",
    "\n",
    "        print(f\"Processed {len(ref_reports)} reports from {input_file}\")\n",
    "        print(f\"Output written to {output_path}\")\n",
    "\n",
    "        results[file_base] = ref_reports\n",
    "\n",
    "    print(f\"Completed processing {len(input_files)} files at {strftime('%Y-%m-%d %H:%M:%S', gmtime())}\")\n",
    "\n",
    "    return results"
   ],
   "outputs": [],
   "execution_count": 6
  },
  {
   "metadata": {
    "ExecuteTime": {
     "end_time": "2025-04-20T14:20:35.456589Z",
     "start_time": "2025-04-20T14:20:35.416792Z"
    }
   },
   "cell_type": "code",
   "source": [
    "# List of input files\n",
    "input_files = [\n",
    "    \"output/random.tsv\",\n",
    "    \"output/1-gram.tsv\",\n",
    "    \"output/2-gram.tsv\",\n",
    "    \"output/3-gram.tsv\",\n",
    "    \"output/reference.tsv\",\n",
    "    \"output/1nn_reports.tsv\"\n",
    "]\n",
    "\n",
    "# Process all files\n",
    "results = process_reference_files(input_files, output_prefix=\"\", base_path=base_path)\n"
   ],
   "outputs": [
    {
     "name": "stdout",
     "output_type": "stream",
     "text": [
      "Processed 1757 reports from output/random.tsv\n",
      "Output written to /Users/simeon/Documents/DLH/content/mimic-cxr-project/output/random.csv\n",
      "Processed 1717 reports from output/1-gram.tsv\n",
      "Output written to /Users/simeon/Documents/DLH/content/mimic-cxr-project/output/1-gram.csv\n",
      "Processed 1757 reports from output/2-gram.tsv\n",
      "Output written to /Users/simeon/Documents/DLH/content/mimic-cxr-project/output/2-gram.csv\n",
      "Processed 1757 reports from output/3-gram.tsv\n",
      "Output written to /Users/simeon/Documents/DLH/content/mimic-cxr-project/output/3-gram.csv\n",
      "Processed 1757 reports from output/reference.tsv\n",
      "Output written to /Users/simeon/Documents/DLH/content/mimic-cxr-project/output/reference.csv\n",
      "Processed 1757 reports from output/1nn_reports.tsv\n",
      "Output written to /Users/simeon/Documents/DLH/content/mimic-cxr-project/output/1nn_reports.csv\n",
      "Completed processing 6 files at 2025-04-20 14:20:35\n"
     ]
    }
   ],
   "execution_count": 7
  },
  {
   "metadata": {
    "id": "aCnQm_vdrooM",
    "ExecuteTime": {
     "end_time": "2025-04-20T14:20:37.679815Z",
     "start_time": "2025-04-20T14:20:37.678003Z"
    }
   },
   "cell_type": "code",
   "source": [
    "# docker_image_name = 'uwizeye2/chexpert-labeler:amd64'\n",
    "# !docker run --platform linux/amd64 -v {base_path}output:/data {docker_image_name} python label.py --reports_path /data/reference_headerless.csv --output_path /data/labeled_reference.csv --verbose"
   ],
   "outputs": [],
   "execution_count": 8
  },
  {
   "metadata": {
    "ExecuteTime": {
     "end_time": "2025-04-20T15:45:01.598025Z",
     "start_time": "2025-04-20T14:20:42.957893Z"
    }
   },
   "cell_type": "code",
   "source": [
    "import subprocess\n",
    "import time\n",
    "\n",
    "base_path = '/Users/simeon/Documents/DLH/content/mimic-cxr-project/'\n",
    "docker_image_name = 'uwizeye2/chexpert-labeler:amd64'\n",
    "container_name = 'my_container'\n",
    "\n",
    "files = [\n",
    "    \"random.csv\",\n",
    "    \"1-gram.csv\",\n",
    "    \"2-gram.csv\",\n",
    "    \"3-gram.csv\",\n",
    "    \"reference.csv\",\n",
    "    \"1nn_reports.csv\"\n",
    "]\n",
    "\n",
    "# First, ensure the container is not running\n",
    "subprocess.run(f\"docker ps -a --format '{{{{.Names}}}}' | grep -q '^{container_name}$' && docker rm -f {container_name}\", shell=True)\n",
    "\n",
    "# Process each file\n",
    "for file in files:\n",
    "    input_path = f\"/data/{file}\"\n",
    "    output_path = f\"/data/labeled_{file}\"\n",
    "\n",
    "    print(f\"Processing {file}...\")\n",
    "\n",
    "    # Run the command directly with docker run each time (no container reuse due to Python version issue)\n",
    "    command = f\"docker run --rm --platform linux/amd64 -v {base_path}output:/data {docker_image_name} python label.py --reports_path {input_path} --output_path {output_path} --verbose\"\n",
    "\n",
    "    # Execute the command\n",
    "    print(f\"Executing: {command}\")\n",
    "    result = subprocess.run(command, shell=True)\n",
    "\n",
    "    if result.returncode != 0:\n",
    "        print(f\"Error processing {file}, return code: {result.returncode}\")\n",
    "    else:\n",
    "        print(f\"Successfully processed {file}\")\n",
    "\n",
    "    print(\"-\" * 50)\n",
    "\n",
    "print(\"All files processed!\")"
   ],
   "outputs": [
    {
     "name": "stdout",
     "output_type": "stream",
     "text": [
      "Processing random.csv...\n",
      "Executing: docker run --rm --platform linux/amd64 -v /Users/simeon/Documents/DLH/content/mimic-cxr-project/output:/data uwizeye2/chexpert-labeler:amd64 python label.py --reports_path /data/random.csv --output_path /data/labeled_random.csv --verbose\n"
     ]
    },
    {
     "name": "stderr",
     "output_type": "stream",
     "text": [
      "100%|██████████| 1757/1757 [00:01<00:00, 1529.75it/s]\n",
      " 13%|█▎        | 227/1757 [01:47<42:58,  1.69s/it]ERROR:root:No parse tree for sentence: 539\n",
      "NoneType: None\n",
      " 33%|███▎      | 585/1757 [13:34<06:35,  2.96it/s]   ERROR:root:Cannot process sentence 82 in 586\n",
      "Traceback (most recent call last):\n",
      "  File \"/app/chexpert-labeler/NegBio/negbio/pipeline/ptb2ud.py\", line 120, in convert_doc\n",
      "    has_lemmas=self._backend == 'jpype')\n",
      "TypeError: 'NoneType' object is not iterable\n",
      " 36%|███▌      | 633/1757 [13:54<12:26,  1.51it/s]ERROR:root:Cannot process sentence 0 in 633\n",
      "Traceback (most recent call last):\n",
      "  File \"/app/chexpert-labeler/NegBio/negbio/pipeline/ptb2ud.py\", line 120, in convert_doc\n",
      "    has_lemmas=self._backend == 'jpype')\n",
      "TypeError: 'NoneType' object is not iterable\n",
      " 74%|███████▍  | 1300/1757 [19:46<05:49,  1.31it/s]ERROR:root:Cannot process sentence 217 in 1300\n",
      "Traceback (most recent call last):\n",
      "  File \"/app/chexpert-labeler/NegBio/negbio/pipeline/ptb2ud.py\", line 120, in convert_doc\n",
      "    has_lemmas=self._backend == 'jpype')\n",
      "TypeError: 'NoneType' object is not iterable\n",
      " 93%|█████████▎| 1634/1757 [22:44<01:14,  1.65it/s]ERROR:root:Cannot process sentence 163 in 1635\n",
      "Traceback (most recent call last):\n",
      "  File \"/app/chexpert-labeler/NegBio/negbio/pipeline/ptb2ud.py\", line 120, in convert_doc\n",
      "    has_lemmas=self._backend == 'jpype')\n",
      "TypeError: 'NoneType' object is not iterable\n",
      " 94%|█████████▍| 1651/1757 [22:52<00:38,  2.74it/s]ERROR:root:No parse tree for sentence: 883\n",
      "NoneType: None\n",
      "100%|██████████| 1757/1757 [23:53<00:00,  2.53it/s]\n",
      "100%|██████████| 1757/1757 [00:00<00:00, 110822.93it/s]\n"
     ]
    },
    {
     "name": "stdout",
     "output_type": "stream",
     "text": [
      "Loading mention phrases for 14 observations.\n",
      "Loading unmention phrases for 3 observations.\n",
      "Extracting mentions...\n",
      "Classifying mentions...\n",
      "Aggregating mentions...\n",
      "Writing reports and labels to /data/labeled_random.csv.\n",
      "Successfully processed random.csv\n",
      "--------------------------------------------------\n",
      "Processing 1-gram.csv...\n",
      "Executing: docker run --rm --platform linux/amd64 -v /Users/simeon/Documents/DLH/content/mimic-cxr-project/output:/data uwizeye2/chexpert-labeler:amd64 python label.py --reports_path /data/1-gram.csv --output_path /data/labeled_1-gram.csv --verbose\n"
     ]
    },
    {
     "name": "stderr",
     "output_type": "stream",
     "text": [
      "100%|██████████| 1717/1717 [00:00<00:00, 9419.10it/s]\n",
      "  9%|▊         | 146/1717 [00:01<01:10, 22.23it/s]ERROR:root:No parse tree for sentence: 0\n",
      "NoneType: None\n",
      " 18%|█▊        | 312/1717 [00:01<00:14, 97.06it/s]ERROR:root:No parse tree for sentence: 0\n",
      "NoneType: None\n",
      "ERROR:root:No parse tree for sentence: 0\n",
      "NoneType: None\n",
      " 30%|██▉       | 514/1717 [00:02<00:05, 238.46it/s]ERROR:root:No parse tree for sentence: 0\n",
      "NoneType: None\n",
      " 66%|██████▋   | 1141/1717 [00:04<00:01, 401.19it/s]ERROR:root:No parse tree for sentence: 0\n",
      "NoneType: None\n",
      " 76%|███████▌  | 1302/1717 [00:04<00:01, 359.52it/s]ERROR:root:No parse tree for sentence: 0\n",
      "NoneType: None\n",
      " 81%|████████  | 1391/1717 [00:04<00:00, 351.76it/s]ERROR:root:No parse tree for sentence: 0\n",
      "NoneType: None\n",
      "100%|██████████| 1717/1717 [00:05<00:00, 301.69it/s]\n",
      "100%|██████████| 1717/1717 [00:00<00:00, 399690.31it/s]\n"
     ]
    },
    {
     "name": "stdout",
     "output_type": "stream",
     "text": [
      "Loading mention phrases for 14 observations.\n",
      "Loading unmention phrases for 3 observations.\n",
      "Extracting mentions...\n",
      "Classifying mentions...\n",
      "Aggregating mentions...\n",
      "Writing reports and labels to /data/labeled_1-gram.csv.\n",
      "Successfully processed 1-gram.csv\n",
      "--------------------------------------------------\n",
      "Processing 2-gram.csv...\n",
      "Executing: docker run --rm --platform linux/amd64 -v /Users/simeon/Documents/DLH/content/mimic-cxr-project/output:/data uwizeye2/chexpert-labeler:amd64 python label.py --reports_path /data/2-gram.csv --output_path /data/labeled_2-gram.csv --verbose\n"
     ]
    },
    {
     "name": "stderr",
     "output_type": "stream",
     "text": [
      "100%|██████████| 1757/1757 [00:01<00:00, 1669.58it/s]\n",
      " 25%|██▍       | 433/1757 [04:02<09:45,  2.26it/s]  ERROR:root:Cannot process sentence 112 in 433\n",
      "Traceback (most recent call last):\n",
      "  File \"/app/chexpert-labeler/NegBio/negbio/pipeline/ptb2ud.py\", line 120, in convert_doc\n",
      "    has_lemmas=self._backend == 'jpype')\n",
      "TypeError: 'NoneType' object is not iterable\n",
      " 29%|██▊       | 501/1757 [04:43<12:34,  1.66it/s]ERROR:root:No parse tree for sentence: 0\n",
      "NoneType: None\n",
      " 31%|███       | 544/1757 [05:11<11:21,  1.78it/s]ERROR:root:No parse tree for sentence: 0\n",
      "NoneType: None\n",
      " 32%|███▏      | 556/1757 [05:15<12:08,  1.65it/s]ERROR:root:No parse tree for sentence: 0\n",
      "NoneType: None\n",
      " 61%|██████    | 1076/1757 [11:06<06:24,  1.77it/s]ERROR:root:No parse tree for sentence: 0\n",
      "NoneType: None\n",
      " 78%|███████▊  | 1368/1757 [13:57<02:00,  3.24it/s]ERROR:root:No parse tree for sentence: 0\n",
      "NoneType: None\n",
      " 91%|█████████▏| 1605/1757 [17:23<01:29,  1.69it/s]ERROR:root:Cannot process sentence 23 in 1605\n",
      "Traceback (most recent call last):\n",
      "  File \"/app/chexpert-labeler/NegBio/negbio/pipeline/ptb2ud.py\", line 120, in convert_doc\n",
      "    has_lemmas=self._backend == 'jpype')\n",
      "TypeError: 'NoneType' object is not iterable\n",
      "100%|██████████| 1757/1757 [19:06<00:00,  1.88it/s]\n",
      "100%|██████████| 1757/1757 [00:00<00:00, 23949.93it/s]\n"
     ]
    },
    {
     "name": "stdout",
     "output_type": "stream",
     "text": [
      "Loading mention phrases for 14 observations.\n",
      "Loading unmention phrases for 3 observations.\n",
      "Extracting mentions...\n",
      "Classifying mentions...\n",
      "Aggregating mentions...\n",
      "Writing reports and labels to /data/labeled_2-gram.csv.\n",
      "Successfully processed 2-gram.csv\n",
      "--------------------------------------------------\n",
      "Processing 3-gram.csv...\n",
      "Executing: docker run --rm --platform linux/amd64 -v /Users/simeon/Documents/DLH/content/mimic-cxr-project/output:/data uwizeye2/chexpert-labeler:amd64 python label.py --reports_path /data/3-gram.csv --output_path /data/labeled_3-gram.csv --verbose\n"
     ]
    },
    {
     "name": "stderr",
     "output_type": "stream",
     "text": [
      "100%|██████████| 1757/1757 [00:01<00:00, 1656.47it/s]\n",
      " 57%|█████▋    | 1004/1757 [07:13<03:47,  3.31it/s]ERROR:root:Cannot process sentence 26 in 1004\n",
      "Traceback (most recent call last):\n",
      "  File \"/app/chexpert-labeler/NegBio/negbio/pipeline/ptb2ud.py\", line 120, in convert_doc\n",
      "    has_lemmas=self._backend == 'jpype')\n",
      "TypeError: 'NoneType' object is not iterable\n",
      " 59%|█████▊    | 1029/1757 [07:27<04:57,  2.45it/s]ERROR:root:No parse tree for sentence: 0\n",
      "NoneType: None\n",
      " 61%|██████    | 1066/1757 [07:41<02:41,  4.27it/s]ERROR:root:Cannot process sentence 191 in 1066\n",
      "Traceback (most recent call last):\n",
      "  File \"/app/chexpert-labeler/NegBio/negbio/pipeline/ptb2ud.py\", line 120, in convert_doc\n",
      "    has_lemmas=self._backend == 'jpype')\n",
      "TypeError: 'NoneType' object is not iterable\n",
      " 69%|██████▉   | 1209/1757 [08:45<03:13,  2.83it/s]ERROR:root:No parse tree for sentence: 0\n",
      "NoneType: None\n",
      " 74%|███████▎  | 1293/1757 [09:22<03:24,  2.27it/s]ERROR:root:Cannot process sentence 300 in 1293\n",
      "Traceback (most recent call last):\n",
      "  File \"/app/chexpert-labeler/NegBio/negbio/pipeline/ptb2ud.py\", line 120, in convert_doc\n",
      "    has_lemmas=self._backend == 'jpype')\n",
      "TypeError: 'NoneType' object is not iterable\n",
      " 95%|█████████▌| 1675/1757 [12:26<01:29,  1.09s/it]ERROR:root:No parse tree for sentence: 0\n",
      "NoneType: None\n",
      "100%|██████████| 1757/1757 [13:07<00:00,  1.14it/s]\n",
      "100%|██████████| 1757/1757 [00:00<00:00, 23194.25it/s]\n"
     ]
    },
    {
     "name": "stdout",
     "output_type": "stream",
     "text": [
      "Loading mention phrases for 14 observations.\n",
      "Loading unmention phrases for 3 observations.\n",
      "Extracting mentions...\n",
      "Classifying mentions...\n",
      "Aggregating mentions...\n",
      "Writing reports and labels to /data/labeled_3-gram.csv.\n",
      "Successfully processed 3-gram.csv\n",
      "--------------------------------------------------\n",
      "Processing reference.csv...\n",
      "Executing: docker run --rm --platform linux/amd64 -v /Users/simeon/Documents/DLH/content/mimic-cxr-project/output:/data uwizeye2/chexpert-labeler:amd64 python label.py --reports_path /data/reference.csv --output_path /data/labeled_reference.csv --verbose\n"
     ]
    },
    {
     "name": "stderr",
     "output_type": "stream",
     "text": [
      "100%|██████████| 1757/1757 [00:01<00:00, 1503.30it/s]\n",
      " 62%|██████▏   | 1091/1757 [07:58<04:29,  2.48it/s]ERROR:root:Cannot process sentence 114 in 1091\n",
      "Traceback (most recent call last):\n",
      "  File \"/app/chexpert-labeler/NegBio/negbio/pipeline/ptb2ud.py\", line 120, in convert_doc\n",
      "    has_lemmas=self._backend == 'jpype')\n",
      "TypeError: 'NoneType' object is not iterable\n",
      " 72%|███████▏  | 1267/1757 [09:18<03:26,  2.38it/s]ERROR:root:No parse tree for sentence: 0\n",
      "NoneType: None\n",
      " 91%|█████████▏| 1606/1757 [11:57<01:31,  1.65it/s]ERROR:root:Cannot process sentence 31 in 1606\n",
      "Traceback (most recent call last):\n",
      "  File \"/app/chexpert-labeler/NegBio/negbio/pipeline/ptb2ud.py\", line 120, in convert_doc\n",
      "    has_lemmas=self._backend == 'jpype')\n",
      "TypeError: 'NoneType' object is not iterable\n",
      "100%|██████████| 1757/1757 [13:33<00:00,  1.02it/s]\n",
      "100%|██████████| 1757/1757 [00:00<00:00, 93927.86it/s]\n"
     ]
    },
    {
     "name": "stdout",
     "output_type": "stream",
     "text": [
      "Loading mention phrases for 14 observations.\n",
      "Loading unmention phrases for 3 observations.\n",
      "Extracting mentions...\n",
      "Classifying mentions...\n",
      "Aggregating mentions...\n",
      "Writing reports and labels to /data/labeled_reference.csv.\n",
      "Successfully processed reference.csv\n",
      "--------------------------------------------------\n",
      "Processing 1nn_reports.csv...\n",
      "Executing: docker run --rm --platform linux/amd64 -v /Users/simeon/Documents/DLH/content/mimic-cxr-project/output:/data uwizeye2/chexpert-labeler:amd64 python label.py --reports_path /data/1nn_reports.csv --output_path /data/labeled_1nn_reports.csv --verbose\n"
     ]
    },
    {
     "name": "stderr",
     "output_type": "stream",
     "text": [
      "100%|██████████| 1757/1757 [00:01<00:00, 1495.90it/s]\n",
      " 10%|█         | 181/1757 [01:10<13:52,  1.89it/s]ERROR:root:No parse tree for sentence: 0\n",
      "NoneType: None\n",
      " 22%|██▏       | 381/1757 [02:31<07:08,  3.21it/s]ERROR:root:No parse tree for sentence: 0\n",
      "NoneType: None\n",
      " 23%|██▎       | 397/1757 [02:38<07:58,  2.84it/s]ERROR:root:No parse tree for sentence: 0\n",
      "NoneType: None\n",
      " 24%|██▍       | 428/1757 [02:56<11:19,  1.96it/s]ERROR:root:Cannot process sentence 337 in 428\n",
      "Traceback (most recent call last):\n",
      "  File \"/app/chexpert-labeler/NegBio/negbio/pipeline/ptb2ud.py\", line 120, in convert_doc\n",
      "    has_lemmas=self._backend == 'jpype')\n",
      "TypeError: 'NoneType' object is not iterable\n",
      " 28%|██▊       | 489/1757 [03:22<08:13,  2.57it/s]ERROR:root:No parse tree for sentence: 0\n",
      "NoneType: None\n",
      " 34%|███▍      | 595/1757 [04:06<05:55,  3.27it/s]ERROR:root:Cannot process sentence 337 in 595\n",
      "Traceback (most recent call last):\n",
      "  File \"/app/chexpert-labeler/NegBio/negbio/pipeline/ptb2ud.py\", line 120, in convert_doc\n",
      "    has_lemmas=self._backend == 'jpype')\n",
      "TypeError: 'NoneType' object is not iterable\n",
      " 39%|███▉      | 690/1757 [04:52<05:51,  3.03it/s]ERROR:root:No parse tree for sentence: 0\n",
      "NoneType: None\n",
      " 55%|█████▌    | 974/1757 [06:54<04:24,  2.96it/s]ERROR:root:No parse tree for sentence: 0\n",
      "NoneType: None\n",
      " 65%|██████▍   | 1134/1757 [08:12<03:49,  2.72it/s]ERROR:root:Cannot process sentence 297 in 1134\n",
      "Traceback (most recent call last):\n",
      "  File \"/app/chexpert-labeler/NegBio/negbio/pipeline/ptb2ud.py\", line 120, in convert_doc\n",
      "    has_lemmas=self._backend == 'jpype')\n",
      "TypeError: 'NoneType' object is not iterable\n",
      " 89%|████████▊ | 1559/1757 [11:36<01:52,  1.76it/s]ERROR:root:Cannot process sentence 0 in 1559\n",
      "Traceback (most recent call last):\n",
      "  File \"/app/chexpert-labeler/NegBio/negbio/pipeline/ptb2ud.py\", line 120, in convert_doc\n",
      "    has_lemmas=self._backend == 'jpype')\n",
      "TypeError: 'NoneType' object is not iterable\n",
      " 96%|█████████▌| 1678/1757 [12:39<00:59,  1.33it/s]ERROR:root:Cannot process sentence 217 in 1678\n",
      "Traceback (most recent call last):\n",
      "  File \"/app/chexpert-labeler/NegBio/negbio/pipeline/ptb2ud.py\", line 120, in convert_doc\n",
      "    has_lemmas=self._backend == 'jpype')\n",
      "TypeError: 'NoneType' object is not iterable\n",
      "100%|██████████| 1757/1757 [13:20<00:00,  2.12it/s]\n",
      "100%|██████████| 1757/1757 [00:00<00:00, 149799.62it/s]\n"
     ]
    },
    {
     "name": "stdout",
     "output_type": "stream",
     "text": [
      "Loading mention phrases for 14 observations.\n",
      "Loading unmention phrases for 3 observations.\n",
      "Extracting mentions...\n",
      "Classifying mentions...\n",
      "Aggregating mentions...\n",
      "Writing reports and labels to /data/labeled_1nn_reports.csv.\n",
      "Successfully processed 1nn_reports.csv\n",
      "--------------------------------------------------\n",
      "All files processed!\n"
     ]
    }
   ],
   "execution_count": 9
  },
  {
   "cell_type": "code",
   "source": [
    "# Import necessary libraries\n",
    "import pandas as pd\n",
    "import numpy as np\n",
    "import matplotlib.pyplot as plt\n",
    "from sklearn.metrics import f1_score, precision_score, accuracy_score\n",
    "import os\n",
    "from time import strftime, gmtime"
   ],
   "metadata": {
    "id": "PySNzwam6ss-",
    "ExecuteTime": {
     "end_time": "2025-04-20T15:55:21.005085Z",
     "start_time": "2025-04-20T15:55:17.738761Z"
    }
   },
   "outputs": [],
   "execution_count": 10
  },
  {
   "cell_type": "code",
   "source": [
    "# Mount Google Drive\n",
    "# from google.colab import drive\n",
    "# drive.mount('/content/drive')\n",
    "\n",
    "# Define paths\n",
    "# base_path = '/content/drive/MyDrive/mimic-cxr-project'\n",
    "base_path = '/Users/simeon/Documents/DLH/content/mimic-cxr-project/' # For local machine\n",
    "output_dir = os.path.join(base_path, 'output')"
   ],
   "metadata": {
    "colab": {
     "base_uri": "https://localhost:8080/"
    },
    "id": "Ors7K14dLPVw",
    "outputId": "cf72527d-a08d-47e8-e359-07d209cbd524",
    "ExecuteTime": {
     "end_time": "2025-04-20T15:57:33.085350Z",
     "start_time": "2025-04-20T15:57:33.081422Z"
    }
   },
   "outputs": [],
   "execution_count": 12
  },
  {
   "cell_type": "code",
   "source": [
    "# Load labeled files\n",
    "print(\"Loading labeled files...\")\n",
    "reference_df = pd.read_csv(os.path.join(output_dir, 'labeled_reference.csv'))\n",
    "random_df = pd.read_csv(os.path.join(output_dir, 'labeled_random.csv'))\n",
    "one_gram_df = pd.read_csv(os.path.join(output_dir, 'labeled_1-gram.csv'))\n",
    "two_gram_df = pd.read_csv(os.path.join(output_dir, 'labeled_2-gram.csv'))\n",
    "three_gram_df = pd.read_csv(os.path.join(output_dir, 'labeled_3-gram.csv'))\n",
    "knn_df = pd.read_csv(os.path.join(output_dir, 'labeled_1nn_reports.csv'))\n",
    "\n",
    "print(f\"Reference shape: {reference_df.shape}\")\n",
    "print(f\"Random shape: {random_df.shape}\")\n",
    "print(f\"1-gram shape: {one_gram_df.shape}\")\n",
    "print(f\"2-gram shape: {two_gram_df.shape}\")\n",
    "print(f\"3-gram shape: {three_gram_df.shape}\")\n",
    "print(f\"KNN shape: {knn_df.shape}\")"
   ],
   "metadata": {
    "colab": {
     "base_uri": "https://localhost:8080/"
    },
    "id": "vWrZYzDJLStI",
    "outputId": "a2f303c7-354c-4873-ad11-c5b838df6967",
    "ExecuteTime": {
     "end_time": "2025-04-20T15:57:35.784792Z",
     "start_time": "2025-04-20T15:57:35.714161Z"
    }
   },
   "outputs": [
    {
     "name": "stdout",
     "output_type": "stream",
     "text": [
      "Loading labeled files...\n",
      "Reference shape: (1757, 15)\n",
      "Random shape: (1757, 15)\n",
      "1-gram shape: (1717, 15)\n",
      "2-gram shape: (1757, 15)\n",
      "3-gram shape: (1757, 15)\n",
      "KNN shape: (1757, 15)\n"
     ]
    }
   ],
   "execution_count": 13
  },
  {
   "cell_type": "code",
   "source": [
    "# Get all the categories (columns) except the 'Reports' column\n",
    "categories = [col for col in reference_df.columns if col != 'Reports']\n",
    "print(f\"\\nCategories: {categories}\")"
   ],
   "metadata": {
    "colab": {
     "base_uri": "https://localhost:8080/"
    },
    "id": "2hQod-L5LW63",
    "outputId": "65c36b64-d31e-421a-94ca-f3d48e49e260",
    "ExecuteTime": {
     "end_time": "2025-04-20T15:57:42.335538Z",
     "start_time": "2025-04-20T15:57:42.333332Z"
    }
   },
   "outputs": [
    {
     "name": "stdout",
     "output_type": "stream",
     "text": [
      "\n",
      "Categories: ['No Finding', 'Enlarged Cardiomediastinum', 'Cardiomegaly', 'Lung Lesion', 'Lung Opacity', 'Edema', 'Consolidation', 'Pneumonia', 'Atelectasis', 'Pneumothorax', 'Pleural Effusion', 'Pleural Other', 'Fracture', 'Support Devices']\n"
     ]
    }
   ],
   "execution_count": 14
  },
  {
   "cell_type": "code",
   "source": [
    "# Define evaluation function with sample matching\n",
    "def calculate_metrics(true_df, pred_df):\n",
    "    # Find common indices\n",
    "    common_indices = true_df.index.intersection(pred_df.index)\n",
    "    if len(common_indices) == 0:\n",
    "        # If no common indices found by index, try matching by report text\n",
    "        if 'Reports' in true_df.columns and 'Reports' in pred_df.columns:\n",
    "            # Create dictionaries mapping reports to their rows\n",
    "            true_reports = {report: i for i, report in enumerate(true_df['Reports'].values)}\n",
    "            pred_reports = {report: i for i, report in enumerate(pred_df['Reports'].values)}\n",
    "            # Find common reports\n",
    "            common_reports = set(true_reports.keys()).intersection(set(pred_reports.keys()))\n",
    "            if common_reports:\n",
    "                print(f\"Found {len(common_reports)} common reports by text matching\")\n",
    "                # Extract rows with common reports\n",
    "                true_subset = true_df.loc[[true_reports[report] for report in common_reports]]\n",
    "                pred_subset = pred_df.loc[[pred_reports[report] for report in common_reports]]\n",
    "            else:\n",
    "                # No matching by text either, try using the first rows\n",
    "                print(\"No common samples found. Using first min(len1, len2) rows.\")\n",
    "                min_rows = min(len(true_df), len(pred_df))\n",
    "                true_subset = true_df.iloc[:min_rows]\n",
    "                pred_subset = pred_df.iloc[:min_rows]\n",
    "        else:\n",
    "            # No reports column, try matching row by row\n",
    "            print(\"No common indices found. Using first min(len1, len2) rows.\")\n",
    "            min_rows = min(len(true_df), len(pred_df))\n",
    "            true_subset = true_df.iloc[:min_rows]\n",
    "            pred_subset = pred_df.iloc[:min_rows]\n",
    "    else:\n",
    "        print(f\"Found {len(common_indices)} common indices\")\n",
    "        true_subset = true_df.loc[common_indices]\n",
    "        pred_subset = pred_df.loc[common_indices]\n",
    "\n",
    "    # Ensure all categories exist in both dataframes\n",
    "    eval_categories = [col for col in categories if col in true_subset.columns and col in pred_subset.columns]\n",
    "\n",
    "    # Fill missing values with -2 (not mentioned)\n",
    "    true_subset = true_subset[eval_categories].fillna(-2)\n",
    "    pred_subset = pred_subset[eval_categories].fillna(-2)\n",
    "\n",
    "    # For accuracy: Calculate per-category accuracy\n",
    "    accuracies = {}\n",
    "    for category in eval_categories:\n",
    "        accuracy = accuracy_score(true_subset[category], pred_subset[category])\n",
    "        accuracies[category] = accuracy\n",
    "\n",
    "    # For precision: Calculate per-category precision (for positive class only)\n",
    "    true_binary = (true_subset == 1).astype(int)\n",
    "    pred_binary = (pred_subset == 1).astype(int)\n",
    "\n",
    "    precisions = {}\n",
    "    for category in eval_categories:\n",
    "        if sum(pred_binary[category]) > 0:  # Only if there are predicted positives\n",
    "            precision = precision_score(true_binary[category], pred_binary[category], zero_division=0)\n",
    "            precisions[category] = precision\n",
    "        else:\n",
    "            precisions[category] = 0.0\n",
    "\n",
    "    # For F1: Calculate per-category F1\n",
    "    f1_scores = {}\n",
    "    for category in eval_categories:\n",
    "        f1 = f1_score(true_binary[category], pred_binary[category], zero_division=0)\n",
    "        f1_scores[category] = f1\n",
    "\n",
    "    # Calculate macro averages\n",
    "    macro_accuracy = np.mean(list(accuracies.values()))\n",
    "    macro_precision = np.mean(list(precisions.values()))\n",
    "    macro_f1 = np.mean(list(f1_scores.values()))\n",
    "\n",
    "    # Calculate micro averages (overall)\n",
    "    micro_f1 = f1_score(true_binary.values.flatten(), pred_binary.values.flatten(), zero_division=0)\n",
    "\n",
    "    # Return all metrics\n",
    "    return {\n",
    "        'category_f1': f1_scores,\n",
    "        'category_precision': precisions,\n",
    "        'category_accuracy': accuracies,\n",
    "        'macro_accuracy': macro_accuracy,\n",
    "        'macro_precision': macro_precision,\n",
    "        'macro_f1': macro_f1,\n",
    "        'micro_f1': micro_f1\n",
    "    }"
   ],
   "metadata": {
    "id": "azh-pRUX63h1",
    "ExecuteTime": {
     "end_time": "2025-04-20T15:57:43.605669Z",
     "start_time": "2025-04-20T15:57:43.599547Z"
    }
   },
   "outputs": [],
   "execution_count": 15
  },
  {
   "metadata": {
    "id": "4u9lpvvIGkBD",
    "outputId": "7d780ea9-2dc1-4d62-885c-d8076069ce9f",
    "colab": {
     "base_uri": "https://localhost:8080/"
    },
    "ExecuteTime": {
     "end_time": "2025-04-20T15:57:45.740284Z",
     "start_time": "2025-04-20T15:57:45.589861Z"
    }
   },
   "cell_type": "code",
   "source": [
    "# Evaluate models\n",
    "print(\"\\nEvaluating Random Model...\")\n",
    "random_metrics = calculate_metrics(reference_df, random_df)\n",
    "\n",
    "print(\"\\nEvaluating 1-gram Model...\")\n",
    "one_gram_metrics = calculate_metrics(reference_df, one_gram_df)\n",
    "\n",
    "print(\"\\nEvaluating 2-gram Model...\")\n",
    "two_gram_metrics = calculate_metrics(reference_df, two_gram_df)\n",
    "\n",
    "print(\"\\nEvaluating 3-gram Model...\")\n",
    "three_gram_metrics = calculate_metrics(reference_df, three_gram_df)\n",
    "\n",
    "print(\"\\nEvaluating KNN Model...\")\n",
    "knn_metrics = calculate_metrics(reference_df, knn_df)"
   ],
   "outputs": [
    {
     "name": "stdout",
     "output_type": "stream",
     "text": [
      "\n",
      "Evaluating Random Model...\n",
      "Found 1757 common indices\n",
      "\n",
      "Evaluating 1-gram Model...\n",
      "Found 1717 common indices\n",
      "\n",
      "Evaluating 2-gram Model...\n",
      "Found 1757 common indices\n",
      "\n",
      "Evaluating 3-gram Model...\n",
      "Found 1757 common indices\n",
      "\n",
      "Evaluating KNN Model...\n",
      "Found 1757 common indices\n"
     ]
    }
   ],
   "execution_count": 16
  },
  {
   "cell_type": "code",
   "source": [
    "# Print summary results\n",
    "print(\"\\n===== Summary Results =====\")\n",
    "models = {\n",
    "    'Random': random_metrics,\n",
    "    '1-gram': one_gram_metrics,\n",
    "    '2-gram': two_gram_metrics,\n",
    "    '3-gram': three_gram_metrics,\n",
    "    'KNN': knn_metrics\n",
    "}\n",
    "\n",
    "for model_name, metrics in models.items():\n",
    "    print(f\"\\n{model_name} Model:\")\n",
    "    print(f\"  Macro Accuracy: {metrics['macro_accuracy']:.4f}\")\n",
    "    print(f\"  Macro Precision: {metrics['macro_precision']:.4f}\")\n",
    "    print(f\"  Macro F1: {metrics['macro_f1']:.4f}\")\n",
    "    print(f\"  Micro F1: {metrics['micro_f1']:.4f}\")"
   ],
   "metadata": {
    "id": "vcgUexq96-ty",
    "colab": {
     "base_uri": "https://localhost:8080/"
    },
    "outputId": "048bfc62-0db9-4c69-8c38-b2088ec781d2",
    "ExecuteTime": {
     "end_time": "2025-04-20T15:57:47.627565Z",
     "start_time": "2025-04-20T15:57:47.624849Z"
    }
   },
   "outputs": [
    {
     "name": "stdout",
     "output_type": "stream",
     "text": [
      "\n",
      "===== Summary Results =====\n",
      "\n",
      "Random Model:\n",
      "  Macro Accuracy: 0.5849\n",
      "  Macro Precision: 0.1606\n",
      "  Macro F1: 0.1612\n",
      "  Micro F1: 0.2955\n",
      "\n",
      "1-gram Model:\n",
      "  Macro Accuracy: 0.6139\n",
      "  Macro Precision: 0.2240\n",
      "  Macro F1: 0.0347\n",
      "  Micro F1: 0.1124\n",
      "\n",
      "2-gram Model:\n",
      "  Macro Accuracy: 0.5941\n",
      "  Macro Precision: 0.1776\n",
      "  Macro F1: 0.1690\n",
      "  Micro F1: 0.2799\n",
      "\n",
      "3-gram Model:\n",
      "  Macro Accuracy: 0.6039\n",
      "  Macro Precision: 0.1899\n",
      "  Macro F1: 0.1753\n",
      "  Micro F1: 0.2966\n",
      "\n",
      "KNN Model:\n",
      "  Macro Accuracy: 0.6162\n",
      "  Macro Precision: 0.2129\n",
      "  Macro F1: 0.2086\n",
      "  Micro F1: 0.3541\n"
     ]
    }
   ],
   "execution_count": 17
  },
  {
   "cell_type": "code",
   "source": [
    "# Compare with authors' results\n",
    "print(\"\\n===== Comparison with Authors' Results =====\")\n",
    "authors_results = {\n",
    "    'Random': {'macro_f1': 0.148},\n",
    "    '1-gram': {'macro_f1': 0.185},\n",
    "    '2-gram': {'macro_f1': 0.185},\n",
    "    '3-gram': {'macro_f1': 0.185},\n",
    "    'KNN': {'macro_f1': 0.258}\n",
    "}\n",
    "\n",
    "for model_name in models:\n",
    "    our_f1 = models[model_name]['macro_f1']\n",
    "    authors_f1 = authors_results[model_name]['macro_f1']\n",
    "    print(f\"{model_name} model macro-F1: Ours = {our_f1:.4f}, Authors = {authors_f1:.4f}\")"
   ],
   "metadata": {
    "colab": {
     "base_uri": "https://localhost:8080/"
    },
    "id": "QZsUDnFY7BTF",
    "outputId": "10d8fdab-c4cc-4ab9-82db-44bf195347c5",
    "ExecuteTime": {
     "end_time": "2025-04-20T15:57:52.311672Z",
     "start_time": "2025-04-20T15:57:52.309506Z"
    }
   },
   "outputs": [
    {
     "name": "stdout",
     "output_type": "stream",
     "text": [
      "\n",
      "===== Comparison with Authors' Results =====\n",
      "Random model macro-F1: Ours = 0.1612, Authors = 0.1480\n",
      "1-gram model macro-F1: Ours = 0.0347, Authors = 0.1850\n",
      "2-gram model macro-F1: Ours = 0.1690, Authors = 0.1850\n",
      "3-gram model macro-F1: Ours = 0.1753, Authors = 0.1850\n",
      "KNN model macro-F1: Ours = 0.2086, Authors = 0.2580\n"
     ]
    }
   ],
   "execution_count": 18
  },
  {
   "cell_type": "code",
   "source": [
    "# Create table of per-category F1 scores\n",
    "print(\"\\n===== Per-Category F1 Scores =====\")\n",
    "f1_table = pd.DataFrame({\n",
    "    'Category': categories,\n",
    "    'Random': [random_metrics['category_f1'].get(cat, np.nan) for cat in categories],\n",
    "    '1-gram': [one_gram_metrics['category_f1'].get(cat, np.nan) for cat in categories],\n",
    "    '2-gram': [two_gram_metrics['category_f1'].get(cat, np.nan) for cat in categories],\n",
    "    '3-gram': [three_gram_metrics['category_f1'].get(cat, np.nan) for cat in categories],\n",
    "    'KNN': [knn_metrics['category_f1'].get(cat, np.nan) for cat in categories]\n",
    "})\n",
    "\n",
    "print(f1_table)"
   ],
   "metadata": {
    "colab": {
     "base_uri": "https://localhost:8080/"
    },
    "id": "ALSUDsefL4Qb",
    "outputId": "a0bd30b0-9ad0-4b44-faf9-f573f8e899d8",
    "ExecuteTime": {
     "end_time": "2025-04-20T15:58:05.097544Z",
     "start_time": "2025-04-20T15:58:05.093288Z"
    }
   },
   "outputs": [
    {
     "name": "stdout",
     "output_type": "stream",
     "text": [
      "\n",
      "===== Per-Category F1 Scores =====\n",
      "                      Category    Random    1-gram    2-gram    3-gram  \\\n",
      "0                   No Finding  0.136943  0.303257  0.207337  0.280749   \n",
      "1   Enlarged Cardiomediastinum  0.108247  0.010152  0.169545  0.112903   \n",
      "2                 Cardiomegaly  0.321142  0.010695  0.279653  0.298688   \n",
      "3                  Lung Lesion  0.000000  0.000000  0.022989  0.000000   \n",
      "4                 Lung Opacity  0.355589  0.018405  0.316623  0.370872   \n",
      "5                        Edema  0.145383  0.000000  0.183908  0.124424   \n",
      "6                Consolidation  0.023952  0.000000  0.000000  0.062893   \n",
      "7                    Pneumonia  0.021505  0.000000  0.012903  0.056604   \n",
      "8                  Atelectasis  0.284872  0.020202  0.257576  0.224972   \n",
      "9                 Pneumothorax  0.035503  0.020408  0.061224  0.090000   \n",
      "10            Pleural Effusion  0.261803  0.044355  0.261377  0.275510   \n",
      "11               Pleural Other  0.000000  0.000000  0.048780  0.000000   \n",
      "12                    Fracture  0.053691  0.023810  0.040816  0.069930   \n",
      "13             Support Devices  0.508552  0.034169  0.503090  0.486551   \n",
      "\n",
      "         KNN  \n",
      "0   0.250000  \n",
      "1   0.083333  \n",
      "2   0.370705  \n",
      "3   0.022222  \n",
      "4   0.432927  \n",
      "5   0.221344  \n",
      "6   0.052288  \n",
      "7   0.019231  \n",
      "8   0.311284  \n",
      "9   0.093567  \n",
      "10  0.376569  \n",
      "11  0.045455  \n",
      "12  0.091603  \n",
      "13  0.549412  \n"
     ]
    }
   ],
   "execution_count": 19
  },
  {
   "cell_type": "code",
   "source": [
    "# Create visualization for Macro F1 Comparison\n",
    "plt.figure(figsize=(10, 6))\n",
    "models_list = list(models.keys())\n",
    "our_f1_values = [models[model]['macro_f1'] for model in models_list]\n",
    "authors_f1_values = [authors_results[model]['macro_f1'] for model in models_list]\n",
    "\n",
    "x = np.arange(len(models_list))\n",
    "width = 0.35\n",
    "\n",
    "plt.bar(x - width/2, our_f1_values, width, label='Our Implementation')\n",
    "plt.bar(x + width/2, authors_f1_values, width, label='Authors')\n",
    "\n",
    "plt.xlabel('Models')\n",
    "plt.ylabel('Macro F1 Score')\n",
    "plt.title('Macro F1 Score Comparison')\n",
    "plt.xticks(x, models_list)\n",
    "plt.legend()\n",
    "plt.grid(axis='y', linestyle='--', alpha=0.3)\n",
    "\n",
    "plt.tight_layout()\n",
    "plt.savefig(os.path.join(output_dir, 'all_models_f1_comparison.png'))\n",
    "plt.show()"
   ],
   "metadata": {
    "colab": {
     "base_uri": "https://localhost:8080/",
     "height": 607
    },
    "id": "vTYeqal47efq",
    "outputId": "55469bfe-969e-4cd9-e4e0-6a285b76d25f",
    "ExecuteTime": {
     "end_time": "2025-04-20T15:58:06.393765Z",
     "start_time": "2025-04-20T15:58:06.225468Z"
    }
   },
   "outputs": [
    {
     "data": {
      "text/plain": [
       "<Figure size 1000x600 with 1 Axes>"
      ],
      "image/png": "[encoded data removed]"
     },
     "metadata": {},
     "output_type": "display_data"
    }
   ],
   "execution_count": 20
  },
  {
   "metadata": {},
   "cell_type": "code",
   "outputs": [],
   "execution_count": null,
   "source": ""
  }
 ]
}
