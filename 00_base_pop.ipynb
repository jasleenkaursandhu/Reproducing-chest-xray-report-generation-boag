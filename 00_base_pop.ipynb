{
  "nbformat": 4,
  "nbformat_minor": 0,
  "metadata": {
    "colab": {
      "provenance": [],
      "authorship_tag": "ABX9TyNW5qIMEZ4JpdUaq7nncQ6a",
      "include_colab_link": true
    },
    "kernelspec": {
      "name": "python3",
      "display_name": "Python 3"
    },
    "language_info": {
      "name": "python"
    }
  },
  "cells": [
    {
      "cell_type": "markdown",
      "metadata": {
        "id": "view-in-github",
        "colab_type": "text"
      },
      "source": [
        "<a href=\"https://colab.research.google.com/github/jasleenkaursandhu/Reproducing-chest-xray-report-generation-boag/blob/local-dev/00_base_pop.ipynb\" target=\"_parent\"><img src=\"https://colab.research.google.com/assets/colab-badge.svg\" alt=\"Open In Colab\"/></a>"
      ]
    },
    {
      "cell_type": "markdown",
      "source": [
        "## **MIMIC-CXR 2.0.0 Dataset Processing**\n",
        "\n",
        "The MIMIC-CXR 2.0.0 dataset contains approximately 4.7 TB of compressed DICOM files.\n",
        "We will not process the entire dataset. Instead, we'll focus on a targeted subset by filtering only the Anteroposterior (AP) view X-rays that are relevant to this project.\n",
        "\n",
        "\n",
        "## Approach\n",
        "We'll implement a systematic workflow to:\n",
        "\n",
        "*   Filter the dataset to identify only AP view X-rays using the report files\n",
        "*   Download a manageable subset of these AP view DICOM files."
      ],
      "metadata": {
        "id": "T9opZALmfSXG"
      }
    },
    {
      "cell_type": "code",
      "execution_count": null,
      "metadata": {
        "id": "xOxzQaUtcvPo"
      },
      "outputs": [],
      "source": []
    }
  ]
}