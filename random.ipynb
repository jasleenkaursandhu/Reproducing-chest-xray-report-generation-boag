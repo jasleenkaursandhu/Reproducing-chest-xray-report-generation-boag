{
  "nbformat": 4,
  "nbformat_minor": 0,
  "metadata": {
    "colab": {
      "provenance": [],
      "authorship_tag": "ABX9TyMNYugpQFcbG0XJIlWDlN2B",
      "include_colab_link": true
    },
    "kernelspec": {
      "name": "python3",
      "display_name": "Python 3"
    },
    "language_info": {
      "name": "python"
    }
  },
  "cells": [
    {
      "cell_type": "markdown",
      "metadata": {
        "id": "view-in-github",
        "colab_type": "text"
      },
      "source": [
        "<a href=\"https://colab.research.google.com/github/jasleenkaursandhu/Reproducing-chest-xray-report-generation-boag/blob/main/random.ipynb\" target=\"_parent\"><img src=\"https://colab.research.google.com/assets/colab-badge.svg\" alt=\"Open In Colab\"/></a>"
      ]
    },
    {
      "cell_type": "code",
      "execution_count": 1,
      "metadata": {
        "id": "MCTKXpdNwTOJ"
      },
      "outputs": [],
      "source": [
        "# Random Baseline Model for Report Generation\n",
        "# This notebook implements a simple random baseline model for chest X-ray report generation.\n",
        "# The baseline randomly selects a report from the training set for each test image"
      ]
    },
    {
      "cell_type": "code",
      "source": [
        "# Import necessary libraries\n",
        "import numpy as np\n",
        "import pandas as pd\n",
        "import os\n",
        "import matplotlib.pyplot as plt\n",
        "from PIL import Image\n",
        "import tqdm\n",
        "from collections import defaultdict\n",
        "import pickle\n",
        "import gzip\n",
        "import random\n",
        "import re\n",
        "import warnings\n",
        "!pip install pydicom\n",
        "import pydicom\n",
        "from collections import Counter, defaultdict\n",
        "from time import gmtime, strftime"
      ],
      "metadata": {
        "colab": {
          "base_uri": "https://localhost:8080/"
        },
        "id": "iMOahgQTwhNG",
        "outputId": "d6e12462-f533-40fd-d0a6-7981ad5d8b81"
      },
      "execution_count": 2,
      "outputs": [
        {
          "output_type": "stream",
          "name": "stdout",
          "text": [
            "Collecting pydicom\n",
            "  Downloading pydicom-3.0.1-py3-none-any.whl.metadata (9.4 kB)\n",
            "Downloading pydicom-3.0.1-py3-none-any.whl (2.4 MB)\n",
            "\u001b[2K   \u001b[90m━━━━━━━━━━━━━━━━━━━━━━━━━━━━━━━━━━━━━━━━\u001b[0m \u001b[32m2.4/2.4 MB\u001b[0m \u001b[31m13.8 MB/s\u001b[0m eta \u001b[36m0:00:00\u001b[0m\n",
            "\u001b[?25hInstalling collected packages: pydicom\n",
            "Successfully installed pydicom-3.0.1\n"
          ]
        }
      ]
    },
    {
      "cell_type": "code",
      "source": [
        "# Mount Google Drive\n",
        "from google.colab import drive\n",
        "drive.mount('/content/drive')\n",
        "base_path = '/content/drive/MyDrive/mimic-cxr-project'\n",
        "!mkdir -p {base_path}/data\n",
        "!mkdir -p {base_path}/output\n",
        "!mkdir -p {base_path}/features"
      ],
      "metadata": {
        "colab": {
          "base_uri": "https://localhost:8080/"
        },
        "id": "54HbNZvfwpt2",
        "outputId": "704696c7-9358-4392-b0e7-6815ec8c1be3"
      },
      "execution_count": 3,
      "outputs": [
        {
          "output_type": "stream",
          "name": "stdout",
          "text": [
            "Mounted at /content/drive\n"
          ]
        }
      ]
    },
    {
      "cell_type": "code",
      "source": [
        "# Import the report parser module\n",
        "import sys\n",
        "sys.path.append(f\"{base_path}/modules\")\n",
        "from report_parser import parse_report, MIMIC_RE\n",
        "print(\"Successfully imported report parser module\")"
      ],
      "metadata": {
        "colab": {
          "base_uri": "https://localhost:8080/"
        },
        "id": "-bzsvz3EwwK0",
        "outputId": "6d9810d7-2d8e-42dd-ad6b-5c33dc664a6a"
      },
      "execution_count": 4,
      "outputs": [
        {
          "output_type": "stream",
          "name": "stdout",
          "text": [
            "Successfully imported report parser module\n"
          ]
        }
      ]
    },
    {
      "cell_type": "code",
      "source": [
        "# Load train and test data\n",
        "data_dir = os.path.join(base_path, 'data')\n",
        "files_path = os.path.join(base_path, 'files')\n",
        "output_dir = os.path.join(base_path, 'output')\n",
        "features_dir = os.path.join(base_path, 'features')\n",
        "\n",
        "train_df = pd.read_csv(os.path.join(data_dir, 'train.tsv'), sep='\\t')\n",
        "test_df = pd.read_csv(os.path.join(data_dir, 'test.tsv'), sep='\\t')\n",
        "\n",
        "print(f\"Train data shape: {train_df.shape}\")\n",
        "print(f\"Test data shape: {test_df.shape}\")"
      ],
      "metadata": {
        "colab": {
          "base_uri": "https://localhost:8080/"
        },
        "id": "yLN-bGUjw0Jl",
        "outputId": "ca3fb496-c762-4085-82c9-a7e52b56466f"
      },
      "execution_count": 5,
      "outputs": [
        {
          "output_type": "stream",
          "name": "stdout",
          "text": [
            "Train data shape: (2243, 3)\n",
            "Test data shape: (871, 3)\n"
          ]
        }
      ]
    },
    {
      "cell_type": "code",
      "source": [
        "print(\"Implementing Random Baseline Model\")\n",
        "\n",
        "# Define the path to the files directory\n",
        "files_path = os.path.join(base_path, 'files')\n",
        "\n",
        "# Map each dicom to its corresponding report identifier\n",
        "report_id_column = 'study_id'\n",
        "if report_id_column in train_df.columns:\n",
        "    report_lookup = dict(train_df[['dicom_id', report_id_column]].values)\n",
        "    print(f\"Created lookup using {report_id_column}\")\n",
        "else:\n",
        "    print(f\"Warning: {report_id_column} not found in columns: {train_df.columns.tolist()}\")\n",
        "    report_lookup = {}\n",
        "\n",
        "print(\"Sample of lookup dictionary:\")\n",
        "print(dict(list(report_lookup.items())[:5]))"
      ],
      "metadata": {
        "colab": {
          "base_uri": "https://localhost:8080/"
        },
        "id": "M1J0eOFnxC0E",
        "outputId": "b675b593-b6c4-478f-ec59-f0a3f3ee89e9"
      },
      "execution_count": 6,
      "outputs": [
        {
          "output_type": "stream",
          "name": "stdout",
          "text": [
            "Implementing Random Baseline Model\n",
            "Created lookup using study_id\n",
            "Sample of lookup dictionary:\n",
            "{'f214e3d8-00d5e538-62592a72-37cf2660-0ec426a1': 58033516, 'c6f2ef94-1c46417f-1cdb50d7-bbae3a47-5dd45401': 57744330, 'f7a4e18f-004ac053-81024d1b-568dbb86-b20f308b': 50301279, '500bbbdf-966e91a0-474e045e-81e494ac-7c6124f7': 57457041, 'c0eb8f9c-b404b698-4b47abf9-cea216fd-27bea26f': 59435834}\n"
          ]
        }
      ]
    },
    {
      "cell_type": "code",
      "source": [
        "# Generate random reports for each test image\n",
        "generated_reports = {}\n",
        "\n",
        "for pred_dicom in tqdm.tqdm(test_df.dicom_id.values):\n",
        "    found = False\n",
        "    attempts = 0\n",
        "    max_attempts = 100  # Limit attempts to avoid infinite loops\n",
        "\n",
        "    while not found and attempts < max_attempts:\n",
        "        attempts += 1\n",
        "\n",
        "        # Randomly select a training image\n",
        "        nearest_dicom = random.choice(train_df.dicom_id.values)\n",
        "\n",
        "        if nearest_dicom not in report_lookup:\n",
        "            continue\n",
        "\n",
        "        report_id = report_lookup[nearest_dicom]\n",
        "\n",
        "        # Get corresponding subject_id\n",
        "        subject_row = train_df[train_df.dicom_id == nearest_dicom]\n",
        "        if len(subject_row) == 0:\n",
        "            continue\n",
        "\n",
        "        subject_id = subject_row.iloc[0]['subject_id']\n",
        "\n",
        "        # Construct path to the report\n",
        "        subject_prefix = f\"p{str(subject_id)[:2]}\"\n",
        "        subject_dir = f\"p{subject_id}\"\n",
        "        study_dir = f\"s{report_id}\"\n",
        "        report_file = f\"{study_dir}.txt\"\n",
        "        report_path = os.path.join(files_path, subject_prefix, subject_dir, report_file)\n",
        "\n",
        "        # Parse the report to extract sections\n",
        "        try:\n",
        "            if os.path.exists(report_path):\n",
        "                report = parse_report(report_path)\n",
        "\n",
        "                # If the report has a findings section, use it\n",
        "                if 'findings' in report:\n",
        "                    found = True\n",
        "                    generated_reports[pred_dicom] = report['findings']\n",
        "        except Exception as e:\n",
        "            # Skip this report and try another\n",
        "            continue\n",
        "\n",
        "    if not found:\n",
        "        print(f\"Warning: Could not find a valid report for {pred_dicom} after {max_attempts} attempts\")\n",
        "\n",
        "print(f\"Generated random reports for {len(generated_reports)}/{len(test_df)} test images\")"
      ],
      "metadata": {
        "colab": {
          "base_uri": "https://localhost:8080/"
        },
        "id": "jZbSxfWexV9v",
        "outputId": "453aa4b5-c593-45ea-b099-0c1cf2b9e93f"
      },
      "execution_count": 7,
      "outputs": [
        {
          "output_type": "stream",
          "name": "stderr",
          "text": [
            "100%|██████████| 871/871 [12:13<00:00,  1.19it/s]"
          ]
        },
        {
          "output_type": "stream",
          "name": "stdout",
          "text": [
            "Generated random reports for 871/871 test images\n"
          ]
        },
        {
          "output_type": "stream",
          "name": "stderr",
          "text": [
            "\n"
          ]
        }
      ]
    },
    {
      "cell_type": "code",
      "source": [
        "# Save the generated reports to a TSV file\n",
        "pred_dir = os.path.join(base_path, 'output')\n",
        "os.makedirs(pred_dir, exist_ok=True)\n",
        "\n",
        "pred_file = os.path.join(pred_dir, 'random.tsv')\n",
        "print(f\"Saving predictions to {pred_file}\")\n",
        "\n",
        "with open(pred_file, 'w') as f:\n",
        "    print('dicom_id\\tgenerated', file=f)\n",
        "    for dicom_id, generated in sorted(generated_reports.items()):\n",
        "        # Escape any tab characters in the generated text\n",
        "        cleaned_text = generated.replace('\\t', ' ')\n",
        "        print(f'{dicom_id}\\t{cleaned_text}', file=f)\n",
        "\n",
        "print(f\"Saved random baseline predictions to {pred_file}\")\n",
        "print(f\"Current time: {strftime('%Y-%m-%d %H:%M:%S', gmtime())}\")"
      ],
      "metadata": {
        "colab": {
          "base_uri": "https://localhost:8080/"
        },
        "id": "T6qOl8uyxbem",
        "outputId": "47463060-406d-4f1d-ec94-2fc39e19f93a"
      },
      "execution_count": 8,
      "outputs": [
        {
          "output_type": "stream",
          "name": "stdout",
          "text": [
            "Saving predictions to /content/drive/MyDrive/mimic-cxr-project/output/random.tsv\n",
            "Saved random baseline predictions to /content/drive/MyDrive/mimic-cxr-project/output/random.tsv\n",
            "Current time: 2025-04-21 02:39:49\n"
          ]
        }
      ]
    },
    {
      "cell_type": "code",
      "source": [
        "# Display sample of generated reports\n",
        "sample_count = min(3, len(generated_reports))\n",
        "sample_dicoms = list(generated_reports.keys())[:sample_count]\n",
        "\n",
        "for dicom_id in sample_dicoms:\n",
        "    print(f\"\\nSample report for {dicom_id}:\")\n",
        "    report_text = generated_reports[dicom_id]\n",
        "\n",
        "    # Print preview of the report (first 200 characters)\n",
        "    if len(report_text) > 200:\n",
        "        print(report_text[:200] + \"...\")\n",
        "    else:\n",
        "        print(report_text)"
      ],
      "metadata": {
        "colab": {
          "base_uri": "https://localhost:8080/"
        },
        "id": "H4h7wo_ixeUU",
        "outputId": "dac620d3-1094-482f-8880-c2aa262768e6"
      },
      "execution_count": 9,
      "outputs": [
        {
          "output_type": "stream",
          "name": "stdout",
          "text": [
            "\n",
            "Sample report for 6b31c47c-641e9905-9713bf8c-5d916738-736686e1:\n",
            "pa and lateral views of the chest provided. compared to prior study from 2 days ago, left lung and right upper lung consolidation have essentially cleared. there is persistent right lung base opacity....\n",
            "\n",
            "Sample report for ea38e7bb-cba206f9-4189840d-16b60305-bf6c4b9a:\n",
            "single ap view of the chest demonstrates clear lungs. mild left basilar atelectasis with no pleural effusion or pneumothorax. the cardiac, hilar, and mediastinal contours are normal. tracheal air colu...\n",
            "\n",
            "Sample report for 0ff89f65-95a04de8-2fe6671c-5fcd970e-32c68b41:\n",
            "portable ap semi-erect chest film TIME is submitted.\n"
          ]
        }
      ]
    }
  ]
}