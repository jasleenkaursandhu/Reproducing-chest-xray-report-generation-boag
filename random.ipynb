{
  "nbformat": 4,
  "nbformat_minor": 0,
  "metadata": {
    "colab": {
      "provenance": [],
      "authorship_tag": "ABX9TyPuX8K45dtO7p3uS1GvE12a",
      "include_colab_link": true
    },
    "kernelspec": {
      "name": "python3",
      "display_name": "Python 3"
    },
    "language_info": {
      "name": "python"
    }
  },
  "cells": [
    {
      "cell_type": "markdown",
      "metadata": {
        "id": "view-in-github",
        "colab_type": "text"
      },
      "source": [
        "<a href=\"https://colab.research.google.com/github/jasleenkaursandhu/Reproducing-chest-xray-report-generation-boag/blob/main/random.ipynb\" target=\"_parent\"><img src=\"https://colab.research.google.com/assets/colab-badge.svg\" alt=\"Open In Colab\"/></a>"
      ]
    },
    {
      "cell_type": "code",
      "execution_count": 1,
      "metadata": {
        "id": "MCTKXpdNwTOJ"
      },
      "outputs": [],
      "source": [
        "# Random Baseline Model for Report Generation\n",
        "# This notebook implements a simple random baseline model for chest X-ray report generation.\n",
        "# The baseline randomly selects a report from the training set for each test image"
      ]
    },
    {
      "cell_type": "code",
      "source": [
        "# Import necessary libraries\n",
        "import numpy as np\n",
        "import pandas as pd\n",
        "import os\n",
        "import matplotlib.pyplot as plt\n",
        "from PIL import Image\n",
        "import tqdm\n",
        "from collections import defaultdict\n",
        "import pickle\n",
        "import gzip\n",
        "import random\n",
        "import re\n",
        "import warnings\n",
        "!pip install pydicom\n",
        "import pydicom\n",
        "from collections import Counter, defaultdict\n",
        "from time import gmtime, strftime"
      ],
      "metadata": {
        "colab": {
          "base_uri": "https://localhost:8080/"
        },
        "id": "iMOahgQTwhNG",
        "outputId": "70d607e4-5e70-40f0-f5c3-5505b922bf85"
      },
      "execution_count": 2,
      "outputs": [
        {
          "output_type": "stream",
          "name": "stdout",
          "text": [
            "Collecting pydicom\n",
            "  Downloading pydicom-3.0.1-py3-none-any.whl.metadata (9.4 kB)\n",
            "Downloading pydicom-3.0.1-py3-none-any.whl (2.4 MB)\n",
            "\u001b[2K   \u001b[90m━━━━━━━━━━━━━━━━━━━━━━━━━━━━━━━━━━━━━━━━\u001b[0m \u001b[32m2.4/2.4 MB\u001b[0m \u001b[31m48.4 MB/s\u001b[0m eta \u001b[36m0:00:00\u001b[0m\n",
            "\u001b[?25hInstalling collected packages: pydicom\n",
            "Successfully installed pydicom-3.0.1\n"
          ]
        }
      ]
    },
    {
      "cell_type": "code",
      "source": [
        "# Mount Google Drive\n",
        "from google.colab import drive\n",
        "drive.mount('/content/drive')\n",
        "base_path = '/content/drive/MyDrive/mimic-cxr-project'\n",
        "!mkdir -p {base_path}/data\n",
        "!mkdir -p {base_path}/output\n",
        "!mkdir -p {base_path}/features"
      ],
      "metadata": {
        "colab": {
          "base_uri": "https://localhost:8080/"
        },
        "id": "54HbNZvfwpt2",
        "outputId": "d0845fd0-280a-48a8-a931-630ad3f573b1"
      },
      "execution_count": 3,
      "outputs": [
        {
          "output_type": "stream",
          "name": "stdout",
          "text": [
            "Mounted at /content/drive\n"
          ]
        }
      ]
    },
    {
      "cell_type": "code",
      "source": [
        "# Import the report parser module\n",
        "import sys\n",
        "sys.path.append(f\"{base_path}/modules\")\n",
        "from report_parser import parse_report, MIMIC_RE\n",
        "print(\"Successfully imported report parser module\")"
      ],
      "metadata": {
        "colab": {
          "base_uri": "https://localhost:8080/"
        },
        "id": "-bzsvz3EwwK0",
        "outputId": "c9a85d54-19f6-4701-93af-49a100ab1ebd"
      },
      "execution_count": 4,
      "outputs": [
        {
          "output_type": "stream",
          "name": "stdout",
          "text": [
            "Successfully imported report parser module\n"
          ]
        }
      ]
    },
    {
      "cell_type": "code",
      "source": [
        "# Load train and test data\n",
        "data_dir = os.path.join(base_path, 'data')\n",
        "files_path = os.path.join(base_path, 'files')\n",
        "output_dir = os.path.join(base_path, 'output')\n",
        "features_dir = os.path.join(base_path, 'features')\n",
        "\n",
        "train_df = pd.read_csv(os.path.join(base_path, 'local_output/data/train.tsv'), sep='\\t')\n",
        "test_df = pd.read_csv(os.path.join(base_path, 'local_output/data/test.tsv'), sep='\\t')\n",
        "\n",
        "print(f\"Train data shape: {train_df.shape}\")\n",
        "print(f\"Test data shape: {test_df.shape}\")"
      ],
      "metadata": {
        "colab": {
          "base_uri": "https://localhost:8080/"
        },
        "id": "yLN-bGUjw0Jl",
        "outputId": "a94f04d6-cded-4e29-bc0b-9e01d9ee2df2"
      },
      "execution_count": 5,
      "outputs": [
        {
          "output_type": "stream",
          "name": "stdout",
          "text": [
            "Train data shape: (4291, 3)\n",
            "Test data shape: (1757, 3)\n"
          ]
        }
      ]
    },
    {
      "cell_type": "code",
      "source": [
        "print(\"Implementing Random Baseline Model\")\n",
        "\n",
        "# Define the path to the files directory\n",
        "files_path = os.path.join(base_path, 'files')\n",
        "\n",
        "# Map each dicom to its corresponding report identifier\n",
        "report_id_column = 'study_id'\n",
        "if report_id_column in train_df.columns:\n",
        "    report_lookup = dict(train_df[['dicom_id', report_id_column]].values)\n",
        "    print(f\"Created lookup using {report_id_column}\")\n",
        "else:\n",
        "    print(f\"Warning: {report_id_column} not found in columns: {train_df.columns.tolist()}\")\n",
        "    report_lookup = {}\n",
        "\n",
        "print(\"Sample of lookup dictionary:\")\n",
        "print(dict(list(report_lookup.items())[:5]))"
      ],
      "metadata": {
        "colab": {
          "base_uri": "https://localhost:8080/"
        },
        "id": "M1J0eOFnxC0E",
        "outputId": "c085e62a-d20b-4a5d-e081-ddc80de14627"
      },
      "execution_count": 6,
      "outputs": [
        {
          "output_type": "stream",
          "name": "stdout",
          "text": [
            "Implementing Random Baseline Model\n",
            "Created lookup using study_id\n",
            "Sample of lookup dictionary:\n",
            "{'7e95cd84-a6e61229-709150ad-10e6ad91-b535ad52': 52201331, '42401e7d-fae7b2ef-87642157-68beaada-014bfcc9': 54545361, '1ef3083e-7ed9110c-e9df3d65-480e18a8-9181ebde': 56347818, '5000f8fd-684ea279-a1e1308e-cfce9b0c-e1eeae50': 58559853, 'f349a7ef-ee518ad2-d5173f92-cbfa71b2-df530a25': 52888009}\n"
          ]
        }
      ]
    },
    {
      "cell_type": "code",
      "source": [
        "# Generate random reports for each test image\n",
        "generated_reports = {}\n",
        "\n",
        "for pred_dicom in tqdm.tqdm(test_df.dicom_id.values):\n",
        "    found = False\n",
        "    attempts = 0\n",
        "    max_attempts = 100  # Limit attempts to avoid infinite loops\n",
        "\n",
        "    while not found and attempts < max_attempts:\n",
        "        attempts += 1\n",
        "\n",
        "        # Randomly select a training image\n",
        "        nearest_dicom = random.choice(train_df.dicom_id.values)\n",
        "\n",
        "        if nearest_dicom not in report_lookup:\n",
        "            continue\n",
        "\n",
        "        report_id = report_lookup[nearest_dicom]\n",
        "\n",
        "        # Get corresponding subject_id\n",
        "        subject_row = train_df[train_df.dicom_id == nearest_dicom]\n",
        "        if len(subject_row) == 0:\n",
        "            continue\n",
        "\n",
        "        subject_id = subject_row.iloc[0]['subject_id']\n",
        "\n",
        "        # Construct path to the report\n",
        "        subject_prefix = f\"p{str(subject_id)[:2]}\"\n",
        "        subject_dir = f\"p{subject_id}\"\n",
        "        study_dir = f\"s{report_id}\"\n",
        "        report_file = f\"{study_dir}.txt\"\n",
        "        report_path = os.path.join(files_path, subject_prefix, subject_dir, report_file)\n",
        "\n",
        "        # Parse the report to extract sections\n",
        "        try:\n",
        "            if os.path.exists(report_path):\n",
        "                report = parse_report(report_path)\n",
        "\n",
        "                # If the report has a findings section, use it\n",
        "                if 'findings' in report:\n",
        "                    found = True\n",
        "                    generated_reports[pred_dicom] = report['findings']\n",
        "        except Exception as e:\n",
        "            # Skip this report and try another\n",
        "            continue\n",
        "\n",
        "    if not found:\n",
        "        print(f\"Warning: Could not find a valid report for {pred_dicom} after {max_attempts} attempts\")\n",
        "\n",
        "print(f\"Generated random reports for {len(generated_reports)}/{len(test_df)} test images\")"
      ],
      "metadata": {
        "colab": {
          "base_uri": "https://localhost:8080/"
        },
        "id": "jZbSxfWexV9v",
        "outputId": "6fde4bed-5c65-46f2-a5f8-df32e6a77709"
      },
      "execution_count": 7,
      "outputs": [
        {
          "output_type": "stream",
          "name": "stderr",
          "text": [
            "100%|██████████| 1757/1757 [13:32<00:00,  2.16it/s]"
          ]
        },
        {
          "output_type": "stream",
          "name": "stdout",
          "text": [
            "Generated random reports for 1757/1757 test images\n"
          ]
        },
        {
          "output_type": "stream",
          "name": "stderr",
          "text": [
            "\n"
          ]
        }
      ]
    },
    {
      "cell_type": "code",
      "source": [
        "# Save the generated reports to a TSV file\n",
        "pred_dir = os.path.join(base_path, 'output')\n",
        "os.makedirs(pred_dir, exist_ok=True)\n",
        "\n",
        "pred_file = os.path.join(pred_dir, 'random.tsv')\n",
        "print(f\"Saving predictions to {pred_file}\")\n",
        "\n",
        "with open(pred_file, 'w') as f:\n",
        "    print('dicom_id\\tgenerated', file=f)\n",
        "    for dicom_id, generated in sorted(generated_reports.items()):\n",
        "        # Escape any tab characters in the generated text\n",
        "        cleaned_text = generated.replace('\\t', ' ')\n",
        "        print(f'{dicom_id}\\t{cleaned_text}', file=f)\n",
        "\n",
        "print(f\"Saved random baseline predictions to {pred_file}\")\n",
        "print(f\"Current time: {strftime('%Y-%m-%d %H:%M:%S', gmtime())}\")"
      ],
      "metadata": {
        "colab": {
          "base_uri": "https://localhost:8080/"
        },
        "id": "T6qOl8uyxbem",
        "outputId": "0d67cee1-33b1-4a50-a9f9-9fdfb9b46670"
      },
      "execution_count": 8,
      "outputs": [
        {
          "output_type": "stream",
          "name": "stdout",
          "text": [
            "Saving predictions to /content/drive/MyDrive/mimic-cxr-project/output/random.tsv\n",
            "Saved random baseline predictions to /content/drive/MyDrive/mimic-cxr-project/output/random.tsv\n",
            "Current time: 2025-04-21 05:02:01\n"
          ]
        }
      ]
    },
    {
      "cell_type": "code",
      "source": [
        "# Display sample of generated reports\n",
        "sample_count = min(3, len(generated_reports))\n",
        "sample_dicoms = list(generated_reports.keys())[:sample_count]\n",
        "\n",
        "for dicom_id in sample_dicoms:\n",
        "    print(f\"\\nSample report for {dicom_id}:\")\n",
        "    report_text = generated_reports[dicom_id]\n",
        "\n",
        "    # Print preview of the report (first 200 characters)\n",
        "    if len(report_text) > 200:\n",
        "        print(report_text[:200] + \"...\")\n",
        "    else:\n",
        "        print(report_text)"
      ],
      "metadata": {
        "colab": {
          "base_uri": "https://localhost:8080/"
        },
        "id": "H4h7wo_ixeUU",
        "outputId": "3238c7d4-f5f7-46e5-86fb-66f369b81aa7"
      },
      "execution_count": 9,
      "outputs": [
        {
          "output_type": "stream",
          "name": "stdout",
          "text": [
            "\n",
            "Sample report for 20386a2d-1f7a8868-f12e22ac-0d625d27-4c38c8e2:\n",
            "median sternotomy wires are intact. endotracheal tube terminates 3 cm above the carina. nasogastric tube extends below the diaphragm. right internal jugular venous catheter is in unchanged position, t...\n",
            "\n",
            "Sample report for 63100eab-9e8a8d90-392bc822-325de482-69a64e3b:\n",
            "portable ap upright chest radiograph is obtained. midline sternotomy wires and mediastinal clips again noted. the heart is mildly enlarged. there is mild pulmonary edema which appears similar to prior...\n",
            "\n",
            "Sample report for 17269efa-b016a94d-1361e8df-ac428071-d1133672:\n",
            "cardiac, mediastinal and hilar contours are normal. pulmonary vasculature is normal. lungs are clear. no pleural effusion or pneumothorax is present. mild deformity of the right ninth lateral rib may ...\n"
          ]
        }
      ]
    }
  ]
}