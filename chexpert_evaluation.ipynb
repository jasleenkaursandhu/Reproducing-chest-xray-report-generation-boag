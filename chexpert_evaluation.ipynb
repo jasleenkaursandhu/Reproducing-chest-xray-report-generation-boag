{
  "nbformat": 4,
  "nbformat_minor": 0,
  "metadata": {
    "colab": {
      "provenance": [],
      "include_colab_link": true
    },
    "kernelspec": {
      "name": "python3",
      "display_name": "Python 3 (ipykernel)",
      "language": "python"
    },
    "language_info": {
      "name": "python"
    }
  },
  "cells": [
    {
      "cell_type": "markdown",
      "metadata": {
        "id": "view-in-github",
        "colab_type": "text"
      },
      "source": [
        "<a href=\"https://colab.research.google.com/github/jasleenkaursandhu/Reproducing-chest-xray-report-generation-boag/blob/main/chexpert_evaluation.ipynb\" target=\"_parent\"><img src=\"https://colab.research.google.com/assets/colab-badge.svg\" alt=\"Open In Colab\"/></a>"
      ]
    },
    {
      "metadata": {
        "ExecuteTime": {
          "end_time": "2025-04-10T22:55:02.823081Z",
          "start_time": "2025-04-10T22:55:02.818098Z"
        },
        "id": "rZ-dMbySGkBB"
      },
      "cell_type": "code",
      "source": [
        "# Define paths\n",
        "# base_path = '/Volumes/DATA/DATASET/untitled/content/mimic-cxr-project/' # For local machine\n",
        "# base_path = '/content/drive/MyDrive/mimic-cxr-project' # For Google Colab"
      ],
      "outputs": [],
      "execution_count": 1
    },
    {
      "metadata": {
        "id": "aCnQm_vdrooM",
        "ExecuteTime": {
          "end_time": "2025-04-10T23:06:28.253004Z",
          "start_time": "2025-04-10T22:55:02.923239Z"
        }
      },
      "cell_type": "code",
      "source": [
        "# docker_image_name = 'uwizeye2/chexpert-labeler:amd64'\n",
        "# !docker run --platform linux/amd64 -v {base_path}output:/data {docker_image_name} python label.py --reports_path /data/reference_headerless.csv --output_path /data/labeled_reference.csv --verbose"
      ],
      "outputs": [],
      "execution_count": 2
    },
    {
      "cell_type": "code",
      "source": [
        "# Import necessary libraries\n",
        "import pandas as pd\n",
        "import numpy as np\n",
        "import matplotlib.pyplot as plt\n",
        "from sklearn.metrics import f1_score, precision_score, accuracy_score\n",
        "import os\n",
        "from time import strftime, gmtime"
      ],
      "metadata": {
        "id": "PySNzwam6ss-"
      },
      "execution_count": 3,
      "outputs": []
    },
    {
      "cell_type": "code",
      "source": [
        "# Mount Google Drive\n",
        "from google.colab import drive\n",
        "drive.mount('/content/drive')\n",
        "\n",
        "# Define paths\n",
        "base_path = '/content/drive/MyDrive/mimic-cxr-project'\n",
        "output_dir = os.path.join(base_path, 'output')"
      ],
      "metadata": {
        "colab": {
          "base_uri": "https://localhost:8080/"
        },
        "id": "Ors7K14dLPVw",
        "outputId": "cf72527d-a08d-47e8-e359-07d209cbd524"
      },
      "execution_count": 4,
      "outputs": [
        {
          "output_type": "stream",
          "name": "stdout",
          "text": [
            "Mounted at /content/drive\n"
          ]
        }
      ]
    },
    {
      "cell_type": "code",
      "source": [
        "# Load labeled files\n",
        "print(\"Loading labeled files...\")\n",
        "reference_df = pd.read_csv(os.path.join(output_dir, 'labeled_reference.csv'))\n",
        "random_df = pd.read_csv(os.path.join(output_dir, 'labeled_random.csv'))\n",
        "ngram_df = pd.read_csv(os.path.join(output_dir, 'labeled_3gram.csv'))\n",
        "knn_df = pd.read_csv(os.path.join(output_dir, 'labeled_knn.csv'))\n",
        "\n",
        "print(f\"Reference shape: {reference_df.shape}\")\n",
        "print(f\"Random shape: {random_df.shape}\")\n",
        "print(f\"N-gram shape: {ngram_df.shape}\")\n",
        "print(f\"KNN shape: {knn_df.shape}\")"
      ],
      "metadata": {
        "colab": {
          "base_uri": "https://localhost:8080/"
        },
        "id": "vWrZYzDJLStI",
        "outputId": "a2f303c7-354c-4873-ad11-c5b838df6967"
      },
      "execution_count": 5,
      "outputs": [
        {
          "output_type": "stream",
          "name": "stdout",
          "text": [
            "Loading labeled files...\n",
            "Reference shape: (940, 15)\n",
            "Random shape: (382, 15)\n",
            "N-gram shape: (380, 15)\n",
            "KNN shape: (380, 15)\n"
          ]
        }
      ]
    },
    {
      "cell_type": "code",
      "source": [
        "# Get all the categories (columns) except the 'Reports' column\n",
        "categories = [col for col in reference_df.columns if col != 'Reports']\n",
        "print(f\"\\nCategories: {categories}\")"
      ],
      "metadata": {
        "colab": {
          "base_uri": "https://localhost:8080/"
        },
        "id": "2hQod-L5LW63",
        "outputId": "65c36b64-d31e-421a-94ca-f3d48e49e260"
      },
      "execution_count": 6,
      "outputs": [
        {
          "output_type": "stream",
          "name": "stdout",
          "text": [
            "\n",
            "Categories: ['No Finding', 'Enlarged Cardiomediastinum', 'Cardiomegaly', 'Lung Lesion', 'Lung Opacity', 'Edema', 'Consolidation', 'Pneumonia', 'Atelectasis', 'Pneumothorax', 'Pleural Effusion', 'Pleural Other', 'Fracture', 'Support Devices']\n"
          ]
        }
      ]
    },
    {
      "cell_type": "code",
      "source": [
        "# Define evaluation function with sample matching\n",
        "def calculate_metrics(true_df, pred_df):\n",
        "    # Find common indices\n",
        "    common_indices = true_df.index.intersection(pred_df.index)\n",
        "    if len(common_indices) == 0:\n",
        "        # If no common indices found by index, try matching by report text\n",
        "        if 'Reports' in true_df.columns and 'Reports' in pred_df.columns:\n",
        "            # Create dictionaries mapping reports to their rows\n",
        "            true_reports = {report: i for i, report in enumerate(true_df['Reports'].values)}\n",
        "            pred_reports = {report: i for i, report in enumerate(pred_df['Reports'].values)}\n",
        "            # Find common reports\n",
        "            common_reports = set(true_reports.keys()).intersection(set(pred_reports.keys()))\n",
        "            if common_reports:\n",
        "                print(f\"Found {len(common_reports)} common reports by text matching\")\n",
        "                # Extract rows with common reports\n",
        "                true_subset = true_df.loc[[true_reports[report] for report in common_reports]]\n",
        "                pred_subset = pred_df.loc[[pred_reports[report] for report in common_reports]]\n",
        "            else:\n",
        "                # No matching by text either, try using the first rows\n",
        "                print(\"No common samples found. Using first min(len1, len2) rows.\")\n",
        "                min_rows = min(len(true_df), len(pred_df))\n",
        "                true_subset = true_df.iloc[:min_rows]\n",
        "                pred_subset = pred_df.iloc[:min_rows]\n",
        "        else:\n",
        "            # No reports column, try matching row by row\n",
        "            print(\"No common indices found. Using first min(len1, len2) rows.\")\n",
        "            min_rows = min(len(true_df), len(pred_df))\n",
        "            true_subset = true_df.iloc[:min_rows]\n",
        "            pred_subset = pred_df.iloc[:min_rows]\n",
        "    else:\n",
        "        print(f\"Found {len(common_indices)} common indices\")\n",
        "        true_subset = true_df.loc[common_indices]\n",
        "        pred_subset = pred_df.loc[common_indices]\n",
        "\n",
        "    # Ensure all categories exist in both dataframes\n",
        "    eval_categories = [col for col in categories if col in true_subset.columns and col in pred_subset.columns]\n",
        "\n",
        "    # Fill missing values with -2 (not mentioned)\n",
        "    true_subset = true_subset[eval_categories].fillna(-2)\n",
        "    pred_subset = pred_subset[eval_categories].fillna(-2)\n",
        "\n",
        "    # For accuracy: Calculate per-category accuracy\n",
        "    accuracies = {}\n",
        "    for category in eval_categories:\n",
        "        accuracy = accuracy_score(true_subset[category], pred_subset[category])\n",
        "        accuracies[category] = accuracy\n",
        "\n",
        "    # For precision: Calculate per-category precision (for positive class only)\n",
        "    true_binary = (true_subset == 1).astype(int)\n",
        "    pred_binary = (pred_subset == 1).astype(int)\n",
        "\n",
        "    precisions = {}\n",
        "    for category in eval_categories:\n",
        "        if sum(pred_binary[category]) > 0:  # Only if there are predicted positives\n",
        "            precision = precision_score(true_binary[category], pred_binary[category], zero_division=0)\n",
        "            precisions[category] = precision\n",
        "        else:\n",
        "            precisions[category] = 0.0\n",
        "\n",
        "    # For F1: Calculate per-category F1\n",
        "    f1_scores = {}\n",
        "    for category in eval_categories:\n",
        "        f1 = f1_score(true_binary[category], pred_binary[category], zero_division=0)\n",
        "        f1_scores[category] = f1\n",
        "\n",
        "    # Calculate macro averages\n",
        "    macro_accuracy = np.mean(list(accuracies.values()))\n",
        "    macro_precision = np.mean(list(precisions.values()))\n",
        "    macro_f1 = np.mean(list(f1_scores.values()))\n",
        "\n",
        "    # Calculate micro averages (overall)\n",
        "    micro_f1 = f1_score(true_binary.values.flatten(), pred_binary.values.flatten(), zero_division=0)\n",
        "\n",
        "    # Return all metrics\n",
        "    return {\n",
        "        'category_f1': f1_scores,\n",
        "        'category_precision': precisions,\n",
        "        'category_accuracy': accuracies,\n",
        "        'macro_accuracy': macro_accuracy,\n",
        "        'macro_precision': macro_precision,\n",
        "        'macro_f1': macro_f1,\n",
        "        'micro_f1': micro_f1\n",
        "    }"
      ],
      "metadata": {
        "id": "azh-pRUX63h1"
      },
      "execution_count": 7,
      "outputs": []
    },
    {
      "metadata": {
        "ExecuteTime": {
          "end_time": "2025-04-10T22:55:02.853091Z",
          "start_time": "2025-04-10T22:55:02.836738Z"
        },
        "id": "4u9lpvvIGkBD",
        "outputId": "7d780ea9-2dc1-4d62-885c-d8076069ce9f",
        "colab": {
          "base_uri": "https://localhost:8080/"
        }
      },
      "cell_type": "code",
      "source": [
        "# Evaluate models\n",
        "print(\"\\nEvaluating Random Model...\")\n",
        "random_metrics = calculate_metrics(reference_df, random_df)\n",
        "\n",
        "print(\"\\nEvaluating N-gram Model...\")\n",
        "ngram_metrics = calculate_metrics(reference_df, ngram_df)\n",
        "\n",
        "print(\"\\nEvaluating KNN Model...\")\n",
        "knn_metrics = calculate_metrics(reference_df, knn_df)"
      ],
      "outputs": [
        {
          "output_type": "stream",
          "name": "stdout",
          "text": [
            "\n",
            "Evaluating Random Model...\n",
            "Found 382 common indices\n",
            "\n",
            "Evaluating N-gram Model...\n",
            "Found 380 common indices\n",
            "\n",
            "Evaluating KNN Model...\n",
            "Found 380 common indices\n"
          ]
        }
      ],
      "execution_count": 8
    },
    {
      "cell_type": "code",
      "source": [
        "# Print summary results\n",
        "print(\"\\n===== Summary Results =====\")\n",
        "models = {\n",
        "    'Random': random_metrics,\n",
        "    'N-gram': ngram_metrics,\n",
        "    'KNN': knn_metrics\n",
        "}\n",
        "\n",
        "for model_name, metrics in models.items():\n",
        "    print(f\"\\n{model_name} Model:\")\n",
        "    print(f\"  Macro Accuracy: {metrics['macro_accuracy']:.4f}\")\n",
        "    print(f\"  Macro Precision: {metrics['macro_precision']:.4f}\")\n",
        "    print(f\"  Macro F1: {metrics['macro_f1']:.4f}\")\n",
        "    print(f\"  Micro F1: {metrics['micro_f1']:.4f}\")"
      ],
      "metadata": {
        "id": "vcgUexq96-ty",
        "colab": {
          "base_uri": "https://localhost:8080/"
        },
        "outputId": "048bfc62-0db9-4c69-8c38-b2088ec781d2"
      },
      "execution_count": 9,
      "outputs": [
        {
          "output_type": "stream",
          "name": "stdout",
          "text": [
            "\n",
            "===== Summary Results =====\n",
            "\n",
            "Random Model:\n",
            "  Macro Accuracy: 0.5894\n",
            "  Macro Precision: 0.1828\n",
            "  Macro F1: 0.1823\n",
            "  Micro F1: 0.3217\n",
            "\n",
            "N-gram Model:\n",
            "  Macro Accuracy: 0.5758\n",
            "  Macro Precision: 0.1803\n",
            "  Macro F1: 0.1640\n",
            "  Micro F1: 0.2658\n",
            "\n",
            "KNN Model:\n",
            "  Macro Accuracy: 0.5898\n",
            "  Macro Precision: 0.1884\n",
            "  Macro F1: 0.1806\n",
            "  Micro F1: 0.3353\n"
          ]
        }
      ]
    },
    {
      "cell_type": "code",
      "source": [
        "# Compare with authors' results\n",
        "print(\"\\n===== Comparison with Authors' Results =====\")\n",
        "authors_results = {\n",
        "    'Random': {'macro_f1': 0.148},\n",
        "    'N-gram': {'macro_f1': 0.185},\n",
        "    'KNN': {'macro_f1': 0.258}\n",
        "}\n",
        "\n",
        "for model_name in models:\n",
        "    our_f1 = models[model_name]['macro_f1']\n",
        "    authors_f1 = authors_results[model_name]['macro_f1']\n",
        "    print(f\"{model_name} model macro-F1: Ours = {our_f1:.4f}, Authors = {authors_f1:.4f}\")"
      ],
      "metadata": {
        "colab": {
          "base_uri": "https://localhost:8080/"
        },
        "id": "QZsUDnFY7BTF",
        "outputId": "10d8fdab-c4cc-4ab9-82db-44bf195347c5"
      },
      "execution_count": 10,
      "outputs": [
        {
          "output_type": "stream",
          "name": "stdout",
          "text": [
            "\n",
            "===== Comparison with Authors' Results =====\n",
            "Random model macro-F1: Ours = 0.1823, Authors = 0.1480\n",
            "N-gram model macro-F1: Ours = 0.1640, Authors = 0.1850\n",
            "KNN model macro-F1: Ours = 0.1806, Authors = 0.2580\n"
          ]
        }
      ]
    },
    {
      "cell_type": "code",
      "source": [
        "# Create table of per-category F1 scores\n",
        "print(\"\\n===== Per-Category F1 Scores =====\")\n",
        "f1_table = pd.DataFrame({\n",
        "    'Category': categories,\n",
        "    'Random': [random_metrics['category_f1'].get(cat, np.nan) for cat in categories],\n",
        "    'N-gram': [ngram_metrics['category_f1'].get(cat, np.nan) for cat in categories],\n",
        "    'KNN': [knn_metrics['category_f1'].get(cat, np.nan) for cat in categories]\n",
        "})\n",
        "\n",
        "print(f1_table)"
      ],
      "metadata": {
        "colab": {
          "base_uri": "https://localhost:8080/"
        },
        "id": "ALSUDsefL4Qb",
        "outputId": "a0bd30b0-9ad0-4b44-faf9-f573f8e899d8"
      },
      "execution_count": 11,
      "outputs": [
        {
          "output_type": "stream",
          "name": "stdout",
          "text": [
            "\n",
            "===== Per-Category F1 Scores =====\n",
            "                      Category    Random    N-gram       KNN\n",
            "0                   No Finding  0.244604  0.145455  0.251969\n",
            "1   Enlarged Cardiomediastinum  0.112360  0.086957  0.120482\n",
            "2                 Cardiomegaly  0.301587  0.321739  0.414062\n",
            "3                  Lung Lesion  0.100000  0.000000  0.000000\n",
            "4                 Lung Opacity  0.429448  0.329502  0.371134\n",
            "5                        Edema  0.125000  0.181818  0.130841\n",
            "6                Consolidation  0.000000  0.044444  0.093023\n",
            "7                    Pneumonia  0.000000  0.000000  0.000000\n",
            "8                  Atelectasis  0.270000  0.248521  0.271493\n",
            "9                 Pneumothorax  0.000000  0.047619  0.000000\n",
            "10            Pleural Effusion  0.344828  0.211640  0.334764\n",
            "11               Pleural Other  0.000000  0.222222  0.000000\n",
            "12                    Fracture  0.108108  0.000000  0.000000\n",
            "13             Support Devices  0.515957  0.455556  0.540107\n"
          ]
        }
      ]
    },
    {
      "cell_type": "code",
      "source": [
        "# Create visualization for Macro F1 Comparison\n",
        "plt.figure(figsize=(10, 6))\n",
        "models_list = list(models.keys())\n",
        "our_f1_values = [models[model]['macro_f1'] for model in models_list]\n",
        "authors_f1_values = [authors_results[model]['macro_f1'] for model in models_list]\n",
        "\n",
        "x = np.arange(len(models_list))\n",
        "width = 0.35\n",
        "\n",
        "plt.bar(x - width/2, our_f1_values, width, label='Our Implementation')\n",
        "plt.bar(x + width/2, authors_f1_values, width, label='Authors')\n",
        "\n",
        "plt.xlabel('Models')\n",
        "plt.ylabel('Macro F1 Score')\n",
        "plt.title('Macro F1 Score Comparison')\n",
        "plt.xticks(x, models_list)\n",
        "plt.legend()\n",
        "plt.grid(axis='y', linestyle='--', alpha=0.3)\n",
        "\n",
        "plt.tight_layout()\n",
        "plt.savefig(os.path.join(output_dir, 'all_models_f1_comparison.png'))\n",
        "plt.show()"
      ],
      "metadata": {
        "colab": {
          "base_uri": "https://localhost:8080/",
          "height": 607
        },
        "id": "vTYeqal47efq",
        "outputId": "55469bfe-969e-4cd9-e4e0-6a285b76d25f"
      },
      "execution_count": 12,
      "outputs": [
        {
          "output_type": "display_data",
          "data": {
            "text/plain": [
              "<Figure size 1000x600 with 1 Axes>"
            ],
            "image/png": "[encoded data removed]"
          },
          "metadata": {}
        }
      ]
    }
  ]
}