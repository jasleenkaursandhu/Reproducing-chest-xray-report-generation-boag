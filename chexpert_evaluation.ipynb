{
  "nbformat": 4,
  "nbformat_minor": 0,
  "metadata": {
    "colab": {
      "provenance": [],
      "include_colab_link": true
    },
    "kernelspec": {
      "name": "python3",
      "display_name": "Python 3 (ipykernel)",
      "language": "python"
    },
    "language_info": {
      "name": "python"
    }
  },
  "cells": [
    {
      "cell_type": "markdown",
      "metadata": {
        "id": "view-in-github",
        "colab_type": "text"
      },
      "source": [
        "<a href=\"https://colab.research.google.com/github/jasleenkaursandhu/Reproducing-chest-xray-report-generation-boag/blob/main/chexpert_evaluation.ipynb\" target=\"_parent\"><img src=\"https://colab.research.google.com/assets/colab-badge.svg\" alt=\"Open In Colab\"/></a>"
      ]
    },
    {
      "metadata": {
        "ExecuteTime": {
          "end_time": "2025-04-10T22:55:02.823081Z",
          "start_time": "2025-04-10T22:55:02.818098Z"
        },
        "id": "rZ-dMbySGkBB"
      },
      "cell_type": "code",
      "source": [
        "# Define paths\n",
        "# base_path = '/Volumes/DATA/DATASET/untitled/content/mimic-cxr-project/' # For local machine\n",
        "# base_path = '/content/drive/MyDrive/mimic-cxr-project' # For Google Colab"
      ],
      "outputs": [],
      "execution_count": 26
    },
    {
      "metadata": {
        "id": "aCnQm_vdrooM",
        "ExecuteTime": {
          "end_time": "2025-04-10T23:06:28.253004Z",
          "start_time": "2025-04-10T22:55:02.923239Z"
        }
      },
      "cell_type": "code",
      "source": [
        "# docker_image_name = 'uwizeye2/chexpert-labeler:amd64'\n",
        "# !docker run --platform linux/amd64 -v {base_path}output:/data {docker_image_name} python label.py --reports_path /data/reference_headerless.csv --output_path /data/labeled_reference.csv --verbose"
      ],
      "outputs": [],
      "execution_count": 27
    },
    {
      "cell_type": "code",
      "source": [
        "# Import necessary libraries\n",
        "import pandas as pd\n",
        "import numpy as np\n",
        "import matplotlib.pyplot as plt\n",
        "from sklearn.metrics import f1_score, precision_score, accuracy_score\n",
        "import os\n",
        "from time import strftime, gmtime"
      ],
      "metadata": {
        "id": "PySNzwam6ss-"
      },
      "execution_count": 28,
      "outputs": []
    },
    {
      "cell_type": "code",
      "source": [
        "# Mount Google Drive\n",
        "from google.colab import drive\n",
        "drive.mount('/content/drive')\n",
        "\n",
        "# Define paths\n",
        "base_path = '/content/drive/MyDrive/mimic-cxr-project'\n",
        "output_dir = os.path.join(base_path, 'local_output/output')"
      ],
      "metadata": {
        "colab": {
          "base_uri": "https://localhost:8080/"
        },
        "id": "Ors7K14dLPVw",
        "outputId": "f3d3fb4f-4161-47c4-c94e-463015603d34"
      },
      "execution_count": 29,
      "outputs": [
        {
          "output_type": "stream",
          "name": "stdout",
          "text": [
            "Drive already mounted at /content/drive; to attempt to forcibly remount, call drive.mount(\"/content/drive\", force_remount=True).\n"
          ]
        }
      ]
    },
    {
      "cell_type": "code",
      "source": [
        "# Load labeled files\n",
        "print(\"Loading labeled files...\")\n",
        "reference_df = pd.read_csv(os.path.join(output_dir, 'labeled_reference.csv'))\n",
        "random_df = pd.read_csv(os.path.join(output_dir, 'labeled_random.csv'))\n",
        "onegram_df = pd.read_csv(os.path.join(output_dir, 'labeled_1-gram.csv'))\n",
        "twogram_df = pd.read_csv(os.path.join(output_dir, 'labeled_2-gram.csv'))\n",
        "threegram_df = pd.read_csv(os.path.join(output_dir, 'labeled_3-gram.csv'))\n",
        "knn_df = pd.read_csv(os.path.join(output_dir, 'labeled_knn.csv'))\n",
        "\n",
        "print(f\"Reference shape: {reference_df.shape}\")\n",
        "print(f\"Random shape: {random_df.shape}\")\n",
        "print(f\"1-gram shape: {onegram_df.shape}\")\n",
        "print(f\"2-gram shape: {twogram_df.shape}\")\n",
        "print(f\"3-gram shape: {threegram_df.shape}\")\n",
        "print(f\"KNN shape: {knn_df.shape}\")"
      ],
      "metadata": {
        "colab": {
          "base_uri": "https://localhost:8080/"
        },
        "id": "vWrZYzDJLStI",
        "outputId": "2640c854-b306-487d-e01c-ab475f1ca01a"
      },
      "execution_count": 30,
      "outputs": [
        {
          "output_type": "stream",
          "name": "stdout",
          "text": [
            "Loading labeled files...\n",
            "Reference shape: (1757, 15)\n",
            "Random shape: (1757, 15)\n",
            "1-gram shape: (1717, 15)\n",
            "2-gram shape: (1757, 15)\n",
            "3-gram shape: (1757, 15)\n",
            "KNN shape: (1757, 15)\n"
          ]
        }
      ]
    },
    {
      "cell_type": "code",
      "source": [
        "# Get all the categories (columns) except the 'Reports' column\n",
        "categories = [col for col in reference_df.columns if col != 'Reports']\n",
        "print(f\"\\nCategories: {categories}\")"
      ],
      "metadata": {
        "colab": {
          "base_uri": "https://localhost:8080/"
        },
        "id": "2hQod-L5LW63",
        "outputId": "cd6fb81f-5ced-495f-d7ce-552ad385ba2d"
      },
      "execution_count": 31,
      "outputs": [
        {
          "output_type": "stream",
          "name": "stdout",
          "text": [
            "\n",
            "Categories: ['No Finding', 'Enlarged Cardiomediastinum', 'Cardiomegaly', 'Lung Lesion', 'Lung Opacity', 'Edema', 'Consolidation', 'Pneumonia', 'Atelectasis', 'Pneumothorax', 'Pleural Effusion', 'Pleural Other', 'Fracture', 'Support Devices']\n"
          ]
        }
      ]
    },
    {
      "cell_type": "code",
      "source": [
        "# Define evaluation function with sample matching\n",
        "def calculate_metrics(true_df, pred_df):\n",
        "    # Find common indices\n",
        "    common_indices = true_df.index.intersection(pred_df.index)\n",
        "    if len(common_indices) == 0:\n",
        "        # If no common indices found by index, try matching by report text\n",
        "        if 'Reports' in true_df.columns and 'Reports' in pred_df.columns:\n",
        "            # Create dictionaries mapping reports to their rows\n",
        "            true_reports = {report: i for i, report in enumerate(true_df['Reports'].values)}\n",
        "            pred_reports = {report: i for i, report in enumerate(pred_df['Reports'].values)}\n",
        "            # Find common reports\n",
        "            common_reports = set(true_reports.keys()).intersection(set(pred_reports.keys()))\n",
        "            if common_reports:\n",
        "                print(f\"Found {len(common_reports)} common reports by text matching\")\n",
        "                # Extract rows with common reports\n",
        "                true_subset = true_df.loc[[true_reports[report] for report in common_reports]]\n",
        "                pred_subset = pred_df.loc[[pred_reports[report] for report in common_reports]]\n",
        "            else:\n",
        "                # No matching by text either, try using the first rows\n",
        "                print(\"No common samples found. Using first min(len1, len2) rows.\")\n",
        "                min_rows = min(len(true_df), len(pred_df))\n",
        "                true_subset = true_df.iloc[:min_rows]\n",
        "                pred_subset = pred_df.iloc[:min_rows]\n",
        "        else:\n",
        "            # No reports column, try matching row by row\n",
        "            print(\"No common indices found. Using first min(len1, len2) rows.\")\n",
        "            min_rows = min(len(true_df), len(pred_df))\n",
        "            true_subset = true_df.iloc[:min_rows]\n",
        "            pred_subset = pred_df.iloc[:min_rows]\n",
        "    else:\n",
        "        print(f\"Found {len(common_indices)} common indices\")\n",
        "        true_subset = true_df.loc[common_indices]\n",
        "        pred_subset = pred_df.loc[common_indices]\n",
        "\n",
        "    # Ensure all categories exist in both dataframes\n",
        "    eval_categories = [col for col in categories if col in true_subset.columns and col in pred_subset.columns]\n",
        "\n",
        "    # Fill missing values with -2 (not mentioned)\n",
        "    true_subset = true_subset[eval_categories].fillna(-2)\n",
        "    pred_subset = pred_subset[eval_categories].fillna(-2)\n",
        "\n",
        "    # For accuracy: Calculate per-category accuracy\n",
        "    accuracies = {}\n",
        "    for category in eval_categories:\n",
        "        accuracy = accuracy_score(true_subset[category], pred_subset[category])\n",
        "        accuracies[category] = accuracy\n",
        "\n",
        "    # For precision: Calculate per-category precision (for positive class only)\n",
        "    true_binary = (true_subset == 1).astype(int)\n",
        "    pred_binary = (pred_subset == 1).astype(int)\n",
        "\n",
        "    precisions = {}\n",
        "    for category in eval_categories:\n",
        "        if sum(pred_binary[category]) > 0:  # Only if there are predicted positives\n",
        "            precision = precision_score(true_binary[category], pred_binary[category], zero_division=0)\n",
        "            precisions[category] = precision\n",
        "        else:\n",
        "            precisions[category] = 0.0\n",
        "\n",
        "    # For F1: Calculate per-category F1\n",
        "    f1_scores = {}\n",
        "    for category in eval_categories:\n",
        "        f1 = f1_score(true_binary[category], pred_binary[category], zero_division=0)\n",
        "        f1_scores[category] = f1\n",
        "\n",
        "    # Calculate macro averages\n",
        "    macro_accuracy = np.mean(list(accuracies.values()))\n",
        "    macro_precision = np.mean(list(precisions.values()))\n",
        "    macro_f1 = np.mean(list(f1_scores.values()))\n",
        "\n",
        "    # Calculate micro averages (overall)\n",
        "    micro_f1 = f1_score(true_binary.values.flatten(), pred_binary.values.flatten(), zero_division=0)\n",
        "\n",
        "    # Return all metrics\n",
        "    return {\n",
        "        'category_f1': f1_scores,\n",
        "        'category_precision': precisions,\n",
        "        'category_accuracy': accuracies,\n",
        "        'macro_accuracy': macro_accuracy,\n",
        "        'macro_precision': macro_precision,\n",
        "        'macro_f1': macro_f1,\n",
        "        'micro_f1': micro_f1\n",
        "    }"
      ],
      "metadata": {
        "id": "azh-pRUX63h1"
      },
      "execution_count": 32,
      "outputs": []
    },
    {
      "metadata": {
        "ExecuteTime": {
          "end_time": "2025-04-10T22:55:02.853091Z",
          "start_time": "2025-04-10T22:55:02.836738Z"
        },
        "id": "4u9lpvvIGkBD",
        "outputId": "afb872fb-d430-49fc-e38b-24fac7859013",
        "colab": {
          "base_uri": "https://localhost:8080/"
        }
      },
      "cell_type": "code",
      "source": [
        "# Evaluate models\n",
        "print(\"\\nEvaluating Random Model...\")\n",
        "random_metrics = calculate_metrics(reference_df, random_df)\n",
        "\n",
        "print(\"\\nEvaluating 1-gram Model...\")\n",
        "onegram_metrics = calculate_metrics(reference_df, onegram_df)\n",
        "\n",
        "print(\"\\nEvaluating 2-gram Model...\")\n",
        "twogram_metrics = calculate_metrics(reference_df, twogram_df)\n",
        "\n",
        "print(\"\\nEvaluating 3-gram Model...\")\n",
        "threegram_metrics = calculate_metrics(reference_df, threegram_df)\n",
        "\n",
        "print(\"\\nEvaluating KNN Model...\")\n",
        "knn_metrics = calculate_metrics(reference_df, knn_df)"
      ],
      "outputs": [
        {
          "output_type": "stream",
          "name": "stdout",
          "text": [
            "\n",
            "Evaluating Random Model...\n",
            "Found 1757 common indices\n",
            "\n",
            "Evaluating 1-gram Model...\n",
            "Found 1717 common indices\n",
            "\n",
            "Evaluating 2-gram Model...\n",
            "Found 1757 common indices\n",
            "\n",
            "Evaluating 3-gram Model...\n",
            "Found 1757 common indices\n",
            "\n",
            "Evaluating KNN Model...\n",
            "Found 1757 common indices\n"
          ]
        }
      ],
      "execution_count": 33
    },
    {
      "cell_type": "code",
      "source": [
        "# Print summary results\n",
        "print(\"\\n===== Summary Results =====\")\n",
        "models = {\n",
        "    'Random': random_metrics,\n",
        "    '1-gram': onegram_metrics,\n",
        "    '2-gram': twogram_metrics,\n",
        "    '3-gram': threegram_metrics,\n",
        "    'KNN': knn_metrics\n",
        "}\n",
        "\n",
        "for model_name, metrics in models.items():\n",
        "    print(f\"\\n{model_name} Model:\")\n",
        "    print(f\"  Macro Accuracy: {metrics['macro_accuracy']:.4f}\")\n",
        "    print(f\"  Macro Precision: {metrics['macro_precision']:.4f}\")\n",
        "    print(f\"  Macro F1: {metrics['macro_f1']:.4f}\")\n",
        "    print(f\"  Micro F1: {metrics['micro_f1']:.4f}\")"
      ],
      "metadata": {
        "id": "vcgUexq96-ty",
        "colab": {
          "base_uri": "https://localhost:8080/"
        },
        "outputId": "24ed02a8-6ad6-49fb-c6d6-0e1ff23e0797"
      },
      "execution_count": 34,
      "outputs": [
        {
          "output_type": "stream",
          "name": "stdout",
          "text": [
            "\n",
            "===== Summary Results =====\n",
            "\n",
            "Random Model:\n",
            "  Macro Accuracy: 0.5849\n",
            "  Macro Precision: 0.1606\n",
            "  Macro F1: 0.1612\n",
            "  Micro F1: 0.2955\n",
            "\n",
            "1-gram Model:\n",
            "  Macro Accuracy: 0.6139\n",
            "  Macro Precision: 0.2240\n",
            "  Macro F1: 0.0347\n",
            "  Micro F1: 0.1124\n",
            "\n",
            "2-gram Model:\n",
            "  Macro Accuracy: 0.5941\n",
            "  Macro Precision: 0.1776\n",
            "  Macro F1: 0.1690\n",
            "  Micro F1: 0.2799\n",
            "\n",
            "3-gram Model:\n",
            "  Macro Accuracy: 0.6039\n",
            "  Macro Precision: 0.1899\n",
            "  Macro F1: 0.1753\n",
            "  Micro F1: 0.2966\n",
            "\n",
            "KNN Model:\n",
            "  Macro Accuracy: 0.6161\n",
            "  Macro Precision: 0.2118\n",
            "  Macro F1: 0.2081\n",
            "  Micro F1: 0.3523\n"
          ]
        }
      ]
    },
    {
      "cell_type": "code",
      "source": [
        "# Compare with authors' results\n",
        "print(\"\\n===== Comparison with Authors' Results =====\")\n",
        "authors_results = {\n",
        "    'Random': {'macro_f1': 0.148},\n",
        "    '1-gram': {'macro_f1': 0.174},\n",
        "    '2-gram': {'macro_f1': 0.193},\n",
        "    '3-gram': {'macro_f1': 0.185},\n",
        "    'KNN': {'macro_f1': 0.258}\n",
        "}\n",
        "\n",
        "for model_name in models:\n",
        "    our_f1 = models[model_name]['macro_f1']\n",
        "    authors_f1 = authors_results[model_name]['macro_f1']\n",
        "    print(f\"{model_name} model macro-F1: Ours = {our_f1:.4f}, Authors = {authors_f1:.4f}\")"
      ],
      "metadata": {
        "colab": {
          "base_uri": "https://localhost:8080/"
        },
        "id": "QZsUDnFY7BTF",
        "outputId": "1874026f-ac5a-4cd8-d869-89860d2aa337"
      },
      "execution_count": 35,
      "outputs": [
        {
          "output_type": "stream",
          "name": "stdout",
          "text": [
            "\n",
            "===== Comparison with Authors' Results =====\n",
            "Random model macro-F1: Ours = 0.1612, Authors = 0.1480\n",
            "1-gram model macro-F1: Ours = 0.0347, Authors = 0.1740\n",
            "2-gram model macro-F1: Ours = 0.1690, Authors = 0.1930\n",
            "3-gram model macro-F1: Ours = 0.1753, Authors = 0.1850\n",
            "KNN model macro-F1: Ours = 0.2081, Authors = 0.2580\n"
          ]
        }
      ]
    },
    {
      "cell_type": "code",
      "source": [
        "# Create table of per-category F1 scores\n",
        "print(\"\\n===== Per-Category F1 Scores =====\")\n",
        "f1_table = pd.DataFrame({\n",
        "    'Category': categories,\n",
        "    'Random': [random_metrics['category_f1'].get(cat, np.nan) for cat in categories],\n",
        "    '1-gram': [onegram_metrics['category_f1'].get(cat, np.nan) for cat in categories],\n",
        "    '2-gram': [twogram_metrics['category_f1'].get(cat, np.nan) for cat in categories],\n",
        "    '3-gram': [threegram_metrics['category_f1'].get(cat, np.nan) for cat in categories],\n",
        "    'KNN': [knn_metrics['category_f1'].get(cat, np.nan) for cat in categories]\n",
        "})\n",
        "\n",
        "print(f1_table)"
      ],
      "metadata": {
        "colab": {
          "base_uri": "https://localhost:8080/"
        },
        "id": "ALSUDsefL4Qb",
        "outputId": "ac964604-7d5d-4fdd-ced5-648d9da5f559"
      },
      "execution_count": 36,
      "outputs": [
        {
          "output_type": "stream",
          "name": "stdout",
          "text": [
            "\n",
            "===== Per-Category F1 Scores =====\n",
            "                      Category    Random    1-gram    2-gram    3-gram  \\\n",
            "0                   No Finding  0.136943  0.303257  0.207337  0.280749   \n",
            "1   Enlarged Cardiomediastinum  0.108247  0.010152  0.169545  0.112903   \n",
            "2                 Cardiomegaly  0.321142  0.010695  0.279653  0.298688   \n",
            "3                  Lung Lesion  0.000000  0.000000  0.022989  0.000000   \n",
            "4                 Lung Opacity  0.355589  0.018405  0.316623  0.370872   \n",
            "5                        Edema  0.145383  0.000000  0.183908  0.124424   \n",
            "6                Consolidation  0.023952  0.000000  0.000000  0.062893   \n",
            "7                    Pneumonia  0.021505  0.000000  0.012903  0.056604   \n",
            "8                  Atelectasis  0.284872  0.020202  0.257576  0.224972   \n",
            "9                 Pneumothorax  0.035503  0.020408  0.061224  0.090000   \n",
            "10            Pleural Effusion  0.261803  0.044355  0.261377  0.275510   \n",
            "11               Pleural Other  0.000000  0.000000  0.048780  0.000000   \n",
            "12                    Fracture  0.053691  0.023810  0.040816  0.069930   \n",
            "13             Support Devices  0.508552  0.034169  0.503090  0.486551   \n",
            "\n",
            "         KNN  \n",
            "0   0.241322  \n",
            "1   0.090667  \n",
            "2   0.369369  \n",
            "3   0.022222  \n",
            "4   0.429992  \n",
            "5   0.220930  \n",
            "6   0.052288  \n",
            "7   0.018868  \n",
            "8   0.310982  \n",
            "9   0.093567  \n",
            "10  0.376176  \n",
            "11  0.045455  \n",
            "12  0.091603  \n",
            "13  0.549412  \n"
          ]
        }
      ]
    },
    {
      "cell_type": "code",
      "source": [
        "# Create visualization for Macro F1 Comparison\n",
        "plt.figure(figsize=(10, 6))\n",
        "models_list = list(models.keys())\n",
        "our_f1_values = [models[model]['macro_f1'] for model in models_list]\n",
        "authors_f1_values = [authors_results[model]['macro_f1'] for model in models_list]\n",
        "\n",
        "x = np.arange(len(models_list))\n",
        "width = 0.35\n",
        "\n",
        "plt.bar(x - width/2, our_f1_values, width, label='Our Implementation')\n",
        "plt.bar(x + width/2, authors_f1_values, width, label='Authors')\n",
        "\n",
        "plt.xlabel('Models')\n",
        "plt.ylabel('Macro F1 Score')\n",
        "plt.title('Macro F1 Score Comparison')\n",
        "plt.xticks(x, models_list)\n",
        "plt.legend()\n",
        "plt.grid(axis='y', linestyle='--', alpha=0.3)\n",
        "\n",
        "plt.tight_layout()\n",
        "plt.savefig(os.path.join(output_dir, 'all_models_f1_comparison.png'))\n",
        "plt.show()"
      ],
      "metadata": {
        "colab": {
          "base_uri": "https://localhost:8080/",
          "height": 607
        },
        "id": "vTYeqal47efq",
        "outputId": "aaa05834-dc14-4696-e92d-99847de9fb0c"
      },
      "execution_count": 37,
      "outputs": [
        {
          "output_type": "display_data",
          "data": {
            "text/plain": [
              "<Figure size 1000x600 with 1 Axes>"
            ],
            "image/png": "[encoded data removed]"
          },
          "metadata": {}
        }
      ]
    }
  ]
}