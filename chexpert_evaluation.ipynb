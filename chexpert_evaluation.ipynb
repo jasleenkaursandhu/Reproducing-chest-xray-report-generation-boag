{
  "nbformat": 4,
  "nbformat_minor": 0,
  "metadata": {
    "colab": {
      "provenance": [],
      "include_colab_link": true
    },
    "kernelspec": {
      "name": "python3",
      "display_name": "Python 3 (ipykernel)",
      "language": "python"
    },
    "language_info": {
      "name": "python"
    }
  },
  "cells": [
    {
      "cell_type": "markdown",
      "metadata": {
        "id": "view-in-github",
        "colab_type": "text"
      },
      "source": [
        "<a href=\"https://colab.research.google.com/github/jasleenkaursandhu/Reproducing-chest-xray-report-generation-boag/blob/main/chexpert_evaluation.ipynb\" target=\"_parent\"><img src=\"https://colab.research.google.com/assets/colab-badge.svg\" alt=\"Open In Colab\"/></a>"
      ]
    },
    {
      "metadata": {
        "ExecuteTime": {
          "end_time": "2025-04-10T22:55:02.823081Z",
          "start_time": "2025-04-10T22:55:02.818098Z"
        },
        "id": "rZ-dMbySGkBB"
      },
      "cell_type": "code",
      "source": [
        "# Define paths\n",
        "base_path = '/Volumes/DATA/DATASET/untitled/content/mimic-cxr-project/' # For local machine\n",
        "# base_path = '/content/drive/MyDrive/mimic-cxr-project' # For Google Colab"
      ],
      "outputs": [],
      "execution_count": null
    },
    {
      "metadata": {
        "ExecuteTime": {
          "end_time": "2025-04-10T22:55:02.853091Z",
          "start_time": "2025-04-10T22:55:02.836738Z"
        },
        "id": "4u9lpvvIGkBD",
        "outputId": "a5188fc2-286c-485c-e480-dc42e1d0cb56"
      },
      "cell_type": "code",
      "source": [
        "import csv\n",
        "from time import strftime, gmtime\n",
        "import os\n",
        "\n",
        "# Define the base path\n",
        "base_path = '/Volumes/DATA/DATASET/untitled/content/mimic-cxr-project/'\n",
        "\n",
        "# input file\n",
        "input_file = os.path.join(base_path, \"output\", \"reference.csv\")\n",
        "\n",
        "#  output file\n",
        "output_file = os.path.join(base_path, \"output\", \"reference_headerless.csv\")\n",
        "\n",
        "# Create a dictionary to store the reports\n",
        "ref_reports = {}\n",
        "\n",
        "# Read the input file\n",
        "with open(input_file, 'r') as f:\n",
        "    # Check if there's a header by reading the first line\n",
        "    first_line = f.readline().strip()\n",
        "    has_header = 'dicom_id' in first_line and '\\t' in first_line\n",
        "\n",
        "    # If there's a header, we've already consumed it, if not we need to process the line\n",
        "    if not has_header:\n",
        "        # Process the first line as it contains data\n",
        "        parts = first_line.split('\\t')\n",
        "        if len(parts) >= 2:\n",
        "            dicom_id = parts[0]\n",
        "            text = '\\t'.join(parts[1:])  # In case there are multiple tabs in the text\n",
        "            ref_reports[dicom_id] = text\n",
        "\n",
        "    # Process the rest of the lines\n",
        "    for line in f:\n",
        "        parts = line.strip().split('\\t')\n",
        "        if len(parts) >= 2:\n",
        "            dicom_id = parts[0]\n",
        "            text = '\\t'.join(parts[1:])  # In case there are multiple tabs in the text\n",
        "            ref_reports[dicom_id] = text\n",
        "\n",
        "# Now write the reports to the output file in the required format\n",
        "with open(output_file, 'w', newline='') as f:\n",
        "    writer = csv.writer(f, quoting=csv.QUOTE_MINIMAL)\n",
        "    # No header (headerless as required)\n",
        "\n",
        "    for dicom_id, text in sorted(ref_reports.items()):\n",
        "        # Only include the text as a single column\n",
        "        writer.writerow([text])\n",
        "\n",
        "print(f\"Processed {len(ref_reports)} reports\")\n",
        "print(f\"Output written to {output_file}\")\n",
        "print(strftime(\"%Y-%m-%d %H:%M:%S\", gmtime()))"
      ],
      "outputs": [
        {
          "name": "stdout",
          "output_type": "stream",
          "text": [
            "Processed 940 reports\n",
            "Output written to /Volumes/DATA/DATASET/untitled/content/mimic-cxr-project/output/reference_headerless.csv\n",
            "2025-04-10 22:55:02\n"
          ]
        }
      ],
      "execution_count": null
    },
    {
      "metadata": {
        "id": "aCnQm_vdrooM",
        "ExecuteTime": {
          "end_time": "2025-04-10T23:06:28.253004Z",
          "start_time": "2025-04-10T22:55:02.923239Z"
        },
        "outputId": "a7171223-18ea-404f-eb36-7c90184ab07f"
      },
      "cell_type": "code",
      "source": [
        "docker_image_name = 'uwizeye2/chexpert-labeler:amd64'\n",
        "!docker run --platform linux/amd64 -v {base_path}output:/data {docker_image_name} python label.py --reports_path /data/reference_headerless.csv --output_path /data/labeled_reference.csv --verbose"
      ],
      "outputs": [
        {
          "name": "stdout",
          "output_type": "stream",
          "text": [
            "100%|██████████| 940/940 [00:00<00:00, 1008.31it/s]\r\n",
            " 53%|█████▎    | 500/940 [05:29<09:31,  1.30s/it]ERROR:root:No parse tree for sentence: 0\r\n",
            "NoneType: None\r\n",
            " 62%|██████▏   | 586/940 [06:37<03:08,  1.88it/s]ERROR:root:Cannot process sentence 152 in 586\r\n",
            "Traceback (most recent call last):\r\n",
            "  File \"/app/chexpert-labeler/NegBio/negbio/pipeline/ptb2ud.py\", line 120, in convert_doc\r\n",
            "    has_lemmas=self._backend == 'jpype')\r\n",
            "TypeError: 'NoneType' object is not iterable\r\n",
            " 91%|█████████▏| 859/940 [10:11<01:03,  1.28it/s]ERROR:root:Cannot process sentence 31 in 859\r\n",
            "Traceback (most recent call last):\r\n",
            "  File \"/app/chexpert-labeler/NegBio/negbio/pipeline/ptb2ud.py\", line 120, in convert_doc\r\n",
            "    has_lemmas=self._backend == 'jpype')\r\n",
            "TypeError: 'NoneType' object is not iterable\r\n",
            "100%|██████████| 940/940 [11:08<00:00,  1.57it/s]\r\n",
            "100%|██████████| 940/940 [00:00<00:00, 71794.12it/s]\r\n",
            "Loading mention phrases for 14 observations.\r\n",
            "Loading unmention phrases for 3 observations.\r\n",
            "Extracting mentions...\r\n",
            "Classifying mentions...\r\n",
            "Aggregating mentions...\r\n",
            "Writing reports and labels to /data/labeled_reference.csv.\r\n"
          ]
        }
      ],
      "execution_count": null
    }
  ]
}